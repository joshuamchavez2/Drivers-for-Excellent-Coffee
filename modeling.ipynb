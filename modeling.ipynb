{
 "cells": [
  {
   "cell_type": "code",
   "execution_count": 1,
   "id": "7b300243",
   "metadata": {},
   "outputs": [],
   "source": [
    "# Math \n",
    "from math import sqrt\n",
    "from scipy import stats\n",
    "import statistics\n",
    "import os\n",
    "\n",
    "# General\n",
    "import numpy as np\n",
    "import pandas as pd\n",
    "\n",
    "# Sklearn Modeling\n",
    "from sklearn.model_selection import train_test_split\n",
    "from sklearn.tree import DecisionTreeClassifier\n",
    "from sklearn.tree import export_graphviz\n",
    "from sklearn.metrics import classification_report\n",
    "from sklearn.metrics import confusion_matrix\n",
    "from sklearn.ensemble import RandomForestClassifier\n",
    "from sklearn.neighbors import KNeighborsClassifier\n",
    "from sklearn.linear_model import LogisticRegression\n",
    "\n",
    "# Visuals\n",
    "import matplotlib.pyplot as plt\n",
    "import seaborn as sns\n",
    "from graphviz import Graph\n",
    "from tabulate import tabulate\n",
    "\n",
    "# Custom Module's\n",
    "from wrangle import wrangle\n",
    "\n",
    "\n",
    "import warnings\n",
    "warnings.filterwarnings(\"ignore\")"
   ]
  },
  {
   "cell_type": "markdown",
   "id": "cbc9491d",
   "metadata": {},
   "source": [
    "# Modeling"
   ]
  },
  {
   "cell_type": "code",
   "execution_count": 2,
   "id": "292974c2",
   "metadata": {},
   "outputs": [],
   "source": [
    "train, validate, test = wrangle()"
   ]
  },
  {
   "cell_type": "markdown",
   "id": "b268a0b1",
   "metadata": {},
   "source": [
    "### Threshold allocation"
   ]
  },
  {
   "cell_type": "code",
   "execution_count": 3,
   "id": "815757f8",
   "metadata": {},
   "outputs": [],
   "source": [
    "threshold = .05"
   ]
  },
  {
   "cell_type": "markdown",
   "id": "f031665f",
   "metadata": {},
   "source": [
    "# Baseline"
   ]
  },
  {
   "cell_type": "code",
   "execution_count": 39,
   "id": "636a2151",
   "metadata": {},
   "outputs": [
    {
     "data": {
      "text/plain": [
       "0    395\n",
       "1     74\n",
       "Name: excellent_rating, dtype: int64"
      ]
     },
     "execution_count": 39,
     "metadata": {},
     "output_type": "execute_result"
    }
   ],
   "source": [
    "# Which Value is common fr\n",
    "train.excellent_rating.value_counts()"
   ]
  },
  {
   "cell_type": "code",
   "execution_count": 42,
   "id": "a7bc6321",
   "metadata": {},
   "outputs": [
    {
     "name": "stdout",
     "output_type": "stream",
     "text": [
      "Baseline Accuracy is: 84.2%\n"
     ]
    }
   ],
   "source": [
    "baseline_accuracy = (train.excellent_rating == 0).mean()\n",
    "print(f\"Baseline Accuracy is: {round(baseline_accuracy, 3)*100}%\")"
   ]
  },
  {
   "cell_type": "markdown",
   "id": "dbaac4fa",
   "metadata": {},
   "source": [
    "# Decision Tree Classifier"
   ]
  },
  {
   "cell_type": "markdown",
   "id": "9bc683ed",
   "metadata": {},
   "source": [
    "### All Features just to see what happens"
   ]
  },
  {
   "cell_type": "code",
   "execution_count": 15,
   "id": "e60af3f7",
   "metadata": {},
   "outputs": [],
   "source": [
    "features = list(train.columns)\n",
    "\n",
    "# Removing target\n",
    "features.remove('excellent_rating')\n",
    "\n",
    "# Setting up X_train\n",
    "X_train = train[features]\n",
    "X_validate = validate[features]\n",
    "X_test = test[features]\n",
    "\n",
    "# Setting up y_train\n",
    "y_train = train['excellent_rating']\n",
    "y_validate = validate['excellent_rating']\n",
    "y_test = test['excellent_rating']"
   ]
  },
  {
   "cell_type": "code",
   "execution_count": 16,
   "id": "13724050",
   "metadata": {},
   "outputs": [
    {
     "name": "stdout",
     "output_type": "stream",
     "text": [
      "Accuracy of Decision Tree classifier on training set: 0.949\n",
      "Accuracy of Decision Tree classifier on validate set: 0.965\n",
      "Passes Treshold Allocation: True\n"
     ]
    }
   ],
   "source": [
    "# Make the model\n",
    "clf = DecisionTreeClassifier(max_depth=3, random_state=123)\n",
    "\n",
    "# Fit the model\n",
    "clf = clf.fit(X_train, y_train)\n",
    "\n",
    "# Train\n",
    "y_pred = clf.predict(X_train)\n",
    "train_accuracy = clf.score(X_train, y_train)\n",
    "\n",
    "# Validate\n",
    "\n",
    "y_pred = clf.predict(X_validate)\n",
    "validate_accuracy = clf.score(X_validate, y_validate)\n",
    "\n",
    "\n",
    "print('Accuracy of Decision Tree classifier on training set: {:.3f}'\n",
    "      .format(clf.score(X_train, y_train)))\n",
    "print('Accuracy of Decision Tree classifier on validate set: {:.3f}'\n",
    "      .format(clf.score(X_validate, y_validate)))\n",
    "print(f\"Passes Treshold Allocation: {threshold > round(abs(train_accuracy-validate_accuracy), 3)}\")"
   ]
  },
  {
   "cell_type": "markdown",
   "id": "ae12043f",
   "metadata": {},
   "source": [
    "#### All Feataures \n",
    "    2 Depth\n",
    "        - Accuracy of Decision Tree classifier on training set: 0.928\n",
    "        - Accuracy of Decision Tree classifier on validate set: 0.915\n",
    "    3 Depth\n",
    "        - Accuracy of Decision Tree classifier on training set: 0.949\n",
    "        - Accuracy of Decision Tree classifier on validate set: 0.965\n",
    "    4 Depth\n",
    "        - Accuracy of Decision Tree classifier on training set: 0.970\n",
    "        - Accuracy of Decision Tree classifier on validate set: 0.945\n",
    "    5 Depth\n",
    "        - Accuracy of Decision Tree classifier on training set: 0.983\n",
    "        - Accuracy of Decision Tree classifier on validate set: 0.915"
   ]
  },
  {
   "cell_type": "code",
   "execution_count": 17,
   "id": "8ce9d636",
   "metadata": {},
   "outputs": [
    {
     "data": {
      "text/plain": [
       "array([0.        , 0.        , 0.07543937, 0.03267865, 0.64380653,\n",
       "       0.        , 0.        , 0.13662215, 0.0622291 , 0.        ,\n",
       "       0.        , 0.04922419, 0.        , 0.        , 0.        ,\n",
       "       0.        , 0.        , 0.        , 0.        , 0.        ,\n",
       "       0.        , 0.        , 0.        , 0.        , 0.        ,\n",
       "       0.        , 0.        , 0.        , 0.        , 0.        ,\n",
       "       0.        ])"
      ]
     },
     "execution_count": 17,
     "metadata": {},
     "output_type": "execute_result"
    }
   ],
   "source": [
    "clf.feature_importances_"
   ]
  },
  {
   "cell_type": "markdown",
   "id": "704650f1",
   "metadata": {},
   "source": [
    "    Feature Importance\n",
    "    1. aftertaste_scaled\n",
    "    2. balance_scaled\n",
    "    3. aroma_scaled\n",
    "    4. uniformity_scaled"
   ]
  },
  {
   "cell_type": "markdown",
   "id": "b4e8c034",
   "metadata": {},
   "source": [
    "### All Features Take Aways\n",
    "    -These results make sense since these features are directly correlated with the total score.  Lets dig deeper."
   ]
  },
  {
   "cell_type": "markdown",
   "id": "2033892c",
   "metadata": {},
   "source": [
    "## Removing any feature directly involved in the scoring of each coffee"
   ]
  },
  {
   "cell_type": "code",
   "execution_count": 147,
   "id": "d21d511c",
   "metadata": {},
   "outputs": [],
   "source": [
    "features = list(train.columns)\n",
    "\n",
    "# Removing target\n",
    "features.remove('excellent_rating')\n",
    "\n",
    "# Removing any feature directly involved in the scoring of each coffee\n",
    "features.remove('aroma_scaled')\n",
    "features.remove('flavor_scaled')\n",
    "features.remove('aftertaste_scaled')\n",
    "features.remove('acidity_scaled')\n",
    "features.remove('body_scaled')\n",
    "features.remove('balance_scaled')\n",
    "features.remove('uniformity_scaled')\n",
    "features.remove('clean_cup_scaled')\n",
    "features.remove('sweetness_scaled')\n",
    "features.remove('cupper_points_scaled')\n",
    "features.remove('moisture_scaled')\n",
    "features.remove('category_one_defects_scaled')\n",
    "features.remove('quakers_scaled')\n",
    "features.remove('category_two_defects_scaled')\n",
    "\n",
    "# Setting up X_train\n",
    "X_train = train[features]\n",
    "X_validate = validate[features]\n",
    "X_test = test[features]\n",
    "\n",
    "# Setting up y_train\n",
    "y_train = train['excellent_rating']\n",
    "y_validate = validate['excellent_rating']\n",
    "y_test = test['excellent_rating']"
   ]
  },
  {
   "cell_type": "code",
   "execution_count": 148,
   "id": "86d9de83",
   "metadata": {},
   "outputs": [
    {
     "name": "stdout",
     "output_type": "stream",
     "text": [
      "Accuracy of Decision Tree classifier on training set: 0.855\n",
      "Accuracy of Decision Tree classifier on validate set: 0.841\n",
      "Passes Treshold Allocation: True\n"
     ]
    }
   ],
   "source": [
    "# Make the model\n",
    "clf = DecisionTreeClassifier(max_depth=2, random_state=123)\n",
    "\n",
    "# Fit the model\n",
    "clf = clf.fit(X_train, y_train)\n",
    "\n",
    "# Train\n",
    "y_pred = clf.predict(X_train)\n",
    "train_accuracy = clf.score(X_train, y_train)\n",
    "\n",
    "# Validate\n",
    "\n",
    "y_pred = clf.predict(X_validate)\n",
    "validate_accuracy = clf.score(X_validate, y_validate)\n",
    "\n",
    "\n",
    "print('Accuracy of Decision Tree classifier on training set: {:.3f}'\n",
    "      .format(clf.score(X_train, y_train)))\n",
    "print('Accuracy of Decision Tree classifier on validate set: {:.3f}'\n",
    "      .format(clf.score(X_validate, y_validate)))\n",
    "print(f\"Passes Treshold Allocation: {threshold > round(abs(train_accuracy-validate_accuracy), 3)}\")"
   ]
  },
  {
   "cell_type": "markdown",
   "id": "1f739098",
   "metadata": {},
   "source": [
    "#### All features Minus Scoring \n",
    "    - Best Depth 2 @ .84 on validate"
   ]
  },
  {
   "cell_type": "code",
   "execution_count": 152,
   "id": "b41c5e05",
   "metadata": {},
   "outputs": [
    {
     "data": {
      "text/plain": [
       "array([0.        , 0.26276386, 0.57054195, 0.        , 0.        ,\n",
       "       0.        , 0.        , 0.        , 0.        , 0.        ,\n",
       "       0.        , 0.        , 0.        , 0.        , 0.        ,\n",
       "       0.16669419, 0.        ])"
      ]
     },
     "execution_count": 152,
     "metadata": {},
     "output_type": "execute_result"
    }
   ],
   "source": [
    "clf.feature_importances_"
   ]
  },
  {
   "cell_type": "code",
   "execution_count": 153,
   "id": "feb7cd85",
   "metadata": {},
   "outputs": [
    {
     "data": {
      "text/plain": [
       "Index(['number_of_bags_scaled', 'harvest_year_scaled',\n",
       "       'altitude_mean_meters_scaled', 'bag_weight_scaled',\n",
       "       'variety_Bourbon_scaled', 'variety_Catuai_scaled',\n",
       "       'variety_Caturra_scaled', 'variety_Mundo Novo_scaled',\n",
       "       'variety_Other_scaled', 'variety_Typica_scaled',\n",
       "       'variety_Yellow Bourbon_scaled',\n",
       "       'processing_method_Natural / Dry_scaled',\n",
       "       'processing_method_Semi-washed / Semi-pulped_scaled',\n",
       "       'processing_method_Washed / Wet_scaled', 'color_Green_scaled',\n",
       "       'grading_month_scaled', 'grading_year_scaled'],\n",
       "      dtype='object')"
      ]
     },
     "execution_count": 153,
     "metadata": {},
     "output_type": "execute_result"
    }
   ],
   "source": [
    "X_train.columns"
   ]
  },
  {
   "cell_type": "markdown",
   "id": "98cefe2e",
   "metadata": {},
   "source": [
    "    Feature Importance (From depth 2)\n",
    "    1. 'altitude_mean_meters_scaled'\n",
    "    2. 'harvest_year_scaled'\n",
    "    3. 'processing_method_Natural / Dry_scaled'"
   ]
  },
  {
   "cell_type": "markdown",
   "id": "2480af18",
   "metadata": {},
   "source": [
    "### All Features minus any feature directly involved in the scoring of each coffee takeaways\n",
    "    - Altitude was top feature\n",
    "    - Did not beat baseline"
   ]
  },
  {
   "cell_type": "markdown",
   "id": "c0169998",
   "metadata": {},
   "source": [
    "## Only including features from exploration findings"
   ]
  },
  {
   "cell_type": "code",
   "execution_count": 154,
   "id": "a2478a46",
   "metadata": {},
   "outputs": [],
   "source": [
    "features = [\n",
    "    'variety_Bourbon_scaled',\n",
    "    'variety_Catuai_scaled',\n",
    "    'variety_Caturra_scaled',\n",
    "    'variety_Mundo Novo_scaled',\n",
    "    'variety_Other_scaled',\n",
    "    'variety_Typica_scaled',\n",
    "    'variety_Yellow Bourbon_scaled',\n",
    "    'harvest_year_scaled',\n",
    "    'processing_method_Natural / Dry_scaled',\n",
    "    'processing_method_Semi-washed / Semi-pulped_scaled',\n",
    "    'processing_method_Washed / Wet_scaled',\n",
    "    'altitude_mean_meters_scaled',\n",
    "    'bag_weight_scaled',\n",
    "    'grading_month_scaled',\n",
    "    'grading_year_scaled']\n",
    "\n",
    "# Setting up X_train\n",
    "X_train = train[features]\n",
    "X_validate = validate[features]\n",
    "X_test = test[features]\n",
    "\n",
    "# Setting up y_train\n",
    "y_train = train['excellent_rating']\n",
    "y_validate = validate['excellent_rating']\n",
    "y_test = test['excellent_rating']"
   ]
  },
  {
   "cell_type": "code",
   "execution_count": 155,
   "id": "6873588e",
   "metadata": {},
   "outputs": [
    {
     "name": "stdout",
     "output_type": "stream",
     "text": [
      "Accuracy of Decision Tree classifier on training set: 0.866\n",
      "Accuracy of Decision Tree classifier on validate set: 0.851\n",
      "Passes Treshold Allocation: True\n"
     ]
    }
   ],
   "source": [
    "# Make the model\n",
    "clf = DecisionTreeClassifier(max_depth=4, random_state=123)\n",
    "\n",
    "# Fit the model\n",
    "clf = clf.fit(X_train, y_train)\n",
    "\n",
    "# Train\n",
    "y_pred = clf.predict(X_train)\n",
    "train_accuracy = clf.score(X_train, y_train)\n",
    "\n",
    "# Validate\n",
    "\n",
    "y_pred = clf.predict(X_validate)\n",
    "validate_accuracy = clf.score(X_validate, y_validate)\n",
    "\n",
    "\n",
    "print('Accuracy of Decision Tree classifier on training set: {:.3f}'\n",
    "      .format(clf.score(X_train, y_train)))\n",
    "print('Accuracy of Decision Tree classifier on validate set: {:.3f}'\n",
    "      .format(clf.score(X_validate, y_validate)))\n",
    "print(f\"Passes Treshold Allocation: {threshold > round(abs(train_accuracy-validate_accuracy), 3)}\")"
   ]
  },
  {
   "cell_type": "markdown",
   "id": "d66ae29c",
   "metadata": {},
   "source": [
    "#### Only features from Exploration\n",
    "    2 Depth\n",
    "        - Accuracy of Decision Tree classifier on training set: 0.855\n",
    "        - Accuracy of Decision Tree classifier on validate set: 0.841\n",
    "        - Passes Treshold Allocation: True\n",
    "    3 Depth\n",
    "        - Accuracy of Decision Tree classifier on training set: 0.861\n",
    "        - Accuracy of Decision Tree classifier on validate set: 0.851\n",
    "        - Passes Treshold Allocation: True\n",
    "    4 Depth\n",
    "        - Accuracy of Decision Tree classifier on training set: 0.866\n",
    "        - Accuracy of Decision Tree classifier on validate set: 0.851\n",
    "        - Passes Treshold Allocation: True\n",
    "    5 Depth\n",
    "        - Accuracy of Decision Tree classifier on training set: 0.878\n",
    "        - Accuracy of Decision Tree classifier on validate set: 0.821\n",
    "        - Passes Treshold Allocation: False"
   ]
  },
  {
   "cell_type": "code",
   "execution_count": 34,
   "id": "8d46a0db",
   "metadata": {},
   "outputs": [
    {
     "data": {
      "text/plain": [
       "array([0.05533528, 0.03320117, 0.04618256, 0.        , 0.12469773,\n",
       "       0.        , 0.        , 0.20406877, 0.        , 0.        ,\n",
       "       0.        , 0.41310227, 0.12341224, 0.        , 0.        ])"
      ]
     },
     "execution_count": 34,
     "metadata": {},
     "output_type": "execute_result"
    }
   ],
   "source": [
    "clf.feature_importances_"
   ]
  },
  {
   "cell_type": "markdown",
   "id": "0e25ec33",
   "metadata": {},
   "source": [
    "    Feature Importance (from depth 4)\n",
    "    1. altitude_mean_meters_scaled'\n",
    "    2. harvest_year_scaled\n",
    "    3. variety_Other_scaled\n",
    "    4. bag_weight_scaled"
   ]
  },
  {
   "cell_type": "markdown",
   "id": "2f1a61b8",
   "metadata": {},
   "source": [
    "### Features from exploration takeaways\n",
    "    - Excited to see altitude again\n",
    "    - Not too happy with harvest year being a driving feature considering it had missing values and outliers\n",
    "    - Going to run this again without harvest year\n",
    "    - Depth 4 beating baseline and had a small fallout rate"
   ]
  },
  {
   "cell_type": "markdown",
   "id": "3693148c",
   "metadata": {},
   "source": [
    "## Only including features from exploration findings minus harvest year"
   ]
  },
  {
   "cell_type": "code",
   "execution_count": 156,
   "id": "36ff6673",
   "metadata": {},
   "outputs": [],
   "source": [
    "features = [\n",
    "    'variety_Bourbon_scaled',\n",
    "    'variety_Catuai_scaled',\n",
    "    'variety_Caturra_scaled',\n",
    "    'variety_Mundo Novo_scaled',\n",
    "    'variety_Other_scaled',\n",
    "    'variety_Typica_scaled',\n",
    "    'variety_Yellow Bourbon_scaled',\n",
    "    'processing_method_Natural / Dry_scaled',\n",
    "    'processing_method_Semi-washed / Semi-pulped_scaled',\n",
    "    'processing_method_Washed / Wet_scaled',\n",
    "    'altitude_mean_meters_scaled',\n",
    "    'bag_weight_scaled',\n",
    "    'grading_month_scaled',\n",
    "    'grading_year_scaled']\n",
    "\n",
    "# Setting up X_train\n",
    "X_train = train[features]\n",
    "X_validate = validate[features]\n",
    "X_test = test[features]\n",
    "\n",
    "# Setting up y_train\n",
    "y_train = train['excellent_rating']\n",
    "y_validate = validate['excellent_rating']\n",
    "y_test = test['excellent_rating']"
   ]
  },
  {
   "cell_type": "code",
   "execution_count": 157,
   "id": "ee786466",
   "metadata": {},
   "outputs": [
    {
     "name": "stdout",
     "output_type": "stream",
     "text": [
      "Accuracy of Decision Tree classifier on training set: 0.866\n",
      "Accuracy of Decision Tree classifier on validate set: 0.841\n",
      "Passes Treshold Allocation: True\n"
     ]
    }
   ],
   "source": [
    "# Make the model\n",
    "clf = DecisionTreeClassifier(max_depth=4, random_state=123)\n",
    "\n",
    "# Fit the model\n",
    "clf = clf.fit(X_train, y_train)\n",
    "\n",
    "# Train\n",
    "y_pred = clf.predict(X_train)\n",
    "train_accuracy = clf.score(X_train, y_train)\n",
    "\n",
    "# Validate\n",
    "\n",
    "y_pred = clf.predict(X_validate)\n",
    "validate_accuracy = clf.score(X_validate, y_validate)\n",
    "\n",
    "\n",
    "print('Accuracy of Decision Tree classifier on training set: {:.3f}'\n",
    "      .format(clf.score(X_train, y_train)))\n",
    "print('Accuracy of Decision Tree classifier on validate set: {:.3f}'\n",
    "      .format(clf.score(X_validate, y_validate)))\n",
    "print(f\"Passes Treshold Allocation: {threshold > round(abs(train_accuracy-validate_accuracy), 3)}\")"
   ]
  },
  {
   "cell_type": "markdown",
   "id": "d527120f",
   "metadata": {},
   "source": [
    "#### Only features from Exploration\n",
    "    2 Depth\n",
    "        - Accuracy of Decision Tree classifier on training set: 0.855\n",
    "        - Accuracy of Decision Tree classifier on validate set: 0.841\n",
    "        - Passes Treshold Allocation: True\n",
    "    3 Depth\n",
    "        - Accuracy of Decision Tree classifier on training set: 0.861\n",
    "        - Accuracy of Decision Tree classifier on validate set: 0.841\n",
    "        - Passes Treshold Allocation: True\n",
    "    4 Depth\n",
    "        - Accuracy of Decision Tree classifier on training set: 0.866\n",
    "        - Accuracy of Decision Tree classifier on validate set: 0.841\n",
    "        - Passes Treshold Allocation: True\n",
    "    5 Depth\n",
    "        - Accuracy of Decision Tree classifier on training set: 0.878\n",
    "        - Accuracy of Decision Tree classifier on validate set: 0.821\n",
    "        - Passes Treshold Allocation: False"
   ]
  },
  {
   "cell_type": "code",
   "execution_count": 34,
   "id": "69286d7a",
   "metadata": {},
   "outputs": [
    {
     "data": {
      "text/plain": [
       "array([0.05533528, 0.03320117, 0.04618256, 0.        , 0.12469773,\n",
       "       0.        , 0.        , 0.20406877, 0.        , 0.        ,\n",
       "       0.        , 0.41310227, 0.12341224, 0.        , 0.        ])"
      ]
     },
     "execution_count": 34,
     "metadata": {},
     "output_type": "execute_result"
    }
   ],
   "source": [
    "clf.feature_importances_"
   ]
  },
  {
   "cell_type": "markdown",
   "id": "868057be",
   "metadata": {},
   "source": [
    "    Feature Importance (from depth 4)\n",
    "    1. bag_weight_scaled\n",
    "    2. processing_method_Natural / Dry_scaled\n",
    "    3. variety_Other scaled\n",
    "    4. grading_month_scaled"
   ]
  },
  {
   "cell_type": "markdown",
   "id": "2da21b62",
   "metadata": {},
   "source": [
    "### Features from exploration takeaways\n",
    "    - Excited to see altitude again\n",
    "    - Not too happy with harvest year being a driving feature considering it had missing values and outliers\n",
    "    - Going to run this again without harvest year\n",
    "    - Best Depth is 4 and it did not beat baseline"
   ]
  },
  {
   "cell_type": "markdown",
   "id": "fc08cc6d",
   "metadata": {},
   "source": [
    "# Decision Tree Classifier Takeaways\n",
    "    - Best model was using all features except those directly involved in the scoring of each coffee\n",
    "    - Accuracy of Decision Tree classifier on validate set: 0.965"
   ]
  },
  {
   "cell_type": "markdown",
   "id": "43b87235",
   "metadata": {},
   "source": [
    "# Random Forest Classifier"
   ]
  },
  {
   "cell_type": "markdown",
   "id": "d4551906",
   "metadata": {},
   "source": [
    "### Starting with all features minus those directly involved in the scoring of each coffee "
   ]
  },
  {
   "cell_type": "code",
   "execution_count": 158,
   "id": "cdfe7225",
   "metadata": {},
   "outputs": [],
   "source": [
    "features = list(train.columns)\n",
    "\n",
    "# Removing target\n",
    "features.remove('excellent_rating')\n",
    "\n",
    "# Removing any feature directly involved in the scoring of each coffee\n",
    "features.remove('aroma_scaled')\n",
    "features.remove('flavor_scaled')\n",
    "features.remove('aftertaste_scaled')\n",
    "features.remove('acidity_scaled')\n",
    "features.remove('body_scaled')\n",
    "features.remove('balance_scaled')\n",
    "features.remove('uniformity_scaled')\n",
    "features.remove('clean_cup_scaled')\n",
    "features.remove('sweetness_scaled')\n",
    "features.remove('cupper_points_scaled')\n",
    "features.remove('moisture_scaled')\n",
    "features.remove('category_one_defects_scaled')\n",
    "features.remove('quakers_scaled')\n",
    "features.remove('category_two_defects_scaled')\n",
    "\n",
    "# Setting up X_train\n",
    "X_train = train[features]\n",
    "X_validate = validate[features]\n",
    "X_test = test[features]\n",
    "\n",
    "# Setting up y_train\n",
    "y_train = train['excellent_rating']\n",
    "y_validate = validate['excellent_rating']\n",
    "y_test = test['excellent_rating']\n"
   ]
  },
  {
   "cell_type": "code",
   "execution_count": 194,
   "id": "24eaf95f",
   "metadata": {},
   "outputs": [
    {
     "name": "stdout",
     "output_type": "stream",
     "text": [
      "Accuracy of random forest classifier on training set: 0.86\n",
      "Accuracy of random forest classifier on validate set: 0.856\n",
      "Passes Treshold Allocation: True\n"
     ]
    }
   ],
   "source": [
    "# Make the model\n",
    "rf = RandomForestClassifier(bootstrap=True, \n",
    "                            class_weight=None, \n",
    "                            criterion='gini',\n",
    "                            min_samples_leaf=2,\n",
    "                            n_estimators=100,\n",
    "                            max_depth=4, \n",
    "                            random_state=123)\n",
    "\n",
    "# Fit the model\n",
    "rf.fit(X_train, y_train)\n",
    "\n",
    "# Train\n",
    "y_pred = rf.predict(X_train)\n",
    "train_accuracy = rf.score(X_train, y_train)\n",
    "\n",
    "# Validate\n",
    "y_pred = rf.predict(X_validate)\n",
    "validate_accuracy = rf.score(X_validate, y_validate)\n",
    "\n",
    "print('Accuracy of random forest classifier on training set: {:.2f}'\n",
    "     .format(rf.score(X_train, y_train)))\n",
    "print('Accuracy of random forest classifier on validate set: {:.3f}'\n",
    "      .format(rf.score(X_validate, y_validate)))\n",
    "print(f\"Passes Treshold Allocation: {threshold > round(abs(train_accuracy-validate_accuracy), 3)}\")"
   ]
  },
  {
   "cell_type": "markdown",
   "id": "bd3de741",
   "metadata": {},
   "source": [
    "### Leaf 1"
   ]
  },
  {
   "cell_type": "markdown",
   "id": "0e4f0ca4",
   "metadata": {},
   "source": [
    "    leaf = 1\n",
    "    depth = 2\n",
    "    Accuracy of random forest classifier on training set: 0.84\n",
    "    Accuracy of random forest classifier on validate set: 0.841\n",
    "    Passes Treshold Allocation: True\n",
    "    \n",
    "    \n",
    "    leaf = 1\n",
    "    depth = 3\n",
    "    Accuracy of random forest classifier on training set: 0.86\n",
    "    Accuracy of random forest classifier on validate set: 0.851\n",
    "    Passes Treshold Allocation: True\n",
    "    \n",
    "    leaf = 1\n",
    "    depth = 4\n",
    "    Accuracy of random forest classifier on training set: 0.87\n",
    "    Accuracy of random forest classifier on validate set: 0.856\n",
    "    Passes Treshold Allocation: True\n",
    "\n",
    "    leaf =1\n",
    "    depth = 5\n",
    "    Accuracy of random forest classifier on training set: 0.87\n",
    "    Accuracy of random forest classifier on validate set: 0.856\n",
    "    Passes Treshold Allocation: True\n",
    "    \n",
    "    leaf =1\n",
    "    depth = 6\n",
    "    \n",
    "    Accuracy of random forest classifier on training set: .88\n",
    "    Accuracy of random forest classifier on validate set: .851\n",
    "    Passes Treshold Allocation: True"
   ]
  },
  {
   "cell_type": "markdown",
   "id": "b03d1c2c",
   "metadata": {},
   "source": [
    "### Leaf 1 Takeaways\n",
    "    - Best Depth accuracy was 4 and 5 at .856\n",
    "    - Same drop off"
   ]
  },
  {
   "cell_type": "markdown",
   "id": "bb4c0da2",
   "metadata": {},
   "source": [
    "### Leaf 2"
   ]
  },
  {
   "cell_type": "markdown",
   "id": "ee8351c9",
   "metadata": {},
   "source": [
    "    leaf = 2\n",
    "    depth = 2\n",
    "    Accuracy of random forest classifier on training set: 0.84\n",
    "    Accuracy of random forest classifier on validate set: 0.841\n",
    "    Passes Treshold Allocation: True\n",
    "        \n",
    "        \n",
    "    leaf = 2\n",
    "    depth = 3\n",
    "    Accuracy of random forest classifier on training set: 0.86\n",
    "    Accuracy of random forest classifier on validate set: 0.846\n",
    "        \n",
    "    leaf = 2\n",
    "    depth = 4\n",
    "    Accuracy of random forest classifier on training set: 0.86\n",
    "    Accuracy of random forest classifier on validate set: 0.856\n",
    "    Passes Treshold Allocation: True\n",
    "    \n",
    "    leaf = 2\n",
    "    depth = 5\n",
    "    Accuracy of random forest classifier on training set: 0.87\n",
    "    Accuracy of random forest classifier on validate set: 0.856\n",
    "    Passes Treshold Allocation: True\n",
    "        \n",
    "    leaf = 2\n",
    "    depth = 6\n",
    "    Accuracy of random forest classifier on training set: 0.87\n",
    "    Accuracy of random forest classifier on validate set: 0.856\n",
    "    Passes Treshold Allocation: True"
   ]
  },
  {
   "cell_type": "markdown",
   "id": "b6ca7089",
   "metadata": {},
   "source": [
    "### Leaf 2 Takeaways\n",
    "    - best depth accuracy is at .856 at depth 4 with the smallest drop off "
   ]
  },
  {
   "cell_type": "markdown",
   "id": "6f5f7c7a",
   "metadata": {},
   "source": [
    "### Leaf 3 Takeaways\n",
    "    - Highest Accuracy of .856 Depth = 5 and 6\n",
    "    - Same drop off at 5 and 6"
   ]
  },
  {
   "cell_type": "markdown",
   "id": "26da209b",
   "metadata": {},
   "source": [
    "### Leaf 4 Takeaways\n",
    "    - Nothing was able to beat .856 validate with a .86 train"
   ]
  },
  {
   "cell_type": "markdown",
   "id": "d6790e6d",
   "metadata": {},
   "source": [
    "# Feature importance"
   ]
  },
  {
   "cell_type": "code",
   "execution_count": 195,
   "id": "514a5fb2",
   "metadata": {},
   "outputs": [
    {
     "data": {
      "text/plain": [
       "array([0.10780214, 0.10374829, 0.27621181, 0.08795352, 0.02130283,\n",
       "       0.00471277, 0.03538992, 0.00373342, 0.0467681 , 0.02528065,\n",
       "       0.00462756, 0.01830175, 0.01368255, 0.01464527, 0.03429909,\n",
       "       0.11370608, 0.08783422])"
      ]
     },
     "execution_count": 195,
     "metadata": {},
     "output_type": "execute_result"
    }
   ],
   "source": [
    "rf.feature_importances_"
   ]
  },
  {
   "cell_type": "code",
   "execution_count": 196,
   "id": "42fcebe8",
   "metadata": {},
   "outputs": [
    {
     "name": "stdout",
     "output_type": "stream",
     "text": [
      "0 =  0.10780214483396387\n",
      "1 =  0.10374828847048027\n",
      "2 =  0.276211813317326\n",
      "3 =  0.08795352168208638\n",
      "4 =  0.02130283345530789\n",
      "5 =  0.004712773027360678\n",
      "6 =  0.03538992459790825\n",
      "7 =  0.0037334202925443745\n",
      "8 =  0.046768103809999115\n",
      "9 =  0.02528065175060813\n",
      "10 =  0.0046275641010602355\n",
      "11 =  0.018301745868925176\n",
      "12 =  0.013682552208828936\n",
      "13 =  0.014645270108920472\n",
      "14 =  0.03429909494323926\n",
      "15 =  0.11370607840060698\n",
      "16 =  0.08783421913083393\n"
     ]
    }
   ],
   "source": [
    "i =0\n",
    "for value in rf.feature_importances_:\n",
    "    print(str(i)+ ' =  ' + str(float(value)))\n",
    "    i+=1"
   ]
  },
  {
   "cell_type": "code",
   "execution_count": null,
   "id": "1fd0042a",
   "metadata": {},
   "outputs": [],
   "source": [
    "'altitude_mean_meters_scaled',\n",
    "'grading_month_scaled',\n",
    "'number_of_bags_scaled',\n",
    "'harvest_year_scaled'\n",
    "'bag_weight_scaled'"
   ]
  },
  {
   "cell_type": "markdown",
   "id": "5ae372d1",
   "metadata": {},
   "source": [
    "### Only features that were deemed important"
   ]
  },
  {
   "cell_type": "code",
   "execution_count": 254,
   "id": "8a7ea562",
   "metadata": {},
   "outputs": [],
   "source": [
    "features = ['altitude_mean_meters_scaled',\n",
    "            'grading_month_scaled',\n",
    "            'number_of_bags_scaled',\n",
    "            'harvest_year_scaled',\n",
    "            'bag_weight_scaled']\n",
    "\n",
    "# Setting up X_train\n",
    "X_train = train[features]\n",
    "X_validate = validate[features]\n",
    "X_test = test[features]\n",
    "\n",
    "# Setting up y_train\n",
    "y_train = train['excellent_rating']\n",
    "y_validate = validate['excellent_rating']\n",
    "y_test = test['excellent_rating']"
   ]
  },
  {
   "cell_type": "code",
   "execution_count": 256,
   "id": "aaf0c1a3",
   "metadata": {},
   "outputs": [
    {
     "name": "stdout",
     "output_type": "stream",
     "text": [
      "Accuracy of random forest classifier on training set: 0.87\n",
      "Accuracy of random forest classifier on validate set: 0.861\n",
      "Passes Treshold Allocation: True\n"
     ]
    }
   ],
   "source": [
    "# Make the model\n",
    "rf = RandomForestClassifier(bootstrap=True, \n",
    "                            class_weight=None, \n",
    "                            criterion='gini',\n",
    "                            min_samples_leaf=2,\n",
    "                            n_estimators=100,\n",
    "                            max_depth=5, \n",
    "                            random_state=123)\n",
    "\n",
    "# Fit the model\n",
    "rf.fit(X_train, y_train)\n",
    "\n",
    "# Train\n",
    "y_pred = rf.predict(X_train)\n",
    "train_accuracy = rf.score(X_train, y_train)\n",
    "\n",
    "# Validate\n",
    "y_pred = rf.predict(X_validate)\n",
    "validate_accuracy = rf.score(X_validate, y_validate)\n",
    "\n",
    "print('Accuracy of random forest classifier on training set: {:.2f}'\n",
    "     .format(rf.score(X_train, y_train)))\n",
    "print('Accuracy of random forest classifier on validate set: {:.3f}'\n",
    "      .format(rf.score(X_validate, y_validate)))\n",
    "print(f\"Passes Treshold Allocation: {threshold > round(abs(train_accuracy-validate_accuracy), 3)}\")"
   ]
  },
  {
   "cell_type": "markdown",
   "id": "6eb78efa",
   "metadata": {},
   "source": [
    "    - Goal is finding a validate over .856 with less than .004 drop off"
   ]
  },
  {
   "cell_type": "markdown",
   "id": "7015707a",
   "metadata": {},
   "source": [
    "leaf 2 , 5 beat it"
   ]
  },
  {
   "cell_type": "code",
   "execution_count": 252,
   "id": "349a3431",
   "metadata": {},
   "outputs": [
    {
     "name": "stdout",
     "output_type": "stream",
     "text": [
      "Accuracy of random forest classifier on training set: 0.86\n",
      "Accuracy of random forest classifier on validate set: 0.856\n",
      "Passes Treshold Allocation: True\n"
     ]
    }
   ],
   "source": [
    "### Only features that were deemed important\n",
    "\n",
    "features = ['variety_Bourbon_scaled',\n",
    "    'variety_Catuai_scaled',\n",
    "    'variety_Caturra_scaled',\n",
    "    'variety_Mundo Novo_scaled',\n",
    "    'variety_Other_scaled',\n",
    "    'variety_Typica_scaled',\n",
    "    'variety_Yellow Bourbon_scaled',\n",
    "    'processing_method_Natural / Dry_scaled',\n",
    "    'processing_method_Semi-washed / Semi-pulped_scaled',\n",
    "    'processing_method_Washed / Wet_scaled',\n",
    "    'altitude_mean_meters_scaled',\n",
    "    'grading_month_scaled',\n",
    "    'grading_year_scaled',\n",
    "    'bag_weight_scaled']\n",
    "\n",
    "# Setting up X_train\n",
    "X_train = train[features]\n",
    "X_validate = validate[features]\n",
    "X_test = test[features]\n",
    "\n",
    "# Setting up y_train\n",
    "y_train = train['excellent_rating']\n",
    "y_validate = validate['excellent_rating']\n",
    "y_test = test['excellent_rating']\n",
    "\n",
    "# Make the model\n",
    "rf = RandomForestClassifier(bootstrap=True, \n",
    "                            class_weight=None, \n",
    "                            criterion='gini',\n",
    "                            min_samples_leaf=1,\n",
    "                            n_estimators=100,\n",
    "                            max_depth=4, \n",
    "                            random_state=123)\n",
    "\n",
    "# Fit the model\n",
    "rf.fit(X_train, y_train)\n",
    "\n",
    "# Train\n",
    "y_pred = rf.predict(X_train)\n",
    "train_accuracy = rf.score(X_train, y_train)\n",
    "\n",
    "# Validate\n",
    "y_pred = rf.predict(X_validate)\n",
    "validate_accuracy = rf.score(X_validate, y_validate)\n",
    "\n",
    "print('Accuracy of random forest classifier on training set: {:.2f}'\n",
    "     .format(rf.score(X_train, y_train)))\n",
    "print('Accuracy of random forest classifier on validate set: {:.3f}'\n",
    "      .format(rf.score(X_validate, y_validate)))\n",
    "print(f\"Passes Treshold Allocation: {threshold > round(abs(train_accuracy-validate_accuracy), 3)}\")"
   ]
  },
  {
   "cell_type": "markdown",
   "id": "80f3ae47",
   "metadata": {},
   "source": [
    "### Forest Takeaways\n",
    "    - leaf 2, depth 5  .861 on validate\n",
    "    - using only these features\n",
    "        - 'altitude_mean_meters_scaled',\n",
    "        - 'grading_month_scaled',\n",
    "        - 'number_of_bags_scaled',\n",
    "        - 'harvest_year_scaled'\n",
    "        - 'bag_weight_scaled'"
   ]
  },
  {
   "cell_type": "markdown",
   "id": "0af53739",
   "metadata": {},
   "source": [
    "# K Closest neigbors"
   ]
  },
  {
   "cell_type": "markdown",
   "id": "d9af5ff9",
   "metadata": {},
   "source": [
    "### Start with all features minus those that directly apply to score"
   ]
  },
  {
   "cell_type": "code",
   "execution_count": 292,
   "id": "846fb4a5",
   "metadata": {},
   "outputs": [],
   "source": [
    "### Only features that were deemed important\n",
    "\n",
    "features = ['variety_Bourbon_scaled',\n",
    "    'variety_Catuai_scaled',\n",
    "    'variety_Caturra_scaled',\n",
    "    'variety_Mundo Novo_scaled',\n",
    "    'variety_Other_scaled',\n",
    "    'variety_Typica_scaled',\n",
    "    'variety_Yellow Bourbon_scaled',\n",
    "    'processing_method_Natural / Dry_scaled',\n",
    "    'processing_method_Semi-washed / Semi-pulped_scaled',\n",
    "    'processing_method_Washed / Wet_scaled',\n",
    "    'altitude_mean_meters_scaled',\n",
    "    'grading_month_scaled',\n",
    "    'grading_year_scaled',\n",
    "    'bag_weight_scaled']\n",
    "\n",
    "# Setting up X_train\n",
    "X_train = train[features]\n",
    "X_validate = validate[features]\n",
    "X_test = test[features]\n",
    "\n",
    "# Setting up y_train\n",
    "y_train = train['excellent_rating']\n",
    "y_validate = validate['excellent_rating']\n",
    "y_test = test['excellent_rating']\n",
    "\n"
   ]
  },
  {
   "cell_type": "code",
   "execution_count": 309,
   "id": "ab3401ca",
   "metadata": {},
   "outputs": [
    {
     "name": "stdout",
     "output_type": "stream",
     "text": [
      "Accuracy of K Neighbors classifier on training set: 0.84\n",
      "Accuracy of K Neighbors classifier on validate set: 0.841\n",
      "Passes Treshold Allocation: True\n"
     ]
    }
   ],
   "source": [
    "# Make the model\n",
    "knn = KNeighborsClassifier(n_neighbors=12\n",
    "                           , weights='uniform')\n",
    "\n",
    "# Fit the model\n",
    "knn.fit(X_train, y_train)\n",
    "\n",
    "# Train\n",
    "y_pred = knn.predict(X_train)\n",
    "train_accuracy = knn.score(X_train, y_train)\n",
    "\n",
    "# Validate\n",
    "y_pred = knn.predict(X_validate)\n",
    "validate_accuracy = knn.score(X_validate, y_validate)\n",
    "\n",
    "print('Accuracy of K Neighbors classifier on training set: {:.2f}'\n",
    "     .format(knn.score(X_train, y_train)))\n",
    "print('Accuracy of K Neighbors classifier on validate set: {:.3f}'\n",
    "      .format(knn.score(X_validate, y_validate)))\n",
    "print(f\"Passes Treshold Allocation: {threshold > round(abs(train_accuracy-validate_accuracy), 3)}\")"
   ]
  },
  {
   "cell_type": "markdown",
   "id": "1f44717e",
   "metadata": {},
   "source": [
    "### KNN Takeaway notes\n",
    "    - No luck beating .861"
   ]
  },
  {
   "cell_type": "markdown",
   "id": "9f2e9534",
   "metadata": {},
   "source": [
    "# Logistic Regression"
   ]
  },
  {
   "cell_type": "code",
   "execution_count": 321,
   "id": "bf9b65f7",
   "metadata": {},
   "outputs": [],
   "source": [
    "features = ['altitude_mean_meters_scaled',\n",
    "            'grading_month_scaled',\n",
    "            'number_of_bags_scaled',\n",
    "            'harvest_year_scaled',\n",
    "            'bag_weight_scaled']\n",
    "\n",
    "# Setting up X_train\n",
    "X_train = train[features]\n",
    "X_validate = validate[features]\n",
    "X_test = test[features]\n",
    "\n",
    "# Setting up y_train\n",
    "y_train = train['excellent_rating']\n",
    "y_validate = validate['excellent_rating']\n",
    "y_test = test['excellent_rating']"
   ]
  },
  {
   "cell_type": "code",
   "execution_count": 332,
   "id": "d38e76b2",
   "metadata": {},
   "outputs": [
    {
     "name": "stdout",
     "output_type": "stream",
     "text": [
      "Accuracy of Logistic Regression classifier on training set: 0.84\n",
      "Accuracy of Logistic Regression classifier on validate set: 0.841\n",
      "Passes Treshold Allocation: True\n"
     ]
    }
   ],
   "source": [
    "# Make the model\n",
    "logit = LogisticRegression(C=.01, random_state=123)\n",
    "\n",
    "# Fit the Model\n",
    "logit.fit(X_train, y_train)\n",
    "\n",
    "# Train\n",
    "y_pred = logit.predict(X_train)\n",
    "train_accuracy = logit.score(X_train, y_train)\n",
    "\n",
    "# Validate\n",
    "y_pred = logit.predict(X_validate)\n",
    "validate_accuracy = logit.score(X_validate, y_validate)\n",
    "\n",
    "print('Accuracy of Logistic Regression classifier on training set: {:.2f}'\n",
    "     .format(logit.score(X_train, y_train)))\n",
    "print('Accuracy of Logistic Regression classifier on validate set: {:.3f}'\n",
    "      .format(logit.score(X_validate, y_validate)))\n",
    "print(f\"Passes Treshold Allocation: {threshold > round(abs(train_accuracy-validate_accuracy), 3)}\")"
   ]
  },
  {
   "cell_type": "markdown",
   "id": "277b0881",
   "metadata": {},
   "source": [
    "### Logistic Regession Takeaway\n",
    "    -  no luck with beating .861\n",
    "    - I did try different features and c level. I just changed the values in place due to time"
   ]
  },
  {
   "cell_type": "markdown",
   "id": "55ea55d1",
   "metadata": {},
   "source": [
    "# Best Validate Model Takeaway"
   ]
  },
  {
   "cell_type": "markdown",
   "id": "7785a531",
   "metadata": {},
   "source": [
    "### Forest Takeaways\n",
    "    - leaf 2, depth 5  .861 on validate\n",
    "    - using only these features\n",
    "        - 'altitude_mean_meters_scaled',\n",
    "        - 'grading_month_scaled',\n",
    "        - 'number_of_bags_scaled',\n",
    "        - 'harvest_year_scaled'\n",
    "        - 'bag_weight_scaled'"
   ]
  },
  {
   "cell_type": "markdown",
   "id": "b5e29598",
   "metadata": {},
   "source": [
    "# Running Test"
   ]
  },
  {
   "cell_type": "code",
   "execution_count": 333,
   "id": "7788ca59",
   "metadata": {},
   "outputs": [],
   "source": [
    "features = ['altitude_mean_meters_scaled',\n",
    "            'grading_month_scaled',\n",
    "            'number_of_bags_scaled',\n",
    "            'harvest_year_scaled',\n",
    "            'bag_weight_scaled']\n",
    "\n",
    "# Setting up X_train\n",
    "X_train = train[features]\n",
    "X_validate = validate[features]\n",
    "X_test = test[features]\n",
    "\n",
    "# Setting up y_train\n",
    "y_train = train['excellent_rating']\n",
    "y_validate = validate['excellent_rating']\n",
    "y_test = test['excellent_rating']"
   ]
  },
  {
   "cell_type": "code",
   "execution_count": 334,
   "id": "59497742",
   "metadata": {},
   "outputs": [
    {
     "name": "stdout",
     "output_type": "stream",
     "text": [
      "Accuracy of Random Forest classifier on training set: 0.874\n",
      "Accuracy of Random Forest classifier on validate set: 0.861\n",
      "Accuracy of Random Forest classifier on test set: 0.851\n"
     ]
    }
   ],
   "source": [
    "# Make the model\n",
    "rf = RandomForestClassifier(bootstrap=True, \n",
    "                            class_weight=None, \n",
    "                            criterion='gini',\n",
    "                            min_samples_leaf=2,\n",
    "                            n_estimators=100,\n",
    "                            max_depth=5, \n",
    "                            random_state=123)\n",
    "\n",
    "# Fit the model\n",
    "rf.fit(X_train, y_train)\n",
    "\n",
    "# Train\n",
    "y_pred = rf.predict(X_train)\n",
    "train_accuracy = rf.score(X_train, y_train)\n",
    "\n",
    "# Validate\n",
    "y_pred = rf.predict(X_validate)\n",
    "validate_accuracy = rf.score(X_validate, y_validate)\n",
    "\n",
    "# Test\n",
    "y_pred = rf.predict(X_test)\n",
    "test_accuracy = rf.score(X_test, y_test)\n",
    "\n",
    "print('Accuracy of Random Forest classifier on training set: {:.3f}'\n",
    "      .format(rf.score(X_train, y_train)))\n",
    "print('Accuracy of Random Forest classifier on validate set: {:.3f}'\n",
    "      .format(rf.score(X_validate, y_validate)))\n",
    "print('Accuracy of Random Forest classifier on test set: {:.3f}'\n",
    "      .format(rf.score(X_test, y_test)))"
   ]
  },
  {
   "cell_type": "code",
   "execution_count": null,
   "id": "2262d22c",
   "metadata": {},
   "outputs": [],
   "source": []
  }
 ],
 "metadata": {
  "kernelspec": {
   "display_name": "Python 3",
   "language": "python",
   "name": "python3"
  },
  "language_info": {
   "codemirror_mode": {
    "name": "ipython",
    "version": 3
   },
   "file_extension": ".py",
   "mimetype": "text/x-python",
   "name": "python",
   "nbconvert_exporter": "python",
   "pygments_lexer": "ipython3",
   "version": "3.8.8"
  }
 },
 "nbformat": 4,
 "nbformat_minor": 5
}
