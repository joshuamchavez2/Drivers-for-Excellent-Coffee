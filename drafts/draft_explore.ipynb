{
 "cells": [
  {
   "cell_type": "code",
   "execution_count": 37,
   "id": "8b391155",
   "metadata": {},
   "outputs": [],
   "source": [
    "import pandas as pd\n",
    "import numpy as np\n",
    "import seaborn as sns\n",
    "import matplotlib.pyplot as plt\n",
    "from wrangle import wrangle, wrangle_explore\n",
    "from sklearn.model_selection import train_test_split\n",
    "\n",
    "# Stats\n",
    "from scipy.stats import mannwhitneyu, wilcoxon\n",
    "from scipy.stats import levene\n",
    "\n",
    "# Viewing Options\n",
    "pd.set_option(\"display.max_rows\", None, \"display.max_columns\", None) \n",
    "\n",
    "pd.reset_option(\"display.max_rows\", \"display.max_columns\")\n",
    "import warnings\n",
    "warnings.filterwarnings(\"ignore\")"
   ]
  },
  {
   "cell_type": "code",
   "execution_count": 2,
   "id": "bd0937ae",
   "metadata": {},
   "outputs": [],
   "source": [
    "train, validate, test = wrangle_explore()"
   ]
  },
  {
   "cell_type": "markdown",
   "id": "4506b16a",
   "metadata": {},
   "source": [
    "# Orginally hypothesis"
   ]
  },
  {
   "cell_type": "markdown",
   "id": "4876376d",
   "metadata": {},
   "source": [
    "    -The altitude_mean_meters and the processing_method are the two most important drivers for coffee rating of 84 or higher"
   ]
  },
  {
   "cell_type": "markdown",
   "id": "439a1856",
   "metadata": {},
   "source": [
    "# Question # 1"
   ]
  },
  {
   "cell_type": "markdown",
   "id": "206ee235",
   "metadata": {},
   "source": [
    "    Is the average elevation for a coffee rated 84 or higher different than coffee whos rating is less than 84?"
   ]
  },
  {
   "cell_type": "markdown",
   "id": "9abf7d52",
   "metadata": {},
   "source": [
    "### Setting up seperate dataframes"
   ]
  },
  {
   "cell_type": "code",
   "execution_count": 4,
   "id": "8e268cf9",
   "metadata": {},
   "outputs": [],
   "source": [
    "# coffee with excellent rating into df_rating\n",
    "df_rating = train[train['excellent_rating'] == 1]\n",
    "\n",
    "\n",
    "# coffee with without excellent rating into df_without\n",
    "df_without = train[train['excellent_rating'] != 1]"
   ]
  },
  {
   "cell_type": "code",
   "execution_count": 5,
   "id": "9786d88b",
   "metadata": {},
   "outputs": [
    {
     "data": {
      "text/plain": [
       "(74, 395)"
      ]
     },
     "execution_count": 5,
     "metadata": {},
     "output_type": "execute_result"
    }
   ],
   "source": [
    "# checking number of values in each\n",
    "len(df_rating), len(df_without)"
   ]
  },
  {
   "cell_type": "markdown",
   "id": "0f6a0e01",
   "metadata": {},
   "source": [
    "### Checking Mean"
   ]
  },
  {
   "cell_type": "code",
   "execution_count": 6,
   "id": "1539241c",
   "metadata": {},
   "outputs": [
    {
     "data": {
      "text/plain": [
       "1523.3793729729728"
      ]
     },
     "execution_count": 6,
     "metadata": {},
     "output_type": "execute_result"
    }
   ],
   "source": [
    "# with excellent rating altitude mean\n",
    "df_rating.altitude_mean_meters.mean()"
   ]
  },
  {
   "cell_type": "code",
   "execution_count": 7,
   "id": "b7f269a5",
   "metadata": {},
   "outputs": [
    {
     "data": {
      "text/plain": [
       "1274.6375777215198"
      ]
     },
     "execution_count": 7,
     "metadata": {},
     "output_type": "execute_result"
    }
   ],
   "source": [
    "# witout excellent rating altitude mean\n",
    "df_without.altitude_mean_meters.mean()"
   ]
  },
  {
   "cell_type": "markdown",
   "id": "e7704eca",
   "metadata": {},
   "source": [
    "### Checking Median"
   ]
  },
  {
   "cell_type": "code",
   "execution_count": 8,
   "id": "c62a289b",
   "metadata": {},
   "outputs": [
    {
     "data": {
      "text/plain": [
       "1500.0"
      ]
     },
     "execution_count": 8,
     "metadata": {},
     "output_type": "execute_result"
    }
   ],
   "source": [
    "# with excellent rating altitude median\n",
    "df_rating.altitude_mean_meters.median()"
   ]
  },
  {
   "cell_type": "code",
   "execution_count": 9,
   "id": "6fdfb872",
   "metadata": {},
   "outputs": [
    {
     "data": {
      "text/plain": [
       "1310.64"
      ]
     },
     "execution_count": 9,
     "metadata": {},
     "output_type": "execute_result"
    }
   ],
   "source": [
    "# witout excellent rating altitude median\n",
    "df_without.altitude_mean_meters.median()"
   ]
  },
  {
   "cell_type": "markdown",
   "id": "2ee5b6e3",
   "metadata": {},
   "source": [
    "### Graph"
   ]
  },
  {
   "cell_type": "code",
   "execution_count": 10,
   "id": "eea057d5",
   "metadata": {},
   "outputs": [
    {
     "data": {
      "image/png": "[encoded data removed]",
      "text/plain": [
       "<Figure size 432x288 with 1 Axes>"
      ]
     },
     "metadata": {
      "needs_background": "light"
     },
     "output_type": "display_data"
    }
   ],
   "source": [
    "rating = ['84 or Higher', 'Less than 84']\n",
    "rating_mean = [df_rating.altitude_mean_meters.mean(), df_without.altitude_mean_meters.mean()]\n",
    "ax = sns.barplot(rating, rating_mean, color='blue')\n",
    "\n",
    "ax.set_xlabel('Rating',fontsize = 15, )\n",
    "ax.set_ylabel('Altitude',fontsize = 15)\n",
    "ax.set_title('Average Altitude by Ratings', fontsize = 15)\n",
    "sns.set(font_scale = 2)\n",
    "ax.set(xlabel='Rating', ylabel='Altitude')\n",
    "plt.show()"
   ]
  },
  {
   "cell_type": "markdown",
   "id": "03a26e4a",
   "metadata": {},
   "source": [
    "### Question 1 At A Glance\n",
    "\n",
    "    - 84 or higher rated coffee did have a higher altitude_mean_meters mean & median than coffee whos rating was less than 84.  \n",
    "    - The mean and median were not too far off from one another for both rated and without"
   ]
  },
  {
   "cell_type": "markdown",
   "id": "657c31c1",
   "metadata": {},
   "source": [
    "### Hypothesis Test\n",
    "    Running a hypothesis test to make sure the results didn't happen by accident"
   ]
  },
  {
   "cell_type": "markdown",
   "id": "88141661",
   "metadata": {},
   "source": [
    "### Significance Level"
   ]
  },
  {
   "cell_type": "code",
   "execution_count": 11,
   "id": "eee31a16",
   "metadata": {},
   "outputs": [],
   "source": [
    "# A significance level of 0.05 indicates a 5% risk of concluding that a difference exists when there is no actual difference.\n",
    "alpha = .05"
   ]
  },
  {
   "cell_type": "markdown",
   "id": "27e15a18",
   "metadata": {},
   "source": [
    "### Checking Assumptions"
   ]
  },
  {
   "cell_type": "markdown",
   "id": "f250f086",
   "metadata": {},
   "source": [
    "    - Independent\n",
    "    - Normally Distributed\n",
    "    - Equal Variances"
   ]
  },
  {
   "cell_type": "markdown",
   "id": "0a7630a0",
   "metadata": {},
   "source": [
    "### Independent?\n",
    "    Yes, I seperated excellent rated from non excellent rated"
   ]
  },
  {
   "cell_type": "markdown",
   "id": "0b7de5bb",
   "metadata": {},
   "source": [
    "### Normally Distributed?\n",
    "    - 84 or higher rated coffee is kind of normally distributed\n",
    "    - Less than 84 rated coffee is normally distributed"
   ]
  },
  {
   "cell_type": "code",
   "execution_count": 12,
   "id": "ff35051b",
   "metadata": {},
   "outputs": [
    {
     "data": {
      "text/plain": [
       "<AxesSubplot:>"
      ]
     },
     "execution_count": 12,
     "metadata": {},
     "output_type": "execute_result"
    },
    {
     "data": {
      "image/png": "[encoded data removed]",
      "text/plain": [
       "<Figure size 432x288 with 1 Axes>"
      ]
     },
     "metadata": {},
     "output_type": "display_data"
    }
   ],
   "source": [
    "sns.set(font_scale = 1)\n",
    "df_rating.altitude_mean_meters.hist()"
   ]
  },
  {
   "cell_type": "code",
   "execution_count": 13,
   "id": "362039f0",
   "metadata": {},
   "outputs": [
    {
     "data": {
      "text/plain": [
       "<AxesSubplot:>"
      ]
     },
     "execution_count": 13,
     "metadata": {},
     "output_type": "execute_result"
    },
    {
     "data": {
      "image/png": "[encoded data removed]",
      "text/plain": [
       "<Figure size 432x288 with 1 Axes>"
      ]
     },
     "metadata": {},
     "output_type": "display_data"
    }
   ],
   "source": [
    "df_without.altitude_mean_meters.hist()"
   ]
  },
  {
   "cell_type": "markdown",
   "id": "84f489f1",
   "metadata": {},
   "source": [
    "### Equal Variances?\n",
    "    - The leven test concluded the populations did not have equal variances."
   ]
  },
  {
   "cell_type": "code",
   "execution_count": 25,
   "id": "b7e4b799",
   "metadata": {},
   "outputs": [
    {
     "data": {
      "text/plain": [
       "(0.44033741774588486, 0.507287083624284)"
      ]
     },
     "execution_count": 25,
     "metadata": {},
     "output_type": "execute_result"
    }
   ],
   "source": [
    "# From the scypi stats library, im going to use the levene test to check variance.\n",
    "# It will test the null hypothesis that all input samples are from populations with equal variances.\n",
    "stats, p = levene(df_rating.altitude_mean_meters, df_without.altitude_mean_meters)\n",
    "stats, p"
   ]
  },
  {
   "cell_type": "code",
   "execution_count": 26,
   "id": "49df84b8",
   "metadata": {},
   "outputs": [
    {
     "name": "stdout",
     "output_type": "stream",
     "text": [
      "populations do have equal variances\n"
     ]
    }
   ],
   "source": [
    "# The small p-value suggests that the populations do not have equal variances.\n",
    "if p < alpha:\n",
    "    print(\"populations do not have equal variances\")\n",
    "else:\n",
    "    print(\"populations do have equal variances\")"
   ]
  },
  {
   "cell_type": "markdown",
   "id": "a0048436",
   "metadata": {},
   "source": [
    "### Mann-Whitney's Test\n",
    "    Assumptions were not met.  I will use a Non-Parametric Test."
   ]
  },
  {
   "cell_type": "markdown",
   "id": "a529acfc",
   "metadata": {},
   "source": [
    "### Hypothesis"
   ]
  },
  {
   "cell_type": "markdown",
   "id": "fd87d533",
   "metadata": {},
   "source": [
    "### $H_0$: There is no difference in altitude_mean_meters in 84 or higher rated coffee from less than 84 rated coffee.\n",
    "### $H_a$: There is a difference in altitude_mean_meters in 84 or higher rated coffee from less than 84 rated coffee."
   ]
  },
  {
   "cell_type": "code",
   "execution_count": 16,
   "id": "17366456",
   "metadata": {},
   "outputs": [
    {
     "data": {
      "text/plain": [
       "(10002.0, 8.054287930351236e-06)"
      ]
     },
     "execution_count": 16,
     "metadata": {},
     "output_type": "execute_result"
    }
   ],
   "source": [
    "stat, p = mannwhitneyu(df_rating.altitude_mean_meters, df_without.altitude_mean_meters)\n",
    "stat, p"
   ]
  },
  {
   "cell_type": "code",
   "execution_count": 17,
   "id": "98da6cff",
   "metadata": {},
   "outputs": [
    {
     "name": "stdout",
     "output_type": "stream",
     "text": [
      "Reject Null Hypothesis\n"
     ]
    }
   ],
   "source": [
    "if p < alpha:\n",
    "    print(\"Reject Null Hypothesis\")\n",
    "else:\n",
    "    print(\"Fail to Reject the Null Hypothesis\")"
   ]
  },
  {
   "cell_type": "markdown",
   "id": "40852f0d",
   "metadata": {},
   "source": [
    "### Hypotheis Results\n",
    "    - There is a difference in altitude_mean_meters in 84 or higher rated coffee from less than 84 rated coffee"
   ]
  },
  {
   "cell_type": "markdown",
   "id": "3e9d3dcf",
   "metadata": {},
   "source": [
    "### Question 1 Takeway\n",
    "    - I have a 95% confidence level that there is a difference in altitude between 84 or higher rated and less than 84 rated coffee.  \n",
    "    - 84 or higher rated coffee has a higher mean/median altitude than less than 84 rated coffee\n",
    "    - altitude_mean_meters seems to be a good fit or useful for modeling.  I will include it in my models and see if this is true. "
   ]
  },
  {
   "cell_type": "markdown",
   "id": "f319ae59",
   "metadata": {},
   "source": [
    "# Question 2"
   ]
  },
  {
   "cell_type": "markdown",
   "id": "206ee235",
   "metadata": {},
   "source": [
    "    Is the average bag_weight for a coffee rated 84 or higher different than the weight of all coffee?"
   ]
  },
  {
   "cell_type": "markdown",
   "id": "9abf7d52",
   "metadata": {},
   "source": [
    "### Setting up seperate dataframes"
   ]
  },
  {
   "cell_type": "code",
   "execution_count": 27,
   "id": "8e268cf9",
   "metadata": {},
   "outputs": [],
   "source": [
    "# df_rating is equal to a coffee rating 84 or higher\n",
    "df_rating = train[train['excellent_rating'] == 1]"
   ]
  },
  {
   "cell_type": "code",
   "execution_count": 28,
   "id": "9786d88b",
   "metadata": {},
   "outputs": [
    {
     "data": {
      "text/plain": [
       "(74, 469)"
      ]
     },
     "execution_count": 28,
     "metadata": {},
     "output_type": "execute_result"
    }
   ],
   "source": [
    "# checking number of values in each\n",
    "len(df_rating), len(train)"
   ]
  },
  {
   "cell_type": "markdown",
   "id": "0f6a0e01",
   "metadata": {},
   "source": [
    "### Checking Mean"
   ]
  },
  {
   "cell_type": "code",
   "execution_count": 29,
   "id": "1539241c",
   "metadata": {},
   "outputs": [
    {
     "data": {
      "text/plain": [
       "40.986486486486484"
      ]
     },
     "execution_count": 29,
     "metadata": {},
     "output_type": "execute_result"
    }
   ],
   "source": [
    "# bag_weight mean for coffee rated 84 or higher \n",
    "df_rating.bag_weight.mean()"
   ]
  },
  {
   "cell_type": "code",
   "execution_count": 30,
   "id": "b7f269a5",
   "metadata": {},
   "outputs": [
    {
     "data": {
      "text/plain": [
       "33.850746268656714"
      ]
     },
     "execution_count": 30,
     "metadata": {},
     "output_type": "execute_result"
    }
   ],
   "source": [
    "# Entire population bag_weight mean\n",
    "train.bag_weight.mean()"
   ]
  },
  {
   "cell_type": "markdown",
   "id": "2ee5b6e3",
   "metadata": {},
   "source": [
    "### Graph"
   ]
  },
  {
   "cell_type": "code",
   "execution_count": 31,
   "id": "eea057d5",
   "metadata": {
    "scrolled": false
   },
   "outputs": [
    {
     "data": {
      "image/png": "[encoded data removed]",
      "text/plain": [
       "<Figure size 432x288 with 1 Axes>"
      ]
     },
     "metadata": {},
     "output_type": "display_data"
    }
   ],
   "source": [
    "rating = ['Coffee Grade 84 (or Higher)', 'Entire Population']\n",
    "rating_mean = [df_rating.bag_weight.mean(), train.bag_weight.mean()]\n",
    "ax = sns.barplot(rating, rating_mean, color='blue')\n",
    "\n",
    "ax.set_xlabel('',fontsize = 15, )\n",
    "ax.set_ylabel('Bag Weight',fontsize = 15)\n",
    "ax.set_title('Coffee Grade 84 (or Higher) vs Population', fontsize = 15)\n",
    "sns.set(font_scale = 1)\n",
    "ax.set(xlabel='', ylabel='AVG Bag Weight')\n",
    "plt.show()"
   ]
  },
  {
   "cell_type": "markdown",
   "id": "03a26e4a",
   "metadata": {},
   "source": [
    "### Question 2 At A Glance\n",
    "\n",
    "    - 84 or higher rated coffee did have a higher bag_weight mean than the entire population of coffee.  \n",
    "    - The mean were not too far off from one another"
   ]
  },
  {
   "cell_type": "markdown",
   "id": "657c31c1",
   "metadata": {},
   "source": [
    "### Hypothesis Test\n",
    "    Running a hypothesis test to make sure the results didn't happen by accident"
   ]
  },
  {
   "cell_type": "markdown",
   "id": "88141661",
   "metadata": {},
   "source": [
    "### Significance Level"
   ]
  },
  {
   "cell_type": "code",
   "execution_count": 32,
   "id": "eee31a16",
   "metadata": {},
   "outputs": [],
   "source": [
    "# A significance level of 0.05 indicates a 5% risk of concluding that a difference exists when there is no actual difference.\n",
    "alpha = .05"
   ]
  },
  {
   "cell_type": "markdown",
   "id": "27e15a18",
   "metadata": {},
   "source": [
    "### Checking Assumptions"
   ]
  },
  {
   "cell_type": "markdown",
   "id": "f250f086",
   "metadata": {},
   "source": [
    "    - Independent\n",
    "    - Normally Distributed\n",
    "    - Equal Variances"
   ]
  },
  {
   "cell_type": "markdown",
   "id": "0a7630a0",
   "metadata": {},
   "source": [
    "### Independent?\n",
    "    No not independent because the entire population includes 84 or higher graded coffee"
   ]
  },
  {
   "cell_type": "markdown",
   "id": "0b7de5bb",
   "metadata": {},
   "source": [
    "### Normally Distributed?\n",
    "    - 84 or higher rated bag weight is not normally distributed\n",
    "    - Entire population is not normally distributed"
   ]
  },
  {
   "cell_type": "code",
   "execution_count": 52,
   "id": "ff35051b",
   "metadata": {},
   "outputs": [
    {
     "data": {
      "text/plain": [
       "<AxesSubplot:>"
      ]
     },
     "execution_count": 52,
     "metadata": {},
     "output_type": "execute_result"
    },
    {
     "data": {
      "image/png": "[encoded data removed]",
      "text/plain": [
       "<Figure size 432x288 with 1 Axes>"
      ]
     },
     "metadata": {},
     "output_type": "display_data"
    }
   ],
   "source": [
    "sns.set(font_scale = 1)\n",
    "df_rating.bag_weight.hist()"
   ]
  },
  {
   "cell_type": "code",
   "execution_count": 53,
   "id": "362039f0",
   "metadata": {},
   "outputs": [
    {
     "data": {
      "text/plain": [
       "<AxesSubplot:>"
      ]
     },
     "execution_count": 53,
     "metadata": {},
     "output_type": "execute_result"
    },
    {
     "data": {
      "image/png": "[encoded data removed]",
      "text/plain": [
       "<Figure size 432x288 with 1 Axes>"
      ]
     },
     "metadata": {},
     "output_type": "display_data"
    }
   ],
   "source": [
    "train.bag_weight.hist()"
   ]
  },
  {
   "cell_type": "markdown",
   "id": "84f489f1",
   "metadata": {},
   "source": [
    "### Equal Variances?\n",
    "    - The leven test concluded the populations did not have equal variances."
   ]
  },
  {
   "cell_type": "code",
   "execution_count": 38,
   "id": "b7e4b799",
   "metadata": {},
   "outputs": [
    {
     "data": {
      "text/plain": [
       "(10.16763616986114, 0.0015119628803599763)"
      ]
     },
     "execution_count": 38,
     "metadata": {},
     "output_type": "execute_result"
    }
   ],
   "source": [
    "# From the scypi stats library, im going to use the levene test to check variance.\n",
    "# It will test the null hypothesis that all input samples are from populations with equal variances.\n",
    "stats, p = levene(df_rating.bag_weight, train.bag_weight)\n",
    "stats, p"
   ]
  },
  {
   "cell_type": "code",
   "execution_count": 39,
   "id": "49df84b8",
   "metadata": {},
   "outputs": [
    {
     "name": "stdout",
     "output_type": "stream",
     "text": [
      "populations do not have equal variances\n"
     ]
    }
   ],
   "source": [
    "# The small p-value suggests that the populations do not have equal variances.\n",
    "if p < alpha:\n",
    "    print(\"populations do not have equal variances\")\n",
    "else:\n",
    "    print(\"populations do have equal variances\")"
   ]
  },
  {
   "cell_type": "markdown",
   "id": "a0048436",
   "metadata": {},
   "source": [
    "###  Wilcoxon\n",
    "    Assumptions were not met.  I will use a Non-Parametric Test."
   ]
  },
  {
   "cell_type": "markdown",
   "id": "a529acfc",
   "metadata": {},
   "source": [
    "### Hypothesis"
   ]
  },
  {
   "cell_type": "markdown",
   "id": "7e389c2d",
   "metadata": {},
   "source": [
    "### $H_0$: The average bag_weight of 84 or higher rated coffee is not different than the average of the entire population.\n",
    "### $H_a$: The average bag_weight of 84 or higher rated coffee is different than the average of the entire population."
   ]
  },
  {
   "cell_type": "markdown",
   "id": "520cebbc",
   "metadata": {},
   "source": [
    "### Hypothesised Median"
   ]
  },
  {
   "cell_type": "code",
   "execution_count": 40,
   "id": "6281ebf9",
   "metadata": {},
   "outputs": [
    {
     "data": {
      "text/plain": [
       "40.986486486486484"
      ]
     },
     "execution_count": 40,
     "metadata": {},
     "output_type": "execute_result"
    }
   ],
   "source": [
    "hypo_med = df_rating.bag_weight.mean()\n",
    "hypo_med"
   ]
  },
  {
   "cell_type": "code",
   "execution_count": 41,
   "id": "6e5b65de",
   "metadata": {},
   "outputs": [
    {
     "data": {
      "text/plain": [
       "(29614.0, 2.3195492778683327e-18)"
      ]
     },
     "execution_count": 41,
     "metadata": {},
     "output_type": "execute_result"
    }
   ],
   "source": [
    "z, p = wilcoxon(train.bag_weight - hypo_med)\n",
    "z, p"
   ]
  },
  {
   "cell_type": "code",
   "execution_count": 42,
   "id": "c8a7b387",
   "metadata": {},
   "outputs": [
    {
     "name": "stdout",
     "output_type": "stream",
     "text": [
      "Reject Null Hypothesis\n"
     ]
    }
   ],
   "source": [
    "if p < alpha:\n",
    "    print(\"Reject Null Hypothesis\")\n",
    "else:\n",
    "    print(\"Fail to Reject the Null Hypothesis\")"
   ]
  },
  {
   "cell_type": "markdown",
   "id": "de98908c",
   "metadata": {},
   "source": [
    "### Hypotheis Results\n",
    "    - The average bag_weight of 84 or higher rated coffee is different than the average of the entire population."
   ]
  },
  {
   "cell_type": "markdown",
   "id": "b40b3a48",
   "metadata": {},
   "source": [
    "### Question 2 Takeway\n",
    "    - I have a 95% confidence level that there is a difference in bag_weight between 84 or higher rated and the entire population of coffee.\n",
    "    - However thee means were not too far off from one another"
   ]
  },
  {
   "cell_type": "markdown",
   "id": "fd556b5b",
   "metadata": {},
   "source": [
    "# Question 3"
   ]
  },
  {
   "cell_type": "markdown",
   "id": "289a20be",
   "metadata": {},
   "source": [
    "    - Which processing_method has a higher percentage of 84 or higher rated coffee?"
   ]
  },
  {
   "cell_type": "code",
   "execution_count": 43,
   "id": "40faaa7d",
   "metadata": {
    "scrolled": true
   },
   "outputs": [
    {
     "data": {
      "text/plain": [
       "Washed / Wet                 368\n",
       "Natural / Dry                 81\n",
       "Semi-washed / Semi-pulped     20\n",
       "Name: processing_method, dtype: int64"
      ]
     },
     "execution_count": 43,
     "metadata": {},
     "output_type": "execute_result"
    }
   ],
   "source": [
    "train.processing_method.value_counts()"
   ]
  },
  {
   "cell_type": "code",
   "execution_count": 44,
   "id": "1fd59120",
   "metadata": {},
   "outputs": [],
   "source": [
    "df_plus = train[train.excellent_rating == 1]"
   ]
  },
  {
   "cell_type": "code",
   "execution_count": 45,
   "id": "465c2040",
   "metadata": {},
   "outputs": [
    {
     "data": {
      "image/png": "[encoded data removed]",
      "text/plain": [
       "<Figure size 432x288 with 1 Axes>"
      ]
     },
     "metadata": {},
     "output_type": "display_data"
    }
   ],
   "source": [
    "# Creating a series with percentages of processing method 84 or higher rated coffee by population\n",
    "s = ((df_rating.processing_method.value_counts()/train.processing_method.value_counts())*100).sort_values(ascending = False)\n",
    "\n",
    "# Graphing The Series\n",
    "index_ = list(s.index)\n",
    "index_[0] = 'Washed/Wet'\n",
    "index_[1] =  'Natural/Dry'\n",
    "index_[2] = 'Semi Washed/Pulped'\n",
    "s.index = index_\n",
    "ax = sns.barplot(s.index, s, color='blue')\n",
    "ax.set_title('Percent of Population 84 or Higher by Processing Method', fontsize = 13)\n",
    "sns.set(font_scale = 1.1)\n",
    "ax.set(xlabel='Processing Method', ylabel='Percent')\n",
    "plt.show()"
   ]
  },
  {
   "cell_type": "markdown",
   "id": "019f3c4f",
   "metadata": {},
   "source": [
    "### Question 3 Takeway\n",
    "    - Washed/Wet had more 84 or higher rated coffee but not by much\n",
    "    - I was hoping to see a bigger trend in 84 or higher rated coffee\n",
    "    - The three processing process are fairly close.\n",
    "    - I will added them to my model to see if they provide value and document the resutls"
   ]
  },
  {
   "cell_type": "markdown",
   "id": "90552699",
   "metadata": {},
   "source": [
    "# Question 4"
   ]
  },
  {
   "cell_type": "markdown",
   "id": "bc05ccbc",
   "metadata": {},
   "source": [
    "    - Which variety has a higher percentage of 84 or higher rated coffee?"
   ]
  },
  {
   "cell_type": "code",
   "execution_count": 46,
   "id": "32a0cd42",
   "metadata": {},
   "outputs": [
    {
     "data": {
      "image/png": "[encoded data removed]",
      "text/plain": [
       "<Figure size 432x288 with 1 Axes>"
      ]
     },
     "metadata": {},
     "output_type": "display_data"
    }
   ],
   "source": [
    "s = ((df_rating.variety.value_counts()/train.variety.value_counts())*100).sort_values(ascending = False)\n",
    "index_ = list(s.index)\n",
    "index_[3] = 'Mundo N.'\n",
    "index_[6] = 'Yellow B.'\n",
    "s.index = index_\n",
    "\n",
    "ax = sns.barplot(s.index, s, color='blue')\n",
    "ax.set_title('Percent of Population 84 or Higher by Variety', fontsize = 13)\n",
    "sns.set(font_scale = 1)\n",
    "ax.set(xlabel='Variety', ylabel='Percent')\n",
    "plt.show()"
   ]
  },
  {
   "cell_type": "markdown",
   "id": "4b47f7f7",
   "metadata": {},
   "source": [
    "### Question 4 Takeway\n",
    "    - 'Other' had more 84 or higher rated coffee than any other variety\n",
    "    - There was a lot of variance in the variety percentage 84 or higher by total population\n",
    "    - 'variety' seems like a good feature to use in modeling.  I will use it and document the results"
   ]
  },
  {
   "cell_type": "markdown",
   "id": "93bec0d8",
   "metadata": {},
   "source": [
    "# Question 5"
   ]
  },
  {
   "cell_type": "markdown",
   "id": "cb0e7e39",
   "metadata": {},
   "source": [
    "    - Which harvest year had a higher percentage of 84 or higher rated coffee?"
   ]
  },
  {
   "cell_type": "code",
   "execution_count": 22,
   "id": "e3e6246d",
   "metadata": {},
   "outputs": [
    {
     "data": {
      "image/png": "[encoded data removed]",
      "text/plain": [
       "<Figure size 432x288 with 1 Axes>"
      ]
     },
     "metadata": {},
     "output_type": "display_data"
    }
   ],
   "source": [
    "# Creating a series with percentages of harvest year 84 or higher rated coffee by population\n",
    "s = ((df_rating.harvest_year.value_counts(ascending=True)/train.harvest_year.value_counts(ascending=True))*100).sort_values()\n",
    "\n",
    "# Graphing the series\n",
    "ax = sns.barplot(s.index, s, color='blue')\n",
    "ax.set_title('84 or Higher by Harvest Year', fontsize = 13)\n",
    "sns.set(font_scale = 1)\n",
    "ax.set(xlabel='Year', ylabel='Total')\n",
    "plt.show()"
   ]
  },
  {
   "cell_type": "markdown",
   "id": "0a127027",
   "metadata": {},
   "source": [
    "### Question 5 Takeway\n",
    "\n",
    "    - There were only a few values for the year 2010 & 2011. Although those years seem like they did well, they are really outliers.\n",
    "    - Also keep in mind I filled in missing values for harvest year as the median so this feature might not be the best for modeling.\n",
    "    - If time allows I will try and see how it does in my model, as it is, and document the results.\n",
    "    - If time allows I will also remove outliers to see if its boosts model performance and document the results."
   ]
  },
  {
   "cell_type": "markdown",
   "id": "821d768f",
   "metadata": {},
   "source": [
    "# Question 6"
   ]
  },
  {
   "cell_type": "markdown",
   "id": "05ee5390",
   "metadata": {},
   "source": [
    "    - Which grading year had a higher percentage of 84 or higher rated coffee?"
   ]
  },
  {
   "cell_type": "code",
   "execution_count": 23,
   "id": "a923e082",
   "metadata": {},
   "outputs": [
    {
     "data": {
      "image/png": "[encoded data removed]",
      "text/plain": [
       "<Figure size 432x288 with 1 Axes>"
      ]
     },
     "metadata": {},
     "output_type": "display_data"
    }
   ],
   "source": [
    "# Creating a series with percentages of graded year 84 or higher rated coffee by population\n",
    "s = (df_rating.grading_year.value_counts()/train.grading_year.value_counts()*100).sort_values()\n",
    "\n",
    "# Graphing the series\n",
    "ax = sns.barplot(s.index, s, color='blue')\n",
    "ax.set_title('84 or Higher by Graded Year', fontsize = 13)\n",
    "sns.set(font_scale = 1)\n",
    "ax.set(xlabel='Year', ylabel='Total')\n",
    "plt.show()"
   ]
  },
  {
   "cell_type": "markdown",
   "id": "7ccb7859",
   "metadata": {},
   "source": [
    "### Question 6 Takeway\n",
    "    - The grading year of 2011 was the greatest year for 84 or higher rated coffee.\n",
    "    - This feature was more dependable than harvest year because zero values were missing\n",
    "    - This features seems useful to try and use in my model\n",
    "    - I will add it and document the results"
   ]
  },
  {
   "cell_type": "markdown",
   "id": "f42c4627",
   "metadata": {},
   "source": [
    "# Question 7"
   ]
  },
  {
   "cell_type": "markdown",
   "id": "d432b6a2",
   "metadata": {},
   "source": [
    "    - Which grading month had a higher percentage of 84 or higher rated coffee?"
   ]
  },
  {
   "cell_type": "code",
   "execution_count": 24,
   "id": "32f751ce",
   "metadata": {},
   "outputs": [
    {
     "data": {
      "image/png": "[encoded data removed]",
      "text/plain": [
       "<Figure size 432x288 with 1 Axes>"
      ]
     },
     "metadata": {},
     "output_type": "display_data"
    }
   ],
   "source": [
    "# Creating a series with percentages of graded year 84 or higher rated coffee by population\n",
    "s = (df_rating.grading_month.value_counts()/train.grading_month.value_counts()*100).sort_values()\n",
    "\n",
    "# Graphing the series\n",
    "ax = sns.barplot(s.index, s, color='blue')\n",
    "ax.set_title('84 or Higher by Graded Month', fontsize = 13)\n",
    "sns.set(font_scale = 1)\n",
    "ax.set(xlabel='Month', ylabel='Total')\n",
    "plt.show()"
   ]
  },
  {
   "cell_type": "markdown",
   "id": "872f56ad",
   "metadata": {},
   "source": [
    "### Question 7 Takeway\n",
    "    - The \"grading_month\" of Decemeber was the greatest month for 84 or higher rated coffee.\n",
    "    - This features seems useful to try and use in my model\n",
    "    - I will add it and document the results"
   ]
  },
  {
   "cell_type": "markdown",
   "id": "f75bd495",
   "metadata": {},
   "source": [
    "# Exploration Take Away"
   ]
  },
  {
   "cell_type": "markdown",
   "id": "eb5482a8",
   "metadata": {},
   "source": [
    "### Features I am predicting to do reasonably well in my model.  \n",
    "    'altitude'\n",
    "    'bag_weight'\n",
    "    'processing_method'\n",
    "    'variety'\n",
    "    'harvest_year'\n",
    "    'graded_year'\n",
    "    'graded_month'\n"
   ]
  },
  {
   "cell_type": "code",
   "execution_count": null,
   "id": "10970eec",
   "metadata": {},
   "outputs": [],
   "source": []
  }
 ],
 "metadata": {
  "kernelspec": {
   "display_name": "Python 3",
   "language": "python",
   "name": "python3"
  },
  "language_info": {
   "codemirror_mode": {
    "name": "ipython",
    "version": 3
   },
   "file_extension": ".py",
   "mimetype": "text/x-python",
   "name": "python",
   "nbconvert_exporter": "python",
   "pygments_lexer": "ipython3",
   "version": "3.8.8"
  }
 },
 "nbformat": 4,
 "nbformat_minor": 5
}
