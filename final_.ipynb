{
 "cells": [
  {
   "cell_type": "code",
   "execution_count": 1,
   "id": "8b391155",
   "metadata": {},
   "outputs": [],
   "source": [
    "import pandas as pd\n",
    "import numpy as np\n",
    "import seaborn as sns\n",
    "import matplotlib.pyplot as plt\n",
    "from wrangle import wrangle, wrangle_explore\n",
    "\n",
    "# Stats\n",
    "from scipy.stats import mannwhitneyu, wilcoxon\n",
    "from scipy.stats import levene\n",
    "\n",
    "# Sklearn Modeling\n",
    "from sklearn.model_selection import train_test_split\n",
    "from sklearn.tree import DecisionTreeClassifier\n",
    "from sklearn.tree import export_graphviz\n",
    "from sklearn.metrics import classification_report\n",
    "from sklearn.metrics import confusion_matrix\n",
    "from sklearn.ensemble import RandomForestClassifier\n",
    "from sklearn.neighbors import KNeighborsClassifier\n",
    "from sklearn.linear_model import LogisticRegression\n",
    "\n",
    "# Viewing Options\n",
    "pd.set_option(\"display.max_rows\", None, \"display.max_columns\", None) \n",
    "\n",
    "pd.reset_option(\"display.max_rows\", \"display.max_columns\")\n",
    "import warnings\n",
    "warnings.filterwarnings(\"ignore\")"
   ]
  },
  {
   "cell_type": "markdown",
   "id": "a41c78f8",
   "metadata": {},
   "source": [
    "# Project Planning"
   ]
  },
  {
   "cell_type": "markdown",
   "id": "42e2d350",
   "metadata": {},
   "source": [
    "### Project and Goals\n",
    "\n",
    "    The goal of this project is to find drivers of coffee who have been graded 84 or higher."
   ]
  },
  {
   "cell_type": "markdown",
   "id": "4a0e35c9",
   "metadata": {},
   "source": [
    "### Domain Knowledge Tip\n",
    "    65 – 80 = Commodity Coffee The type used to make supermarket coffee, blends and instant.\n",
    "\n",
    "    80+ = Specialty Coffee The flavours are more subtle, the cup more balanced. At higher end coffee shops, they only buy coffees of 84 or higher\n",
    "\n",
    "    90+ = Presidential Award These prestigious coffees make up less than 1% of the specialty coffee market, they’re just that rare. And that good."
   ]
  },
  {
   "cell_type": "markdown",
   "id": "04ff2ab8",
   "metadata": {},
   "source": [
    "# Executive Summary - Conclusions & Next Steps"
   ]
  },
  {
   "cell_type": "markdown",
   "id": "0179e4b1",
   "metadata": {},
   "source": [
    "### Conclusion\n",
    "    - \n"
   ]
  },
  {
   "cell_type": "markdown",
   "id": "cd6719f6",
   "metadata": {},
   "source": [
    "### Recommendations\n"
   ]
  },
  {
   "cell_type": "markdown",
   "id": "555f0011",
   "metadata": {},
   "source": [
    "# Prepare"
   ]
  },
  {
   "cell_type": "markdown",
   "id": "d0abeb06",
   "metadata": {},
   "source": [
    "#### Dropped Columns\n",
    "\n",
    "These columns got dropped because they didn't offer any value\n",
    "- Unnamed: 0\n",
    "- Owner\n",
    "- Farm.Name\n",
    "- Company\n",
    "- Expiration\n",
    "- Lot.Number\n",
    "- Mill\n",
    "- Producer\n",
    "- Certification.Address\n",
    "- Certification.Contact\n",
    "- ICO.Number\n",
    "- Certification.Body\n",
    "- In.Country.Partner\n",
    "- Owner.1\n",
    "- Species\n",
    "- Altitude\n",
    "- unit_of_measurement\n",
    "- altitude_low_meters'\n",
    "- altitude_high_meters\n",
    "\n",
    "#### Handle Nulls\n",
    "\n",
    "Dropped any row that was missing a value from the following columns:\n",
    "- Altitude\n",
    "- Region\n",
    "- Quakers\n",
    "- Harvest.Year\n",
    "- Variety\n",
    "\n",
    "Used the median value to fill in missing values from the following columns:\n",
    "- Color\n",
    "- Processing.Method\n",
    "\n",
    "#### Convert Data Types\n",
    "\n",
    "Changed the following columns data types:\n",
    "- Bag.Weight -> float\n",
    "- Grading.Date -> datetime\n",
    "- Harvest.Year -> int\n",
    "\n",
    "#### Miscellaneous\n",
    "\n",
    "- In Color I Converted any Bluish-Green value to Blue-Green\n",
    "- In Bag.Weight converted lbs into kg\n",
    "- Seperated Grading.Date into three new columns grading_month, grading_year, grading_day\n",
    "\n",
    "#### Rename\n",
    "\n",
    "Changed the following columns names to something more conventional:\n",
    "- Country.of.Origin -> country\n",
    "- Region' -> region\n",
    "- Number.of.Bags -> number_of_bags\n",
    "- Harvest.Year -> harvest_year\n",
    "- Grading.Date -> grading_date\n",
    "- Variety -> variety\n",
    "- Processing.Method -> processing_method\n",
    "- Aroma -> aroma\n",
    "- Flavor -> flavor\n",
    "- Aftertaste -> aftertaste\n",
    "- Acidity -> acidity\n",
    "- Body -> body\n",
    "- Balance -> balance\n",
    "- Uniformity -> uniformity\n",
    "- Clean.Cup -> clean_cup\n",
    "- Sweetness -> sweetness\n",
    "- Cupper.Points -> cupper_points\n",
    "- Total.Cup.Points -> total_cup_points\n",
    "- Moisture -> moisture\n",
    "- Category.One.Defects -> category_one_defects\n",
    "- Quakers -> quakers\n",
    "- Color -> color\n",
    "- Category.Two.Defects -> category_two_defects\n",
    "\n",
    "#### Engineered columns\n",
    "\n",
    "- grading_month = from Grading.Date\n",
    "- grading_year = from Grading.Date\n",
    "- grading_day = from Grading.Date\n",
    "- excellent_rating = from total_cup_points >= 84\n",
    "- total_bag_weight = number_of_bags * bag_weight\n",
    "\n",
    "#### Removed Outliers\n",
    "    Coming Soon\n",
    "#### Scaling\n",
    "    Coming Soon\n",
    "#### Encode\n",
    "- Created dummy columns for - variety, processing_method, color\n"
   ]
  },
  {
   "cell_type": "markdown",
   "id": "3767fd4b",
   "metadata": {},
   "source": [
    "# Exploration"
   ]
  },
  {
   "cell_type": "code",
   "execution_count": 2,
   "id": "bd0937ae",
   "metadata": {},
   "outputs": [],
   "source": [
    "train, validate, test = wrangle_explore()"
   ]
  },
  {
   "cell_type": "markdown",
   "id": "4506b16a",
   "metadata": {},
   "source": [
    "### Orginally hypothesis"
   ]
  },
  {
   "cell_type": "markdown",
   "id": "4876376d",
   "metadata": {},
   "source": [
    "    -The altitude_mean_meters and the processing_method are the two most important drivers for coffee rating of 84 or higher"
   ]
  },
  {
   "cell_type": "markdown",
   "id": "439a1856",
   "metadata": {},
   "source": [
    "# Question # 1"
   ]
  },
  {
   "cell_type": "markdown",
   "id": "206ee235",
   "metadata": {},
   "source": [
    "    Is the average elevation for a coffee rated 84 or higher different than coffee whos rating is less than 84?"
   ]
  },
  {
   "cell_type": "markdown",
   "id": "9abf7d52",
   "metadata": {},
   "source": [
    "### Setting up seperate dataframes"
   ]
  },
  {
   "cell_type": "code",
   "execution_count": 3,
   "id": "8e268cf9",
   "metadata": {},
   "outputs": [],
   "source": [
    "# coffee with excellent rating into df_rating\n",
    "df_rating = train[train['excellent_rating'] == 1]\n",
    "\n",
    "\n",
    "# coffee with without excellent rating into df_without\n",
    "df_without = train[train['excellent_rating'] != 1]"
   ]
  },
  {
   "cell_type": "code",
   "execution_count": 4,
   "id": "9786d88b",
   "metadata": {},
   "outputs": [
    {
     "data": {
      "text/plain": [
       "(74, 395)"
      ]
     },
     "execution_count": 4,
     "metadata": {},
     "output_type": "execute_result"
    }
   ],
   "source": [
    "# checking number of values in each\n",
    "len(df_rating), len(df_without)"
   ]
  },
  {
   "cell_type": "markdown",
   "id": "0f6a0e01",
   "metadata": {},
   "source": [
    "### Checking Mean"
   ]
  },
  {
   "cell_type": "code",
   "execution_count": 5,
   "id": "1539241c",
   "metadata": {},
   "outputs": [
    {
     "data": {
      "text/plain": [
       "1523.3793729729728"
      ]
     },
     "execution_count": 5,
     "metadata": {},
     "output_type": "execute_result"
    }
   ],
   "source": [
    "# with excellent rating altitude mean\n",
    "df_rating.altitude_mean_meters.mean()"
   ]
  },
  {
   "cell_type": "code",
   "execution_count": 6,
   "id": "b7f269a5",
   "metadata": {},
   "outputs": [
    {
     "data": {
      "text/plain": [
       "1274.6375777215198"
      ]
     },
     "execution_count": 6,
     "metadata": {},
     "output_type": "execute_result"
    }
   ],
   "source": [
    "# witout excellent rating altitude mean\n",
    "df_without.altitude_mean_meters.mean()"
   ]
  },
  {
   "cell_type": "markdown",
   "id": "e7704eca",
   "metadata": {},
   "source": [
    "### Checking Median"
   ]
  },
  {
   "cell_type": "code",
   "execution_count": 7,
   "id": "c62a289b",
   "metadata": {},
   "outputs": [
    {
     "data": {
      "text/plain": [
       "1500.0"
      ]
     },
     "execution_count": 7,
     "metadata": {},
     "output_type": "execute_result"
    }
   ],
   "source": [
    "# with excellent rating altitude median\n",
    "df_rating.altitude_mean_meters.median()"
   ]
  },
  {
   "cell_type": "code",
   "execution_count": 8,
   "id": "6fdfb872",
   "metadata": {},
   "outputs": [
    {
     "data": {
      "text/plain": [
       "1310.64"
      ]
     },
     "execution_count": 8,
     "metadata": {},
     "output_type": "execute_result"
    }
   ],
   "source": [
    "# witout excellent rating altitude median\n",
    "df_without.altitude_mean_meters.median()"
   ]
  },
  {
   "cell_type": "markdown",
   "id": "2ee5b6e3",
   "metadata": {},
   "source": [
    "### Graph"
   ]
  },
  {
   "cell_type": "code",
   "execution_count": 9,
   "id": "eea057d5",
   "metadata": {},
   "outputs": [
    {
     "data": {
      "image/png": "[encoded data removed]",
      "text/plain": [
       "<Figure size 432x288 with 1 Axes>"
      ]
     },
     "metadata": {
      "needs_background": "light"
     },
     "output_type": "display_data"
    }
   ],
   "source": [
    "rating = ['84 or Higher', 'Less than 84']\n",
    "rating_mean = [df_rating.altitude_mean_meters.mean(), df_without.altitude_mean_meters.mean()]\n",
    "ax = sns.barplot(rating, rating_mean, color='blue')\n",
    "\n",
    "ax.set_xlabel('Rating',fontsize = 15, )\n",
    "ax.set_ylabel('Altitude',fontsize = 15)\n",
    "ax.set_title('Average Altitude by Ratings', fontsize = 15)\n",
    "sns.set(font_scale = 2)\n",
    "ax.set(xlabel='Rating', ylabel='Altitude')\n",
    "plt.show()"
   ]
  },
  {
   "cell_type": "markdown",
   "id": "03a26e4a",
   "metadata": {},
   "source": [
    "### Question 1 At A Glance\n",
    "\n",
    "    - 84 or higher rated coffee did have a higher altitude_mean_meters mean & median than coffee whos rating was less than 84.  \n",
    "    - The mean and median were not too far off from one another for both rated and without"
   ]
  },
  {
   "cell_type": "markdown",
   "id": "657c31c1",
   "metadata": {},
   "source": [
    "### Hypothesis Test\n",
    "    Running a hypothesis test to make sure the results didn't happen by accident"
   ]
  },
  {
   "cell_type": "markdown",
   "id": "88141661",
   "metadata": {},
   "source": [
    "### Significance Level"
   ]
  },
  {
   "cell_type": "code",
   "execution_count": 10,
   "id": "eee31a16",
   "metadata": {},
   "outputs": [],
   "source": [
    "# A significance level of 0.05 indicates a 5% risk of concluding that a difference exists when there is no actual difference.\n",
    "alpha = .05"
   ]
  },
  {
   "cell_type": "markdown",
   "id": "27e15a18",
   "metadata": {},
   "source": [
    "### Checking Assumptions"
   ]
  },
  {
   "cell_type": "markdown",
   "id": "f250f086",
   "metadata": {},
   "source": [
    "    - Independent\n",
    "    - Normally Distributed\n",
    "    - Equal Variances"
   ]
  },
  {
   "cell_type": "markdown",
   "id": "0a7630a0",
   "metadata": {},
   "source": [
    "### Independent?\n",
    "    Yes, I seperated excellent rated from non excellent rated"
   ]
  },
  {
   "cell_type": "markdown",
   "id": "0b7de5bb",
   "metadata": {},
   "source": [
    "### Normally Distributed?\n",
    "    - 84 or higher rated coffee is kind of normally distributed\n",
    "    - Less than 84 rated coffee is normally distributed"
   ]
  },
  {
   "cell_type": "code",
   "execution_count": 11,
   "id": "ff35051b",
   "metadata": {},
   "outputs": [
    {
     "data": {
      "text/plain": [
       "<AxesSubplot:>"
      ]
     },
     "execution_count": 11,
     "metadata": {},
     "output_type": "execute_result"
    },
    {
     "data": {
      "image/png": "[encoded data removed]",
      "text/plain": [
       "<Figure size 432x288 with 1 Axes>"
      ]
     },
     "metadata": {},
     "output_type": "display_data"
    }
   ],
   "source": [
    "sns.set(font_scale = 1)\n",
    "df_rating.altitude_mean_meters.hist()"
   ]
  },
  {
   "cell_type": "code",
   "execution_count": 12,
   "id": "362039f0",
   "metadata": {},
   "outputs": [
    {
     "data": {
      "text/plain": [
       "<AxesSubplot:>"
      ]
     },
     "execution_count": 12,
     "metadata": {},
     "output_type": "execute_result"
    },
    {
     "data": {
      "image/png": "[encoded data removed]",
      "text/plain": [
       "<Figure size 432x288 with 1 Axes>"
      ]
     },
     "metadata": {},
     "output_type": "display_data"
    }
   ],
   "source": [
    "df_without.altitude_mean_meters.hist()"
   ]
  },
  {
   "cell_type": "markdown",
   "id": "84f489f1",
   "metadata": {},
   "source": [
    "### Equal Variances?\n",
    "    - The leven test concluded the populations did not have equal variances."
   ]
  },
  {
   "cell_type": "code",
   "execution_count": 13,
   "id": "b7e4b799",
   "metadata": {},
   "outputs": [
    {
     "data": {
      "text/plain": [
       "(0.44033741774588486, 0.507287083624284)"
      ]
     },
     "execution_count": 13,
     "metadata": {},
     "output_type": "execute_result"
    }
   ],
   "source": [
    "# From the scypi stats library, im going to use the levene test to check variance.\n",
    "# It will test the null hypothesis that all input samples are from populations with equal variances.\n",
    "stats, p = levene(df_rating.altitude_mean_meters, df_without.altitude_mean_meters)\n",
    "stats, p"
   ]
  },
  {
   "cell_type": "code",
   "execution_count": 14,
   "id": "49df84b8",
   "metadata": {},
   "outputs": [
    {
     "name": "stdout",
     "output_type": "stream",
     "text": [
      "populations do have equal variances\n"
     ]
    }
   ],
   "source": [
    "# The small p-value suggests that the populations do not have equal variances.\n",
    "if p < alpha:\n",
    "    print(\"populations do not have equal variances\")\n",
    "else:\n",
    "    print(\"populations do have equal variances\")"
   ]
  },
  {
   "cell_type": "markdown",
   "id": "a0048436",
   "metadata": {},
   "source": [
    "### Mann-Whitney's Test\n",
    "    Assumptions were not met.  I will use a Non-Parametric Test."
   ]
  },
  {
   "cell_type": "markdown",
   "id": "a529acfc",
   "metadata": {},
   "source": [
    "### Hypothesis"
   ]
  },
  {
   "cell_type": "markdown",
   "id": "fd87d533",
   "metadata": {},
   "source": [
    "### $H_0$: There is no difference in altitude_mean_meters in 84 or higher rated coffee from less than 84 rated coffee.\n",
    "### $H_a$: There is a difference in altitude_mean_meters in 84 or higher rated coffee from less than 84 rated coffee."
   ]
  },
  {
   "cell_type": "code",
   "execution_count": 15,
   "id": "17366456",
   "metadata": {},
   "outputs": [
    {
     "data": {
      "text/plain": [
       "(10002.0, 8.054287930351236e-06)"
      ]
     },
     "execution_count": 15,
     "metadata": {},
     "output_type": "execute_result"
    }
   ],
   "source": [
    "stat, p = mannwhitneyu(df_rating.altitude_mean_meters, df_without.altitude_mean_meters)\n",
    "stat, p"
   ]
  },
  {
   "cell_type": "code",
   "execution_count": 16,
   "id": "98da6cff",
   "metadata": {},
   "outputs": [
    {
     "name": "stdout",
     "output_type": "stream",
     "text": [
      "Reject Null Hypothesis\n"
     ]
    }
   ],
   "source": [
    "if p < alpha:\n",
    "    print(\"Reject Null Hypothesis\")\n",
    "else:\n",
    "    print(\"Fail to Reject the Null Hypothesis\")"
   ]
  },
  {
   "cell_type": "markdown",
   "id": "40852f0d",
   "metadata": {},
   "source": [
    "### Hypotheis Results\n",
    "    - There is a difference in altitude_mean_meters in 84 or higher rated coffee from less than 84 rated coffee"
   ]
  },
  {
   "cell_type": "markdown",
   "id": "3e9d3dcf",
   "metadata": {},
   "source": [
    "### Question 1 Takeway\n",
    "    - I have a 95% confidence level that there is a difference in altitude between 84 or higher rated and less than 84 rated coffee.  \n",
    "    - 84 or higher rated coffee has a higher mean/median altitude than less than 84 rated coffee\n",
    "    - altitude_mean_meters seems to be a good fit or useful for modeling.  I will include it in my models and see if this is true. "
   ]
  },
  {
   "cell_type": "markdown",
   "id": "312f5ed9",
   "metadata": {},
   "source": [
    "# Question 2"
   ]
  },
  {
   "cell_type": "markdown",
   "id": "9cc2cf20",
   "metadata": {},
   "source": [
    "    Is the average bag_weight for a coffee rated 84 or higher different than the weight of all coffee?"
   ]
  },
  {
   "cell_type": "markdown",
   "id": "69753116",
   "metadata": {},
   "source": [
    "### Setting up seperate dataframes"
   ]
  },
  {
   "cell_type": "code",
   "execution_count": 17,
   "id": "af68d8ee",
   "metadata": {},
   "outputs": [],
   "source": [
    "# df_rating is equal to a coffee rating 84 or higher\n",
    "df_rating = train[train['excellent_rating'] == 1]"
   ]
  },
  {
   "cell_type": "code",
   "execution_count": 18,
   "id": "9786d88b",
   "metadata": {},
   "outputs": [
    {
     "data": {
      "text/plain": [
       "(74, 469)"
      ]
     },
     "execution_count": 18,
     "metadata": {},
     "output_type": "execute_result"
    }
   ],
   "source": [
    "# checking number of values in each\n",
    "len(df_rating), len(train)"
   ]
  },
  {
   "cell_type": "markdown",
   "id": "0f6a0e01",
   "metadata": {},
   "source": [
    "### Checking Mean"
   ]
  },
  {
   "cell_type": "code",
   "execution_count": 19,
   "id": "1539241c",
   "metadata": {},
   "outputs": [
    {
     "data": {
      "text/plain": [
       "40.986486486486484"
      ]
     },
     "execution_count": 19,
     "metadata": {},
     "output_type": "execute_result"
    }
   ],
   "source": [
    "# bag_weight mean for coffee rated 84 or higher \n",
    "df_rating.bag_weight.mean()"
   ]
  },
  {
   "cell_type": "code",
   "execution_count": 20,
   "id": "b7f269a5",
   "metadata": {},
   "outputs": [
    {
     "data": {
      "text/plain": [
       "33.850746268656714"
      ]
     },
     "execution_count": 20,
     "metadata": {},
     "output_type": "execute_result"
    }
   ],
   "source": [
    "# Entire population bag_weight mean\n",
    "train.bag_weight.mean()"
   ]
  },
  {
   "cell_type": "markdown",
   "id": "2ee5b6e3",
   "metadata": {},
   "source": [
    "### Graph"
   ]
  },
  {
   "cell_type": "code",
   "execution_count": 21,
   "id": "eea057d5",
   "metadata": {
    "scrolled": false
   },
   "outputs": [
    {
     "data": {
      "image/png": "[encoded data removed]",
      "text/plain": [
       "<Figure size 432x288 with 1 Axes>"
      ]
     },
     "metadata": {},
     "output_type": "display_data"
    }
   ],
   "source": [
    "# Mean\n",
    "rating = ['Coffee Grade 84 (or Higher)', 'Entire Population']\n",
    "rating_mean = [df_rating.bag_weight.mean(), train.bag_weight.mean()]\n",
    "ax = sns.barplot(rating, rating_mean, color='blue')\n",
    "\n",
    "ax.set_xlabel('',fontsize = 15, )\n",
    "ax.set_ylabel('Bag Weight',fontsize = 15)\n",
    "ax.set_title('Coffee Grade 84 (or Higher) vs Population', fontsize = 15)\n",
    "sns.set(font_scale = 1)\n",
    "ax.set(xlabel='', ylabel='Mean Bag Weight')\n",
    "plt.show()"
   ]
  },
  {
   "cell_type": "code",
   "execution_count": 22,
   "id": "27d0c37d",
   "metadata": {},
   "outputs": [
    {
     "data": {
      "image/png": "[encoded data removed]",
      "text/plain": [
       "<Figure size 432x288 with 1 Axes>"
      ]
     },
     "metadata": {},
     "output_type": "display_data"
    }
   ],
   "source": [
    "# Mean\n",
    "rating = ['Coffee Grade 84 (or Higher)', 'Entire Population']\n",
    "rating_mean = [df_rating.bag_weight.median(), train.bag_weight.median()]\n",
    "ax = sns.barplot(rating, rating_mean, color='blue')\n",
    "\n",
    "ax.set_xlabel('',fontsize = 15, )\n",
    "ax.set_ylabel('Bag Weight',fontsize = 15)\n",
    "ax.set_title('Coffee Grade 84 (or Higher) vs Population', fontsize = 15)\n",
    "sns.set(font_scale = 1)\n",
    "ax.set(xlabel='', ylabel='Median Bag Weight')\n",
    "plt.show()"
   ]
  },
  {
   "cell_type": "markdown",
   "id": "03a26e4a",
   "metadata": {},
   "source": [
    "### Question 2 At A Glance\n",
    "\n",
    "    - 84 or higher rated coffee did have a higher bag_weight mean than the entire population of coffee.  \n",
    "    - The mean were not too far off from one another"
   ]
  },
  {
   "cell_type": "markdown",
   "id": "657c31c1",
   "metadata": {},
   "source": [
    "### Hypothesis Test\n",
    "    Running a hypothesis test to make sure the results didn't happen by accident"
   ]
  },
  {
   "cell_type": "markdown",
   "id": "88141661",
   "metadata": {},
   "source": [
    "### Significance Level"
   ]
  },
  {
   "cell_type": "code",
   "execution_count": 23,
   "id": "eee31a16",
   "metadata": {},
   "outputs": [],
   "source": [
    "# A significance level of 0.05 indicates a 5% risk of concluding that a difference exists when there is no actual difference.\n",
    "alpha = .05"
   ]
  },
  {
   "cell_type": "markdown",
   "id": "27e15a18",
   "metadata": {},
   "source": [
    "### Checking Assumptions"
   ]
  },
  {
   "cell_type": "markdown",
   "id": "f250f086",
   "metadata": {},
   "source": [
    "    - Independent\n",
    "    - Normally Distributed\n",
    "    - Equal Variances"
   ]
  },
  {
   "cell_type": "markdown",
   "id": "0a7630a0",
   "metadata": {},
   "source": [
    "### Independent?\n",
    "    No not independent because the entire population includes 84 or higher graded coffee"
   ]
  },
  {
   "cell_type": "markdown",
   "id": "0b7de5bb",
   "metadata": {},
   "source": [
    "### Normally Distributed?\n",
    "    - 84 or higher rated bag weight is not normally distributed\n",
    "    - Entire population is not normally distributed"
   ]
  },
  {
   "cell_type": "code",
   "execution_count": 24,
   "id": "ff35051b",
   "metadata": {},
   "outputs": [
    {
     "data": {
      "text/plain": [
       "<AxesSubplot:>"
      ]
     },
     "execution_count": 24,
     "metadata": {},
     "output_type": "execute_result"
    },
    {
     "data": {
      "image/png": "[encoded data removed]",
      "text/plain": [
       "<Figure size 432x288 with 1 Axes>"
      ]
     },
     "metadata": {},
     "output_type": "display_data"
    }
   ],
   "source": [
    "sns.set(font_scale = 1)\n",
    "df_rating.bag_weight.hist()"
   ]
  },
  {
   "cell_type": "code",
   "execution_count": 25,
   "id": "362039f0",
   "metadata": {},
   "outputs": [
    {
     "data": {
      "text/plain": [
       "<AxesSubplot:>"
      ]
     },
     "execution_count": 25,
     "metadata": {},
     "output_type": "execute_result"
    },
    {
     "data": {
      "image/png": "[encoded data removed]",
      "text/plain": [
       "<Figure size 432x288 with 1 Axes>"
      ]
     },
     "metadata": {},
     "output_type": "display_data"
    }
   ],
   "source": [
    "train.bag_weight.hist()"
   ]
  },
  {
   "cell_type": "markdown",
   "id": "84f489f1",
   "metadata": {},
   "source": [
    "### Equal Variances?\n",
    "    - The leven test concluded the populations did not have equal variances."
   ]
  },
  {
   "cell_type": "code",
   "execution_count": 26,
   "id": "b7e4b799",
   "metadata": {},
   "outputs": [
    {
     "data": {
      "text/plain": [
       "(10.16763616986114, 0.0015119628803599763)"
      ]
     },
     "execution_count": 26,
     "metadata": {},
     "output_type": "execute_result"
    }
   ],
   "source": [
    "# From the scypi stats library, im going to use the levene test to check variance.\n",
    "# It will test the null hypothesis that all input samples are from populations with equal variances.\n",
    "stats, p = levene(df_rating.bag_weight, train.bag_weight)\n",
    "stats, p"
   ]
  },
  {
   "cell_type": "code",
   "execution_count": 27,
   "id": "49df84b8",
   "metadata": {},
   "outputs": [
    {
     "name": "stdout",
     "output_type": "stream",
     "text": [
      "populations do not have equal variances\n"
     ]
    }
   ],
   "source": [
    "# The small p-value suggests that the populations do not have equal variances.\n",
    "if p < alpha:\n",
    "    print(\"populations do not have equal variances\")\n",
    "else:\n",
    "    print(\"populations do have equal variances\")"
   ]
  },
  {
   "cell_type": "markdown",
   "id": "a0048436",
   "metadata": {},
   "source": [
    "###  Wilcoxon\n",
    "    Assumptions were not met.  I will use a Non-Parametric Test."
   ]
  },
  {
   "cell_type": "markdown",
   "id": "a529acfc",
   "metadata": {},
   "source": [
    "### Hypothesis"
   ]
  },
  {
   "cell_type": "markdown",
   "id": "77025662",
   "metadata": {},
   "source": [
    "### $H_0$: The average bag_weight of 84 or higher rated coffee is not different than the average of the entire population.\n",
    "### $H_a$: The average bag_weight of 84 or higher rated coffee is different than the average of the entire population."
   ]
  },
  {
   "cell_type": "markdown",
   "id": "86355616",
   "metadata": {},
   "source": [
    "### Hypothesised Median"
   ]
  },
  {
   "cell_type": "code",
   "execution_count": 28,
   "id": "1a120f6e",
   "metadata": {},
   "outputs": [
    {
     "data": {
      "text/plain": [
       "60.0"
      ]
     },
     "execution_count": 28,
     "metadata": {},
     "output_type": "execute_result"
    }
   ],
   "source": [
    "hypo_med = df_rating.bag_weight.median()\n",
    "hypo_med"
   ]
  },
  {
   "cell_type": "code",
   "execution_count": 29,
   "id": "99a65ac5",
   "metadata": {},
   "outputs": [
    {
     "data": {
      "text/plain": [
       "(12694.0, 4.0608607540315044e-34)"
      ]
     },
     "execution_count": 29,
     "metadata": {},
     "output_type": "execute_result"
    }
   ],
   "source": [
    "z, p = wilcoxon(train.bag_weight - hypo_med)\n",
    "z, p"
   ]
  },
  {
   "cell_type": "code",
   "execution_count": 30,
   "id": "e4d32596",
   "metadata": {},
   "outputs": [
    {
     "name": "stdout",
     "output_type": "stream",
     "text": [
      "Reject Null Hypothesis\n"
     ]
    }
   ],
   "source": [
    "if p < alpha:\n",
    "    print(\"Reject Null Hypothesis\")\n",
    "else:\n",
    "    print(\"Fail to Reject the Null Hypothesis\")"
   ]
  },
  {
   "cell_type": "markdown",
   "id": "f79c8ea1",
   "metadata": {},
   "source": [
    "### Hypotheis Results\n",
    "    - The average bag_weight of 84 or higher rated coffee is different than the average of the entire population."
   ]
  },
  {
   "cell_type": "markdown",
   "id": "56df6387",
   "metadata": {},
   "source": [
    "### Question 2 Takeway\n",
    "    - I have a 95% confidence level that there is a difference in bag_weight between 84 or higher rated and the entire population of coffee.\n",
    "    - However thee means were not too far off from one another"
   ]
  },
  {
   "cell_type": "markdown",
   "id": "fd556b5b",
   "metadata": {},
   "source": [
    "# Question 3"
   ]
  },
  {
   "cell_type": "markdown",
   "id": "289a20be",
   "metadata": {},
   "source": [
    "    - Which processing_method has a higher percentage of 84 or higher rated coffee?"
   ]
  },
  {
   "cell_type": "code",
   "execution_count": 31,
   "id": "40faaa7d",
   "metadata": {
    "scrolled": true
   },
   "outputs": [
    {
     "data": {
      "text/plain": [
       "Washed / Wet                 368\n",
       "Natural / Dry                 81\n",
       "Semi-washed / Semi-pulped     20\n",
       "Name: processing_method, dtype: int64"
      ]
     },
     "execution_count": 31,
     "metadata": {},
     "output_type": "execute_result"
    }
   ],
   "source": [
    "train.processing_method.value_counts()"
   ]
  },
  {
   "cell_type": "code",
   "execution_count": 32,
   "id": "1fd59120",
   "metadata": {},
   "outputs": [],
   "source": [
    "df_plus = train[train.excellent_rating == 1]"
   ]
  },
  {
   "cell_type": "code",
   "execution_count": 33,
   "id": "465c2040",
   "metadata": {},
   "outputs": [
    {
     "data": {
      "image/png": "[encoded data removed]",
      "text/plain": [
       "<Figure size 432x288 with 1 Axes>"
      ]
     },
     "metadata": {},
     "output_type": "display_data"
    }
   ],
   "source": [
    "# Creating a series with percentages of processing method 84 or higher rated coffee by population\n",
    "s = ((df_rating.processing_method.value_counts()/train.processing_method.value_counts())*100).sort_values(ascending = False)\n",
    "\n",
    "# Graphing The Series\n",
    "index_ = list(s.index)\n",
    "index_[0] = 'Washed/Wet'\n",
    "index_[1] =  'Natural/Dry'\n",
    "index_[2] = 'Semi Washed/Pulped'\n",
    "s.index = index_\n",
    "ax = sns.barplot(s.index, s, color='blue')\n",
    "ax.set_title('Percent of Population 84 or Higher by Processing Method', fontsize = 13)\n",
    "sns.set(font_scale = 1.1)\n",
    "ax.set(xlabel='Processing Method', ylabel='Percent')\n",
    "plt.show()"
   ]
  },
  {
   "cell_type": "markdown",
   "id": "9061abe8",
   "metadata": {},
   "source": [
    "### Question 3 Takeway\n",
    "    - Washed/Wet had more 84 or higher rated coffee but not by much\n",
    "    - I was hoping to see a bigger trend in 84 or higher rated coffee\n",
    "    - The three processing process are fairly close.\n",
    "    - I will added them to my model to see if they provide value and document the resutls"
   ]
  },
  {
   "cell_type": "markdown",
   "id": "90552699",
   "metadata": {},
   "source": [
    "# Question 4"
   ]
  },
  {
   "cell_type": "markdown",
   "id": "bc05ccbc",
   "metadata": {},
   "source": [
    "    - Which variety has a higher percentage of 84 or higher rated coffee?"
   ]
  },
  {
   "cell_type": "code",
   "execution_count": 34,
   "id": "32a0cd42",
   "metadata": {},
   "outputs": [
    {
     "data": {
      "image/png": "[encoded data removed]",
      "text/plain": [
       "<Figure size 432x288 with 1 Axes>"
      ]
     },
     "metadata": {},
     "output_type": "display_data"
    }
   ],
   "source": [
    "s = ((df_rating.variety.value_counts()/train.variety.value_counts())*100).sort_values(ascending = False)\n",
    "index_ = list(s.index)\n",
    "index_[3] = 'Mundo N.'\n",
    "index_[6] = 'Yellow B.'\n",
    "s.index = index_\n",
    "\n",
    "ax = sns.barplot(s.index, s, color='blue')\n",
    "ax.set_title('Percent of Population 84 or Higher by Variety', fontsize = 13)\n",
    "sns.set(font_scale = 1)\n",
    "ax.set(xlabel='Variety', ylabel='Percent')\n",
    "plt.show()"
   ]
  },
  {
   "cell_type": "markdown",
   "id": "107ffb75",
   "metadata": {},
   "source": [
    "### Question 4 Takeway\n",
    "    - 'Other' had more 84 or higher rated coffee than any other variety\n",
    "    - There was a lot of variance in the variety percentage 84 or higher by total population\n",
    "    - 'variety' seems like a good feature to use in modeling.  I will use it and document the results"
   ]
  },
  {
   "cell_type": "markdown",
   "id": "4d41cc37",
   "metadata": {},
   "source": [
    "# Question 5"
   ]
  },
  {
   "cell_type": "markdown",
   "id": "d4470fa9",
   "metadata": {},
   "source": [
    "    - Which harvest year had a higher percentage of 84 or higher rated coffee?"
   ]
  },
  {
   "cell_type": "code",
   "execution_count": 35,
   "id": "01e300e2",
   "metadata": {},
   "outputs": [
    {
     "data": {
      "image/png": "[encoded data removed]",
      "text/plain": [
       "<Figure size 432x288 with 1 Axes>"
      ]
     },
     "metadata": {},
     "output_type": "display_data"
    }
   ],
   "source": [
    "# Creating a series with percentages of harvest year 84 or higher rated coffee by population\n",
    "s = ((df_rating.harvest_year.value_counts(ascending=True)/train.harvest_year.value_counts(ascending=True))*100).sort_values()\n",
    "\n",
    "# Graphing the series\n",
    "ax = sns.barplot(s.index, s, color='blue')\n",
    "ax.set_title('84 or Higher by Harvest Year', fontsize = 13)\n",
    "sns.set(font_scale = 1)\n",
    "ax.set(xlabel='Year', ylabel='Total')\n",
    "plt.show()"
   ]
  },
  {
   "cell_type": "markdown",
   "id": "1aeb03c3",
   "metadata": {},
   "source": [
    "### Question 5 Takeway\n",
    "\n",
    "    - There were only a few values for the year 2010 & 2011. Although those years seem like they did well, they are really outliers.\n",
    "    - Also keep in mind I filled in missing values for harvest year as the median so this feature might not be the best for modeling.\n",
    "    - If time allows I will try and see how it does in my model, as it is, and document the results.\n",
    "    - If time allows I will also remove outliers to see if its boosts model performance and document the results."
   ]
  },
  {
   "cell_type": "markdown",
   "id": "d96e01d5",
   "metadata": {},
   "source": [
    "# Question 6"
   ]
  },
  {
   "cell_type": "markdown",
   "id": "89fa2acc",
   "metadata": {},
   "source": [
    "    - Which grading year had a higher percentage of 84 or higher rated coffee?"
   ]
  },
  {
   "cell_type": "code",
   "execution_count": 36,
   "id": "46b55623",
   "metadata": {},
   "outputs": [
    {
     "data": {
      "image/png": "[encoded data removed]",
      "text/plain": [
       "<Figure size 432x288 with 1 Axes>"
      ]
     },
     "metadata": {},
     "output_type": "display_data"
    }
   ],
   "source": [
    "# Creating a series with percentages of graded year 84 or higher rated coffee by population\n",
    "s = (df_rating.grading_year.value_counts()/train.grading_year.value_counts()*100).sort_values()\n",
    "\n",
    "# Graphing the series\n",
    "ax = sns.barplot(s.index, s, color='blue')\n",
    "ax.set_title('84 or Higher by Graded Year', fontsize = 13)\n",
    "sns.set(font_scale = 1)\n",
    "ax.set(xlabel='Year', ylabel='Total')\n",
    "plt.show()"
   ]
  },
  {
   "cell_type": "markdown",
   "id": "e6c7378b",
   "metadata": {},
   "source": [
    "### Question 6 Takeway\n",
    "    - The grading year of 2011 was the greatest year for 84 or higher rated coffee.\n",
    "    - This feature was more dependable than harvest year because zero values were missing\n",
    "    - This features seems useful to try and use in my model\n",
    "    - I will add it and document the results"
   ]
  },
  {
   "cell_type": "markdown",
   "id": "999622c3",
   "metadata": {},
   "source": [
    "# Question 7"
   ]
  },
  {
   "cell_type": "markdown",
   "id": "d8fa7eea",
   "metadata": {},
   "source": [
    "    - Which grading month had a higher percentage of 84 or higher rated coffee?"
   ]
  },
  {
   "cell_type": "code",
   "execution_count": 37,
   "id": "1a4e3ac5",
   "metadata": {},
   "outputs": [
    {
     "data": {
      "image/png": "[encoded data removed]",
      "text/plain": [
       "<Figure size 432x288 with 1 Axes>"
      ]
     },
     "metadata": {},
     "output_type": "display_data"
    }
   ],
   "source": [
    "# Creating a series with percentages of graded year 84 or higher rated coffee by population\n",
    "s = (df_rating.grading_month.value_counts()/train.grading_month.value_counts()*100).sort_values()\n",
    "\n",
    "# Graphing the series\n",
    "ax = sns.barplot(s.index, s, color='blue')\n",
    "ax.set_title('84 or Higher by Graded Month', fontsize = 13)\n",
    "sns.set(font_scale = 1)\n",
    "ax.set(xlabel='Month', ylabel='Total')\n",
    "plt.show()"
   ]
  },
  {
   "cell_type": "markdown",
   "id": "e3e6fe4b",
   "metadata": {},
   "source": [
    "### Question 7 Takeway\n",
    "    - The \"grading_month\" of Decemeber was the greatest month for 84 or higher rated coffee.\n",
    "    - This features seems useful to try and use in my model\n",
    "    - I will add it and document the results"
   ]
  },
  {
   "cell_type": "markdown",
   "id": "bf35a940",
   "metadata": {},
   "source": [
    "# Exploration Take Away"
   ]
  },
  {
   "cell_type": "markdown",
   "id": "d363fcb7",
   "metadata": {},
   "source": [
    "### Features I am predicting to do reasonably well in my model.  \n",
    "    'altitude'\n",
    "    'bag_weight'\n",
    "    'processing_method'\n",
    "    'variety'\n",
    "    'harvest_year'\n",
    "    'graded_year'\n",
    "    'graded_month'\n"
   ]
  },
  {
   "cell_type": "markdown",
   "id": "8fd830b1",
   "metadata": {},
   "source": [
    "# Modeling"
   ]
  },
  {
   "cell_type": "code",
   "execution_count": 44,
   "id": "55796a04",
   "metadata": {},
   "outputs": [],
   "source": [
    "train, validate, test = wrangle()"
   ]
  },
  {
   "cell_type": "markdown",
   "id": "c686df1b",
   "metadata": {},
   "source": [
    "### Threshold allocation"
   ]
  },
  {
   "cell_type": "code",
   "execution_count": 45,
   "id": "92b1e40e",
   "metadata": {},
   "outputs": [],
   "source": [
    "threshold = .05"
   ]
  },
  {
   "cell_type": "markdown",
   "id": "fd6bc89d",
   "metadata": {},
   "source": [
    "# Baseline"
   ]
  },
  {
   "cell_type": "code",
   "execution_count": 46,
   "id": "23391eb2",
   "metadata": {},
   "outputs": [
    {
     "data": {
      "text/plain": [
       "0    395\n",
       "1     74\n",
       "Name: excellent_rating, dtype: int64"
      ]
     },
     "execution_count": 46,
     "metadata": {},
     "output_type": "execute_result"
    }
   ],
   "source": [
    "# Which Value is common fr\n",
    "train.excellent_rating.value_counts()"
   ]
  },
  {
   "cell_type": "code",
   "execution_count": 47,
   "id": "346eb62a",
   "metadata": {},
   "outputs": [
    {
     "name": "stdout",
     "output_type": "stream",
     "text": [
      "Baseline Accuracy is: 84.2%\n"
     ]
    }
   ],
   "source": [
    "baseline_accuracy = (train.excellent_rating == 0).mean()\n",
    "print(f\"Baseline Accuracy is: {round(baseline_accuracy, 3)*100}%\")"
   ]
  },
  {
   "cell_type": "markdown",
   "id": "e902fe79",
   "metadata": {},
   "source": [
    "# Decision Tree Classifier"
   ]
  },
  {
   "cell_type": "markdown",
   "id": "40874fb9",
   "metadata": {},
   "source": [
    "## Removing any feature directly involved in the scoring of each coffee"
   ]
  },
  {
   "cell_type": "code",
   "execution_count": 48,
   "id": "cbda1da1",
   "metadata": {},
   "outputs": [],
   "source": [
    "features = list(train.columns)\n",
    "\n",
    "# Removing target\n",
    "features.remove('excellent_rating')\n",
    "\n",
    "# Removing any feature directly involved in the scoring of each coffee\n",
    "features.remove('aroma_scaled')\n",
    "features.remove('flavor_scaled')\n",
    "features.remove('aftertaste_scaled')\n",
    "features.remove('acidity_scaled')\n",
    "features.remove('body_scaled')\n",
    "features.remove('balance_scaled')\n",
    "features.remove('uniformity_scaled')\n",
    "features.remove('clean_cup_scaled')\n",
    "features.remove('sweetness_scaled')\n",
    "features.remove('cupper_points_scaled')\n",
    "features.remove('moisture_scaled')\n",
    "features.remove('category_one_defects_scaled')\n",
    "features.remove('quakers_scaled')\n",
    "features.remove('category_two_defects_scaled')\n",
    "\n",
    "# Setting up X_train\n",
    "X_train = train[features]\n",
    "X_validate = validate[features]\n",
    "X_test = test[features]\n",
    "\n",
    "# Setting up y_train\n",
    "y_train = train['excellent_rating']\n",
    "y_validate = validate['excellent_rating']\n",
    "y_test = test['excellent_rating']"
   ]
  },
  {
   "cell_type": "code",
   "execution_count": 49,
   "id": "a89d029a",
   "metadata": {},
   "outputs": [
    {
     "name": "stdout",
     "output_type": "stream",
     "text": [
      "Accuracy of Decision Tree classifier on training set: 0.855\n",
      "Accuracy of Decision Tree classifier on validate set: 0.841\n",
      "Passes Treshold Allocation: True\n"
     ]
    }
   ],
   "source": [
    "# Make the model\n",
    "clf = DecisionTreeClassifier(max_depth=2, random_state=123)\n",
    "\n",
    "# Fit the model\n",
    "clf = clf.fit(X_train, y_train)\n",
    "\n",
    "# Train\n",
    "y_pred = clf.predict(X_train)\n",
    "train_accuracy = clf.score(X_train, y_train)\n",
    "\n",
    "# Validate\n",
    "\n",
    "y_pred = clf.predict(X_validate)\n",
    "validate_accuracy = clf.score(X_validate, y_validate)\n",
    "\n",
    "\n",
    "print('Accuracy of Decision Tree classifier on training set: {:.3f}'\n",
    "      .format(clf.score(X_train, y_train)))\n",
    "print('Accuracy of Decision Tree classifier on validate set: {:.3f}'\n",
    "      .format(clf.score(X_validate, y_validate)))\n",
    "print(f\"Passes Treshold Allocation: {threshold > round(abs(train_accuracy-validate_accuracy), 3)}\")"
   ]
  },
  {
   "cell_type": "markdown",
   "id": "232d4943",
   "metadata": {},
   "source": [
    "### Decision Tree with all features minus scoring takeaways\n",
    "    - Altitude was top feature\n",
    "    - Did not beat baseline\n",
    "    - Best Depth 2 @ .841 accuracy on validate"
   ]
  },
  {
   "cell_type": "markdown",
   "id": "0e2a7d24",
   "metadata": {},
   "source": [
    "# KNN"
   ]
  },
  {
   "cell_type": "code",
   "execution_count": 50,
   "id": "c48d4207",
   "metadata": {},
   "outputs": [],
   "source": [
    "features = ['variety_Bourbon_scaled',\n",
    "    'variety_Catuai_scaled',\n",
    "    'variety_Caturra_scaled',\n",
    "    'variety_Mundo Novo_scaled',\n",
    "    'variety_Other_scaled',\n",
    "    'variety_Typica_scaled',\n",
    "    'variety_Yellow Bourbon_scaled',\n",
    "    'processing_method_Natural / Dry_scaled',\n",
    "    'processing_method_Semi-washed / Semi-pulped_scaled',\n",
    "    'processing_method_Washed / Wet_scaled',\n",
    "    'altitude_mean_meters_scaled',\n",
    "    'grading_month_scaled',\n",
    "    'grading_year_scaled',\n",
    "    'bag_weight_scaled']\n",
    "\n",
    "# Setting up X_train\n",
    "X_train = train[features]\n",
    "X_validate = validate[features]\n",
    "X_test = test[features]\n",
    "\n",
    "# Setting up y_train\n",
    "y_train = train['excellent_rating']\n",
    "y_validate = validate['excellent_rating']\n",
    "y_test = test['excellent_rating']"
   ]
  },
  {
   "cell_type": "code",
   "execution_count": 67,
   "id": "c0bc44b8",
   "metadata": {},
   "outputs": [
    {
     "name": "stdout",
     "output_type": "stream",
     "text": [
      "Accuracy of K Neighbors classifier on training set: 0.84\n",
      "Accuracy of K Neighbors classifier on validate set: 0.841\n",
      "Passes Treshold Allocation: True\n"
     ]
    }
   ],
   "source": [
    "# Make the model\n",
    "knn = KNeighborsClassifier(n_neighbors=9, weights='uniform')\n",
    "\n",
    "# Fit the model\n",
    "knn.fit(X_train, y_train)\n",
    "\n",
    "# Train\n",
    "y_pred = knn.predict(X_train)\n",
    "train_accuracy = knn.score(X_train, y_train)\n",
    "\n",
    "# Validate\n",
    "y_pred = knn.predict(X_validate)\n",
    "validate_accuracy = knn.score(X_validate, y_validate)\n",
    "\n",
    "print('Accuracy of K Neighbors classifier on training set: {:.2f}'\n",
    "     .format(knn.score(X_train, y_train)))\n",
    "print('Accuracy of K Neighbors classifier on validate set: {:.3f}'\n",
    "      .format(knn.score(X_validate, y_validate)))\n",
    "print(f\"Passes Treshold Allocation: {threshold > round(abs(train_accuracy-validate_accuracy), 3)}\")"
   ]
  },
  {
   "cell_type": "markdown",
   "id": "83a3d427",
   "metadata": {},
   "source": [
    "### KNN with all features from exploration\n",
    "    - Did not beat baseline\n",
    "    - Best Model at n_neighbors = 9 @ .841 accuracy on validate"
   ]
  },
  {
   "cell_type": "markdown",
   "id": "646e8f18",
   "metadata": {},
   "source": [
    "# Random Forest Classifier"
   ]
  },
  {
   "cell_type": "code",
   "execution_count": 69,
   "id": "e238428e",
   "metadata": {},
   "outputs": [],
   "source": [
    "features = ['altitude_mean_meters_scaled',\n",
    "            'grading_month_scaled',\n",
    "            'number_of_bags_scaled',\n",
    "            'harvest_year_scaled',\n",
    "            'bag_weight_scaled']\n",
    "\n",
    "# Setting up X_train\n",
    "X_train = train[features]\n",
    "X_validate = validate[features]\n",
    "X_test = test[features]\n",
    "\n",
    "# Setting up y_train\n",
    "y_train = train['excellent_rating']\n",
    "y_validate = validate['excellent_rating']\n",
    "y_test = test['excellent_rating']"
   ]
  },
  {
   "cell_type": "code",
   "execution_count": 70,
   "id": "bc676c1d",
   "metadata": {},
   "outputs": [
    {
     "name": "stdout",
     "output_type": "stream",
     "text": [
      "Accuracy of random forest classifier on training set: 0.87\n",
      "Accuracy of random forest classifier on validate set: 0.861\n",
      "Passes Treshold Allocation: True\n"
     ]
    }
   ],
   "source": [
    "# Make the model\n",
    "rf = RandomForestClassifier(bootstrap=True, \n",
    "                            class_weight=None, \n",
    "                            criterion='gini',\n",
    "                            min_samples_leaf=2,\n",
    "                            n_estimators=100,\n",
    "                            max_depth=5, \n",
    "                            random_state=123)\n",
    "\n",
    "# Fit the model\n",
    "rf.fit(X_train, y_train)\n",
    "\n",
    "# Train\n",
    "y_pred = rf.predict(X_train)\n",
    "train_accuracy = rf.score(X_train, y_train)\n",
    "\n",
    "# Validate\n",
    "y_pred = rf.predict(X_validate)\n",
    "validate_accuracy = rf.score(X_validate, y_validate)\n",
    "\n",
    "print('Accuracy of random forest classifier on training set: {:.2f}'\n",
    "     .format(rf.score(X_train, y_train)))\n",
    "print('Accuracy of random forest classifier on validate set: {:.3f}'\n",
    "      .format(rf.score(X_validate, y_validate)))\n",
    "print(f\"Passes Treshold Allocation: {threshold > round(abs(train_accuracy-validate_accuracy), 3)}\")"
   ]
  },
  {
   "cell_type": "markdown",
   "id": "a3084e98",
   "metadata": {},
   "source": [
    "### Random Forest Classifier Takeaway\n",
    "    - Best Validate Model at .861 accuracy on validate\n",
    "    - Hyperparameters used leaf=2, depth =5"
   ]
  },
  {
   "cell_type": "markdown",
   "id": "f1e122ce",
   "metadata": {},
   "source": [
    "# Best Model\n",
    "    - Random Forest Classifier Takeaway\n",
    "    - Best Validate Model at .861 accuracy on validate\n",
    "    - Hyperparameters used leaf=2, depth =5\n",
    "    - Features used\n",
    "        - 'altitude_mean_meters_scaled',\n",
    "        - 'grading_month_scaled',\n",
    "        - 'number_of_bags_scaled',\n",
    "        - 'harvest_year_scaled'\n",
    "        - 'bag_weight_scaled'"
   ]
  },
  {
   "cell_type": "markdown",
   "id": "07590bc6",
   "metadata": {},
   "source": [
    "# Running Test"
   ]
  },
  {
   "cell_type": "code",
   "execution_count": 40,
   "id": "46e444e6",
   "metadata": {},
   "outputs": [],
   "source": [
    "features = ['altitude_mean_meters_scaled',\n",
    "            'grading_month_scaled',\n",
    "            'number_of_bags_scaled',\n",
    "            'harvest_year_scaled',\n",
    "            'bag_weight_scaled']\n",
    "\n",
    "# Setting up X_train\n",
    "X_train = train[features]\n",
    "X_validate = validate[features]\n",
    "X_test = test[features]\n",
    "\n",
    "# Setting up y_train\n",
    "y_train = train['excellent_rating']\n",
    "y_validate = validate['excellent_rating']\n",
    "y_test = test['excellent_rating']"
   ]
  },
  {
   "cell_type": "code",
   "execution_count": 41,
   "id": "e54a7367",
   "metadata": {},
   "outputs": [
    {
     "name": "stdout",
     "output_type": "stream",
     "text": [
      "Accuracy of Random Forest classifier on training set: 0.874\n",
      "Accuracy of Random Forest classifier on validate set: 0.861\n",
      "Accuracy of Random Forest classifier on test set: 0.851\n"
     ]
    }
   ],
   "source": [
    "# Make the model\n",
    "rf = RandomForestClassifier(bootstrap=True, \n",
    "                            class_weight=None, \n",
    "                            criterion='gini',\n",
    "                            min_samples_leaf=2,\n",
    "                            n_estimators=100,\n",
    "                            max_depth=5, \n",
    "                            random_state=123)\n",
    "\n",
    "# Fit the model\n",
    "rf.fit(X_train, y_train)\n",
    "\n",
    "# Train\n",
    "y_pred = rf.predict(X_train)\n",
    "train_accuracy = rf.score(X_train, y_train)\n",
    "\n",
    "# Validate\n",
    "y_pred = rf.predict(X_validate)\n",
    "validate_accuracy = rf.score(X_validate, y_validate)\n",
    "\n",
    "# Test\n",
    "y_pred = rf.predict(X_test)\n",
    "test_accuracy = rf.score(X_test, y_test)\n",
    "\n",
    "print('Accuracy of Random Forest classifier on training set: {:.3f}'\n",
    "      .format(rf.score(X_train, y_train)))\n",
    "print('Accuracy of Random Forest classifier on validate set: {:.3f}'\n",
    "      .format(rf.score(X_validate, y_validate)))\n",
    "print('Accuracy of Random Forest classifier on test set: {:.3f}'\n",
    "      .format(rf.score(X_test, y_test)))"
   ]
  },
  {
   "cell_type": "markdown",
   "id": "00856bb4",
   "metadata": {},
   "source": [
    "# Test Takeaways\n",
    "    - Tested my model using unseen data\n",
    "    - Beat my baseline model.\n",
    "    - Test accuracy was slightly lower than train and validate."
   ]
  },
  {
   "cell_type": "code",
   "execution_count": null,
   "id": "0f29f3b9",
   "metadata": {},
   "outputs": [],
   "source": [
    "# Things to do\n",
    "# Create Plan haha\n",
    "# Remove outlier documentation\n",
    "# Executive Summary\n",
    "# add more comments\n",
    "# check docustring\n",
    "# READ me\n",
    "# remove any functions not used\n",
    "# Data Dictionary\n",
    "# csv file\n"
   ]
  }
 ],
 "metadata": {
  "kernelspec": {
   "display_name": "Python 3",
   "language": "python",
   "name": "python3"
  },
  "language_info": {
   "codemirror_mode": {
    "name": "ipython",
    "version": 3
   },
   "file_extension": ".py",
   "mimetype": "text/x-python",
   "name": "python",
   "nbconvert_exporter": "python",
   "pygments_lexer": "ipython3",
   "version": "3.8.8"
  }
 },
 "nbformat": 4,
 "nbformat_minor": 5
}
