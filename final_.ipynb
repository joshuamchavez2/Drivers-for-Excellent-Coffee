{
 "cells": [
  {
   "cell_type": "code",
   "execution_count": 1,
   "id": "8b391155",
   "metadata": {},
   "outputs": [],
   "source": [
    "# Standard Data Science Utility Belt\n",
    "import pandas as pd\n",
    "import numpy as np\n",
    "import seaborn as sns\n",
    "import matplotlib.pyplot as plt\n",
    "\n",
    "# User defined methods\n",
    "from wrangle import wrangle, wrangle_explore\n",
    "from acquire import acquire\n",
    "from functions import get_data_dictionary\n",
    "\n",
    "# Stats\n",
    "from scipy.stats import mannwhitneyu, wilcoxon\n",
    "from scipy.stats import levene\n",
    "\n",
    "# Sklearn Modeling\n",
    "from sklearn.model_selection import train_test_split\n",
    "from sklearn.tree import DecisionTreeClassifier\n",
    "from sklearn.tree import export_graphviz\n",
    "from sklearn.metrics import classification_report\n",
    "from sklearn.metrics import confusion_matrix\n",
    "from sklearn.ensemble import RandomForestClassifier\n",
    "from sklearn.neighbors import KNeighborsClassifier\n",
    "from sklearn.linear_model import LogisticRegression\n",
    "\n",
    "# Viewing Options\n",
    "pd.set_option(\"display.max_rows\", None, \"display.max_columns\", None) \n",
    "pd.reset_option(\"display.max_rows\", \"display.max_columns\")\n",
    "\n",
    "# Ignore Warnings\n",
    "import warnings\n",
    "warnings.filterwarnings(\"ignore\")"
   ]
  },
  {
   "cell_type": "markdown",
   "id": "a7346787",
   "metadata": {},
   "source": [
    "# Project Planning"
   ]
  },
  {
   "cell_type": "markdown",
   "id": "2d5bb2b7",
   "metadata": {},
   "source": [
    "### Project and Goals\n",
    "\n",
    "    The goal of this project is to find and document drivers of arabica coffee who have been graded 84 or higher using a\n",
    "    machine learning classification model."
   ]
  },
  {
   "cell_type": "markdown",
   "id": "9c31cb18",
   "metadata": {},
   "source": [
    "### Original Hypothesis\n",
    "\n",
    "    The altitude_mean_meters and the processing_method are the two most important drivers for coffee rating of 84 or higher"
   ]
  },
  {
   "cell_type": "markdown",
   "id": "15be2864",
   "metadata": {},
   "source": [
    "### Domain Knowledge Quick Tip\n",
    "    65–80 = Commodity Coffee The type used to make supermarket coffee, blends and instant.\n",
    "\n",
    "    80+ = Specialty Coffee The flavours are more subtle, the cup more balanced. At higher end coffee shops, they only buy coffee of \n",
    "    84 or higher\n",
    "\n",
    "    90+ = Presidential Award These prestigious coffees make up less than 1% of the specialty coffee market, they’re just that rare. \n",
    "    And that good."
   ]
  },
  {
   "cell_type": "markdown",
   "id": "682bfa18",
   "metadata": {},
   "source": [
    "### The Plan"
   ]
  },
  {
   "cell_type": "markdown",
   "id": "cac08208",
   "metadata": {},
   "source": [
    "    Setup my environment, create a new repository, update the .gitignore, create a README.md with the data dictionary, project goals,\n",
    "    and come up with an original hypothesis.\n",
    "    \n",
    "    Acquire the data from kaggle\n",
    "    Clean the data, drop any useless features, remove duplicate observations, double check data-types, find any null values, decide\n",
    "    what do with null values, and encode the features.\n",
    "    \n",
    "    Split the Data, into three data sets named train, validate, and test.\n",
    "    \n",
    "    Explore the data, look through the graphs and evaluate each feature to see if they play a part in churn.  Exploration will also\n",
    "    include two hypotheses, setting of alpha, statistical tests, rejecting or failing to reject the null hypothesis, and\n",
    "    documentation of the findings and takeaways.\n",
    "    \n",
    "    Create Models, create three machine learning models plus a baseline model.  Will be using a DecisionTreeClassifier,\n",
    "    RandomForestClassifier, and KNeighborsClassifier.  Evaluate models on train and validate datasets.  Pick the model with highest\n",
    "    validate accuracy to run on my final test data.\n",
    "    \n",
    "    Wrap it up, document conclusions, recommendations, and take aways in the final report notebook\n"
   ]
  },
  {
   "cell_type": "markdown",
   "id": "f7d3a1c7",
   "metadata": {},
   "source": [
    "# Executive Summary - Conclusions & Next Steps"
   ]
  },
  {
   "cell_type": "markdown",
   "id": "aa053b23",
   "metadata": {},
   "source": [
    "### Conclusion\n",
    "    My random forest classifier model accuracy for unseen data (test) was 85% beating my baseline accuracy.\n",
    "    \n",
    "    My model confirmed that only half of my original hypothesis was correct. Alttitude was a driver but\n",
    "    processing_method was not.\n",
    "    \n",
    "    My model identified the most important features as \n",
    "        - altitude_mean_meters\n",
    "        - grading_month\n",
    "        - number_of_bags\n",
    "        - harvest_year\n",
    "        - bag_weight\n",
    "        \n",
    "    If I had more time I would have liked to,\n",
    "        - web scraped for newer coffee data  \n",
    "        - engineer more features\n",
    "        - find out the average temperature for each region\n",
    "        - iterate through hyperparameters to boost accuracy\n",
    "        - have more domain knowledge"
   ]
  },
  {
   "cell_type": "markdown",
   "id": "299b3d4d",
   "metadata": {},
   "source": [
    "### Recommendations\n"
   ]
  },
  {
   "cell_type": "markdown",
   "id": "1f5f27b3",
   "metadata": {},
   "source": [
    "    The data suggests: \n",
    "    \n",
    "    For anyone trying to pursue coffee grades of 84 or higher\n",
    "        - Use a farm located in a high altitude area\n",
    "        - Have your coffee ready for grading by December\n",
    "        - Have a large harvest\n",
    "        - Use heavier bags of coffee\n",
    "        \n",
    "    These are interesting suggestions as I don't have enough domain knowledge to know why having a large havest & heavier bags would\n",
    "    make a difference in grading score.  I would speculate that the larger the harvest the more it would overshadow any bad coffee\n",
    "    bean plants but im not 100% certain.\n",
    "    \n",
    "    Where as the altitude and grading_month recommendations make more sense.  "
   ]
  },
  {
   "cell_type": "markdown",
   "id": "6206bf25",
   "metadata": {},
   "source": [
    "### Key Takeaways"
   ]
  },
  {
   "cell_type": "markdown",
   "id": "1e13d28e",
   "metadata": {},
   "source": [
    "    - After the preperation.  The data only had 132 coffees, rated 84 or higher, out of the 838 total observations.\n",
    "    - The data was dated between the years 2010-2017\n",
    "    - None of the features like Aroma, Body, Cupper.Points, etc.. were used in the modeling since they are too directly correlated\n",
    "    with the score\n",
    "    - Only arabica coffee observations were used"
   ]
  },
  {
   "cell_type": "markdown",
   "id": "7498cffe",
   "metadata": {},
   "source": [
    "# Data Acquisition"
   ]
  },
  {
   "cell_type": "code",
   "execution_count": 59,
   "id": "7618a370",
   "metadata": {},
   "outputs": [],
   "source": [
    "df = acquire()"
   ]
  },
  {
   "cell_type": "markdown",
   "id": "bb0f749b",
   "metadata": {},
   "source": [
    "### .info(), .head(), .describe()"
   ]
  },
  {
   "cell_type": "code",
   "execution_count": 3,
   "id": "1f85291b",
   "metadata": {},
   "outputs": [
    {
     "name": "stdout",
     "output_type": "stream",
     "text": [
      "<class 'pandas.core.frame.DataFrame'>\n",
      "RangeIndex: 1311 entries, 0 to 1310\n",
      "Data columns (total 44 columns):\n",
      " #   Column                 Non-Null Count  Dtype  \n",
      "---  ------                 --------------  -----  \n",
      " 0   Unnamed: 0             1311 non-null   int64  \n",
      " 1   Species                1311 non-null   object \n",
      " 2   Owner                  1304 non-null   object \n",
      " 3   Country.of.Origin      1310 non-null   object \n",
      " 4   Farm.Name              955 non-null    object \n",
      " 5   Lot.Number             270 non-null    object \n",
      " 6   Mill                   1001 non-null   object \n",
      " 7   ICO.Number             1165 non-null   object \n",
      " 8   Company                1102 non-null   object \n",
      " 9   Altitude               1088 non-null   object \n",
      " 10  Region                 1254 non-null   object \n",
      " 11  Producer               1081 non-null   object \n",
      " 12  Number.of.Bags         1311 non-null   int64  \n",
      " 13  Bag.Weight             1311 non-null   object \n",
      " 14  In.Country.Partner     1311 non-null   object \n",
      " 15  Harvest.Year           1264 non-null   object \n",
      " 16  Grading.Date           1311 non-null   object \n",
      " 17  Owner.1                1304 non-null   object \n",
      " 18  Variety                1110 non-null   object \n",
      " 19  Processing.Method      1159 non-null   object \n",
      " 20  Aroma                  1311 non-null   float64\n",
      " 21  Flavor                 1311 non-null   float64\n",
      " 22  Aftertaste             1311 non-null   float64\n",
      " 23  Acidity                1311 non-null   float64\n",
      " 24  Body                   1311 non-null   float64\n",
      " 25  Balance                1311 non-null   float64\n",
      " 26  Uniformity             1311 non-null   float64\n",
      " 27  Clean.Cup              1311 non-null   float64\n",
      " 28  Sweetness              1311 non-null   float64\n",
      " 29  Cupper.Points          1311 non-null   float64\n",
      " 30  Total.Cup.Points       1311 non-null   float64\n",
      " 31  Moisture               1311 non-null   float64\n",
      " 32  Category.One.Defects   1311 non-null   int64  \n",
      " 33  Quakers                1310 non-null   float64\n",
      " 34  Color                  1095 non-null   object \n",
      " 35  Category.Two.Defects   1311 non-null   int64  \n",
      " 36  Expiration             1311 non-null   object \n",
      " 37  Certification.Body     1311 non-null   object \n",
      " 38  Certification.Address  1311 non-null   object \n",
      " 39  Certification.Contact  1311 non-null   object \n",
      " 40  unit_of_measurement    1311 non-null   object \n",
      " 41  altitude_low_meters    1084 non-null   float64\n",
      " 42  altitude_high_meters   1084 non-null   float64\n",
      " 43  altitude_mean_meters   1084 non-null   float64\n",
      "dtypes: float64(16), int64(4), object(24)\n",
      "memory usage: 450.8+ KB\n"
     ]
    }
   ],
   "source": [
    "df.info()"
   ]
  },
  {
   "cell_type": "code",
   "execution_count": 4,
   "id": "0cf854c4",
   "metadata": {},
   "outputs": [
    {
     "data": {
      "text/html": [
       "<div>\n",
       "<style scoped>\n",
       "    .dataframe tbody tr th:only-of-type {\n",
       "        vertical-align: middle;\n",
       "    }\n",
       "\n",
       "    .dataframe tbody tr th {\n",
       "        vertical-align: top;\n",
       "    }\n",
       "\n",
       "    .dataframe thead th {\n",
       "        text-align: right;\n",
       "    }\n",
       "</style>\n",
       "<table border=\"1\" class=\"dataframe\">\n",
       "  <thead>\n",
       "    <tr style=\"text-align: right;\">\n",
       "      <th></th>\n",
       "      <th>Unnamed: 0</th>\n",
       "      <th>Species</th>\n",
       "      <th>Owner</th>\n",
       "      <th>Country.of.Origin</th>\n",
       "      <th>Farm.Name</th>\n",
       "      <th>Lot.Number</th>\n",
       "      <th>Mill</th>\n",
       "      <th>ICO.Number</th>\n",
       "      <th>Company</th>\n",
       "      <th>Altitude</th>\n",
       "      <th>Region</th>\n",
       "      <th>Producer</th>\n",
       "      <th>Number.of.Bags</th>\n",
       "      <th>Bag.Weight</th>\n",
       "      <th>In.Country.Partner</th>\n",
       "      <th>Harvest.Year</th>\n",
       "      <th>Grading.Date</th>\n",
       "      <th>Owner.1</th>\n",
       "      <th>Variety</th>\n",
       "      <th>Processing.Method</th>\n",
       "      <th>Aroma</th>\n",
       "      <th>Flavor</th>\n",
       "      <th>Aftertaste</th>\n",
       "      <th>Acidity</th>\n",
       "      <th>Body</th>\n",
       "      <th>Balance</th>\n",
       "      <th>Uniformity</th>\n",
       "      <th>Clean.Cup</th>\n",
       "      <th>Sweetness</th>\n",
       "      <th>Cupper.Points</th>\n",
       "      <th>Total.Cup.Points</th>\n",
       "      <th>Moisture</th>\n",
       "      <th>Category.One.Defects</th>\n",
       "      <th>Quakers</th>\n",
       "      <th>Color</th>\n",
       "      <th>Category.Two.Defects</th>\n",
       "      <th>Expiration</th>\n",
       "      <th>Certification.Body</th>\n",
       "      <th>Certification.Address</th>\n",
       "      <th>Certification.Contact</th>\n",
       "      <th>unit_of_measurement</th>\n",
       "      <th>altitude_low_meters</th>\n",
       "      <th>altitude_high_meters</th>\n",
       "      <th>altitude_mean_meters</th>\n",
       "    </tr>\n",
       "  </thead>\n",
       "  <tbody>\n",
       "    <tr>\n",
       "      <th>0</th>\n",
       "      <td>1</td>\n",
       "      <td>Arabica</td>\n",
       "      <td>metad plc</td>\n",
       "      <td>Ethiopia</td>\n",
       "      <td>metad plc</td>\n",
       "      <td>NaN</td>\n",
       "      <td>metad plc</td>\n",
       "      <td>2014/2015</td>\n",
       "      <td>metad agricultural developmet plc</td>\n",
       "      <td>1950-2200</td>\n",
       "      <td>guji-hambela</td>\n",
       "      <td>METAD PLC</td>\n",
       "      <td>300</td>\n",
       "      <td>60 kg</td>\n",
       "      <td>METAD Agricultural Development plc</td>\n",
       "      <td>2014</td>\n",
       "      <td>April 4th, 2015</td>\n",
       "      <td>metad plc</td>\n",
       "      <td>NaN</td>\n",
       "      <td>Washed / Wet</td>\n",
       "      <td>8.67</td>\n",
       "      <td>8.83</td>\n",
       "      <td>8.67</td>\n",
       "      <td>8.75</td>\n",
       "      <td>8.50</td>\n",
       "      <td>8.42</td>\n",
       "      <td>10.0</td>\n",
       "      <td>10.0</td>\n",
       "      <td>10.0</td>\n",
       "      <td>8.75</td>\n",
       "      <td>90.58</td>\n",
       "      <td>0.12</td>\n",
       "      <td>0</td>\n",
       "      <td>0.0</td>\n",
       "      <td>Green</td>\n",
       "      <td>0</td>\n",
       "      <td>April 3rd, 2016</td>\n",
       "      <td>METAD Agricultural Development plc</td>\n",
       "      <td>309fcf77415a3661ae83e027f7e5f05dad786e44</td>\n",
       "      <td>19fef5a731de2db57d16da10287413f5f99bc2dd</td>\n",
       "      <td>m</td>\n",
       "      <td>1950.0</td>\n",
       "      <td>2200.0</td>\n",
       "      <td>2075.0</td>\n",
       "    </tr>\n",
       "    <tr>\n",
       "      <th>1</th>\n",
       "      <td>2</td>\n",
       "      <td>Arabica</td>\n",
       "      <td>metad plc</td>\n",
       "      <td>Ethiopia</td>\n",
       "      <td>metad plc</td>\n",
       "      <td>NaN</td>\n",
       "      <td>metad plc</td>\n",
       "      <td>2014/2015</td>\n",
       "      <td>metad agricultural developmet plc</td>\n",
       "      <td>1950-2200</td>\n",
       "      <td>guji-hambela</td>\n",
       "      <td>METAD PLC</td>\n",
       "      <td>300</td>\n",
       "      <td>60 kg</td>\n",
       "      <td>METAD Agricultural Development plc</td>\n",
       "      <td>2014</td>\n",
       "      <td>April 4th, 2015</td>\n",
       "      <td>metad plc</td>\n",
       "      <td>Other</td>\n",
       "      <td>Washed / Wet</td>\n",
       "      <td>8.75</td>\n",
       "      <td>8.67</td>\n",
       "      <td>8.50</td>\n",
       "      <td>8.58</td>\n",
       "      <td>8.42</td>\n",
       "      <td>8.42</td>\n",
       "      <td>10.0</td>\n",
       "      <td>10.0</td>\n",
       "      <td>10.0</td>\n",
       "      <td>8.58</td>\n",
       "      <td>89.92</td>\n",
       "      <td>0.12</td>\n",
       "      <td>0</td>\n",
       "      <td>0.0</td>\n",
       "      <td>Green</td>\n",
       "      <td>1</td>\n",
       "      <td>April 3rd, 2016</td>\n",
       "      <td>METAD Agricultural Development plc</td>\n",
       "      <td>309fcf77415a3661ae83e027f7e5f05dad786e44</td>\n",
       "      <td>19fef5a731de2db57d16da10287413f5f99bc2dd</td>\n",
       "      <td>m</td>\n",
       "      <td>1950.0</td>\n",
       "      <td>2200.0</td>\n",
       "      <td>2075.0</td>\n",
       "    </tr>\n",
       "    <tr>\n",
       "      <th>2</th>\n",
       "      <td>3</td>\n",
       "      <td>Arabica</td>\n",
       "      <td>grounds for health admin</td>\n",
       "      <td>Guatemala</td>\n",
       "      <td>san marcos barrancas \"san cristobal cuch</td>\n",
       "      <td>NaN</td>\n",
       "      <td>NaN</td>\n",
       "      <td>NaN</td>\n",
       "      <td>NaN</td>\n",
       "      <td>1600 - 1800 m</td>\n",
       "      <td>NaN</td>\n",
       "      <td>NaN</td>\n",
       "      <td>5</td>\n",
       "      <td>1</td>\n",
       "      <td>Specialty Coffee Association</td>\n",
       "      <td>NaN</td>\n",
       "      <td>May 31st, 2010</td>\n",
       "      <td>Grounds for Health Admin</td>\n",
       "      <td>Bourbon</td>\n",
       "      <td>NaN</td>\n",
       "      <td>8.42</td>\n",
       "      <td>8.50</td>\n",
       "      <td>8.42</td>\n",
       "      <td>8.42</td>\n",
       "      <td>8.33</td>\n",
       "      <td>8.42</td>\n",
       "      <td>10.0</td>\n",
       "      <td>10.0</td>\n",
       "      <td>10.0</td>\n",
       "      <td>9.25</td>\n",
       "      <td>89.75</td>\n",
       "      <td>0.00</td>\n",
       "      <td>0</td>\n",
       "      <td>0.0</td>\n",
       "      <td>NaN</td>\n",
       "      <td>0</td>\n",
       "      <td>May 31st, 2011</td>\n",
       "      <td>Specialty Coffee Association</td>\n",
       "      <td>36d0d00a3724338ba7937c52a378d085f2172daa</td>\n",
       "      <td>0878a7d4b9d35ddbf0fe2ce69a2062cceb45a660</td>\n",
       "      <td>m</td>\n",
       "      <td>1600.0</td>\n",
       "      <td>1800.0</td>\n",
       "      <td>1700.0</td>\n",
       "    </tr>\n",
       "    <tr>\n",
       "      <th>3</th>\n",
       "      <td>4</td>\n",
       "      <td>Arabica</td>\n",
       "      <td>yidnekachew dabessa</td>\n",
       "      <td>Ethiopia</td>\n",
       "      <td>yidnekachew dabessa coffee plantation</td>\n",
       "      <td>NaN</td>\n",
       "      <td>wolensu</td>\n",
       "      <td>NaN</td>\n",
       "      <td>yidnekachew debessa coffee plantation</td>\n",
       "      <td>1800-2200</td>\n",
       "      <td>oromia</td>\n",
       "      <td>Yidnekachew Dabessa Coffee Plantation</td>\n",
       "      <td>320</td>\n",
       "      <td>60 kg</td>\n",
       "      <td>METAD Agricultural Development plc</td>\n",
       "      <td>2014</td>\n",
       "      <td>March 26th, 2015</td>\n",
       "      <td>Yidnekachew Dabessa</td>\n",
       "      <td>NaN</td>\n",
       "      <td>Natural / Dry</td>\n",
       "      <td>8.17</td>\n",
       "      <td>8.58</td>\n",
       "      <td>8.42</td>\n",
       "      <td>8.42</td>\n",
       "      <td>8.50</td>\n",
       "      <td>8.25</td>\n",
       "      <td>10.0</td>\n",
       "      <td>10.0</td>\n",
       "      <td>10.0</td>\n",
       "      <td>8.67</td>\n",
       "      <td>89.00</td>\n",
       "      <td>0.11</td>\n",
       "      <td>0</td>\n",
       "      <td>0.0</td>\n",
       "      <td>Green</td>\n",
       "      <td>2</td>\n",
       "      <td>March 25th, 2016</td>\n",
       "      <td>METAD Agricultural Development plc</td>\n",
       "      <td>309fcf77415a3661ae83e027f7e5f05dad786e44</td>\n",
       "      <td>19fef5a731de2db57d16da10287413f5f99bc2dd</td>\n",
       "      <td>m</td>\n",
       "      <td>1800.0</td>\n",
       "      <td>2200.0</td>\n",
       "      <td>2000.0</td>\n",
       "    </tr>\n",
       "    <tr>\n",
       "      <th>4</th>\n",
       "      <td>5</td>\n",
       "      <td>Arabica</td>\n",
       "      <td>metad plc</td>\n",
       "      <td>Ethiopia</td>\n",
       "      <td>metad plc</td>\n",
       "      <td>NaN</td>\n",
       "      <td>metad plc</td>\n",
       "      <td>2014/2015</td>\n",
       "      <td>metad agricultural developmet plc</td>\n",
       "      <td>1950-2200</td>\n",
       "      <td>guji-hambela</td>\n",
       "      <td>METAD PLC</td>\n",
       "      <td>300</td>\n",
       "      <td>60 kg</td>\n",
       "      <td>METAD Agricultural Development plc</td>\n",
       "      <td>2014</td>\n",
       "      <td>April 4th, 2015</td>\n",
       "      <td>metad plc</td>\n",
       "      <td>Other</td>\n",
       "      <td>Washed / Wet</td>\n",
       "      <td>8.25</td>\n",
       "      <td>8.50</td>\n",
       "      <td>8.25</td>\n",
       "      <td>8.50</td>\n",
       "      <td>8.42</td>\n",
       "      <td>8.33</td>\n",
       "      <td>10.0</td>\n",
       "      <td>10.0</td>\n",
       "      <td>10.0</td>\n",
       "      <td>8.58</td>\n",
       "      <td>88.83</td>\n",
       "      <td>0.12</td>\n",
       "      <td>0</td>\n",
       "      <td>0.0</td>\n",
       "      <td>Green</td>\n",
       "      <td>2</td>\n",
       "      <td>April 3rd, 2016</td>\n",
       "      <td>METAD Agricultural Development plc</td>\n",
       "      <td>309fcf77415a3661ae83e027f7e5f05dad786e44</td>\n",
       "      <td>19fef5a731de2db57d16da10287413f5f99bc2dd</td>\n",
       "      <td>m</td>\n",
       "      <td>1950.0</td>\n",
       "      <td>2200.0</td>\n",
       "      <td>2075.0</td>\n",
       "    </tr>\n",
       "  </tbody>\n",
       "</table>\n",
       "</div>"
      ],
      "text/plain": [
       "   Unnamed: 0  Species                     Owner Country.of.Origin  \\\n",
       "0           1  Arabica                 metad plc          Ethiopia   \n",
       "1           2  Arabica                 metad plc          Ethiopia   \n",
       "2           3  Arabica  grounds for health admin         Guatemala   \n",
       "3           4  Arabica       yidnekachew dabessa          Ethiopia   \n",
       "4           5  Arabica                 metad plc          Ethiopia   \n",
       "\n",
       "                                  Farm.Name Lot.Number       Mill ICO.Number  \\\n",
       "0                                 metad plc        NaN  metad plc  2014/2015   \n",
       "1                                 metad plc        NaN  metad plc  2014/2015   \n",
       "2  san marcos barrancas \"san cristobal cuch        NaN        NaN        NaN   \n",
       "3     yidnekachew dabessa coffee plantation        NaN    wolensu        NaN   \n",
       "4                                 metad plc        NaN  metad plc  2014/2015   \n",
       "\n",
       "                                 Company       Altitude        Region  \\\n",
       "0      metad agricultural developmet plc      1950-2200  guji-hambela   \n",
       "1      metad agricultural developmet plc      1950-2200  guji-hambela   \n",
       "2                                    NaN  1600 - 1800 m           NaN   \n",
       "3  yidnekachew debessa coffee plantation      1800-2200        oromia   \n",
       "4      metad agricultural developmet plc      1950-2200  guji-hambela   \n",
       "\n",
       "                                Producer  Number.of.Bags Bag.Weight  \\\n",
       "0                              METAD PLC             300      60 kg   \n",
       "1                              METAD PLC             300      60 kg   \n",
       "2                                    NaN               5          1   \n",
       "3  Yidnekachew Dabessa Coffee Plantation             320      60 kg   \n",
       "4                              METAD PLC             300      60 kg   \n",
       "\n",
       "                   In.Country.Partner Harvest.Year      Grading.Date  \\\n",
       "0  METAD Agricultural Development plc         2014   April 4th, 2015   \n",
       "1  METAD Agricultural Development plc         2014   April 4th, 2015   \n",
       "2        Specialty Coffee Association          NaN    May 31st, 2010   \n",
       "3  METAD Agricultural Development plc         2014  March 26th, 2015   \n",
       "4  METAD Agricultural Development plc         2014   April 4th, 2015   \n",
       "\n",
       "                    Owner.1  Variety Processing.Method  Aroma  Flavor  \\\n",
       "0                 metad plc      NaN      Washed / Wet   8.67    8.83   \n",
       "1                 metad plc    Other      Washed / Wet   8.75    8.67   \n",
       "2  Grounds for Health Admin  Bourbon               NaN   8.42    8.50   \n",
       "3       Yidnekachew Dabessa      NaN     Natural / Dry   8.17    8.58   \n",
       "4                 metad plc    Other      Washed / Wet   8.25    8.50   \n",
       "\n",
       "   Aftertaste  Acidity  Body  Balance  Uniformity  Clean.Cup  Sweetness  \\\n",
       "0        8.67     8.75  8.50     8.42        10.0       10.0       10.0   \n",
       "1        8.50     8.58  8.42     8.42        10.0       10.0       10.0   \n",
       "2        8.42     8.42  8.33     8.42        10.0       10.0       10.0   \n",
       "3        8.42     8.42  8.50     8.25        10.0       10.0       10.0   \n",
       "4        8.25     8.50  8.42     8.33        10.0       10.0       10.0   \n",
       "\n",
       "   Cupper.Points  Total.Cup.Points  Moisture  Category.One.Defects  Quakers  \\\n",
       "0           8.75             90.58      0.12                     0      0.0   \n",
       "1           8.58             89.92      0.12                     0      0.0   \n",
       "2           9.25             89.75      0.00                     0      0.0   \n",
       "3           8.67             89.00      0.11                     0      0.0   \n",
       "4           8.58             88.83      0.12                     0      0.0   \n",
       "\n",
       "   Color  Category.Two.Defects        Expiration  \\\n",
       "0  Green                     0   April 3rd, 2016   \n",
       "1  Green                     1   April 3rd, 2016   \n",
       "2    NaN                     0    May 31st, 2011   \n",
       "3  Green                     2  March 25th, 2016   \n",
       "4  Green                     2   April 3rd, 2016   \n",
       "\n",
       "                   Certification.Body  \\\n",
       "0  METAD Agricultural Development plc   \n",
       "1  METAD Agricultural Development plc   \n",
       "2        Specialty Coffee Association   \n",
       "3  METAD Agricultural Development plc   \n",
       "4  METAD Agricultural Development plc   \n",
       "\n",
       "                      Certification.Address  \\\n",
       "0  309fcf77415a3661ae83e027f7e5f05dad786e44   \n",
       "1  309fcf77415a3661ae83e027f7e5f05dad786e44   \n",
       "2  36d0d00a3724338ba7937c52a378d085f2172daa   \n",
       "3  309fcf77415a3661ae83e027f7e5f05dad786e44   \n",
       "4  309fcf77415a3661ae83e027f7e5f05dad786e44   \n",
       "\n",
       "                      Certification.Contact unit_of_measurement  \\\n",
       "0  19fef5a731de2db57d16da10287413f5f99bc2dd                   m   \n",
       "1  19fef5a731de2db57d16da10287413f5f99bc2dd                   m   \n",
       "2  0878a7d4b9d35ddbf0fe2ce69a2062cceb45a660                   m   \n",
       "3  19fef5a731de2db57d16da10287413f5f99bc2dd                   m   \n",
       "4  19fef5a731de2db57d16da10287413f5f99bc2dd                   m   \n",
       "\n",
       "   altitude_low_meters  altitude_high_meters  altitude_mean_meters  \n",
       "0               1950.0                2200.0                2075.0  \n",
       "1               1950.0                2200.0                2075.0  \n",
       "2               1600.0                1800.0                1700.0  \n",
       "3               1800.0                2200.0                2000.0  \n",
       "4               1950.0                2200.0                2075.0  "
      ]
     },
     "execution_count": 4,
     "metadata": {},
     "output_type": "execute_result"
    }
   ],
   "source": [
    "df.head()"
   ]
  },
  {
   "cell_type": "code",
   "execution_count": 5,
   "id": "ba6bdf0f",
   "metadata": {},
   "outputs": [
    {
     "data": {
      "text/html": [
       "<div>\n",
       "<style scoped>\n",
       "    .dataframe tbody tr th:only-of-type {\n",
       "        vertical-align: middle;\n",
       "    }\n",
       "\n",
       "    .dataframe tbody tr th {\n",
       "        vertical-align: top;\n",
       "    }\n",
       "\n",
       "    .dataframe thead th {\n",
       "        text-align: right;\n",
       "    }\n",
       "</style>\n",
       "<table border=\"1\" class=\"dataframe\">\n",
       "  <thead>\n",
       "    <tr style=\"text-align: right;\">\n",
       "      <th></th>\n",
       "      <th>count</th>\n",
       "      <th>mean</th>\n",
       "      <th>std</th>\n",
       "      <th>min</th>\n",
       "      <th>25%</th>\n",
       "      <th>50%</th>\n",
       "      <th>75%</th>\n",
       "      <th>max</th>\n",
       "    </tr>\n",
       "  </thead>\n",
       "  <tbody>\n",
       "    <tr>\n",
       "      <th>Unnamed: 0</th>\n",
       "      <td>1311.0</td>\n",
       "      <td>656.000763</td>\n",
       "      <td>378.598733</td>\n",
       "      <td>1.0</td>\n",
       "      <td>328.50</td>\n",
       "      <td>656.00</td>\n",
       "      <td>983.50</td>\n",
       "      <td>1312.00</td>\n",
       "    </tr>\n",
       "    <tr>\n",
       "      <th>Number.of.Bags</th>\n",
       "      <td>1311.0</td>\n",
       "      <td>153.887872</td>\n",
       "      <td>129.733734</td>\n",
       "      <td>0.0</td>\n",
       "      <td>14.50</td>\n",
       "      <td>175.00</td>\n",
       "      <td>275.00</td>\n",
       "      <td>1062.00</td>\n",
       "    </tr>\n",
       "    <tr>\n",
       "      <th>Aroma</th>\n",
       "      <td>1311.0</td>\n",
       "      <td>7.563806</td>\n",
       "      <td>0.378666</td>\n",
       "      <td>0.0</td>\n",
       "      <td>7.42</td>\n",
       "      <td>7.58</td>\n",
       "      <td>7.75</td>\n",
       "      <td>8.75</td>\n",
       "    </tr>\n",
       "    <tr>\n",
       "      <th>Flavor</th>\n",
       "      <td>1311.0</td>\n",
       "      <td>7.518070</td>\n",
       "      <td>0.399979</td>\n",
       "      <td>0.0</td>\n",
       "      <td>7.33</td>\n",
       "      <td>7.58</td>\n",
       "      <td>7.75</td>\n",
       "      <td>8.83</td>\n",
       "    </tr>\n",
       "    <tr>\n",
       "      <th>Aftertaste</th>\n",
       "      <td>1311.0</td>\n",
       "      <td>7.397696</td>\n",
       "      <td>0.405119</td>\n",
       "      <td>0.0</td>\n",
       "      <td>7.25</td>\n",
       "      <td>7.42</td>\n",
       "      <td>7.58</td>\n",
       "      <td>8.67</td>\n",
       "    </tr>\n",
       "    <tr>\n",
       "      <th>Acidity</th>\n",
       "      <td>1311.0</td>\n",
       "      <td>7.533112</td>\n",
       "      <td>0.381599</td>\n",
       "      <td>0.0</td>\n",
       "      <td>7.33</td>\n",
       "      <td>7.50</td>\n",
       "      <td>7.75</td>\n",
       "      <td>8.75</td>\n",
       "    </tr>\n",
       "    <tr>\n",
       "      <th>Body</th>\n",
       "      <td>1311.0</td>\n",
       "      <td>7.517727</td>\n",
       "      <td>0.359213</td>\n",
       "      <td>0.0</td>\n",
       "      <td>7.33</td>\n",
       "      <td>7.50</td>\n",
       "      <td>7.67</td>\n",
       "      <td>8.58</td>\n",
       "    </tr>\n",
       "    <tr>\n",
       "      <th>Balance</th>\n",
       "      <td>1311.0</td>\n",
       "      <td>7.517506</td>\n",
       "      <td>0.406316</td>\n",
       "      <td>0.0</td>\n",
       "      <td>7.33</td>\n",
       "      <td>7.50</td>\n",
       "      <td>7.75</td>\n",
       "      <td>8.75</td>\n",
       "    </tr>\n",
       "    <tr>\n",
       "      <th>Uniformity</th>\n",
       "      <td>1311.0</td>\n",
       "      <td>9.833394</td>\n",
       "      <td>0.559343</td>\n",
       "      <td>0.0</td>\n",
       "      <td>10.00</td>\n",
       "      <td>10.00</td>\n",
       "      <td>10.00</td>\n",
       "      <td>10.00</td>\n",
       "    </tr>\n",
       "    <tr>\n",
       "      <th>Clean.Cup</th>\n",
       "      <td>1311.0</td>\n",
       "      <td>9.833120</td>\n",
       "      <td>0.771350</td>\n",
       "      <td>0.0</td>\n",
       "      <td>10.00</td>\n",
       "      <td>10.00</td>\n",
       "      <td>10.00</td>\n",
       "      <td>10.00</td>\n",
       "    </tr>\n",
       "    <tr>\n",
       "      <th>Sweetness</th>\n",
       "      <td>1311.0</td>\n",
       "      <td>9.903272</td>\n",
       "      <td>0.530832</td>\n",
       "      <td>0.0</td>\n",
       "      <td>10.00</td>\n",
       "      <td>10.00</td>\n",
       "      <td>10.00</td>\n",
       "      <td>10.00</td>\n",
       "    </tr>\n",
       "    <tr>\n",
       "      <th>Cupper.Points</th>\n",
       "      <td>1311.0</td>\n",
       "      <td>7.497864</td>\n",
       "      <td>0.474610</td>\n",
       "      <td>0.0</td>\n",
       "      <td>7.25</td>\n",
       "      <td>7.50</td>\n",
       "      <td>7.75</td>\n",
       "      <td>10.00</td>\n",
       "    </tr>\n",
       "    <tr>\n",
       "      <th>Total.Cup.Points</th>\n",
       "      <td>1311.0</td>\n",
       "      <td>82.115927</td>\n",
       "      <td>3.515761</td>\n",
       "      <td>0.0</td>\n",
       "      <td>81.17</td>\n",
       "      <td>82.50</td>\n",
       "      <td>83.67</td>\n",
       "      <td>90.58</td>\n",
       "    </tr>\n",
       "    <tr>\n",
       "      <th>Moisture</th>\n",
       "      <td>1311.0</td>\n",
       "      <td>0.088863</td>\n",
       "      <td>0.047957</td>\n",
       "      <td>0.0</td>\n",
       "      <td>0.09</td>\n",
       "      <td>0.11</td>\n",
       "      <td>0.12</td>\n",
       "      <td>0.28</td>\n",
       "    </tr>\n",
       "    <tr>\n",
       "      <th>Category.One.Defects</th>\n",
       "      <td>1311.0</td>\n",
       "      <td>0.426392</td>\n",
       "      <td>1.832415</td>\n",
       "      <td>0.0</td>\n",
       "      <td>0.00</td>\n",
       "      <td>0.00</td>\n",
       "      <td>0.00</td>\n",
       "      <td>31.00</td>\n",
       "    </tr>\n",
       "    <tr>\n",
       "      <th>Quakers</th>\n",
       "      <td>1310.0</td>\n",
       "      <td>0.177099</td>\n",
       "      <td>0.840583</td>\n",
       "      <td>0.0</td>\n",
       "      <td>0.00</td>\n",
       "      <td>0.00</td>\n",
       "      <td>0.00</td>\n",
       "      <td>11.00</td>\n",
       "    </tr>\n",
       "    <tr>\n",
       "      <th>Category.Two.Defects</th>\n",
       "      <td>1311.0</td>\n",
       "      <td>3.591915</td>\n",
       "      <td>5.350371</td>\n",
       "      <td>0.0</td>\n",
       "      <td>0.00</td>\n",
       "      <td>2.00</td>\n",
       "      <td>4.00</td>\n",
       "      <td>55.00</td>\n",
       "    </tr>\n",
       "    <tr>\n",
       "      <th>altitude_low_meters</th>\n",
       "      <td>1084.0</td>\n",
       "      <td>1759.548954</td>\n",
       "      <td>8767.847252</td>\n",
       "      <td>1.0</td>\n",
       "      <td>1100.00</td>\n",
       "      <td>1310.64</td>\n",
       "      <td>1600.00</td>\n",
       "      <td>190164.00</td>\n",
       "    </tr>\n",
       "    <tr>\n",
       "      <th>altitude_high_meters</th>\n",
       "      <td>1084.0</td>\n",
       "      <td>1808.843803</td>\n",
       "      <td>8767.187498</td>\n",
       "      <td>1.0</td>\n",
       "      <td>1100.00</td>\n",
       "      <td>1350.00</td>\n",
       "      <td>1650.00</td>\n",
       "      <td>190164.00</td>\n",
       "    </tr>\n",
       "    <tr>\n",
       "      <th>altitude_mean_meters</th>\n",
       "      <td>1084.0</td>\n",
       "      <td>1784.196379</td>\n",
       "      <td>8767.016913</td>\n",
       "      <td>1.0</td>\n",
       "      <td>1100.00</td>\n",
       "      <td>1310.64</td>\n",
       "      <td>1600.00</td>\n",
       "      <td>190164.00</td>\n",
       "    </tr>\n",
       "  </tbody>\n",
       "</table>\n",
       "</div>"
      ],
      "text/plain": [
       "                       count         mean          std  min      25%      50%  \\\n",
       "Unnamed: 0            1311.0   656.000763   378.598733  1.0   328.50   656.00   \n",
       "Number.of.Bags        1311.0   153.887872   129.733734  0.0    14.50   175.00   \n",
       "Aroma                 1311.0     7.563806     0.378666  0.0     7.42     7.58   \n",
       "Flavor                1311.0     7.518070     0.399979  0.0     7.33     7.58   \n",
       "Aftertaste            1311.0     7.397696     0.405119  0.0     7.25     7.42   \n",
       "Acidity               1311.0     7.533112     0.381599  0.0     7.33     7.50   \n",
       "Body                  1311.0     7.517727     0.359213  0.0     7.33     7.50   \n",
       "Balance               1311.0     7.517506     0.406316  0.0     7.33     7.50   \n",
       "Uniformity            1311.0     9.833394     0.559343  0.0    10.00    10.00   \n",
       "Clean.Cup             1311.0     9.833120     0.771350  0.0    10.00    10.00   \n",
       "Sweetness             1311.0     9.903272     0.530832  0.0    10.00    10.00   \n",
       "Cupper.Points         1311.0     7.497864     0.474610  0.0     7.25     7.50   \n",
       "Total.Cup.Points      1311.0    82.115927     3.515761  0.0    81.17    82.50   \n",
       "Moisture              1311.0     0.088863     0.047957  0.0     0.09     0.11   \n",
       "Category.One.Defects  1311.0     0.426392     1.832415  0.0     0.00     0.00   \n",
       "Quakers               1310.0     0.177099     0.840583  0.0     0.00     0.00   \n",
       "Category.Two.Defects  1311.0     3.591915     5.350371  0.0     0.00     2.00   \n",
       "altitude_low_meters   1084.0  1759.548954  8767.847252  1.0  1100.00  1310.64   \n",
       "altitude_high_meters  1084.0  1808.843803  8767.187498  1.0  1100.00  1350.00   \n",
       "altitude_mean_meters  1084.0  1784.196379  8767.016913  1.0  1100.00  1310.64   \n",
       "\n",
       "                          75%        max  \n",
       "Unnamed: 0             983.50    1312.00  \n",
       "Number.of.Bags         275.00    1062.00  \n",
       "Aroma                    7.75       8.75  \n",
       "Flavor                   7.75       8.83  \n",
       "Aftertaste               7.58       8.67  \n",
       "Acidity                  7.75       8.75  \n",
       "Body                     7.67       8.58  \n",
       "Balance                  7.75       8.75  \n",
       "Uniformity              10.00      10.00  \n",
       "Clean.Cup               10.00      10.00  \n",
       "Sweetness               10.00      10.00  \n",
       "Cupper.Points            7.75      10.00  \n",
       "Total.Cup.Points        83.67      90.58  \n",
       "Moisture                 0.12       0.28  \n",
       "Category.One.Defects     0.00      31.00  \n",
       "Quakers                  0.00      11.00  \n",
       "Category.Two.Defects     4.00      55.00  \n",
       "altitude_low_meters   1600.00  190164.00  \n",
       "altitude_high_meters  1650.00  190164.00  \n",
       "altitude_mean_meters  1600.00  190164.00  "
      ]
     },
     "execution_count": 5,
     "metadata": {},
     "output_type": "execute_result"
    }
   ],
   "source": [
    "df.describe().T"
   ]
  },
  {
   "cell_type": "markdown",
   "id": "7a056880",
   "metadata": {},
   "source": [
    "### Distribution - \"altitude_mean_meters\""
   ]
  },
  {
   "cell_type": "code",
   "execution_count": 6,
   "id": "e6cbf76b",
   "metadata": {},
   "outputs": [
    {
     "data": {
      "image/png": "[encoded data removed]",
      "text/plain": [
       "<Figure size 432x288 with 1 Axes>"
      ]
     },
     "metadata": {},
     "output_type": "display_data"
    }
   ],
   "source": [
    "# Graphing distribution\n",
    "sns.set(font_scale = 1)\n",
    "df.altitude_mean_meters.hist()\n",
    "plt.title('Altitude Mean Distribution')\n",
    "plt.show()"
   ]
  },
  {
   "cell_type": "markdown",
   "id": "92e6647d",
   "metadata": {},
   "source": [
    "### Distribution - \"Number.of.Bags\""
   ]
  },
  {
   "cell_type": "code",
   "execution_count": 7,
   "id": "f7b2c5fe",
   "metadata": {},
   "outputs": [
    {
     "data": {
      "image/png": "[encoded data removed]",
      "text/plain": [
       "<Figure size 432x288 with 1 Axes>"
      ]
     },
     "metadata": {},
     "output_type": "display_data"
    }
   ],
   "source": [
    "sns.set(font_scale = 1)\n",
    "df['Number.of.Bags'].hist()\n",
    "plt.title('Number of Bags Distribution')\n",
    "plt.show()"
   ]
  },
  {
   "cell_type": "markdown",
   "id": "8dd84afe",
   "metadata": {},
   "source": [
    "### Distribution - \"Color\""
   ]
  },
  {
   "cell_type": "code",
   "execution_count": 8,
   "id": "f1832eca",
   "metadata": {},
   "outputs": [
    {
     "data": {
      "image/png": "[encoded data removed]",
      "text/plain": [
       "<Figure size 432x288 with 1 Axes>"
      ]
     },
     "metadata": {},
     "output_type": "display_data"
    }
   ],
   "source": [
    "sns.set(font_scale = 1)\n",
    "df['Color'].hist()\n",
    "plt.title('Color Distribution')\n",
    "plt.show()"
   ]
  },
  {
   "cell_type": "markdown",
   "id": "8d47a466",
   "metadata": {},
   "source": [
    "### Data Dictionary"
   ]
  },
  {
   "cell_type": "code",
   "execution_count": 9,
   "id": "1db545ac",
   "metadata": {},
   "outputs": [
    {
     "name": "stdout",
     "output_type": "stream",
     "text": [
      "| Feature               | Datatype               | Description                                 |\n",
      "|:----------------------|:-----------------------|:--------------------------------------------|\n",
      "| Unnamed: 0            | 1311 non-null: int64   | index column                                |\n",
      "| Species               | 1311 non-null: object  | Species of coffee bean (arabica or robusta) |\n",
      "| Owner                 | 1304 non-null: object  | Owner of the farm                           |\n",
      "| Country.of.Origin     | 1310 non-null: object  | Where the bean came from                    |\n",
      "| Farm.Name             | 955 non-null: object   | Name of the farm                            |\n",
      "| Lot.Number            | 270 non-null: object   | Lot number of the beans tested              |\n",
      "| Mill                  | 1001 non-null: object  | Mill where the beans were processed         |\n",
      "| ICO.Number            | 1165 non-null: object  | International Coffee Organization number    |\n",
      "| Company               | 1102 non-null: object  | Company name                                |\n",
      "| Altitude              | 1088 non-null: object  | Altitude                                    |\n",
      "| Region                | 1254 non-null: object  | Region where bean came from                 |\n",
      "| Producer              | 1081 non-null: object  | Producer of the roasted bean                |\n",
      "| Number.of.Bags        | 1311 non-null: int64   | Number of bags tested                       |\n",
      "| Bag.Weight            | 1311 non-null: object  | Bag weight tested                           |\n",
      "| In.Country.Partner    | 1311 non-null: object  | Partner for the country                     |\n",
      "| Harvest.Year          | 1264 non-null: object  | When the beans were harvested (year)        |\n",
      "| Grading.Date          | 1311 non-null: object  | When the beans were graded                  |\n",
      "| Owner.1               | 1304 non-null: object  | Who owns the beans                          |\n",
      "| Variety               | 1110 non-null: object  | Variety of the beans                        |\n",
      "| Processing.Method     | 1159 non-null: object  | character Method for processing             |\n",
      "| Aroma                 | 1311 non-null: float64 | Aroma grade                                 |\n",
      "| Flavor                | 1311 non-null: float64 | Flavor grade                                |\n",
      "| Aftertaste            | 1311 non-null: float64 | Aftertaste grade                            |\n",
      "| Acidity               | 1311 non-null: float64 | Acidity grade                               |\n",
      "| Body                  | 1311 non-null: float64 | Body grade                                  |\n",
      "| Balance               | 1311 non-null: float64 | Balance grade                               |\n",
      "| Uniformity            | 1311 non-null: float64 | Uniformity grade                            |\n",
      "| Clean.Cup             | 1311 non-null: float64 | Clean cup grade                             |\n",
      "| Sweetness             | 1311 non-null: float64 | Sweetness grade                             |\n",
      "| Cupper.Points         | 1311 non-null: float64 | Cupper Points                               |\n",
      "| Total.Cup.Points      | 1311 non-null: float64 | Total rating/points (0 - 100 scale)         |\n",
      "| Moisture              | 1311 non-null: float64 | Moisture Grade                              |\n",
      "| Category.One.Defects  | 1311 non-null: int64   | Category one defects (count)                |\n",
      "| Quakers               | 1310 non-null: float64 | quakers                                     |\n",
      "| Color                 | 1095 non-null: object  | Color of bean                               |\n",
      "| Category.Two.Defects  | 1311 non-null: int64   | Category two defects (count)                |\n",
      "| Expiration            | 1311 non-null: object  | Expiration date of the beans                |\n",
      "| Certification.Body    | 1311 non-null: object  | Who certified it                            |\n",
      "| Certification.Address | 1311 non-null: object  | Certification body address                  |\n",
      "| Certification.Contact | 1311 non-null: object  | Certification contact                       |\n",
      "| unit_of_measurement   | 1311 non-null: object  | Unit of measurement                         |\n",
      "| altitude_low_meters   | 1084 non-null: float64 | Altitude low meters                         |\n",
      "| altitude_high_meters  | 1084 non-null: float64 | Altitude high meters                        |\n",
      "| altitude_mean_meters  | 1084 non-null: float64 | Altitude mean meters                        |\n"
     ]
    }
   ],
   "source": [
    "print(get_data_dictionary(df).to_markdown())"
   ]
  },
  {
   "cell_type": "markdown",
   "id": "957ae2e0",
   "metadata": {},
   "source": [
    "### Target Feature - 'excellent_rating'"
   ]
  },
  {
   "cell_type": "code",
   "execution_count": 68,
   "id": "8b8dbe76",
   "metadata": {},
   "outputs": [],
   "source": [
    "# Target feature was engineered from total.Cup.Points\n",
    "df['excellent_rating'] = np.where(df['Total.Cup.Points'] >= 84, 1, 0)"
   ]
  },
  {
   "cell_type": "code",
   "execution_count": 65,
   "id": "f72d4b4a",
   "metadata": {},
   "outputs": [
    {
     "data": {
      "text/plain": [
       "0    1053\n",
       "1     258\n",
       "Name: excellent_rating, dtype: int64"
      ]
     },
     "execution_count": 65,
     "metadata": {},
     "output_type": "execute_result"
    }
   ],
   "source": [
    "# Looking at the value counts of the target\n",
    "df.excellent_rating.value_counts()"
   ]
  },
  {
   "cell_type": "markdown",
   "id": "49225527",
   "metadata": {},
   "source": [
    "### Target Distribution"
   ]
  },
  {
   "cell_type": "code",
   "execution_count": 67,
   "id": "b4e24079",
   "metadata": {},
   "outputs": [
    {
     "data": {
      "image/png": "[encoded data removed]",
      "text/plain": [
       "<Figure size 432x288 with 1 Axes>"
      ]
     },
     "metadata": {},
     "output_type": "display_data"
    }
   ],
   "source": [
    "# Graphing the Distribution\n",
    "sns.set(font_scale = 1)\n",
    "df.excellent_rating.hist()\n",
    "plt.title(\"Target 'excellent_rating' distribution\")\n",
    "plt.show()"
   ]
  },
  {
   "cell_type": "markdown",
   "id": "b44252c7",
   "metadata": {},
   "source": [
    "### Acquire takeaway\n",
    "    - 1311 total observations\n",
    "    - All coffee observations species are of type arabica"
   ]
  },
  {
   "cell_type": "markdown",
   "id": "555f0011",
   "metadata": {},
   "source": [
    "# Prepare"
   ]
  },
  {
   "cell_type": "markdown",
   "id": "d0abeb06",
   "metadata": {},
   "source": [
    "#### Dropped Columns\n",
    "\n",
    "    These columns got dropped because they didn't offer any value:\n",
    "    \n",
    "    - Unnamed: 0\n",
    "    - Owner\n",
    "    - Farm.Name\n",
    "    - Company\n",
    "    - Expiration\n",
    "    - Lot.Number\n",
    "    - Mill\n",
    "    - Producer\n",
    "    - Certification.Address\n",
    "    - Certification.Contact\n",
    "    - ICO.Number\n",
    "    - Certification.Body\n",
    "    - In.Country.Partner\n",
    "    - Owner.1\n",
    "    - Species\n",
    "    - Altitude\n",
    "    - unit_of_measurement\n",
    "    - altitude_low_meters'\n",
    "    - altitude_high_meters\n",
    "\n",
    "#### Handle Nulls\n",
    "\n",
    "    Dropped any row that was missing a value from the following columns:\n",
    "    \n",
    "    - Altitude\n",
    "    - Region\n",
    "    - Quakers\n",
    "    - Harvest.Year\n",
    "    - Variety\n",
    "    \n",
    "    Used the median value to fill in missing values from the following columns:\n",
    "    \n",
    "    - Color\n",
    "    - Processing.Method\n",
    "\n",
    "\n",
    "#### Convert Data Types\n",
    "\n",
    "    Changed the following columns data types:\n",
    "    \n",
    "    - Bag.Weight -> float\n",
    "    - Grading.Date -> datetime\n",
    "    - Harvest.Year -> int\n",
    "\n",
    "#### Miscellaneous\n",
    "\n",
    "    - In Color I Converted any Bluish-Green value to Blue-Green\n",
    "    - In Bag.Weight converted lbs into kg\n",
    "    - Seperated Grading.Date into three new columns grading_month, grading_year, grading_day\n",
    "    - Used grading_year to fill in where data was given as a range for harvest_year\n",
    "\n",
    "#### Rename\n",
    "\n",
    "    Changed the following columns names to something more conventional:\n",
    "    \n",
    "    - Country.of.Origin -> country\n",
    "    - Region' -> region\n",
    "    - Number.of.Bags -> number_of_bags\n",
    "    - Harvest.Year -> harvest_year\n",
    "    - Grading.Date -> grading_date\n",
    "    - Variety -> variety\n",
    "    - Processing.Method -> processing_method\n",
    "    - Aroma -> aroma\n",
    "    - Flavor -> flavor\n",
    "    - Aftertaste -> aftertaste\n",
    "    - Acidity -> acidity\n",
    "    - Body -> body\n",
    "    - Balance -> balance\n",
    "    - Uniformity -> uniformity\n",
    "    - Clean.Cup -> clean_cup\n",
    "    - Sweetness -> sweetness\n",
    "    - Cupper.Points -> cupper_points\n",
    "    - Total.Cup.Points -> total_cup_points\n",
    "    - Moisture -> moisture\n",
    "    - Category.One.Defects -> category_one_defects\n",
    "    - Quakers -> quakers\n",
    "    - Color -> color\n",
    "    - Category.Two.Defects -> category_two_defects\n",
    "\n",
    "#### Engineered Features\n",
    "\n",
    "    - grading_month = from Grading.Date\n",
    "    - grading_year = from Grading.Date\n",
    "    - grading_day = from Grading.Date\n",
    "    - excellent_rating = from total_cup_points >= 84\n",
    "    - total_bag_weight = number_of_bags * bag_weight\n",
    "    \n",
    "#### Removed Outliers\n",
    "\n",
    "    Dropped any bag weight more than 80 kg\n",
    "    \n",
    "    Removed the following values for processing_methods because the samples were too small:\n",
    "   \n",
    "        - 'Other'\n",
    "        - 'Pulped natural / honey'\n",
    "        \n",
    "    Removed the following values for variety because the samples were too small:\n",
    "        \n",
    "        - Catimor\n",
    "        - SL14\n",
    "        - SL28\n",
    "        - Pacas\n",
    "        - Gesha\n",
    "        - Pacamara\n",
    "        - SL34\n",
    "        - Java\n",
    "        - Ethiopian Yirgacheffe\n",
    "        - Blue Mountain\n",
    "        - Ruiru 11\n",
    "        - Ethiopian Heirlooms\n",
    "        - Sumatra Lintong\n",
    "        - Sumatra\n",
    "        - Pache Comun\n",
    "        - Mandheling\n",
    "        - Marigojipe\n",
    "        - Arusha\n",
    "        - Moka Peaberry\n",
    "        - Peaberry\n",
    "        \n",
    "#### Scaling\n",
    "\n",
    "    Used a MinMaxScaler()\n",
    "    \n",
    "    Columns that got scaled:\n",
    "  \n",
    "        - number_of_bags\n",
    "        - harvest_year\n",
    "        - aroma\n",
    "        - flavor\n",
    "        - aftertaste\n",
    "        - acidity\n",
    "        - body\n",
    "        - balance\n",
    "        - uniformity\n",
    "        - clean_cup\n",
    "        - sweetness\n",
    "        - cupper_points\n",
    "        - moisture\n",
    "        - category_one_defects\n",
    "        - quakers\n",
    "        - category_two_defects\n",
    "        - altitude_mean_meters\n",
    "        - bag_weight\n",
    "        - variety_Bourbon\n",
    "        - variety_Catuai\n",
    "        - variety_Caturra\n",
    "        - variety_Mundo Novo\n",
    "        - variety_Other\n",
    "        - variety_Typica\n",
    "        - variety_Yellow Bourbon\n",
    "        - processing_method_Natural / Dry\n",
    "        - processing_method_Semi-washed / Semi-pulped\n",
    "        - processing_method_Washed / Wet\n",
    "        - color_Green\n",
    "        - grading_month\n",
    "        - grading_year\n",
    "        \n",
    "#### Encode\n",
    "\n",
    "    Created dummy columns for:\n",
    "        - variety\n",
    "        - processing_method\n",
    "        - color\n",
    "        \n",
    "#### Split\n",
    "\n",
    "    Split data into three data frames:\n",
    "    \n",
    "        - train\n",
    "        - validate\n",
    "        - test\n",
    "        \n",
    "    Used a random_state of 5868\n",
    "    Stratified on excellent_rating"
   ]
  },
  {
   "cell_type": "markdown",
   "id": "6b506ed2",
   "metadata": {},
   "source": [
    "### Prepare Takeaway\n",
    "    - All features and observations have no null or empty values.  \n",
    "    - All values have been encoded to numberic values\n",
    "    - test_train_split were stratified on my target feature excellent_rating"
   ]
  },
  {
   "cell_type": "markdown",
   "id": "3767fd4b",
   "metadata": {},
   "source": [
    "# Exploration"
   ]
  },
  {
   "cell_type": "code",
   "execution_count": 69,
   "id": "bd0937ae",
   "metadata": {},
   "outputs": [],
   "source": [
    "# Using wrangle_explore because the values wont be scaled or encoded\n",
    "train, validate, test = wrangle_explore()"
   ]
  },
  {
   "cell_type": "markdown",
   "id": "4506b16a",
   "metadata": {},
   "source": [
    "### Original Hypothesis"
   ]
  },
  {
   "cell_type": "markdown",
   "id": "4876376d",
   "metadata": {},
   "source": [
    "    The altitude_mean_meters and the processing_method are the two most important drivers for coffee rating of 84 or higher."
   ]
  },
  {
   "cell_type": "markdown",
   "id": "439a1856",
   "metadata": {},
   "source": [
    "# Question # 1"
   ]
  },
  {
   "cell_type": "markdown",
   "id": "206ee235",
   "metadata": {},
   "source": [
    "    Is the average elevation for a coffee rated 84 or higher different than coffee whos rating is less than 84?"
   ]
  },
  {
   "cell_type": "markdown",
   "id": "9abf7d52",
   "metadata": {},
   "source": [
    "### Setting up seperate dataframes"
   ]
  },
  {
   "cell_type": "code",
   "execution_count": 11,
   "id": "8e268cf9",
   "metadata": {},
   "outputs": [],
   "source": [
    "# coffee with excellent rating into df_rating\n",
    "df_rating = train[train['excellent_rating'] == 1]\n",
    "\n",
    "\n",
    "# coffee with without excellent rating into df_without\n",
    "df_without = train[train['excellent_rating'] != 1]"
   ]
  },
  {
   "cell_type": "code",
   "execution_count": 12,
   "id": "9786d88b",
   "metadata": {},
   "outputs": [
    {
     "data": {
      "text/plain": [
       "(74, 395)"
      ]
     },
     "execution_count": 12,
     "metadata": {},
     "output_type": "execute_result"
    }
   ],
   "source": [
    "# checking number of values in each\n",
    "len(df_rating), len(df_without)"
   ]
  },
  {
   "cell_type": "markdown",
   "id": "0f6a0e01",
   "metadata": {},
   "source": [
    "### Checking Mean"
   ]
  },
  {
   "cell_type": "code",
   "execution_count": 13,
   "id": "1539241c",
   "metadata": {},
   "outputs": [
    {
     "data": {
      "text/plain": [
       "1523.3793729729728"
      ]
     },
     "execution_count": 13,
     "metadata": {},
     "output_type": "execute_result"
    }
   ],
   "source": [
    "# with excellent rating altitude mean\n",
    "df_rating.altitude_mean_meters.mean()"
   ]
  },
  {
   "cell_type": "code",
   "execution_count": 14,
   "id": "b7f269a5",
   "metadata": {},
   "outputs": [
    {
     "data": {
      "text/plain": [
       "1274.6375777215198"
      ]
     },
     "execution_count": 14,
     "metadata": {},
     "output_type": "execute_result"
    }
   ],
   "source": [
    "# witout excellent rating altitude mean\n",
    "df_without.altitude_mean_meters.mean()"
   ]
  },
  {
   "cell_type": "markdown",
   "id": "e7704eca",
   "metadata": {},
   "source": [
    "### Checking Median"
   ]
  },
  {
   "cell_type": "code",
   "execution_count": 15,
   "id": "c62a289b",
   "metadata": {},
   "outputs": [
    {
     "data": {
      "text/plain": [
       "1500.0"
      ]
     },
     "execution_count": 15,
     "metadata": {},
     "output_type": "execute_result"
    }
   ],
   "source": [
    "# with excellent rating altitude median\n",
    "df_rating.altitude_mean_meters.median()"
   ]
  },
  {
   "cell_type": "code",
   "execution_count": 16,
   "id": "6fdfb872",
   "metadata": {},
   "outputs": [
    {
     "data": {
      "text/plain": [
       "1310.64"
      ]
     },
     "execution_count": 16,
     "metadata": {},
     "output_type": "execute_result"
    }
   ],
   "source": [
    "# witout excellent rating altitude median\n",
    "df_without.altitude_mean_meters.median()"
   ]
  },
  {
   "cell_type": "markdown",
   "id": "2ee5b6e3",
   "metadata": {},
   "source": [
    "### Graph"
   ]
  },
  {
   "cell_type": "code",
   "execution_count": 17,
   "id": "eea057d5",
   "metadata": {},
   "outputs": [
    {
     "data": {
      "image/png": "[encoded data removed]",
      "text/plain": [
       "<Figure size 432x288 with 1 Axes>"
      ]
     },
     "metadata": {},
     "output_type": "display_data"
    }
   ],
   "source": [
    "# Graphing the average altitude by ratings\n",
    "rating = ['84 or Higher', 'Less than 84']\n",
    "rating_mean = [df_rating.altitude_mean_meters.mean(), df_without.altitude_mean_meters.mean()]\n",
    "ax = sns.barplot(rating, rating_mean, color='blue')\n",
    "\n",
    "ax.set_xlabel('Rating',fontsize = 15, )\n",
    "ax.set_ylabel('Altitude',fontsize = 15)\n",
    "ax.set_title('Average Altitude by Ratings', fontsize = 15)\n",
    "sns.set(font_scale = 2)\n",
    "ax.set(xlabel='Rating', ylabel='Altitude')\n",
    "plt.show()"
   ]
  },
  {
   "cell_type": "markdown",
   "id": "03a26e4a",
   "metadata": {},
   "source": [
    "### Question 1 At A Glance\n",
    "\n",
    "    - 84 or higher rated coffee did have a higher altitude_mean_meters mean & median than coffee whos rating was less than 84.  \n",
    "    - The mean and median were not too far off from one another for both rated and without"
   ]
  },
  {
   "cell_type": "markdown",
   "id": "657c31c1",
   "metadata": {},
   "source": [
    "### Hypothesis Test\n",
    "    Running a hypothesis test to make sure the results didn't happen by accident"
   ]
  },
  {
   "cell_type": "markdown",
   "id": "88141661",
   "metadata": {},
   "source": [
    "### Significance Level"
   ]
  },
  {
   "cell_type": "code",
   "execution_count": 18,
   "id": "eee31a16",
   "metadata": {},
   "outputs": [],
   "source": [
    "# A significance level of 0.05 indicates a 5% risk of concluding that a difference exists when there is no actual difference.\n",
    "alpha = .05"
   ]
  },
  {
   "cell_type": "markdown",
   "id": "27e15a18",
   "metadata": {},
   "source": [
    "### Checking Assumptions"
   ]
  },
  {
   "cell_type": "markdown",
   "id": "f250f086",
   "metadata": {},
   "source": [
    "    - Independent\n",
    "    - Normally Distributed\n",
    "    - Equal Variances"
   ]
  },
  {
   "cell_type": "markdown",
   "id": "0a7630a0",
   "metadata": {},
   "source": [
    "### Independent?\n",
    "    Yes, I seperated excellent rated from non excellent rated"
   ]
  },
  {
   "cell_type": "markdown",
   "id": "0b7de5bb",
   "metadata": {},
   "source": [
    "### Normally Distributed?\n",
    "    - 84 or higher rated coffee altitude mean is normally distributed\n",
    "    - Less than 84 rated coffee altitude is kind of normally distributed"
   ]
  },
  {
   "cell_type": "code",
   "execution_count": 19,
   "id": "ff35051b",
   "metadata": {},
   "outputs": [
    {
     "data": {
      "image/png": "[encoded data removed]",
      "text/plain": [
       "<Figure size 432x288 with 1 Axes>"
      ]
     },
     "metadata": {},
     "output_type": "display_data"
    }
   ],
   "source": [
    "# Graphing the altitude mean distribution\n",
    "sns.set(font_scale = 1)\n",
    "df_rating.altitude_mean_meters.hist()\n",
    "plt.title('84+ Altitude Mean Distribution')\n",
    "plt.show()"
   ]
  },
  {
   "cell_type": "code",
   "execution_count": 20,
   "id": "362039f0",
   "metadata": {},
   "outputs": [
    {
     "data": {
      "image/png": "[encoded data removed]",
      "text/plain": [
       "<Figure size 432x288 with 1 Axes>"
      ]
     },
     "metadata": {},
     "output_type": "display_data"
    }
   ],
   "source": [
    "# Graphing the less than 84 rated altitude mean distributioin\n",
    "df_without.altitude_mean_meters.hist()\n",
    "plt.title('Less than 84 Rated Altitude Mean Distribution')\n",
    "plt.show()"
   ]
  },
  {
   "cell_type": "markdown",
   "id": "84f489f1",
   "metadata": {},
   "source": [
    "### Equal Variances?\n",
    "    - The leven test concluded the populations did not have equal variances."
   ]
  },
  {
   "cell_type": "code",
   "execution_count": 21,
   "id": "b7e4b799",
   "metadata": {},
   "outputs": [
    {
     "data": {
      "text/plain": [
       "(0.44033741774588486, 0.507287083624284)"
      ]
     },
     "execution_count": 21,
     "metadata": {},
     "output_type": "execute_result"
    }
   ],
   "source": [
    "# From the scypi stats library, im going to use the levene test to check variance.\n",
    "# It will test the null hypothesis that all input samples are from populations with equal variances.\n",
    "stats, p = levene(df_rating.altitude_mean_meters, df_without.altitude_mean_meters)\n",
    "stats, p"
   ]
  },
  {
   "cell_type": "code",
   "execution_count": 22,
   "id": "49df84b8",
   "metadata": {},
   "outputs": [
    {
     "name": "stdout",
     "output_type": "stream",
     "text": [
      "populations do have equal variances\n"
     ]
    }
   ],
   "source": [
    "# The small p-value suggests that the populations do not have equal variances.\n",
    "if p < alpha:\n",
    "    print(\"populations do not have equal variances\")\n",
    "else:\n",
    "    print(\"populations do have equal variances\")"
   ]
  },
  {
   "cell_type": "markdown",
   "id": "a0048436",
   "metadata": {},
   "source": [
    "### Mann-Whitney's Test\n",
    "    Assumptions were not met.  I will use a Non-Parametric Test."
   ]
  },
  {
   "cell_type": "markdown",
   "id": "a529acfc",
   "metadata": {},
   "source": [
    "### Hypothesis"
   ]
  },
  {
   "cell_type": "markdown",
   "id": "fd87d533",
   "metadata": {},
   "source": [
    "### $H_0$: There is no difference in altitude_mean_meters in 84 or higher rated coffee from less than 84 rated coffee.\n",
    "### $H_a$: There is a difference in altitude_mean_meters in 84 or higher rated coffee from less than 84 rated coffee."
   ]
  },
  {
   "cell_type": "code",
   "execution_count": 23,
   "id": "17366456",
   "metadata": {},
   "outputs": [
    {
     "data": {
      "text/plain": [
       "(10002.0, 8.054287930351236e-06)"
      ]
     },
     "execution_count": 23,
     "metadata": {},
     "output_type": "execute_result"
    }
   ],
   "source": [
    "# From stats library using the mannwhitneyu, returning a stats and p value\n",
    "stat, p = mannwhitneyu(df_rating.altitude_mean_meters, df_without.altitude_mean_meters)\n",
    "stat, p"
   ]
  },
  {
   "cell_type": "code",
   "execution_count": 24,
   "id": "98da6cff",
   "metadata": {},
   "outputs": [
    {
     "name": "stdout",
     "output_type": "stream",
     "text": [
      "Reject Null Hypothesis\n"
     ]
    }
   ],
   "source": [
    "if p < alpha:\n",
    "    print(\"Reject Null Hypothesis\")\n",
    "else:\n",
    "    print(\"Fail to Reject the Null Hypothesis\")"
   ]
  },
  {
   "cell_type": "markdown",
   "id": "40852f0d",
   "metadata": {},
   "source": [
    "### Hypotheis Results\n",
    "    - There is a difference in altitude_mean_meters in 84 or higher rated coffee from less than 84 rated coffee"
   ]
  },
  {
   "cell_type": "markdown",
   "id": "3e9d3dcf",
   "metadata": {},
   "source": [
    "### Question 1 Takeway\n",
    "    - I have a 95% confidence level that there is a difference in altitude between 84 or higher rated and less than 84 rated coffee.  \n",
    "    - 84 or higher rated coffee has a higher mean/median altitude than less than 84 rated coffee\n",
    "    - altitude_mean_meters seems to be a good fit or useful for modeling.  I will include it in my models and see if this is true. "
   ]
  },
  {
   "cell_type": "markdown",
   "id": "312f5ed9",
   "metadata": {},
   "source": [
    "# Question 2"
   ]
  },
  {
   "cell_type": "markdown",
   "id": "9cc2cf20",
   "metadata": {},
   "source": [
    "    Is the average bag_weight for a coffee rated 84 or higher different than the weight of all coffee?"
   ]
  },
  {
   "cell_type": "markdown",
   "id": "69753116",
   "metadata": {},
   "source": [
    "### Setting up seperate dataframes"
   ]
  },
  {
   "cell_type": "code",
   "execution_count": 25,
   "id": "8f16bc93",
   "metadata": {},
   "outputs": [],
   "source": [
    "# df_rating is equal to a coffee rating 84 or higher\n",
    "df_rating = train[train['excellent_rating'] == 1]"
   ]
  },
  {
   "cell_type": "code",
   "execution_count": 26,
   "id": "9786d88b",
   "metadata": {},
   "outputs": [
    {
     "data": {
      "text/plain": [
       "(74, 469)"
      ]
     },
     "execution_count": 26,
     "metadata": {},
     "output_type": "execute_result"
    }
   ],
   "source": [
    "# checking number of values in each\n",
    "len(df_rating), len(train)"
   ]
  },
  {
   "cell_type": "markdown",
   "id": "0f6a0e01",
   "metadata": {},
   "source": [
    "### Checking Mean"
   ]
  },
  {
   "cell_type": "code",
   "execution_count": 27,
   "id": "1539241c",
   "metadata": {},
   "outputs": [
    {
     "data": {
      "text/plain": [
       "40.986486486486484"
      ]
     },
     "execution_count": 27,
     "metadata": {},
     "output_type": "execute_result"
    }
   ],
   "source": [
    "# bag_weight mean for coffee rated 84 or higher \n",
    "df_rating.bag_weight.mean()"
   ]
  },
  {
   "cell_type": "code",
   "execution_count": 28,
   "id": "b7f269a5",
   "metadata": {},
   "outputs": [
    {
     "data": {
      "text/plain": [
       "33.850746268656714"
      ]
     },
     "execution_count": 28,
     "metadata": {},
     "output_type": "execute_result"
    }
   ],
   "source": [
    "# Entire population bag_weight mean\n",
    "train.bag_weight.mean()"
   ]
  },
  {
   "cell_type": "markdown",
   "id": "2ee5b6e3",
   "metadata": {},
   "source": [
    "### Graph"
   ]
  },
  {
   "cell_type": "code",
   "execution_count": 29,
   "id": "eea057d5",
   "metadata": {
    "scrolled": false
   },
   "outputs": [
    {
     "data": {
      "image/png": "[encoded data removed]",
      "text/plain": [
       "<Figure size 432x288 with 1 Axes>"
      ]
     },
     "metadata": {},
     "output_type": "display_data"
    }
   ],
   "source": [
    "# Graphing the Bag Weight Mean vs Population\n",
    "rating = ['Coffee Grade 84 (or Higher)', 'Entire Population']\n",
    "rating_mean = [df_rating.bag_weight.mean(), train.bag_weight.mean()]\n",
    "ax = sns.barplot(rating, rating_mean, color='blue')\n",
    "\n",
    "ax.set_xlabel('',fontsize = 15, )\n",
    "ax.set_ylabel('Bag Weight',fontsize = 15)\n",
    "ax.set_title('Bag Weight Mean(84+) vs Population', fontsize = 15)\n",
    "sns.set(font_scale = 1)\n",
    "ax.set(xlabel='', ylabel='Mean Bag Weight')\n",
    "plt.show()"
   ]
  },
  {
   "cell_type": "code",
   "execution_count": 30,
   "id": "222e35c8",
   "metadata": {},
   "outputs": [
    {
     "data": {
      "image/png": "[encoded data removed]",
      "text/plain": [
       "<Figure size 432x288 with 1 Axes>"
      ]
     },
     "metadata": {},
     "output_type": "display_data"
    }
   ],
   "source": [
    "# Graphing the Bag Weight Median vs Population\n",
    "rating = ['Coffee Grade 84 (or Higher)', 'Entire Population']\n",
    "rating_mean = [df_rating.bag_weight.median(), train.bag_weight.median()]\n",
    "ax = sns.barplot(rating, rating_mean, color='blue')\n",
    "\n",
    "ax.set_xlabel('',fontsize = 15, )\n",
    "ax.set_ylabel('Bag Weight',fontsize = 15)\n",
    "ax.set_title('Bag Weight Median(84+) vs Population', fontsize = 15)\n",
    "sns.set(font_scale = 1)\n",
    "ax.set(xlabel='', ylabel='Median Bag Weight')\n",
    "plt.show()"
   ]
  },
  {
   "cell_type": "markdown",
   "id": "03a26e4a",
   "metadata": {},
   "source": [
    "### Question 2 At A Glance\n",
    "\n",
    "    - 84 or higher rated coffee did have a higher bag_weight mean than the entire population of coffee.  \n",
    "    - The mean were not too far off from one another"
   ]
  },
  {
   "cell_type": "markdown",
   "id": "657c31c1",
   "metadata": {},
   "source": [
    "### Hypothesis Test\n",
    "    Running a hypothesis test to make sure the results didn't happen by accident"
   ]
  },
  {
   "cell_type": "markdown",
   "id": "88141661",
   "metadata": {},
   "source": [
    "### Significance Level"
   ]
  },
  {
   "cell_type": "code",
   "execution_count": 31,
   "id": "eee31a16",
   "metadata": {},
   "outputs": [],
   "source": [
    "# A significance level of 0.05 indicates a 5% risk of concluding that a difference exists when there is no actual difference.\n",
    "alpha = .05"
   ]
  },
  {
   "cell_type": "markdown",
   "id": "27e15a18",
   "metadata": {},
   "source": [
    "### Checking Assumptions"
   ]
  },
  {
   "cell_type": "markdown",
   "id": "f250f086",
   "metadata": {},
   "source": [
    "    - Independent\n",
    "    - Normally Distributed\n",
    "    - Equal Variances"
   ]
  },
  {
   "cell_type": "markdown",
   "id": "0a7630a0",
   "metadata": {},
   "source": [
    "### Independent?\n",
    "    No not independent because the entire population includes 84 or higher graded coffee"
   ]
  },
  {
   "cell_type": "markdown",
   "id": "0b7de5bb",
   "metadata": {},
   "source": [
    "### Normally Distributed?\n",
    "    - 84 or higher rated bag weight is not normally distributed\n",
    "    - Entire population is not normally distributed"
   ]
  },
  {
   "cell_type": "code",
   "execution_count": 32,
   "id": "ff35051b",
   "metadata": {},
   "outputs": [
    {
     "data": {
      "image/png": "[encoded data removed]",
      "text/plain": [
       "<Figure size 432x288 with 1 Axes>"
      ]
     },
     "metadata": {},
     "output_type": "display_data"
    }
   ],
   "source": [
    "# Graphing the Bag Weight Distribution\n",
    "sns.set(font_scale = 1)\n",
    "df_rating.bag_weight.hist()\n",
    "plt.title('84+ Bag Weight Distribution')\n",
    "plt.show()"
   ]
  },
  {
   "cell_type": "code",
   "execution_count": 33,
   "id": "362039f0",
   "metadata": {},
   "outputs": [
    {
     "data": {
      "image/png": "[encoded data removed]",
      "text/plain": [
       "<Figure size 432x288 with 1 Axes>"
      ]
     },
     "metadata": {},
     "output_type": "display_data"
    }
   ],
   "source": [
    "# Graphing population bag weight distribution\n",
    "train.bag_weight.hist()\n",
    "plt.title('Population Bag Weight Distribution')\n",
    "plt.show()"
   ]
  },
  {
   "cell_type": "markdown",
   "id": "84f489f1",
   "metadata": {},
   "source": [
    "### Equal Variances?\n",
    "    - The leven test concluded the populations did not have equal variances."
   ]
  },
  {
   "cell_type": "code",
   "execution_count": 34,
   "id": "b7e4b799",
   "metadata": {},
   "outputs": [
    {
     "data": {
      "text/plain": [
       "(10.16763616986114, 0.0015119628803599763)"
      ]
     },
     "execution_count": 34,
     "metadata": {},
     "output_type": "execute_result"
    }
   ],
   "source": [
    "# From the scypi stats library, im going to use the levene test to check variance.\n",
    "# It will test the null hypothesis that all input samples are from populations with equal variances.\n",
    "stats, p = levene(df_rating.bag_weight, train.bag_weight)\n",
    "stats, p"
   ]
  },
  {
   "cell_type": "code",
   "execution_count": 35,
   "id": "49df84b8",
   "metadata": {},
   "outputs": [
    {
     "name": "stdout",
     "output_type": "stream",
     "text": [
      "populations do not have equal variances\n"
     ]
    }
   ],
   "source": [
    "# The small p-value suggests that the populations do not have equal variances.\n",
    "if p < alpha:\n",
    "    print(\"populations do not have equal variances\")\n",
    "else:\n",
    "    print(\"populations do have equal variances\")"
   ]
  },
  {
   "cell_type": "markdown",
   "id": "a0048436",
   "metadata": {},
   "source": [
    "###  Wilcoxon\n",
    "    Assumptions were not met.  I will use a Non-Parametric Test."
   ]
  },
  {
   "cell_type": "markdown",
   "id": "a529acfc",
   "metadata": {},
   "source": [
    "### Hypothesis"
   ]
  },
  {
   "cell_type": "markdown",
   "id": "77025662",
   "metadata": {},
   "source": [
    "### $H_0$: The average bag_weight of 84 or higher rated coffee is not different than the average of the entire population.\n",
    "### $H_a$: The average bag_weight of 84 or higher rated coffee is different than the average of the entire population."
   ]
  },
  {
   "cell_type": "markdown",
   "id": "86355616",
   "metadata": {},
   "source": [
    "### Hypothesised Median"
   ]
  },
  {
   "cell_type": "code",
   "execution_count": 36,
   "id": "1a120f6e",
   "metadata": {},
   "outputs": [
    {
     "data": {
      "text/plain": [
       "60.0"
      ]
     },
     "execution_count": 36,
     "metadata": {},
     "output_type": "execute_result"
    }
   ],
   "source": [
    "# taking the median of the bag_weight for wilcoxon test\n",
    "hypo_med = df_rating.bag_weight.median()\n",
    "hypo_med"
   ]
  },
  {
   "cell_type": "code",
   "execution_count": 37,
   "id": "99a65ac5",
   "metadata": {},
   "outputs": [
    {
     "data": {
      "text/plain": [
       "(12694.0, 4.0608607540315044e-34)"
      ]
     },
     "execution_count": 37,
     "metadata": {},
     "output_type": "execute_result"
    }
   ],
   "source": [
    "# From stats library using wilcoxon test\n",
    "z, p = wilcoxon(train.bag_weight - hypo_med)\n",
    "z, p"
   ]
  },
  {
   "cell_type": "code",
   "execution_count": 38,
   "id": "e4d32596",
   "metadata": {},
   "outputs": [
    {
     "name": "stdout",
     "output_type": "stream",
     "text": [
      "Reject Null Hypothesis\n"
     ]
    }
   ],
   "source": [
    "if p < alpha:\n",
    "    print(\"Reject Null Hypothesis\")\n",
    "else:\n",
    "    print(\"Fail to Reject the Null Hypothesis\")"
   ]
  },
  {
   "cell_type": "markdown",
   "id": "f79c8ea1",
   "metadata": {},
   "source": [
    "### Hypotheis Results\n",
    "    - The average bag_weight of 84 or higher rated coffee is different than the average of the entire population."
   ]
  },
  {
   "cell_type": "markdown",
   "id": "56df6387",
   "metadata": {},
   "source": [
    "### Question 2 Takeway\n",
    "    - I have a 95% confidence level that there is a difference in bag_weight between 84 or higher rated and the entire population of coffee.\n",
    "    - However thee means were not too far off from one another"
   ]
  },
  {
   "cell_type": "markdown",
   "id": "fd556b5b",
   "metadata": {},
   "source": [
    "# Question 3"
   ]
  },
  {
   "cell_type": "markdown",
   "id": "289a20be",
   "metadata": {},
   "source": [
    "    - Which processing_method has a higher percentage of 84 or higher rated coffee?"
   ]
  },
  {
   "cell_type": "code",
   "execution_count": 39,
   "id": "40faaa7d",
   "metadata": {
    "scrolled": true
   },
   "outputs": [
    {
     "data": {
      "text/plain": [
       "Washed / Wet                 368\n",
       "Natural / Dry                 81\n",
       "Semi-washed / Semi-pulped     20\n",
       "Name: processing_method, dtype: int64"
      ]
     },
     "execution_count": 39,
     "metadata": {},
     "output_type": "execute_result"
    }
   ],
   "source": [
    "# Checking vaule counts of processing_method\n",
    "train.processing_method.value_counts()"
   ]
  },
  {
   "cell_type": "code",
   "execution_count": 41,
   "id": "465c2040",
   "metadata": {},
   "outputs": [
    {
     "data": {
      "image/png": "[encoded data removed]",
      "text/plain": [
       "<Figure size 432x288 with 1 Axes>"
      ]
     },
     "metadata": {},
     "output_type": "display_data"
    }
   ],
   "source": [
    "# Creating a series with percentages of processing method 84 or higher rated coffee by population\n",
    "s = ((df_rating.processing_method.value_counts()/train.processing_method.value_counts())*100).sort_values(ascending = False)\n",
    "\n",
    "# Graphing The Series\n",
    "index_ = list(s.index)\n",
    "index_[0] = 'Washed/Wet'\n",
    "index_[1] =  'Natural/Dry'\n",
    "index_[2] = 'Semi Washed/Pulped'\n",
    "s.index = index_\n",
    "ax = sns.barplot(s.index, s, color='blue')\n",
    "ax.set_title('Percent of Population 84+ by Processing Method', fontsize = 13)\n",
    "sns.set(font_scale = 1.1)\n",
    "ax.set(xlabel='Processing Method', ylabel='Percent')\n",
    "plt.show()"
   ]
  },
  {
   "cell_type": "markdown",
   "id": "9061abe8",
   "metadata": {},
   "source": [
    "### Question 3 Takeway\n",
    "    - Washed/Wet had more 84 or higher rated coffee but not by much\n",
    "    - I was hoping to see a bigger trend in 84 or higher rated coffee\n",
    "    - The three processing process are fairly close.\n",
    "    - I will added them to my model to see if they provide value and document the resutls"
   ]
  },
  {
   "cell_type": "markdown",
   "id": "90552699",
   "metadata": {},
   "source": [
    "# Question 4"
   ]
  },
  {
   "cell_type": "markdown",
   "id": "bc05ccbc",
   "metadata": {},
   "source": [
    "    - Which variety has a higher percentage of 84 or higher rated coffee?"
   ]
  },
  {
   "cell_type": "code",
   "execution_count": 42,
   "id": "32a0cd42",
   "metadata": {},
   "outputs": [
    {
     "data": {
      "image/png": "[encoded data removed]",
      "text/plain": [
       "<Figure size 432x288 with 1 Axes>"
      ]
     },
     "metadata": {},
     "output_type": "display_data"
    }
   ],
   "source": [
    "# Creating a series with percentages of Variety 84 or higher rated coffee by population\n",
    "s = ((df_rating.variety.value_counts()/train.variety.value_counts())*100).sort_values(ascending = False)\n",
    "index_ = list(s.index)\n",
    "index_[3] = 'Mundo N.'\n",
    "index_[6] = 'Yellow B.'\n",
    "s.index = index_\n",
    "\n",
    "ax = sns.barplot(s.index, s, color='blue')\n",
    "ax.set_title('Percent of Population 84+ by Variety', fontsize = 13)\n",
    "sns.set(font_scale = 1)\n",
    "ax.set(xlabel='Variety', ylabel='Percent')\n",
    "plt.show()"
   ]
  },
  {
   "cell_type": "markdown",
   "id": "107ffb75",
   "metadata": {},
   "source": [
    "### Question 4 Takeway\n",
    "    - 'Other' had more 84 or higher rated coffee than any other variety\n",
    "    - There was a lot of variance in the variety percentage 84 or higher by total population\n",
    "    - 'variety' seems like a good feature to use in modeling.  I will use it and document the results"
   ]
  },
  {
   "cell_type": "markdown",
   "id": "4d41cc37",
   "metadata": {},
   "source": [
    "# Question 5"
   ]
  },
  {
   "cell_type": "markdown",
   "id": "d4470fa9",
   "metadata": {},
   "source": [
    "    - Which harvest year had a higher percentage of 84 or higher rated coffee?"
   ]
  },
  {
   "cell_type": "code",
   "execution_count": 43,
   "id": "01e300e2",
   "metadata": {},
   "outputs": [
    {
     "data": {
      "image/png": "[encoded data removed]",
      "text/plain": [
       "<Figure size 432x288 with 1 Axes>"
      ]
     },
     "metadata": {},
     "output_type": "display_data"
    }
   ],
   "source": [
    "# Creating a series with percentages of harvest year 84 or higher rated coffee by population\n",
    "s = ((df_rating.harvest_year.value_counts(ascending=True)/train.harvest_year.value_counts(ascending=True))*100).sort_values()\n",
    "\n",
    "# Graphing the series\n",
    "ax = sns.barplot(s.index, s, color='blue')\n",
    "ax.set_title('Percent of Population 84+ by Harvest Year', fontsize = 13)\n",
    "sns.set(font_scale = 1)\n",
    "ax.set(xlabel='Year', ylabel='Total')\n",
    "plt.show()"
   ]
  },
  {
   "cell_type": "markdown",
   "id": "1aeb03c3",
   "metadata": {},
   "source": [
    "### Question 5 Takeway\n",
    "\n",
    "    - There were only a few values for the year 2010 & 2011. Although those years seem like they did well, they are really outliers.\n",
    "    - Also keep in mind I filled in missing values for harvest year as the median so this feature might not be the best for modeling.\n",
    "    - If time allows I will try and see how it does in my model, as it is, and document the results.\n",
    "    - If time allows I will also remove outliers to see if its boosts model performance and document the results."
   ]
  },
  {
   "cell_type": "markdown",
   "id": "d96e01d5",
   "metadata": {},
   "source": [
    "# Question 6"
   ]
  },
  {
   "cell_type": "markdown",
   "id": "89fa2acc",
   "metadata": {},
   "source": [
    "    - Which grading year had a higher percentage of 84 or higher rated coffee?"
   ]
  },
  {
   "cell_type": "code",
   "execution_count": 44,
   "id": "46b55623",
   "metadata": {},
   "outputs": [
    {
     "data": {
      "image/png": "[encoded data removed]",
      "text/plain": [
       "<Figure size 432x288 with 1 Axes>"
      ]
     },
     "metadata": {},
     "output_type": "display_data"
    }
   ],
   "source": [
    "# Creating a series with percentages of graded year 84 or higher rated coffee by population\n",
    "s = (df_rating.grading_year.value_counts()/train.grading_year.value_counts()*100).sort_values()\n",
    "\n",
    "# Graphing the series\n",
    "ax = sns.barplot(s.index, s, color='blue')\n",
    "ax.set_title('Percent of Population 84+ by Graded Year', fontsize = 13)\n",
    "sns.set(font_scale = 1)\n",
    "ax.set(xlabel='Year', ylabel='Total')\n",
    "plt.show()"
   ]
  },
  {
   "cell_type": "markdown",
   "id": "e6c7378b",
   "metadata": {},
   "source": [
    "### Question 6 Takeway\n",
    "    - The grading year of 2011 was the greatest year for 84 or higher rated coffee.\n",
    "    - This feature was more dependable than harvest year because zero values were missing\n",
    "    - This features seems useful to try and use in my model\n",
    "    - I will add it and document the results"
   ]
  },
  {
   "cell_type": "markdown",
   "id": "999622c3",
   "metadata": {},
   "source": [
    "# Question 7"
   ]
  },
  {
   "cell_type": "markdown",
   "id": "d8fa7eea",
   "metadata": {},
   "source": [
    "    - Which grading month had a higher percentage of 84 or higher rated coffee?"
   ]
  },
  {
   "cell_type": "code",
   "execution_count": 45,
   "id": "1a4e3ac5",
   "metadata": {},
   "outputs": [
    {
     "data": {
      "image/png": "[encoded data removed]",
      "text/plain": [
       "<Figure size 432x288 with 1 Axes>"
      ]
     },
     "metadata": {},
     "output_type": "display_data"
    }
   ],
   "source": [
    "# Creating a series with percentages of graded year 84 or higher rated coffee by population\n",
    "s = (df_rating.grading_month.value_counts()/train.grading_month.value_counts()*100).sort_values()\n",
    "\n",
    "# Graphing the series\n",
    "ax = sns.barplot(s.index, s, color='blue')\n",
    "ax.set_title('Percent of Population 84+ by Graded Month', fontsize = 13)\n",
    "sns.set(font_scale = 1)\n",
    "ax.set(xlabel='Month', ylabel='Total')\n",
    "plt.show()"
   ]
  },
  {
   "cell_type": "markdown",
   "id": "e3e6fe4b",
   "metadata": {},
   "source": [
    "### Question 7 Takeway\n",
    "    - The \"grading_month\" of Decemeber was the greatest month for 84 or higher rated coffee.\n",
    "    - This features seems useful to try and use in my model\n",
    "    - I will add it and document the results"
   ]
  },
  {
   "cell_type": "markdown",
   "id": "bf35a940",
   "metadata": {},
   "source": [
    "# Exploration Take Away"
   ]
  },
  {
   "cell_type": "markdown",
   "id": "d363fcb7",
   "metadata": {},
   "source": [
    "### Features I am predicting to do reasonably well in my model.  \n",
    "    'altitude'\n",
    "    'bag_weight'\n",
    "    'processing_method'\n",
    "    'variety'\n",
    "    'harvest_year'\n",
    "    'graded_year'\n",
    "    'graded_month'\n"
   ]
  },
  {
   "cell_type": "markdown",
   "id": "8139852e",
   "metadata": {},
   "source": [
    "# Modeling"
   ]
  },
  {
   "cell_type": "code",
   "execution_count": 70,
   "id": "3d5dc934",
   "metadata": {},
   "outputs": [],
   "source": [
    "# Using just wrangle() so that the values will be scaled and encoded\n",
    "train, validate, test = wrangle()"
   ]
  },
  {
   "cell_type": "markdown",
   "id": "6e2c0ebd",
   "metadata": {},
   "source": [
    "### Threshold allocation"
   ]
  },
  {
   "cell_type": "code",
   "execution_count": 47,
   "id": "bcc73cb5",
   "metadata": {},
   "outputs": [],
   "source": [
    "# .05 is the maximum amout im willing my train and validate accuracy to be away from one another.\n",
    "threshold = .05"
   ]
  },
  {
   "cell_type": "markdown",
   "id": "58af5960",
   "metadata": {},
   "source": [
    "# Baseline"
   ]
  },
  {
   "cell_type": "code",
   "execution_count": 48,
   "id": "f07435b9",
   "metadata": {},
   "outputs": [
    {
     "data": {
      "text/plain": [
       "0    395\n",
       "1     74\n",
       "Name: excellent_rating, dtype: int64"
      ]
     },
     "execution_count": 48,
     "metadata": {},
     "output_type": "execute_result"
    }
   ],
   "source": [
    "# Which Value is common fr\n",
    "train.excellent_rating.value_counts()"
   ]
  },
  {
   "cell_type": "code",
   "execution_count": 49,
   "id": "74d0b7b3",
   "metadata": {},
   "outputs": [
    {
     "name": "stdout",
     "output_type": "stream",
     "text": [
      "Baseline Accuracy is: 84.2%\n"
     ]
    }
   ],
   "source": [
    "baseline_accuracy = (train.excellent_rating == 0).mean()\n",
    "print(f\"Baseline Accuracy is: {round(baseline_accuracy, 3)*100}%\")"
   ]
  },
  {
   "cell_type": "markdown",
   "id": "ae6a1ed4",
   "metadata": {},
   "source": [
    "# Decision Tree Classifier"
   ]
  },
  {
   "cell_type": "markdown",
   "id": "ebfc2467",
   "metadata": {},
   "source": [
    "## Removing any feature directly involved in the scoring of each coffee"
   ]
  },
  {
   "cell_type": "code",
   "execution_count": 50,
   "id": "6a0f44a8",
   "metadata": {},
   "outputs": [],
   "source": [
    "# features is grabbing all the columns from train\n",
    "features = list(train.columns)\n",
    "\n",
    "# Removing target from features\n",
    "features.remove('excellent_rating')\n",
    "\n",
    "# Removing any feature directly involved in the scoring of each coffee\n",
    "features.remove('aroma_scaled')\n",
    "features.remove('flavor_scaled')\n",
    "features.remove('aftertaste_scaled')\n",
    "features.remove('acidity_scaled')\n",
    "features.remove('body_scaled')\n",
    "features.remove('balance_scaled')\n",
    "features.remove('uniformity_scaled')\n",
    "features.remove('clean_cup_scaled')\n",
    "features.remove('sweetness_scaled')\n",
    "features.remove('cupper_points_scaled')\n",
    "features.remove('moisture_scaled')\n",
    "features.remove('category_one_defects_scaled')\n",
    "features.remove('quakers_scaled')\n",
    "features.remove('category_two_defects_scaled')\n",
    "\n",
    "# Setting up X_train\n",
    "X_train = train[features]\n",
    "X_validate = validate[features]\n",
    "X_test = test[features]\n",
    "\n",
    "# Setting up y_train\n",
    "y_train = train['excellent_rating']\n",
    "y_validate = validate['excellent_rating']\n",
    "y_test = test['excellent_rating']"
   ]
  },
  {
   "cell_type": "code",
   "execution_count": 51,
   "id": "cc4d07a9",
   "metadata": {},
   "outputs": [
    {
     "name": "stdout",
     "output_type": "stream",
     "text": [
      "Accuracy of Decision Tree classifier on training set: 0.855\n",
      "Accuracy of Decision Tree classifier on validate set: 0.841\n",
      "Passes Treshold Allocation: True\n"
     ]
    }
   ],
   "source": [
    "# Make the model\n",
    "clf = DecisionTreeClassifier(max_depth=2, random_state=123)\n",
    "\n",
    "# Fit the model\n",
    "clf = clf.fit(X_train, y_train)\n",
    "\n",
    "# Train\n",
    "y_pred = clf.predict(X_train)\n",
    "train_accuracy = clf.score(X_train, y_train)\n",
    "\n",
    "# Validate\n",
    "\n",
    "y_pred = clf.predict(X_validate)\n",
    "validate_accuracy = clf.score(X_validate, y_validate)\n",
    "\n",
    "\n",
    "print('Accuracy of Decision Tree classifier on training set: {:.3f}'\n",
    "      .format(clf.score(X_train, y_train)))\n",
    "print('Accuracy of Decision Tree classifier on validate set: {:.3f}'\n",
    "      .format(clf.score(X_validate, y_validate)))\n",
    "print(f\"Passes Treshold Allocation: {threshold > round(abs(train_accuracy-validate_accuracy), 3)}\")"
   ]
  },
  {
   "cell_type": "markdown",
   "id": "ca81ab74",
   "metadata": {},
   "source": [
    "### Decision Tree with all features minus scoring takeaways\n",
    "    - Altitude was top feature\n",
    "    - Did not beat baseline\n",
    "    - Best Depth 2 @ .841 accuracy on validate"
   ]
  },
  {
   "cell_type": "markdown",
   "id": "f5047ef3",
   "metadata": {},
   "source": [
    "# KNN"
   ]
  },
  {
   "cell_type": "code",
   "execution_count": 52,
   "id": "2e094c86",
   "metadata": {},
   "outputs": [],
   "source": [
    "# Using only the features I explored in my exploration\n",
    "features = ['variety_Bourbon_scaled',\n",
    "    'variety_Catuai_scaled',\n",
    "    'variety_Caturra_scaled',\n",
    "    'variety_Mundo Novo_scaled',\n",
    "    'variety_Other_scaled',\n",
    "    'variety_Typica_scaled',\n",
    "    'variety_Yellow Bourbon_scaled',\n",
    "    'processing_method_Natural / Dry_scaled',\n",
    "    'processing_method_Semi-washed / Semi-pulped_scaled',\n",
    "    'processing_method_Washed / Wet_scaled',\n",
    "    'altitude_mean_meters_scaled',\n",
    "    'grading_month_scaled',\n",
    "    'grading_year_scaled',\n",
    "    'bag_weight_scaled']\n",
    "\n",
    "# Setting up X_train\n",
    "X_train = train[features]\n",
    "X_validate = validate[features]\n",
    "X_test = test[features]\n",
    "\n",
    "# Setting up y_train\n",
    "y_train = train['excellent_rating']\n",
    "y_validate = validate['excellent_rating']\n",
    "y_test = test['excellent_rating']"
   ]
  },
  {
   "cell_type": "code",
   "execution_count": 53,
   "id": "5d3fe522",
   "metadata": {},
   "outputs": [
    {
     "name": "stdout",
     "output_type": "stream",
     "text": [
      "Accuracy of K Neighbors classifier on training set: 0.84\n",
      "Accuracy of K Neighbors classifier on validate set: 0.841\n",
      "Passes Treshold Allocation: True\n"
     ]
    }
   ],
   "source": [
    "# Make the model\n",
    "knn = KNeighborsClassifier(n_neighbors=9, weights='uniform')\n",
    "\n",
    "# Fit the model\n",
    "knn.fit(X_train, y_train)\n",
    "\n",
    "# Train\n",
    "y_pred = knn.predict(X_train)\n",
    "train_accuracy = knn.score(X_train, y_train)\n",
    "\n",
    "# Validate\n",
    "y_pred = knn.predict(X_validate)\n",
    "validate_accuracy = knn.score(X_validate, y_validate)\n",
    "\n",
    "print('Accuracy of K Neighbors classifier on training set: {:.2f}'\n",
    "     .format(knn.score(X_train, y_train)))\n",
    "print('Accuracy of K Neighbors classifier on validate set: {:.3f}'\n",
    "      .format(knn.score(X_validate, y_validate)))\n",
    "print(f\"Passes Treshold Allocation: {threshold > round(abs(train_accuracy-validate_accuracy), 3)}\")"
   ]
  },
  {
   "cell_type": "markdown",
   "id": "0fde2705",
   "metadata": {},
   "source": [
    "### KNN with all features from exploration\n",
    "    - Did not beat baseline\n",
    "    - Best Model at n_neighbors = 9 @ .841 accuracy on validate"
   ]
  },
  {
   "cell_type": "markdown",
   "id": "b8a9e7c2",
   "metadata": {},
   "source": [
    "# Random Forest Classifier"
   ]
  },
  {
   "cell_type": "code",
   "execution_count": 54,
   "id": "99e82385",
   "metadata": {},
   "outputs": [],
   "source": [
    "# Ran many Random Foret Classifiers in my modeling juypter notebook, these features were the best results \n",
    "features = ['altitude_mean_meters_scaled',\n",
    "            'grading_month_scaled',\n",
    "            'number_of_bags_scaled',\n",
    "            'harvest_year_scaled',\n",
    "            'bag_weight_scaled']\n",
    "\n",
    "# Setting up X_train\n",
    "X_train = train[features]\n",
    "X_validate = validate[features]\n",
    "X_test = test[features]\n",
    "\n",
    "# Setting up y_train\n",
    "y_train = train['excellent_rating']\n",
    "y_validate = validate['excellent_rating']\n",
    "y_test = test['excellent_rating']"
   ]
  },
  {
   "cell_type": "code",
   "execution_count": 55,
   "id": "a820b1c0",
   "metadata": {},
   "outputs": [
    {
     "name": "stdout",
     "output_type": "stream",
     "text": [
      "Accuracy of random forest classifier on training set: 0.87\n",
      "Accuracy of random forest classifier on validate set: 0.861\n",
      "Passes Treshold Allocation: True\n"
     ]
    }
   ],
   "source": [
    "# Make the model\n",
    "rf = RandomForestClassifier(bootstrap=True, \n",
    "                            class_weight=None, \n",
    "                            criterion='gini',\n",
    "                            min_samples_leaf=2,\n",
    "                            n_estimators=100,\n",
    "                            max_depth=5, \n",
    "                            random_state=123)\n",
    "\n",
    "# Fit the model\n",
    "rf.fit(X_train, y_train)\n",
    "\n",
    "# Train\n",
    "y_pred = rf.predict(X_train)\n",
    "train_accuracy = rf.score(X_train, y_train)\n",
    "\n",
    "# Validate\n",
    "y_pred = rf.predict(X_validate)\n",
    "validate_accuracy = rf.score(X_validate, y_validate)\n",
    "\n",
    "print('Accuracy of random forest classifier on training set: {:.2f}'\n",
    "     .format(rf.score(X_train, y_train)))\n",
    "print('Accuracy of random forest classifier on validate set: {:.3f}'\n",
    "      .format(rf.score(X_validate, y_validate)))\n",
    "print(f\"Passes Treshold Allocation: {threshold > round(abs(train_accuracy-validate_accuracy), 3)}\")"
   ]
  },
  {
   "cell_type": "markdown",
   "id": "a25329a3",
   "metadata": {},
   "source": [
    "### Random Forest Classifier Takeaway\n",
    "    - Best Validate Model at .861 accuracy on validate\n",
    "    - Hyperparameters used leaf=2, depth =5"
   ]
  },
  {
   "cell_type": "markdown",
   "id": "0815e04b",
   "metadata": {},
   "source": [
    "# Best Model\n",
    "    - Random Forest Classifier Takeaway\n",
    "    - Best Validate Model at .861 accuracy on validate\n",
    "    - Hyperparameters used leaf=2, depth =5\n",
    "    - Features used\n",
    "        - 'altitude_mean_meters_scaled',\n",
    "        - 'grading_month_scaled',\n",
    "        - 'number_of_bags_scaled',\n",
    "        - 'harvest_year_scaled'\n",
    "        - 'bag_weight_scaled'\n",
    "    - To see the results of many more models refer to my modeling juypter notebook"
   ]
  },
  {
   "cell_type": "markdown",
   "id": "e4da2193",
   "metadata": {},
   "source": [
    "# Running Test"
   ]
  },
  {
   "cell_type": "code",
   "execution_count": 56,
   "id": "7a86f6c0",
   "metadata": {},
   "outputs": [],
   "source": [
    "# Same features as my best Model\n",
    "features = ['altitude_mean_meters_scaled',\n",
    "            'grading_month_scaled',\n",
    "            'number_of_bags_scaled',\n",
    "            'harvest_year_scaled',\n",
    "            'bag_weight_scaled']\n",
    "\n",
    "# Setting up X_train\n",
    "X_train = train[features]\n",
    "X_validate = validate[features]\n",
    "X_test = test[features]\n",
    "\n",
    "# Setting up y_train\n",
    "y_train = train['excellent_rating']\n",
    "y_validate = validate['excellent_rating']\n",
    "y_test = test['excellent_rating']"
   ]
  },
  {
   "cell_type": "code",
   "execution_count": 57,
   "id": "757e22b4",
   "metadata": {},
   "outputs": [
    {
     "name": "stdout",
     "output_type": "stream",
     "text": [
      "Accuracy of Random Forest classifier on training set: 0.874\n",
      "Accuracy of Random Forest classifier on validate set: 0.861\n",
      "Accuracy of Random Forest classifier on test set: 0.851\n"
     ]
    }
   ],
   "source": [
    "# Make the model\n",
    "rf = RandomForestClassifier(bootstrap=True, \n",
    "                            class_weight=None, \n",
    "                            criterion='gini',\n",
    "                            min_samples_leaf=2,\n",
    "                            n_estimators=100,\n",
    "                            max_depth=5, \n",
    "                            random_state=123)\n",
    "\n",
    "# Fit the model\n",
    "rf.fit(X_train, y_train)\n",
    "\n",
    "# Train\n",
    "y_pred = rf.predict(X_train)\n",
    "train_accuracy = rf.score(X_train, y_train)\n",
    "\n",
    "# Validate\n",
    "y_pred = rf.predict(X_validate)\n",
    "validate_accuracy = rf.score(X_validate, y_validate)\n",
    "\n",
    "# Test\n",
    "y_pred = rf.predict(X_test)\n",
    "test_accuracy = rf.score(X_test, y_test)\n",
    "\n",
    "print('Accuracy of Random Forest classifier on training set: {:.3f}'\n",
    "      .format(rf.score(X_train, y_train)))\n",
    "print('Accuracy of Random Forest classifier on validate set: {:.3f}'\n",
    "      .format(rf.score(X_validate, y_validate)))\n",
    "print('Accuracy of Random Forest classifier on test set: {:.3f}'\n",
    "      .format(rf.score(X_test, y_test)))"
   ]
  },
  {
   "cell_type": "markdown",
   "id": "d5432a8a",
   "metadata": {},
   "source": [
    "# Test Takeaways\n",
    "    - Tested my model using unseen data\n",
    "    - Beat my baseline model.\n",
    "    - Test accuracy was slightly lower than train and validate.\n",
    "    - Final test confirms only half of my orginal hypothesis was correct, alttitude was a driver but processing_method was not"
   ]
  },
  {
   "cell_type": "markdown",
   "id": "26239b40",
   "metadata": {},
   "source": [
    "- Things to do\n",
    "    - Paste my plan over from my notes\n",
    "    - include data aquistion\n",
    "    - orginaly hypothesis paste over\n",
    "    - include outlier and scaling documentation\n",
    "    - finish Executive Summary\n",
    "    - add more comments where needed\n",
    "    - check docustring for functions\n",
    "- READ me\n",
    "    - remove any functions not used\n",
    "- Data Dictionary\n",
    "- csv file\n",
    "- Copy to a new document so the error goes away "
   ]
  },
  {
   "cell_type": "code",
   "execution_count": null,
   "id": "0b527963",
   "metadata": {},
   "outputs": [],
   "source": []
  }
 ],
 "metadata": {
  "kernelspec": {
   "display_name": "Python 3",
   "language": "python",
   "name": "python3"
  },
  "language_info": {
   "codemirror_mode": {
    "name": "ipython",
    "version": 3
   },
   "file_extension": ".py",
   "mimetype": "text/x-python",
   "name": "python",
   "nbconvert_exporter": "python",
   "pygments_lexer": "ipython3",
   "version": "3.8.8"
  }
 },
 "nbformat": 4,
 "nbformat_minor": 5
}
