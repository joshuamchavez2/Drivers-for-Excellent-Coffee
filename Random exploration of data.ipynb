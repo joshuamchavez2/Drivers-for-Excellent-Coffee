{
 "cells": [
  {
   "cell_type": "code",
   "execution_count": 61,
   "id": "1d4eb4c0",
   "metadata": {},
   "outputs": [],
   "source": [
    "import pandas as pd\n",
    "import numpy as np\n",
    "import seaborn as sns\n",
    "import matplotlib.pyplot as plt\n",
    "from wrangle import wrangle, wrangle_explore\n",
    "from sklearn.model_selection import train_test_split\n",
    "\n",
    "# Stats\n",
    "from scipy.stats import mannwhitneyu, wilcoxon\n",
    "from scipy.stats import levene\n",
    "\n",
    "# Viewing Options\n",
    "pd.set_option(\"display.max_rows\", None, \"display.max_columns\", None) \n",
    "\n",
    "pd.reset_option(\"display.max_rows\", \"display.max_columns\")\n",
    "import warnings\n",
    "warnings.filterwarnings(\"ignore\")"
   ]
  },
  {
   "cell_type": "markdown",
   "id": "174df5fa",
   "metadata": {},
   "source": [
    "# Random exploration of data"
   ]
  },
  {
   "cell_type": "code",
   "execution_count": 2,
   "id": "bf30ca58",
   "metadata": {},
   "outputs": [],
   "source": [
    "train, validate, test = wrangle_explore()"
   ]
  },
  {
   "cell_type": "code",
   "execution_count": null,
   "id": "a69a2483",
   "metadata": {},
   "outputs": [],
   "source": []
  },
  {
   "cell_type": "code",
   "execution_count": 3,
   "id": "ca0cf773",
   "metadata": {},
   "outputs": [
    {
     "data": {
      "text/html": [
       "<div>\n",
       "<style scoped>\n",
       "    .dataframe tbody tr th:only-of-type {\n",
       "        vertical-align: middle;\n",
       "    }\n",
       "\n",
       "    .dataframe tbody tr th {\n",
       "        vertical-align: top;\n",
       "    }\n",
       "\n",
       "    .dataframe thead th {\n",
       "        text-align: right;\n",
       "    }\n",
       "</style>\n",
       "<table border=\"1\" class=\"dataframe\">\n",
       "  <thead>\n",
       "    <tr style=\"text-align: right;\">\n",
       "      <th></th>\n",
       "      <th>country</th>\n",
       "      <th>region</th>\n",
       "      <th>number_of_bags</th>\n",
       "      <th>harvest_year</th>\n",
       "      <th>grading_date</th>\n",
       "      <th>variety</th>\n",
       "      <th>processing_method</th>\n",
       "      <th>aroma</th>\n",
       "      <th>flavor</th>\n",
       "      <th>aftertaste</th>\n",
       "      <th>acidity</th>\n",
       "      <th>body</th>\n",
       "      <th>balance</th>\n",
       "      <th>uniformity</th>\n",
       "      <th>clean_cup</th>\n",
       "      <th>sweetness</th>\n",
       "      <th>cupper_points</th>\n",
       "      <th>total_cup_points</th>\n",
       "      <th>moisture</th>\n",
       "      <th>category_one_defects</th>\n",
       "      <th>quakers</th>\n",
       "      <th>color</th>\n",
       "      <th>category_two_defects</th>\n",
       "      <th>altitude_mean_meters</th>\n",
       "      <th>bag_weight</th>\n",
       "      <th>grading_month</th>\n",
       "      <th>grading_year</th>\n",
       "      <th>grading_day</th>\n",
       "      <th>excellent_rating</th>\n",
       "    </tr>\n",
       "  </thead>\n",
       "  <tbody>\n",
       "    <tr>\n",
       "      <th>806</th>\n",
       "      <td>Taiwan</td>\n",
       "      <td>dongshan dist., tainan city 臺南市東山區</td>\n",
       "      <td>30</td>\n",
       "      <td>2012</td>\n",
       "      <td>2013-06-03</td>\n",
       "      <td>Typica</td>\n",
       "      <td>Washed / Wet</td>\n",
       "      <td>7.42</td>\n",
       "      <td>7.58</td>\n",
       "      <td>7.33</td>\n",
       "      <td>7.42</td>\n",
       "      <td>8.0</td>\n",
       "      <td>7.5</td>\n",
       "      <td>9.33</td>\n",
       "      <td>10.0</td>\n",
       "      <td>10.0</td>\n",
       "      <td>7.42</td>\n",
       "      <td>82.0</td>\n",
       "      <td>0.12</td>\n",
       "      <td>0</td>\n",
       "      <td>0.0</td>\n",
       "      <td>Blue-Green</td>\n",
       "      <td>0</td>\n",
       "      <td>650.0</td>\n",
       "      <td>10.0</td>\n",
       "      <td>6</td>\n",
       "      <td>2013</td>\n",
       "      <td>3</td>\n",
       "      <td>0</td>\n",
       "    </tr>\n",
       "  </tbody>\n",
       "</table>\n",
       "</div>"
      ],
      "text/plain": [
       "    country                              region  number_of_bags  harvest_year  \\\n",
       "806  Taiwan  dongshan dist., tainan city 臺南市東山區              30          2012   \n",
       "\n",
       "    grading_date variety processing_method  aroma  flavor  aftertaste  \\\n",
       "806   2013-06-03  Typica      Washed / Wet   7.42    7.58        7.33   \n",
       "\n",
       "     acidity  body  balance  uniformity  clean_cup  sweetness  cupper_points  \\\n",
       "806     7.42   8.0      7.5        9.33       10.0       10.0           7.42   \n",
       "\n",
       "     total_cup_points  moisture  category_one_defects  quakers       color  \\\n",
       "806              82.0      0.12                     0      0.0  Blue-Green   \n",
       "\n",
       "     category_two_defects  altitude_mean_meters  bag_weight  grading_month  \\\n",
       "806                     0                 650.0        10.0              6   \n",
       "\n",
       "     grading_year  grading_day  excellent_rating  \n",
       "806          2013            3                 0  "
      ]
     },
     "execution_count": 3,
     "metadata": {},
     "output_type": "execute_result"
    }
   ],
   "source": [
    "train.head(1)"
   ]
  },
  {
   "cell_type": "code",
   "execution_count": 4,
   "id": "9ec6f804",
   "metadata": {
    "scrolled": true
   },
   "outputs": [
    {
     "data": {
      "text/plain": [
       "Washed / Wet                 368\n",
       "Natural / Dry                 81\n",
       "Semi-washed / Semi-pulped     20\n",
       "Name: processing_method, dtype: int64"
      ]
     },
     "execution_count": 4,
     "metadata": {},
     "output_type": "execute_result"
    }
   ],
   "source": [
    "train.processing_method.value_counts()"
   ]
  },
  {
   "cell_type": "code",
   "execution_count": 5,
   "id": "c5f7d381",
   "metadata": {},
   "outputs": [],
   "source": [
    "# df_plus will be the dataframe that holds all the values of where our target excellent rating is true\n",
    "df_rating = train[train.excellent_rating == 1]"
   ]
  },
  {
   "cell_type": "code",
   "execution_count": 6,
   "id": "22aa7900",
   "metadata": {},
   "outputs": [],
   "source": [
    "# \n",
    "s = ((df_rating.processing_method.value_counts()/train.processing_method.value_counts())*100).sort_values(ascending = False)\n",
    "index_ = list(s.index)\n",
    "index_[0] = 'Washed/Wet'\n",
    "index_[1] =  'Natural/Dry'\n",
    "index_[2] = 'Semi Washed/Pulped'\n",
    "s.index = index_"
   ]
  },
  {
   "cell_type": "code",
   "execution_count": 7,
   "id": "adbd560a",
   "metadata": {},
   "outputs": [
    {
     "data": {
      "image/png": "[encoded data removed]",
      "text/plain": [
       "<Figure size 432x288 with 1 Axes>"
      ]
     },
     "metadata": {
      "needs_background": "light"
     },
     "output_type": "display_data"
    }
   ],
   "source": [
    "ax = sns.barplot(s.index, s, color='blue')\n",
    "\n",
    "ax.set_title('Percent of Population 84 or Higher by Process', fontsize = 13)\n",
    "sns.set(font_scale = 1.1)\n",
    "ax.set(xlabel='Processing Process', ylabel='Percent')\n",
    "plt.show()"
   ]
  },
  {
   "cell_type": "code",
   "execution_count": 8,
   "id": "f28f4200",
   "metadata": {},
   "outputs": [
    {
     "data": {
      "text/plain": [
       "['Other',\n",
       " 'Caturra',\n",
       " 'Catuai',\n",
       " 'Yellow Bourbon',\n",
       " 'Bourbon',\n",
       " 'Typica',\n",
       " 'Mundo Novo']"
      ]
     },
     "execution_count": 8,
     "metadata": {},
     "output_type": "execute_result"
    }
   ],
   "source": [
    "s = ((df_rating.variety.value_counts()/train.variety.value_counts())*100).sort_values(ascending = False)\n",
    "index_ = list(s.index)\n",
    "index_"
   ]
  },
  {
   "cell_type": "code",
   "execution_count": 9,
   "id": "362946f6",
   "metadata": {},
   "outputs": [],
   "source": [
    "index_[3] = 'Mundo N.'\n",
    "index_[6] = 'Yellow B.'\n",
    "s.index = index_"
   ]
  },
  {
   "cell_type": "code",
   "execution_count": 10,
   "id": "9f0a7455",
   "metadata": {},
   "outputs": [
    {
     "data": {
      "image/png": "[encoded data removed]",
      "text/plain": [
       "<Figure size 432x288 with 1 Axes>"
      ]
     },
     "metadata": {},
     "output_type": "display_data"
    }
   ],
   "source": [
    "ax = sns.barplot(s.index, s, color='blue')\n",
    "ax.set_title('Percent of Population 84 or Higher by Variety', fontsize = 13)\n",
    "sns.set(font_scale = 1)\n",
    "ax.set(xlabel='Variety', ylabel='Percent')\n",
    "plt.show()"
   ]
  },
  {
   "cell_type": "code",
   "execution_count": 11,
   "id": "11eb9e41",
   "metadata": {},
   "outputs": [
    {
     "data": {
      "text/html": [
       "<div>\n",
       "<style scoped>\n",
       "    .dataframe tbody tr th:only-of-type {\n",
       "        vertical-align: middle;\n",
       "    }\n",
       "\n",
       "    .dataframe tbody tr th {\n",
       "        vertical-align: top;\n",
       "    }\n",
       "\n",
       "    .dataframe thead th {\n",
       "        text-align: right;\n",
       "    }\n",
       "</style>\n",
       "<table border=\"1\" class=\"dataframe\">\n",
       "  <thead>\n",
       "    <tr style=\"text-align: right;\">\n",
       "      <th></th>\n",
       "      <th>country</th>\n",
       "      <th>region</th>\n",
       "      <th>number_of_bags</th>\n",
       "      <th>harvest_year</th>\n",
       "      <th>grading_date</th>\n",
       "      <th>variety</th>\n",
       "      <th>processing_method</th>\n",
       "      <th>aroma</th>\n",
       "      <th>flavor</th>\n",
       "      <th>aftertaste</th>\n",
       "      <th>acidity</th>\n",
       "      <th>body</th>\n",
       "      <th>balance</th>\n",
       "      <th>uniformity</th>\n",
       "      <th>clean_cup</th>\n",
       "      <th>sweetness</th>\n",
       "      <th>cupper_points</th>\n",
       "      <th>total_cup_points</th>\n",
       "      <th>moisture</th>\n",
       "      <th>category_one_defects</th>\n",
       "      <th>quakers</th>\n",
       "      <th>color</th>\n",
       "      <th>category_two_defects</th>\n",
       "      <th>altitude_mean_meters</th>\n",
       "      <th>bag_weight</th>\n",
       "      <th>grading_month</th>\n",
       "      <th>grading_year</th>\n",
       "      <th>grading_day</th>\n",
       "      <th>excellent_rating</th>\n",
       "    </tr>\n",
       "  </thead>\n",
       "  <tbody>\n",
       "    <tr>\n",
       "      <th>806</th>\n",
       "      <td>Taiwan</td>\n",
       "      <td>dongshan dist., tainan city 臺南市東山區</td>\n",
       "      <td>30</td>\n",
       "      <td>2012</td>\n",
       "      <td>2013-06-03</td>\n",
       "      <td>Typica</td>\n",
       "      <td>Washed / Wet</td>\n",
       "      <td>7.42</td>\n",
       "      <td>7.58</td>\n",
       "      <td>7.33</td>\n",
       "      <td>7.42</td>\n",
       "      <td>8.0</td>\n",
       "      <td>7.5</td>\n",
       "      <td>9.33</td>\n",
       "      <td>10.0</td>\n",
       "      <td>10.0</td>\n",
       "      <td>7.42</td>\n",
       "      <td>82.0</td>\n",
       "      <td>0.12</td>\n",
       "      <td>0</td>\n",
       "      <td>0.0</td>\n",
       "      <td>Blue-Green</td>\n",
       "      <td>0</td>\n",
       "      <td>650.0</td>\n",
       "      <td>10.0</td>\n",
       "      <td>6</td>\n",
       "      <td>2013</td>\n",
       "      <td>3</td>\n",
       "      <td>0</td>\n",
       "    </tr>\n",
       "  </tbody>\n",
       "</table>\n",
       "</div>"
      ],
      "text/plain": [
       "    country                              region  number_of_bags  harvest_year  \\\n",
       "806  Taiwan  dongshan dist., tainan city 臺南市東山區              30          2012   \n",
       "\n",
       "    grading_date variety processing_method  aroma  flavor  aftertaste  \\\n",
       "806   2013-06-03  Typica      Washed / Wet   7.42    7.58        7.33   \n",
       "\n",
       "     acidity  body  balance  uniformity  clean_cup  sweetness  cupper_points  \\\n",
       "806     7.42   8.0      7.5        9.33       10.0       10.0           7.42   \n",
       "\n",
       "     total_cup_points  moisture  category_one_defects  quakers       color  \\\n",
       "806              82.0      0.12                     0      0.0  Blue-Green   \n",
       "\n",
       "     category_two_defects  altitude_mean_meters  bag_weight  grading_month  \\\n",
       "806                     0                 650.0        10.0              6   \n",
       "\n",
       "     grading_year  grading_day  excellent_rating  \n",
       "806          2013            3                 0  "
      ]
     },
     "execution_count": 11,
     "metadata": {},
     "output_type": "execute_result"
    }
   ],
   "source": [
    "train.head(1)"
   ]
  },
  {
   "cell_type": "markdown",
   "id": "21ed2bb3",
   "metadata": {},
   "source": [
    "# Checking for any variance by Harvest Year"
   ]
  },
  {
   "cell_type": "code",
   "execution_count": 12,
   "id": "6ce09b18",
   "metadata": {},
   "outputs": [
    {
     "data": {
      "image/png": "[encoded data removed]",
      "text/plain": [
       "<Figure size 432x288 with 1 Axes>"
      ]
     },
     "metadata": {},
     "output_type": "display_data"
    }
   ],
   "source": [
    "s = ((df_rating.harvest_year.value_counts(ascending=True)/train.harvest_year.value_counts(ascending=True))*100).sort_values()\n",
    "\n",
    "ax = sns.barplot(s.index, s, color='blue')\n",
    "ax.set_title('84 or Higher by Year', fontsize = 13)\n",
    "sns.set(font_scale = 1)\n",
    "ax.set(xlabel='Year', ylabel='Total')\n",
    "plt.show()"
   ]
  },
  {
   "cell_type": "markdown",
   "id": "bda9575e",
   "metadata": {},
   "source": [
    "# Check for variance by grading month"
   ]
  },
  {
   "cell_type": "code",
   "execution_count": 13,
   "id": "d6d1c189",
   "metadata": {},
   "outputs": [
    {
     "data": {
      "text/plain": [
       "12    12\n",
       "3     11\n",
       "4     10\n",
       "5      8\n",
       "6      6\n",
       "7      5\n",
       "8      5\n",
       "10     5\n",
       "2      4\n",
       "1      3\n",
       "9      3\n",
       "11     2\n",
       "Name: grading_month, dtype: int64"
      ]
     },
     "execution_count": 13,
     "metadata": {},
     "output_type": "execute_result"
    }
   ],
   "source": [
    "df_rating.grading_month.value_counts()"
   ]
  },
  {
   "cell_type": "code",
   "execution_count": 14,
   "id": "f07edd9b",
   "metadata": {},
   "outputs": [
    {
     "data": {
      "text/plain": [
       "9     54\n",
       "7     52\n",
       "8     52\n",
       "5     45\n",
       "4     44\n",
       "6     44\n",
       "3     41\n",
       "12    35\n",
       "10    32\n",
       "2     29\n",
       "1     21\n",
       "11    20\n",
       "Name: grading_month, dtype: int64"
      ]
     },
     "execution_count": 14,
     "metadata": {},
     "output_type": "execute_result"
    }
   ],
   "source": [
    "train.grading_month.value_counts()"
   ]
  },
  {
   "cell_type": "code",
   "execution_count": 15,
   "id": "5c763b95",
   "metadata": {},
   "outputs": [
    {
     "data": {
      "image/png": "[encoded data removed]",
      "text/plain": [
       "<Figure size 432x288 with 1 Axes>"
      ]
     },
     "metadata": {},
     "output_type": "display_data"
    }
   ],
   "source": [
    "s = (df_rating.grading_month.value_counts()/train.grading_month.value_counts()*100).sort_values()\n",
    "ax = sns.barplot(s.index, s, color='blue')\n",
    "ax.set_title('84 or Higher by grading Month', fontsize = 13)\n",
    "sns.set(font_scale = 1)\n",
    "ax.set(xlabel='Month', ylabel='Total')\n",
    "plt.show()"
   ]
  },
  {
   "cell_type": "code",
   "execution_count": 16,
   "id": "a779a41e",
   "metadata": {},
   "outputs": [
    {
     "data": {
      "text/plain": [
       "2012    16\n",
       "2015    16\n",
       "2014    15\n",
       "2013     9\n",
       "2016     9\n",
       "2011     5\n",
       "2017     4\n",
       "Name: grading_year, dtype: int64"
      ]
     },
     "execution_count": 16,
     "metadata": {},
     "output_type": "execute_result"
    }
   ],
   "source": [
    "df_rating.grading_year.value_counts()"
   ]
  },
  {
   "cell_type": "code",
   "execution_count": 17,
   "id": "8804bec1",
   "metadata": {},
   "outputs": [
    {
     "data": {
      "text/plain": [
       "2012    158\n",
       "2014     83\n",
       "2015     72\n",
       "2013     61\n",
       "2017     54\n",
       "2016     32\n",
       "2011      8\n",
       "2010      1\n",
       "Name: grading_year, dtype: int64"
      ]
     },
     "execution_count": 17,
     "metadata": {},
     "output_type": "execute_result"
    }
   ],
   "source": [
    "train.grading_year.value_counts()"
   ]
  },
  {
   "cell_type": "code",
   "execution_count": 44,
   "id": "9828d2f6",
   "metadata": {},
   "outputs": [
    {
     "data": {
      "image/png": "[encoded data removed]",
      "text/plain": [
       "<Figure size 432x288 with 1 Axes>"
      ]
     },
     "metadata": {},
     "output_type": "display_data"
    }
   ],
   "source": [
    "s = (df_rating.grading_year.value_counts()/train.grading_year.value_counts()*100).sort_values()\n",
    "ax = sns.barplot(s.index, s, color='blue')\n",
    "ax.set_title('84 or Higher by Graded Year', fontsize = 13)\n",
    "sns.set(font_scale = 1)\n",
    "ax.set(xlabel='Month', ylabel='Total Count')\n",
    "plt.show()"
   ]
  },
  {
   "cell_type": "code",
   "execution_count": 19,
   "id": "5dba27d3",
   "metadata": {},
   "outputs": [
    {
     "data": {
      "text/plain": [
       "<AxesSubplot:>"
      ]
     },
     "execution_count": 19,
     "metadata": {},
     "output_type": "execute_result"
    },
    {
     "data": {
      "image/png": "[encoded data removed]",
      "text/plain": [
       "<Figure size 432x288 with 1 Axes>"
      ]
     },
     "metadata": {},
     "output_type": "display_data"
    }
   ],
   "source": [
    "df_rating.bag_weight.hist()"
   ]
  },
  {
   "cell_type": "code",
   "execution_count": 20,
   "id": "162b9261",
   "metadata": {},
   "outputs": [
    {
     "data": {
      "text/plain": [
       "40.986486486486484"
      ]
     },
     "execution_count": 20,
     "metadata": {},
     "output_type": "execute_result"
    }
   ],
   "source": [
    "df_rating.bag_weight.mean()"
   ]
  },
  {
   "cell_type": "code",
   "execution_count": 21,
   "id": "eb5d5b84",
   "metadata": {},
   "outputs": [
    {
     "data": {
      "text/plain": [
       "33.850746268656714"
      ]
     },
     "execution_count": 21,
     "metadata": {},
     "output_type": "execute_result"
    }
   ],
   "source": [
    "train.bag_weight.mean()"
   ]
  },
  {
   "cell_type": "code",
   "execution_count": 25,
   "id": "7ffd5e9d",
   "metadata": {},
   "outputs": [
    {
     "data": {
      "text/plain": [
       "60.0"
      ]
     },
     "execution_count": 25,
     "metadata": {},
     "output_type": "execute_result"
    }
   ],
   "source": [
    "df_rating.bag_weight.median()"
   ]
  },
  {
   "cell_type": "code",
   "execution_count": 23,
   "id": "e6021c9b",
   "metadata": {},
   "outputs": [
    {
     "data": {
      "text/plain": [
       "29.0"
      ]
     },
     "execution_count": 23,
     "metadata": {},
     "output_type": "execute_result"
    }
   ],
   "source": [
    "train.bag_weight.median()"
   ]
  },
  {
   "cell_type": "code",
   "execution_count": 27,
   "id": "d3e6eff9",
   "metadata": {},
   "outputs": [
    {
     "data": {
      "text/plain": [
       "74"
      ]
     },
     "execution_count": 27,
     "metadata": {},
     "output_type": "execute_result"
    }
   ],
   "source": [
    "len(df_rating)"
   ]
  },
  {
   "cell_type": "code",
   "execution_count": 26,
   "id": "96176ef3",
   "metadata": {},
   "outputs": [
    {
     "data": {
      "text/plain": [
       "469"
      ]
     },
     "execution_count": 26,
     "metadata": {},
     "output_type": "execute_result"
    }
   ],
   "source": [
    "len(train)"
   ]
  },
  {
   "cell_type": "markdown",
   "id": "439a1856",
   "metadata": {},
   "source": [
    "# Question 2"
   ]
  },
  {
   "cell_type": "markdown",
   "id": "206ee235",
   "metadata": {},
   "source": [
    "    Is the average bag_weight for a coffee rated 84 or higher different than the weight of all coffee?"
   ]
  },
  {
   "cell_type": "markdown",
   "id": "9abf7d52",
   "metadata": {},
   "source": [
    "### Setting up seperate dataframes"
   ]
  },
  {
   "cell_type": "code",
   "execution_count": 28,
   "id": "8e268cf9",
   "metadata": {},
   "outputs": [],
   "source": [
    "# df_rating is equal to a coffee rating 84 or higher\n",
    "df_rating = train[train['excellent_rating'] == 1]"
   ]
  },
  {
   "cell_type": "code",
   "execution_count": 29,
   "id": "9786d88b",
   "metadata": {},
   "outputs": [
    {
     "data": {
      "text/plain": [
       "(74, 469)"
      ]
     },
     "execution_count": 29,
     "metadata": {},
     "output_type": "execute_result"
    }
   ],
   "source": [
    "# checking number of values in each\n",
    "len(df_rating), len(train)"
   ]
  },
  {
   "cell_type": "markdown",
   "id": "0f6a0e01",
   "metadata": {},
   "source": [
    "### Checking Mean"
   ]
  },
  {
   "cell_type": "code",
   "execution_count": 32,
   "id": "1539241c",
   "metadata": {},
   "outputs": [
    {
     "data": {
      "text/plain": [
       "40.986486486486484"
      ]
     },
     "execution_count": 32,
     "metadata": {},
     "output_type": "execute_result"
    }
   ],
   "source": [
    "# bag_weight mean for coffee rated 84 or higher \n",
    "df_rating.bag_weight.mean()"
   ]
  },
  {
   "cell_type": "code",
   "execution_count": 33,
   "id": "b7f269a5",
   "metadata": {},
   "outputs": [
    {
     "data": {
      "text/plain": [
       "33.850746268656714"
      ]
     },
     "execution_count": 33,
     "metadata": {},
     "output_type": "execute_result"
    }
   ],
   "source": [
    "# Entire population bag_weight mean\n",
    "train.bag_weight.mean()"
   ]
  },
  {
   "cell_type": "markdown",
   "id": "2ee5b6e3",
   "metadata": {},
   "source": [
    "### Graph"
   ]
  },
  {
   "cell_type": "code",
   "execution_count": 51,
   "id": "eea057d5",
   "metadata": {
    "scrolled": false
   },
   "outputs": [
    {
     "data": {
      "image/png": "[encoded data removed]",
      "text/plain": [
       "<Figure size 432x288 with 1 Axes>"
      ]
     },
     "metadata": {},
     "output_type": "display_data"
    }
   ],
   "source": [
    "rating = ['Coffee Grade 84 (or Higher)', 'Entire Population']\n",
    "rating_mean = [df_rating.bag_weight.mean(), train.bag_weight.mean()]\n",
    "ax = sns.barplot(rating, rating_mean, color='blue')\n",
    "\n",
    "ax.set_xlabel('',fontsize = 15, )\n",
    "ax.set_ylabel('Bag Weight',fontsize = 15)\n",
    "ax.set_title('Coffee Grade 84 (or Higher) vs Population', fontsize = 15)\n",
    "sns.set(font_scale = 1)\n",
    "ax.set(xlabel='', ylabel='AVG Bag Weight')\n",
    "plt.show()"
   ]
  },
  {
   "cell_type": "markdown",
   "id": "03a26e4a",
   "metadata": {},
   "source": [
    "### Question 2 At A Glance\n",
    "\n",
    "    - 84 or higher rated coffee did have a higher bag_weight mean than the entire population of coffee.  \n",
    "    - The mean were not too far off from one another"
   ]
  },
  {
   "cell_type": "markdown",
   "id": "657c31c1",
   "metadata": {},
   "source": [
    "### Hypothesis Test\n",
    "    Running a hypothesis test to make sure the results didn't happen by accident"
   ]
  },
  {
   "cell_type": "markdown",
   "id": "88141661",
   "metadata": {},
   "source": [
    "### Significance Level"
   ]
  },
  {
   "cell_type": "code",
   "execution_count": 56,
   "id": "eee31a16",
   "metadata": {},
   "outputs": [],
   "source": [
    "# A significance level of 0.05 indicates a 5% risk of concluding that a difference exists when there is no actual difference.\n",
    "alpha = .05"
   ]
  },
  {
   "cell_type": "markdown",
   "id": "27e15a18",
   "metadata": {},
   "source": [
    "### Checking Assumptions"
   ]
  },
  {
   "cell_type": "markdown",
   "id": "f250f086",
   "metadata": {},
   "source": [
    "    - Independent\n",
    "    - Normally Distributed\n",
    "    - Equal Variances"
   ]
  },
  {
   "cell_type": "markdown",
   "id": "0a7630a0",
   "metadata": {},
   "source": [
    "### Independent?\n",
    "    No, entire population includes 84 or higher graded coffee"
   ]
  },
  {
   "cell_type": "markdown",
   "id": "0b7de5bb",
   "metadata": {},
   "source": [
    "### Normally Distributed?\n",
    "    - 84 or higher rated bag weight is not normally distributed\n",
    "    - Entire population is not normally distributed"
   ]
  },
  {
   "cell_type": "code",
   "execution_count": 52,
   "id": "ff35051b",
   "metadata": {},
   "outputs": [
    {
     "data": {
      "text/plain": [
       "<AxesSubplot:>"
      ]
     },
     "execution_count": 52,
     "metadata": {},
     "output_type": "execute_result"
    },
    {
     "data": {
      "image/png": "[encoded data removed]",
      "text/plain": [
       "<Figure size 432x288 with 1 Axes>"
      ]
     },
     "metadata": {},
     "output_type": "display_data"
    }
   ],
   "source": [
    "sns.set(font_scale = 1)\n",
    "df_rating.bag_weight.hist()"
   ]
  },
  {
   "cell_type": "code",
   "execution_count": 53,
   "id": "362039f0",
   "metadata": {},
   "outputs": [
    {
     "data": {
      "text/plain": [
       "<AxesSubplot:>"
      ]
     },
     "execution_count": 53,
     "metadata": {},
     "output_type": "execute_result"
    },
    {
     "data": {
      "image/png": "[encoded data removed]",
      "text/plain": [
       "<Figure size 432x288 with 1 Axes>"
      ]
     },
     "metadata": {},
     "output_type": "display_data"
    }
   ],
   "source": [
    "train.bag_weight.hist()"
   ]
  },
  {
   "cell_type": "markdown",
   "id": "84f489f1",
   "metadata": {},
   "source": [
    "### Equal Variances?\n",
    "    - The leven test concluded the populations did not have equal variances."
   ]
  },
  {
   "cell_type": "code",
   "execution_count": 54,
   "id": "b7e4b799",
   "metadata": {},
   "outputs": [
    {
     "data": {
      "text/plain": [
       "(10.16763616986114, 0.0015119628803599763)"
      ]
     },
     "execution_count": 54,
     "metadata": {},
     "output_type": "execute_result"
    }
   ],
   "source": [
    "# From the scypi stats library, im going to use the levene test to check variance.\n",
    "# It will test the null hypothesis that all input samples are from populations with equal variances.\n",
    "stats, p = levene(df_rating.bag_weight, train.bag_weight)\n",
    "stats, p"
   ]
  },
  {
   "cell_type": "code",
   "execution_count": 57,
   "id": "49df84b8",
   "metadata": {},
   "outputs": [
    {
     "name": "stdout",
     "output_type": "stream",
     "text": [
      "populations do not have equal variances\n"
     ]
    }
   ],
   "source": [
    "# The small p-value suggests that the populations do not have equal variances.\n",
    "if p < alpha:\n",
    "    print(\"populations do not have equal variances\")\n",
    "else:\n",
    "    print(\"populations do have equal variances\")"
   ]
  },
  {
   "cell_type": "markdown",
   "id": "a0048436",
   "metadata": {},
   "source": [
    "###  Wilcoxon\n",
    "    Assumptions were not met.  I will use a Non-Parametric Test."
   ]
  },
  {
   "cell_type": "markdown",
   "id": "a529acfc",
   "metadata": {},
   "source": [
    "### Hypothesis"
   ]
  },
  {
   "cell_type": "markdown",
   "id": "7b8ec546",
   "metadata": {},
   "source": [
    "### $H_0$: The average bag_weight of 84 or higher rated coffee is not different than the average of the entire population.\n",
    "### $H_a$: The average bag_weight of 84 or higher rated coffee is different than the average of the entire population."
   ]
  },
  {
   "cell_type": "markdown",
   "id": "f8d53cde",
   "metadata": {},
   "source": [
    "### Hypothesised Median"
   ]
  },
  {
   "cell_type": "code",
   "execution_count": 59,
   "id": "12d0aea7",
   "metadata": {},
   "outputs": [
    {
     "data": {
      "text/plain": [
       "40.986486486486484"
      ]
     },
     "execution_count": 59,
     "metadata": {},
     "output_type": "execute_result"
    }
   ],
   "source": [
    "hypo_med = df_rating.bag_weight.mean()\n",
    "hypo_med"
   ]
  },
  {
   "cell_type": "code",
   "execution_count": 64,
   "id": "a599df84",
   "metadata": {},
   "outputs": [
    {
     "data": {
      "text/plain": [
       "(29614.0, 2.3195492778683327e-18)"
      ]
     },
     "execution_count": 64,
     "metadata": {},
     "output_type": "execute_result"
    }
   ],
   "source": [
    "z, p = wilcoxon(train.bag_weight - hypo_med)\n",
    "z, p"
   ]
  },
  {
   "cell_type": "code",
   "execution_count": 66,
   "id": "ea8fb848",
   "metadata": {},
   "outputs": [
    {
     "name": "stdout",
     "output_type": "stream",
     "text": [
      "Reject Null Hypothesis\n"
     ]
    }
   ],
   "source": [
    "if p < alpha:\n",
    "    print(\"Reject Null Hypothesis\")\n",
    "else:\n",
    "    print(\"Fail to Reject the Null Hypothesis\")"
   ]
  },
  {
   "cell_type": "markdown",
   "id": "5e01c759",
   "metadata": {},
   "source": [
    "### Hypotheis Results\n",
    "    - The average bag_weight of 84 or higher rated coffee is different than the average of the entire population."
   ]
  },
  {
   "cell_type": "markdown",
   "id": "b5c9f786",
   "metadata": {},
   "source": [
    "### Question 2 Takeway\n",
    "    - I have a 95% confidence level that there is a difference in bag_weight between 84 or higher rated and the entire population of coffee.\n",
    "    - However thee means were not too far off from one another"
   ]
  },
  {
   "cell_type": "code",
   "execution_count": null,
   "id": "a368080f",
   "metadata": {},
   "outputs": [],
   "source": []
  }
 ],
 "metadata": {
  "kernelspec": {
   "display_name": "Python 3",
   "language": "python",
   "name": "python3"
  },
  "language_info": {
   "codemirror_mode": {
    "name": "ipython",
    "version": 3
   },
   "file_extension": ".py",
   "mimetype": "text/x-python",
   "name": "python",
   "nbconvert_exporter": "python",
   "pygments_lexer": "ipython3",
   "version": "3.8.8"
  }
 },
 "nbformat": 4,
 "nbformat_minor": 5
}
