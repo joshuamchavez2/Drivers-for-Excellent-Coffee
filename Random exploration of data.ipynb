{
 "cells": [
  {
   "cell_type": "code",
   "execution_count": 1,
   "id": "fb43a1c3",
   "metadata": {},
   "outputs": [],
   "source": [
    "import pandas as pd\n",
    "import numpy as np\n",
    "import seaborn as sns\n",
    "import matplotlib.pyplot as plt\n",
    "from wrangle import wrangle, wrangle_explore\n",
    "from sklearn.model_selection import train_test_split\n",
    "\n",
    "# Stats\n",
    "from scipy.stats import mannwhitneyu\n",
    "from scipy.stats import levene\n",
    "\n",
    "# Viewing Options\n",
    "pd.set_option(\"display.max_rows\", None, \"display.max_columns\", None) \n",
    "\n",
    "pd.reset_option(\"display.max_rows\", \"display.max_columns\")\n",
    "import warnings\n",
    "warnings.filterwarnings(\"ignore\")"
   ]
  },
  {
   "cell_type": "markdown",
   "id": "ab0df3b7",
   "metadata": {},
   "source": [
    "# Random exploration of data"
   ]
  },
  {
   "cell_type": "code",
   "execution_count": 2,
   "id": "68716ca2",
   "metadata": {},
   "outputs": [],
   "source": [
    "train, validate, test = wrangle_explore()"
   ]
  },
  {
   "cell_type": "code",
   "execution_count": 3,
   "id": "29391b36",
   "metadata": {},
   "outputs": [
    {
     "data": {
      "text/html": [
       "<div>\n",
       "<style scoped>\n",
       "    .dataframe tbody tr th:only-of-type {\n",
       "        vertical-align: middle;\n",
       "    }\n",
       "\n",
       "    .dataframe tbody tr th {\n",
       "        vertical-align: top;\n",
       "    }\n",
       "\n",
       "    .dataframe thead th {\n",
       "        text-align: right;\n",
       "    }\n",
       "</style>\n",
       "<table border=\"1\" class=\"dataframe\">\n",
       "  <thead>\n",
       "    <tr style=\"text-align: right;\">\n",
       "      <th></th>\n",
       "      <th>country</th>\n",
       "      <th>region</th>\n",
       "      <th>number_of_bags</th>\n",
       "      <th>harvest_year</th>\n",
       "      <th>grading_date</th>\n",
       "      <th>variety</th>\n",
       "      <th>processing_method</th>\n",
       "      <th>aroma</th>\n",
       "      <th>flavor</th>\n",
       "      <th>aftertaste</th>\n",
       "      <th>acidity</th>\n",
       "      <th>body</th>\n",
       "      <th>balance</th>\n",
       "      <th>uniformity</th>\n",
       "      <th>clean_cup</th>\n",
       "      <th>sweetness</th>\n",
       "      <th>cupper_points</th>\n",
       "      <th>total_cup_points</th>\n",
       "      <th>moisture</th>\n",
       "      <th>category_one_defects</th>\n",
       "      <th>quakers</th>\n",
       "      <th>color</th>\n",
       "      <th>category_two_defects</th>\n",
       "      <th>altitude_mean_meters</th>\n",
       "      <th>bag_weight</th>\n",
       "      <th>grading_month</th>\n",
       "      <th>grading_year</th>\n",
       "      <th>grading_day</th>\n",
       "      <th>excellent_rating</th>\n",
       "    </tr>\n",
       "  </thead>\n",
       "  <tbody>\n",
       "    <tr>\n",
       "      <th>409</th>\n",
       "      <td>Colombia</td>\n",
       "      <td>pitalito</td>\n",
       "      <td>250</td>\n",
       "      <td>2013</td>\n",
       "      <td>2013-04-26</td>\n",
       "      <td>Caturra</td>\n",
       "      <td>Natural / Dry</td>\n",
       "      <td>7.67</td>\n",
       "      <td>7.67</td>\n",
       "      <td>7.5</td>\n",
       "      <td>7.67</td>\n",
       "      <td>7.92</td>\n",
       "      <td>7.42</td>\n",
       "      <td>10.0</td>\n",
       "      <td>10.0</td>\n",
       "      <td>10.0</td>\n",
       "      <td>7.5</td>\n",
       "      <td>83.33</td>\n",
       "      <td>0.11</td>\n",
       "      <td>0</td>\n",
       "      <td>0.0</td>\n",
       "      <td>Green</td>\n",
       "      <td>1</td>\n",
       "      <td>1000.0</td>\n",
       "      <td>70.0</td>\n",
       "      <td>4</td>\n",
       "      <td>2013</td>\n",
       "      <td>26</td>\n",
       "      <td>0</td>\n",
       "    </tr>\n",
       "  </tbody>\n",
       "</table>\n",
       "</div>"
      ],
      "text/plain": [
       "      country    region  number_of_bags  harvest_year grading_date  variety  \\\n",
       "409  Colombia  pitalito             250          2013   2013-04-26  Caturra   \n",
       "\n",
       "    processing_method  aroma  flavor  aftertaste  acidity  body  balance  \\\n",
       "409     Natural / Dry   7.67    7.67         7.5     7.67  7.92     7.42   \n",
       "\n",
       "     uniformity  clean_cup  sweetness  cupper_points  total_cup_points  \\\n",
       "409        10.0       10.0       10.0            7.5             83.33   \n",
       "\n",
       "     moisture  category_one_defects  quakers  color  category_two_defects  \\\n",
       "409      0.11                     0      0.0  Green                     1   \n",
       "\n",
       "     altitude_mean_meters  bag_weight  grading_month  grading_year  \\\n",
       "409                1000.0        70.0              4          2013   \n",
       "\n",
       "     grading_day  excellent_rating  \n",
       "409           26                 0  "
      ]
     },
     "execution_count": 3,
     "metadata": {},
     "output_type": "execute_result"
    }
   ],
   "source": [
    "train.head(1)"
   ]
  },
  {
   "cell_type": "code",
   "execution_count": 19,
   "id": "df111b8f",
   "metadata": {},
   "outputs": [
    {
     "data": {
      "text/plain": [
       "Washed / Wet                 363\n",
       "Natural / Dry                 81\n",
       "Semi-washed / Semi-pulped     28\n",
       "Name: processing_method, dtype: int64"
      ]
     },
     "execution_count": 19,
     "metadata": {},
     "output_type": "execute_result"
    }
   ],
   "source": [
    "train.processing_method.value_counts()"
   ]
  },
  {
   "cell_type": "code",
   "execution_count": 20,
   "id": "4af8332f",
   "metadata": {},
   "outputs": [],
   "source": [
    "df_plus = train[train.excellent_rating == 1]"
   ]
  },
  {
   "cell_type": "code",
   "execution_count": 21,
   "id": "051bff43",
   "metadata": {},
   "outputs": [
    {
     "data": {
      "text/plain": [
       "Washed / Wet                 56\n",
       "Natural / Dry                13\n",
       "Semi-washed / Semi-pulped     5\n",
       "Name: processing_method, dtype: int64"
      ]
     },
     "execution_count": 21,
     "metadata": {},
     "output_type": "execute_result"
    }
   ],
   "source": [
    "df_plus.processing_method.value_counts()"
   ]
  },
  {
   "cell_type": "code",
   "execution_count": 29,
   "id": "060526f1",
   "metadata": {},
   "outputs": [
    {
     "data": {
      "text/plain": [
       "6.482142857142857"
      ]
     },
     "execution_count": 29,
     "metadata": {},
     "output_type": "execute_result"
    }
   ],
   "source": [
    "washed_wet = 363/56\n",
    "washed_wet"
   ]
  },
  {
   "cell_type": "code",
   "execution_count": 30,
   "id": "20aa6002",
   "metadata": {},
   "outputs": [
    {
     "data": {
      "text/plain": [
       "6.230769230769231"
      ]
     },
     "execution_count": 30,
     "metadata": {},
     "output_type": "execute_result"
    }
   ],
   "source": [
    "natural_dry = 81/13\n",
    "natural_dry"
   ]
  },
  {
   "cell_type": "code",
   "execution_count": 32,
   "id": "69659e53",
   "metadata": {},
   "outputs": [
    {
     "data": {
      "text/plain": [
       "5.6"
      ]
     },
     "execution_count": 32,
     "metadata": {},
     "output_type": "execute_result"
    }
   ],
   "source": [
    "semi_pulped = 28/5\n",
    "semi_pulped"
   ]
  },
  {
   "cell_type": "code",
   "execution_count": 37,
   "id": "6d3973ff",
   "metadata": {},
   "outputs": [
    {
     "data": {
      "image/png": "[encoded data removed]",
      "text/plain": [
       "<Figure size 432x288 with 1 Axes>"
      ]
     },
     "metadata": {},
     "output_type": "display_data"
    }
   ],
   "source": [
    "processed = ['washed', 'natural', 'semi_pulped']\n",
    "percent = [washed_wet, natural_dry, semi_pulped]\n",
    "ax = sns.barplot(processed, percent, color='blue')\n",
    "\n",
    "ax.set_title('Percent of Population 84 or higher by Process', fontsize = 13)\n",
    "sns.set(font_scale = 1)\n",
    "ax.set(xlabel='process', ylabel='percent')\n",
    "plt.show()"
   ]
  },
  {
   "cell_type": "code",
   "execution_count": 72,
   "id": "f45289cb",
   "metadata": {},
   "outputs": [],
   "source": [
    "s = (df_plus.variety.value_counts()/train.variety.value_counts()).sort_values(ascending = False)"
   ]
  },
  {
   "cell_type": "code",
   "execution_count": 38,
   "id": "2cc7af84",
   "metadata": {},
   "outputs": [],
   "source": [
    "df_plus = train[train.excellent_rating == 1]"
   ]
  },
  {
   "cell_type": "code",
   "execution_count": 48,
   "id": "7cee1a26",
   "metadata": {},
   "outputs": [
    {
     "data": {
      "text/plain": [
       "0.24806201550387597"
      ]
     },
     "execution_count": 48,
     "metadata": {},
     "output_type": "execute_result"
    }
   ],
   "source": [
    "caturra = 32/129\n",
    "caturra"
   ]
  },
  {
   "cell_type": "code",
   "execution_count": 49,
   "id": "5cc762ac",
   "metadata": {},
   "outputs": [
    {
     "data": {
      "text/plain": [
       "0.2962962962962963"
      ]
     },
     "execution_count": 49,
     "metadata": {},
     "output_type": "execute_result"
    }
   ],
   "source": [
    "other = 16/54\n",
    "other"
   ]
  },
  {
   "cell_type": "code",
   "execution_count": 50,
   "id": "652c7b06",
   "metadata": {},
   "outputs": [
    {
     "data": {
      "text/plain": [
       "0.10833333333333334"
      ]
     },
     "execution_count": 50,
     "metadata": {},
     "output_type": "execute_result"
    }
   ],
   "source": [
    "bourbon = 13/120\n",
    "bourbon"
   ]
  },
  {
   "cell_type": "code",
   "execution_count": 51,
   "id": "51f65858",
   "metadata": {},
   "outputs": [
    {
     "data": {
      "text/plain": [
       "0.07547169811320754"
      ]
     },
     "execution_count": 51,
     "metadata": {},
     "output_type": "execute_result"
    }
   ],
   "source": [
    "typica = 8/106\n",
    "typica"
   ]
  },
  {
   "cell_type": "code",
   "execution_count": 52,
   "id": "e1e32377",
   "metadata": {},
   "outputs": [
    {
     "data": {
      "text/plain": [
       "0.03125"
      ]
     },
     "execution_count": 52,
     "metadata": {},
     "output_type": "execute_result"
    }
   ],
   "source": [
    "catuai = 1/32\n",
    "catuai"
   ]
  },
  {
   "cell_type": "code",
   "execution_count": 53,
   "id": "a38d4e81",
   "metadata": {},
   "outputs": [
    {
     "data": {
      "text/plain": [
       "0.11764705882352941"
      ]
     },
     "execution_count": 53,
     "metadata": {},
     "output_type": "execute_result"
    }
   ],
   "source": [
    "yellow_bourbon = 2/17\n",
    "yellow_bourbon"
   ]
  },
  {
   "cell_type": "code",
   "execution_count": 54,
   "id": "3cb02802",
   "metadata": {},
   "outputs": [
    {
     "data": {
      "text/plain": [
       "0.14285714285714285"
      ]
     },
     "execution_count": 54,
     "metadata": {},
     "output_type": "execute_result"
    }
   ],
   "source": [
    "mundo_novo = 2/14\n",
    "mundo_novo"
   ]
  },
  {
   "cell_type": "code",
   "execution_count": 57,
   "id": "67840574",
   "metadata": {},
   "outputs": [
    {
     "data": {
      "image/png": "[encoded data removed]",
      "text/plain": [
       "<Figure size 432x288 with 1 Axes>"
      ]
     },
     "metadata": {},
     "output_type": "display_data"
    }
   ],
   "source": [
    "processed = ['caturra', 'other', 'bourbon', 'typica', 'catuai', 'yellow_bourbon', 'mundo_novo']\n",
    "percent = [caturra, other, bourbon, typica , catuai, yellow_bourbon, mundo_novo]\n",
    "ax = sns.barplot(processed, percent, color='blue')\n",
    "\n",
    "ax.set_title('Percent of Population 84 or higher by Variety', fontsize = 13)\n",
    "sns.set(font_scale = 1)\n",
    "ax.set(xlabel='Variety', ylabel='Percent')\n",
    "plt.show()"
   ]
  },
  {
   "cell_type": "code",
   "execution_count": null,
   "id": "19e94d26",
   "metadata": {},
   "outputs": [],
   "source": []
  }
 ],
 "metadata": {
  "kernelspec": {
   "display_name": "Python 3",
   "language": "python",
   "name": "python3"
  },
  "language_info": {
   "codemirror_mode": {
    "name": "ipython",
    "version": 3
   },
   "file_extension": ".py",
   "mimetype": "text/x-python",
   "name": "python",
   "nbconvert_exporter": "python",
   "pygments_lexer": "ipython3",
   "version": "3.8.8"
  }
 },
 "nbformat": 4,
 "nbformat_minor": 5
}
