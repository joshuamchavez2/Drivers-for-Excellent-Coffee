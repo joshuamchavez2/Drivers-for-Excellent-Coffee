{
 "cells": [
  {
   "cell_type": "code",
   "execution_count": 13,
   "id": "e4442409",
   "metadata": {},
   "outputs": [],
   "source": [
    "import pandas as pd\n",
    "import numpy as np\n",
    "import seaborn as sns\n",
    "import matplotlib.pyplot as plt\n",
    "from wrangle import wrangle, wrangle_explore\n",
    "from sklearn.model_selection import train_test_split\n",
    "\n",
    "# Stats\n",
    "from scipy.stats import mannwhitneyu\n",
    "from scipy.stats import levene\n",
    "\n",
    "# Viewing Options\n",
    "pd.set_option(\"display.max_rows\", None, \"display.max_columns\", None) \n",
    "\n",
    "pd.reset_option(\"display.max_rows\", \"display.max_columns\")\n",
    "import warnings\n",
    "warnings.filterwarnings(\"ignore\")"
   ]
  },
  {
   "cell_type": "markdown",
   "id": "2a590b85",
   "metadata": {},
   "source": [
    "# Random exploration of data"
   ]
  },
  {
   "cell_type": "code",
   "execution_count": 14,
   "id": "21c3d989",
   "metadata": {},
   "outputs": [],
   "source": [
    "train, validate, test = wrangle_explore()"
   ]
  },
  {
   "cell_type": "code",
   "execution_count": null,
   "id": "b672b665",
   "metadata": {},
   "outputs": [],
   "source": []
  },
  {
   "cell_type": "code",
   "execution_count": 15,
   "id": "eeacda6a",
   "metadata": {},
   "outputs": [
    {
     "data": {
      "text/html": [
       "<div>\n",
       "<style scoped>\n",
       "    .dataframe tbody tr th:only-of-type {\n",
       "        vertical-align: middle;\n",
       "    }\n",
       "\n",
       "    .dataframe tbody tr th {\n",
       "        vertical-align: top;\n",
       "    }\n",
       "\n",
       "    .dataframe thead th {\n",
       "        text-align: right;\n",
       "    }\n",
       "</style>\n",
       "<table border=\"1\" class=\"dataframe\">\n",
       "  <thead>\n",
       "    <tr style=\"text-align: right;\">\n",
       "      <th></th>\n",
       "      <th>country</th>\n",
       "      <th>region</th>\n",
       "      <th>number_of_bags</th>\n",
       "      <th>harvest_year</th>\n",
       "      <th>grading_date</th>\n",
       "      <th>variety</th>\n",
       "      <th>processing_method</th>\n",
       "      <th>aroma</th>\n",
       "      <th>flavor</th>\n",
       "      <th>aftertaste</th>\n",
       "      <th>acidity</th>\n",
       "      <th>body</th>\n",
       "      <th>balance</th>\n",
       "      <th>uniformity</th>\n",
       "      <th>clean_cup</th>\n",
       "      <th>sweetness</th>\n",
       "      <th>cupper_points</th>\n",
       "      <th>total_cup_points</th>\n",
       "      <th>moisture</th>\n",
       "      <th>category_one_defects</th>\n",
       "      <th>quakers</th>\n",
       "      <th>color</th>\n",
       "      <th>category_two_defects</th>\n",
       "      <th>altitude_mean_meters</th>\n",
       "      <th>bag_weight</th>\n",
       "      <th>grading_month</th>\n",
       "      <th>grading_year</th>\n",
       "      <th>grading_day</th>\n",
       "      <th>excellent_rating</th>\n",
       "    </tr>\n",
       "  </thead>\n",
       "  <tbody>\n",
       "    <tr>\n",
       "      <th>108</th>\n",
       "      <td>Taiwan</td>\n",
       "      <td>natou county</td>\n",
       "      <td>20</td>\n",
       "      <td>2015</td>\n",
       "      <td>2015-06-09</td>\n",
       "      <td>Typica</td>\n",
       "      <td>Semi-washed / Semi-pulped</td>\n",
       "      <td>7.67</td>\n",
       "      <td>7.83</td>\n",
       "      <td>8.0</td>\n",
       "      <td>7.58</td>\n",
       "      <td>8.0</td>\n",
       "      <td>7.92</td>\n",
       "      <td>10.0</td>\n",
       "      <td>10.0</td>\n",
       "      <td>10.0</td>\n",
       "      <td>7.92</td>\n",
       "      <td>84.92</td>\n",
       "      <td>0.11</td>\n",
       "      <td>0</td>\n",
       "      <td>0.0</td>\n",
       "      <td>Green</td>\n",
       "      <td>0</td>\n",
       "      <td>800.0</td>\n",
       "      <td>40.0</td>\n",
       "      <td>6</td>\n",
       "      <td>2015</td>\n",
       "      <td>9</td>\n",
       "      <td>1</td>\n",
       "    </tr>\n",
       "  </tbody>\n",
       "</table>\n",
       "</div>"
      ],
      "text/plain": [
       "    country        region  number_of_bags  harvest_year grading_date variety  \\\n",
       "108  Taiwan  natou county              20          2015   2015-06-09  Typica   \n",
       "\n",
       "             processing_method  aroma  flavor  aftertaste  acidity  body  \\\n",
       "108  Semi-washed / Semi-pulped   7.67    7.83         8.0     7.58   8.0   \n",
       "\n",
       "     balance  uniformity  clean_cup  sweetness  cupper_points  \\\n",
       "108     7.92        10.0       10.0       10.0           7.92   \n",
       "\n",
       "     total_cup_points  moisture  category_one_defects  quakers  color  \\\n",
       "108             84.92      0.11                     0      0.0  Green   \n",
       "\n",
       "     category_two_defects  altitude_mean_meters  bag_weight  grading_month  \\\n",
       "108                     0                 800.0        40.0              6   \n",
       "\n",
       "     grading_year  grading_day  excellent_rating  \n",
       "108          2015            9                 1  "
      ]
     },
     "execution_count": 15,
     "metadata": {},
     "output_type": "execute_result"
    }
   ],
   "source": [
    "train.head(1)"
   ]
  },
  {
   "cell_type": "code",
   "execution_count": 16,
   "id": "299817c2",
   "metadata": {
    "scrolled": true
   },
   "outputs": [
    {
     "data": {
      "text/plain": [
       "Washed / Wet                 359\n",
       "Natural / Dry                 84\n",
       "Semi-washed / Semi-pulped     28\n",
       "Name: processing_method, dtype: int64"
      ]
     },
     "execution_count": 16,
     "metadata": {},
     "output_type": "execute_result"
    }
   ],
   "source": [
    "train.processing_method.value_counts()"
   ]
  },
  {
   "cell_type": "code",
   "execution_count": 17,
   "id": "a5d9f3f5",
   "metadata": {},
   "outputs": [],
   "source": [
    "# df_plus will be the dataframe that holds all the values of where our target excellent rating is true\n",
    "df_rating = train[train.excellent_rating == 1]"
   ]
  },
  {
   "cell_type": "code",
   "execution_count": 18,
   "id": "1ce9d41d",
   "metadata": {},
   "outputs": [],
   "source": [
    "# \n",
    "s = ((df_rating.processing_method.value_counts()/train.processing_method.value_counts())*100).sort_values(ascending = False)\n",
    "index_ = list(s.index)\n",
    "index_[0] = 'Washed/Wet'\n",
    "index_[1] =  'Natural/Dry'\n",
    "index_[2] = 'Semi Washed/Pulped'\n",
    "s.index = index_"
   ]
  },
  {
   "cell_type": "code",
   "execution_count": 19,
   "id": "1e63ca07",
   "metadata": {},
   "outputs": [
    {
     "data": {
      "image/png": "[encoded data removed]",
      "text/plain": [
       "<Figure size 432x288 with 1 Axes>"
      ]
     },
     "metadata": {},
     "output_type": "display_data"
    }
   ],
   "source": [
    "ax = sns.barplot(s.index, s, color='blue')\n",
    "\n",
    "ax.set_title('Percent of Population 84 or Higher by Process', fontsize = 13)\n",
    "sns.set(font_scale = 1.1)\n",
    "ax.set(xlabel='Processing Process', ylabel='Percent')\n",
    "plt.show()"
   ]
  },
  {
   "cell_type": "code",
   "execution_count": 62,
   "id": "320f6c2b",
   "metadata": {},
   "outputs": [
    {
     "data": {
      "text/plain": [
       "['Other',\n",
       " 'Caturra',\n",
       " 'Catuai',\n",
       " 'Mundo Novo',\n",
       " 'Bourbon',\n",
       " 'Typica',\n",
       " 'Yellow Bourbon']"
      ]
     },
     "execution_count": 62,
     "metadata": {},
     "output_type": "execute_result"
    }
   ],
   "source": [
    "s = ((df_rating.variety.value_counts()/train.variety.value_counts())*100).sort_values(ascending = False)\n",
    "index_ = list(s.index)\n",
    "index_"
   ]
  },
  {
   "cell_type": "code",
   "execution_count": 63,
   "id": "7f93aaab",
   "metadata": {},
   "outputs": [],
   "source": [
    "index_[3] = 'Mundo N.'\n",
    "index_[6] = 'Yellow B.'\n",
    "s.index = index_"
   ]
  },
  {
   "cell_type": "code",
   "execution_count": 64,
   "id": "ae2f57ec",
   "metadata": {},
   "outputs": [
    {
     "data": {
      "image/png": "[encoded data removed]",
      "text/plain": [
       "<Figure size 432x288 with 1 Axes>"
      ]
     },
     "metadata": {},
     "output_type": "display_data"
    }
   ],
   "source": [
    "ax = sns.barplot(s.index, s, color='blue')\n",
    "ax.set_title('Percent of Population 84 or Higher by Variety', fontsize = 13)\n",
    "sns.set(font_scale = 1)\n",
    "ax.set(xlabel='Variety', ylabel='Percent')\n",
    "plt.show()"
   ]
  },
  {
   "cell_type": "code",
   "execution_count": 22,
   "id": "bdb46906",
   "metadata": {},
   "outputs": [
    {
     "data": {
      "text/html": [
       "<div>\n",
       "<style scoped>\n",
       "    .dataframe tbody tr th:only-of-type {\n",
       "        vertical-align: middle;\n",
       "    }\n",
       "\n",
       "    .dataframe tbody tr th {\n",
       "        vertical-align: top;\n",
       "    }\n",
       "\n",
       "    .dataframe thead th {\n",
       "        text-align: right;\n",
       "    }\n",
       "</style>\n",
       "<table border=\"1\" class=\"dataframe\">\n",
       "  <thead>\n",
       "    <tr style=\"text-align: right;\">\n",
       "      <th></th>\n",
       "      <th>country</th>\n",
       "      <th>region</th>\n",
       "      <th>number_of_bags</th>\n",
       "      <th>harvest_year</th>\n",
       "      <th>grading_date</th>\n",
       "      <th>variety</th>\n",
       "      <th>processing_method</th>\n",
       "      <th>aroma</th>\n",
       "      <th>flavor</th>\n",
       "      <th>aftertaste</th>\n",
       "      <th>acidity</th>\n",
       "      <th>body</th>\n",
       "      <th>balance</th>\n",
       "      <th>uniformity</th>\n",
       "      <th>clean_cup</th>\n",
       "      <th>sweetness</th>\n",
       "      <th>cupper_points</th>\n",
       "      <th>total_cup_points</th>\n",
       "      <th>moisture</th>\n",
       "      <th>category_one_defects</th>\n",
       "      <th>quakers</th>\n",
       "      <th>color</th>\n",
       "      <th>category_two_defects</th>\n",
       "      <th>altitude_mean_meters</th>\n",
       "      <th>bag_weight</th>\n",
       "      <th>grading_month</th>\n",
       "      <th>grading_year</th>\n",
       "      <th>grading_day</th>\n",
       "      <th>excellent_rating</th>\n",
       "    </tr>\n",
       "  </thead>\n",
       "  <tbody>\n",
       "    <tr>\n",
       "      <th>108</th>\n",
       "      <td>Taiwan</td>\n",
       "      <td>natou county</td>\n",
       "      <td>20</td>\n",
       "      <td>2015</td>\n",
       "      <td>2015-06-09</td>\n",
       "      <td>Typica</td>\n",
       "      <td>Semi-washed / Semi-pulped</td>\n",
       "      <td>7.67</td>\n",
       "      <td>7.83</td>\n",
       "      <td>8.0</td>\n",
       "      <td>7.58</td>\n",
       "      <td>8.0</td>\n",
       "      <td>7.92</td>\n",
       "      <td>10.0</td>\n",
       "      <td>10.0</td>\n",
       "      <td>10.0</td>\n",
       "      <td>7.92</td>\n",
       "      <td>84.92</td>\n",
       "      <td>0.11</td>\n",
       "      <td>0</td>\n",
       "      <td>0.0</td>\n",
       "      <td>Green</td>\n",
       "      <td>0</td>\n",
       "      <td>800.0</td>\n",
       "      <td>40.0</td>\n",
       "      <td>6</td>\n",
       "      <td>2015</td>\n",
       "      <td>9</td>\n",
       "      <td>1</td>\n",
       "    </tr>\n",
       "  </tbody>\n",
       "</table>\n",
       "</div>"
      ],
      "text/plain": [
       "    country        region  number_of_bags  harvest_year grading_date variety  \\\n",
       "108  Taiwan  natou county              20          2015   2015-06-09  Typica   \n",
       "\n",
       "             processing_method  aroma  flavor  aftertaste  acidity  body  \\\n",
       "108  Semi-washed / Semi-pulped   7.67    7.83         8.0     7.58   8.0   \n",
       "\n",
       "     balance  uniformity  clean_cup  sweetness  cupper_points  \\\n",
       "108     7.92        10.0       10.0       10.0           7.92   \n",
       "\n",
       "     total_cup_points  moisture  category_one_defects  quakers  color  \\\n",
       "108             84.92      0.11                     0      0.0  Green   \n",
       "\n",
       "     category_two_defects  altitude_mean_meters  bag_weight  grading_month  \\\n",
       "108                     0                 800.0        40.0              6   \n",
       "\n",
       "     grading_year  grading_day  excellent_rating  \n",
       "108          2015            9                 1  "
      ]
     },
     "execution_count": 22,
     "metadata": {},
     "output_type": "execute_result"
    }
   ],
   "source": [
    "train.head(1)"
   ]
  },
  {
   "cell_type": "markdown",
   "id": "135ff3c7",
   "metadata": {},
   "source": [
    "# Checking for any variance by Harvest Year"
   ]
  },
  {
   "cell_type": "code",
   "execution_count": 23,
   "id": "2595fc74",
   "metadata": {},
   "outputs": [
    {
     "data": {
      "image/png": "[encoded data removed]",
      "text/plain": [
       "<Figure size 432x288 with 1 Axes>"
      ]
     },
     "metadata": {},
     "output_type": "display_data"
    }
   ],
   "source": [
    "s = ((df_rating.harvest_year.value_counts(ascending=True)/train.harvest_year.value_counts(ascending=True))*100).sort_values()\n",
    "\n",
    "ax = sns.barplot(s.index, s, color='blue')\n",
    "ax.set_title('84 or Higher by Year', fontsize = 13)\n",
    "sns.set(font_scale = 1)\n",
    "ax.set(xlabel='Year', ylabel='Total')\n",
    "plt.show()"
   ]
  },
  {
   "cell_type": "markdown",
   "id": "52039b62",
   "metadata": {},
   "source": [
    "# Check for variance by grading month"
   ]
  },
  {
   "cell_type": "code",
   "execution_count": 24,
   "id": "3d192955",
   "metadata": {},
   "outputs": [
    {
     "ename": "NameError",
     "evalue": "name 'df_plus' is not defined",
     "output_type": "error",
     "traceback": [
      "\u001b[0;31m---------------------------------------------------------------------------\u001b[0m",
      "\u001b[0;31mNameError\u001b[0m                                 Traceback (most recent call last)",
      "\u001b[0;32m<ipython-input-24-ea54c39eb093>\u001b[0m in \u001b[0;36m<module>\u001b[0;34m\u001b[0m\n\u001b[0;32m----> 1\u001b[0;31m \u001b[0mdf_plus\u001b[0m\u001b[0;34m.\u001b[0m\u001b[0mgrading_month\u001b[0m\u001b[0;34m.\u001b[0m\u001b[0mvalue_counts\u001b[0m\u001b[0;34m(\u001b[0m\u001b[0;34m)\u001b[0m\u001b[0;34m\u001b[0m\u001b[0;34m\u001b[0m\u001b[0m\n\u001b[0m",
      "\u001b[0;31mNameError\u001b[0m: name 'df_plus' is not defined"
     ]
    }
   ],
   "source": [
    "df_plus.grading_month.value_counts()"
   ]
  },
  {
   "cell_type": "code",
   "execution_count": 25,
   "id": "c6e4d829",
   "metadata": {},
   "outputs": [
    {
     "data": {
      "text/plain": [
       "7     63\n",
       "6     49\n",
       "8     47\n",
       "5     46\n",
       "3     45\n",
       "12    43\n",
       "4     39\n",
       "9     38\n",
       "10    34\n",
       "2     25\n",
       "1     23\n",
       "11    19\n",
       "Name: grading_month, dtype: int64"
      ]
     },
     "execution_count": 25,
     "metadata": {},
     "output_type": "execute_result"
    }
   ],
   "source": [
    "train.grading_month.value_counts()"
   ]
  },
  {
   "cell_type": "code",
   "execution_count": 56,
   "id": "93e999af",
   "metadata": {},
   "outputs": [
    {
     "data": {
      "image/png": "[encoded data removed]",
      "text/plain": [
       "<Figure size 432x288 with 1 Axes>"
      ]
     },
     "metadata": {},
     "output_type": "display_data"
    }
   ],
   "source": [
    "s = (df_rating.grading_month.value_counts()/train.grading_month.value_counts()*100).sort_values()\n",
    "ax = sns.barplot(s.index, s, color='blue')\n",
    "ax.set_title('84 or Higher by grading Month', fontsize = 13)\n",
    "sns.set(font_scale = 1)\n",
    "ax.set(xlabel='Month', ylabel='Total')\n",
    "plt.show()"
   ]
  },
  {
   "cell_type": "code",
   "execution_count": 57,
   "id": "43178ac7",
   "metadata": {},
   "outputs": [
    {
     "data": {
      "text/plain": [
       "2015    18\n",
       "2012    13\n",
       "2013    11\n",
       "2014    11\n",
       "2016     9\n",
       "2011     6\n",
       "2017     6\n",
       "Name: grading_year, dtype: int64"
      ]
     },
     "execution_count": 57,
     "metadata": {},
     "output_type": "execute_result"
    }
   ],
   "source": [
    "df_rating.grading_year.value_counts()"
   ]
  },
  {
   "cell_type": "code",
   "execution_count": 58,
   "id": "d59acba5",
   "metadata": {},
   "outputs": [
    {
     "data": {
      "text/plain": [
       "2012    135\n",
       "2014     79\n",
       "2015     78\n",
       "2013     75\n",
       "2017     57\n",
       "2016     35\n",
       "2011     11\n",
       "2010      1\n",
       "Name: grading_year, dtype: int64"
      ]
     },
     "execution_count": 58,
     "metadata": {},
     "output_type": "execute_result"
    }
   ],
   "source": [
    "train.grading_year.value_counts()"
   ]
  },
  {
   "cell_type": "code",
   "execution_count": 59,
   "id": "412e32a2",
   "metadata": {},
   "outputs": [
    {
     "data": {
      "image/png": "[encoded data removed]",
      "text/plain": [
       "<Figure size 432x288 with 1 Axes>"
      ]
     },
     "metadata": {},
     "output_type": "display_data"
    }
   ],
   "source": [
    "s = (df_rating.grading_year.value_counts()/train.grading_year.value_counts()*100).sort_values()\n",
    "ax = sns.barplot(s.index, s, color='blue')\n",
    "ax.set_title('84 or Higher by Graded Year', fontsize = 13)\n",
    "sns.set(font_scale = 1)\n",
    "ax.set(xlabel='Month', ylabel='Total')\n",
    "plt.show()"
   ]
  },
  {
   "cell_type": "code",
   "execution_count": 65,
   "id": "73a81a73",
   "metadata": {},
   "outputs": [
    {
     "data": {
      "text/plain": [
       "<AxesSubplot:>"
      ]
     },
     "execution_count": 65,
     "metadata": {},
     "output_type": "execute_result"
    },
    {
     "data": {
      "image/png": "[encoded data removed]",
      "text/plain": [
       "<Figure size 432x288 with 1 Axes>"
      ]
     },
     "metadata": {},
     "output_type": "display_data"
    }
   ],
   "source": [
    "df_rating.bag_weight.hist()"
   ]
  },
  {
   "cell_type": "code",
   "execution_count": 66,
   "id": "a5c0f122",
   "metadata": {},
   "outputs": [
    {
     "data": {
      "text/plain": [
       "70.0    15\n",
       "60.0    14\n",
       "1.0     14\n",
       "69.0    12\n",
       "2.0      6\n",
       "20.0     2\n",
       "30.0     2\n",
       "7.0      2\n",
       "80.0     1\n",
       "59.0     1\n",
       "5.0      1\n",
       "66.0     1\n",
       "40.0     1\n",
       "4.0      1\n",
       "34.0     1\n",
       "Name: bag_weight, dtype: int64"
      ]
     },
     "execution_count": 66,
     "metadata": {},
     "output_type": "execute_result"
    }
   ],
   "source": [
    "df_rating.bag_weight.value_counts()"
   ]
  },
  {
   "cell_type": "code",
   "execution_count": 67,
   "id": "5ee6e263",
   "metadata": {},
   "outputs": [
    {
     "data": {
      "text/plain": [
       "1.0        149\n",
       "69.0       100\n",
       "60.0        64\n",
       "70.0        54\n",
       "2.0         46\n",
       "30.0        11\n",
       "20.0         8\n",
       "59.0         4\n",
       "10.0         4\n",
       "7.0          4\n",
       "11.0         3\n",
       "5.0          3\n",
       "50.0         3\n",
       "80.0         3\n",
       "9.0          2\n",
       "18975.0      2\n",
       "24.0         1\n",
       "4.0          1\n",
       "66.0         1\n",
       "350.0        1\n",
       "34.0         1\n",
       "29.0         1\n",
       "1500.0       1\n",
       "40.0         1\n",
       "18.0         1\n",
       "67.0         1\n",
       "6.0          1\n",
       "Name: bag_weight, dtype: int64"
      ]
     },
     "execution_count": 67,
     "metadata": {},
     "output_type": "execute_result"
    }
   ],
   "source": [
    "train.bag_weight.value_counts()"
   ]
  },
  {
   "cell_type": "code",
   "execution_count": null,
   "id": "23601380",
   "metadata": {},
   "outputs": [],
   "source": []
  }
 ],
 "metadata": {
  "kernelspec": {
   "display_name": "Python 3",
   "language": "python",
   "name": "python3"
  },
  "language_info": {
   "codemirror_mode": {
    "name": "ipython",
    "version": 3
   },
   "file_extension": ".py",
   "mimetype": "text/x-python",
   "name": "python",
   "nbconvert_exporter": "python",
   "pygments_lexer": "ipython3",
   "version": "3.8.8"
  }
 },
 "nbformat": 4,
 "nbformat_minor": 5
}
