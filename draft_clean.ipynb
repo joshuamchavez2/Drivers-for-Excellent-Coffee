{
 "cells": [
  {
   "cell_type": "code",
   "execution_count": 11,
   "id": "4191f01e",
   "metadata": {},
   "outputs": [],
   "source": [
    "from datetime import datetime\n",
    "import pandas as pd\n",
    "import numpy as np\n",
    "import matplotlib as plt\n",
    "from wrangle import wrangle\n",
    "from acquire import acquire\n",
    "from prepare import prepare, clean"
   ]
  },
  {
   "cell_type": "code",
   "execution_count": 14,
   "id": "c9cde667",
   "metadata": {},
   "outputs": [],
   "source": [
    "pd.set_option(\"display.max_rows\", None, \"display.max_columns\", None) \n",
    "\n",
    "pd.reset_option(\"display.max_rows\", \"display.max_columns\")"
   ]
  },
  {
   "cell_type": "code",
   "execution_count": 61,
   "id": "eec27f7e",
   "metadata": {},
   "outputs": [],
   "source": [
    "df = acquire()"
   ]
  },
  {
   "cell_type": "markdown",
   "id": "ab99ef79",
   "metadata": {},
   "source": [
    "65 – 80 = Commodity Coffee The type used to make supermarket coffee, blends and instant.\n",
    "\n",
    "80+ = Specialty Coffee The flavours are more subtle, the cup more balanced. At Pact we only buy coffees of 84+, though most of them score 86+.\n",
    "\n",
    "90+ = Presidential Award These prestigious coffees make up less than 1% of the specialty coffee market, they’re just that rare. And that good."
   ]
  },
  {
   "cell_type": "markdown",
   "id": "555f0011",
   "metadata": {},
   "source": [
    "# Clean Notes"
   ]
  },
  {
   "cell_type": "markdown",
   "id": "d0abeb06",
   "metadata": {},
   "source": [
    "#### Dropped Columns\n",
    "\n",
    "These columns got dropped because they didn't offer any value\n",
    "- 'Unnamed: 0'\n",
    "- 'Owner'\n",
    "- 'Farm.Name'\n",
    "- 'Company'\n",
    "- 'Expiration'\n",
    "- 'Lot.Number'\n",
    "- 'Mill'\n",
    "- 'Producer'\n",
    "- 'Certification.Address'\n",
    "- 'Certification.Contact'\n",
    "- 'ICO.Number'\n",
    "- 'Certification.Body'\n",
    "- 'In.Country.Partner'\n",
    "- 'Owner.1'\n",
    "- 'Species'\n",
    "- 'Altitude'\n",
    "- 'unit_of_measurement'\n",
    "- 'altitude_low_meters' \n",
    "- 'altitude_high_meters'\n",
    "\n",
    "#### Handle Nulls\n",
    "\n",
    "Dropped any row that was missing a value from the following columns:\n",
    "- 'Altitude'\n",
    "- 'Region'\n",
    "- 'Quakers'\n",
    "- 'Harvest.Year'\n",
    "- 'Variety'\n",
    "\n",
    "Used the median value to fill in missing values from the following columns:\n",
    "- 'Color'\n",
    "- 'Processing.Method'\n",
    "\n",
    "#### Convert Data Types\n",
    "\n",
    "Changed the following columns data types:\n",
    "- 'Bag.Weight' -> float\n",
    "- 'Grading.Date' -> datetime\n",
    "- 'Harvest.Year' -> int\n",
    "\n",
    "#### Miscellaneous\n",
    "\n",
    "- In 'Color' I Converted any Bluish-Green value to Blue-Green\n",
    "- In 'Bag.Weight' converted lbs into kg\n",
    "- Seperated 'Grading.Date' into three new columns 'grading_month', 'grading_year', 'grading_day'\n",
    "\n",
    "#### Rename\n",
    "\n",
    "Changed the following columns names to something more conventional:\n",
    "- 'Country.of.Origin' -> 'country'\n",
    "- 'Region' -> 'region'\n",
    "- 'Number.of.Bags' -> 'number_of_bags'\n",
    "- 'Harvest.Year' -> 'harvest_year', \n",
    "- 'Grading.Date' -> 'grading_date'\n",
    "- 'Variety' -> 'variety'\n",
    "- 'Processing.Method' -> 'processing_method'\n",
    "- 'Aroma' -> 'aroma',\n",
    "- 'Flavor' -> 'flavor'\n",
    "- 'Aftertaste' -> 'aftertaste'\n",
    "- 'Acidity' -> 'acidity'\n",
    "- 'Body' -> 'body'\n",
    "- 'Balance' -> 'balance'\n",
    "- 'Uniformity' -> 'uniformity'\n",
    "- 'Clean.Cup' -> 'clean_cup'\n",
    "- 'Sweetness' -> 'sweetness'\n",
    "- 'Cupper.Points' -> 'cupper_points',\n",
    "- 'Total.Cup.Points' -> 'total_cup_points'\n",
    "- 'Moisture' -> 'moisture'\n",
    "- 'Category.One.Defects' -> 'category_one_defects', \n",
    "- 'Quakers' -> 'quakers'\n",
    "- 'Color' -> 'color'\n",
    "- 'Category.Two.Defects' -> 'category_two_defects'\n",
    "\n",
    "#### Engineered columns\n",
    "\n",
    "- 'grading_month' = from Grading.Date\n",
    "- 'grading_year' = from Grading.Date\n",
    "- 'grading_day' = from Grading.Date\n",
    "- 'excellent_rating' = from total_cup_points >= 84\n",
    "- 'total_bag_weight' = number_of_bags * bag_weight\n",
    "\n",
    "#### Encode\n",
    "- Created dummy columns for - 'variety', 'processing_method', 'color'\n"
   ]
  },
  {
   "cell_type": "code",
   "execution_count": null,
   "id": "f3bb2610",
   "metadata": {},
   "outputs": [],
   "source": [
    "def clean(df):\n",
    "    '''\n",
    "    Takes in a pandas dataframe\n",
    "    Designed to clean the 'arabica_data_cleaned.csv' file\n",
    "    Dropped columns that didn't offer any value.\n",
    "    Dropped any row that was missing a value from - Altitude, Region, Quakers, Harvest.Year, Variety\n",
    "    Used the median value to fill in missing values from - Color, Processing.Method\n",
    "    Convert Data Types\n",
    "    Miscellaneous fixes\n",
    "    Renamed columns\n",
    "    returns a pandas dataframe\n",
    "    '''\n",
    "    \n",
    "    # Dropped Columns\n",
    "    col_remove = ['Unnamed: 0', 'Owner', 'Farm.Name', 'Company', 'Expiration','Lot.Number', 'Mill', 'Producer', 'Certification.Address', 'Certification.Contact', 'ICO.Number','Certification.Body','In.Country.Partner', 'Owner.1', ]\n",
    "    df = df.drop(columns=col_remove)\n",
    "    \n",
    "    # Dropped any row that was missing a value from - Altitude, Region, Quakers, Harvest.Year, Variety\n",
    "    df = df[~df['Altitude'].isnull()]\n",
    "    df = df[~df['Region'].isnull()]\n",
    "    df = df[~df['Quakers'].isnull()]\n",
    "    df = df[~df['Harvest.Year'].isnull()]\n",
    "    df = df[~df['Variety'].isnull()]\n",
    "    \n",
    "    # Used the median value to fill in missing values for - Color, Processing.Method\n",
    "    df['Color'] = np.where(df['Color'] == 'None', 'Green', df.Color)\n",
    "    df['Color'] = np.where(df['Color'].isnull(), 'Green', df.Color)\n",
    "    df['Color'] = np.where(df['Color'] == 'Bluish-Green', 'Blue-Green', df.Color)\n",
    "    df['Processing.Method'] = np.where(df['Processing.Method'].isnull(), 'Washed / Wet', df['Processing.Method'])\n",
    "\n",
    "    # Convert Data Type of Bag.Weight and change from lbs to Kilograms\n",
    "    df[['bag_weight', 'bag_weight_unit']]= df['Bag.Weight'].str.split(expand=True)\n",
    "    df.bag_weight = df.bag_weight.astype(float)\n",
    "    df.bag_weight = np.where(df.bag_weight_unit == 'lbs', round(df.bag_weight * 2.20462), df.bag_weight)\n",
    "    df = df.drop(columns=['bag_weight_unit', 'Bag.Weight'])\n",
    "    \n",
    "    # Convert Data Type for Grading.Date and split by day,month, year \n",
    "    df['Grading.Date'] = pd.to_datetime(df['Grading.Date'])\n",
    "    df['grading_month'] = df['Grading.Date'].dt.month\n",
    "    df['grading_year'] = df['Grading.Date'].dt.year\n",
    "    df['grading_day'] = df['Grading.Date'].dt.day\n",
    "\n",
    "    # Miscellaneous fixes\n",
    "    \n",
    "    # Dropped this value of Harvest.Year because it equalled 'Mayo a Julio'\n",
    "    df = df.drop(list(df[df['Harvest.Year']=='Mayo a Julio'].index))\n",
    "    \n",
    "    # Anywhere where given two years as a range for Harvest.Year I filled with grading year instead\n",
    "    df['Harvest.Year'] = np.where(df['Harvest.Year'].str.contains('/'), df.grading_year, df['Harvest.Year'])\n",
    "    df['Harvest.Year'] = np.where(df['Harvest.Year'].str.contains('-'), df.grading_year, df['Harvest.Year'])\n",
    "    df['Harvest.Year'] = df['Harvest.Year'].astype(int)\n",
    "    \n",
    "    # Data Input Errors, used google to compare regions altitude to confirm correct altitude\n",
    "    df.at[543,'altitude_mean_meters']=1100\n",
    "    df.at[896, 'altitude_mean_meters']=1901.64\n",
    "    df.at[1040, 'altitude_mean_meters']=1100\n",
    "    df.at[1144, 'altitude_mean_meters']=1901.64\n",
    "    df.at[41, 'altitude_mean_meters']=1150\n",
    "    df.at[42, 'altitude_mean_meters']=1150\n",
    "    \n",
    "    # Removing older verisons or now un-needed columns\n",
    "    more_col_remove = ['Species', 'Altitude', 'unit_of_measurement', 'altitude_low_meters', 'altitude_high_meters']\n",
    "    df = df.drop(columns=more_col_remove)\n",
    "    \n",
    "    # Renamed Columns\n",
    "    df = df.rename(columns={'Country.of.Origin':'country', 'Region':'region', 'Number.of.Bags':'number_of_bags', 'Harvest.Year':'harvest_year', \n",
    "                   'Grading.Date':'grading_date', 'Variety':'variety', 'Processing.Method':'processing_method', 'Aroma':'aroma',\n",
    "                   'Flavor':'flavor', 'Aftertaste':'aftertaste', 'Acidity':'acidity', 'Body':'body', 'Balance':'balance',\n",
    "                   'Uniformity':'uniformity', 'Clean.Cup':'clean_cup', 'Sweetness':'sweetness', 'Cupper.Points':'cupper_points',\n",
    "                   'Total.Cup.Points':'total_cup_points', 'Moisture':'moisture', 'Category.One.Defects':'category_one_defects', \n",
    "                   'Quakers':'quakers', 'Color':'color', 'Category.Two.Defects': 'category_two_defects'})\n",
    "    \n",
    "    # Created Target Feature, Looking for total_cup_points greater than 85\n",
    "    df['excellent_rating'] = np.where(df.total_cup_points > 85, 1, 0)\n",
    "    \n",
    "    return df\n",
    "    "
   ]
  },
  {
   "cell_type": "code",
   "execution_count": null,
   "id": "ca1ab6e7",
   "metadata": {},
   "outputs": [],
   "source": [
    "def encode(df):\n",
    "    '''\n",
    "    Encode takes in a pandas dataframe\n",
    "    Creates dummy columns for variety, processing_method, & color\n",
    "    Adds the new columns to pandas dataframe\n",
    "    Drops non numeric columns\n",
    "    Returns a pandas dataframe\n",
    "    '''\n",
    "    \n",
    "    # Making Dummy Columns for variety, processing_method, & color\n",
    "    dummy_columns = ['variety', 'processing_method', 'color']\n",
    "    df_dummy = pd.get_dummies(df[dummy_columns])\n",
    "    \n",
    "    # Droppign Blue-Green from color since there are only two colors, its either green or its not\n",
    "    df_dummy = df_dummy.drop(columns=['color_Blue-Green'])\n",
    "    \n",
    "    # Combine our dummy columns with our data frame\n",
    "    df = pd.concat([df, df_dummy], axis = 1)\n",
    "    \n",
    "    # Drop any non numeric columns\n",
    "    df = df.drop(columns=cols)\n",
    "    \n",
    "    return df"
   ]
  },
  {
   "cell_type": "markdown",
   "id": "0af5d216",
   "metadata": {},
   "source": [
    "# Cleaning Work Below"
   ]
  },
  {
   "cell_type": "code",
   "execution_count": null,
   "id": "6b7eb2de",
   "metadata": {},
   "outputs": [],
   "source": [
    "# acquired not cleaned\n",
    "df = acquire()"
   ]
  },
  {
   "cell_type": "code",
   "execution_count": null,
   "id": "da8d1190",
   "metadata": {},
   "outputs": [],
   "source": [
    "# got the data dictionary working\n",
    "get_data_dictionary(df).head()"
   ]
  },
  {
   "cell_type": "code",
   "execution_count": null,
   "id": "83471352",
   "metadata": {},
   "outputs": [],
   "source": [
    "df.head(3)"
   ]
  },
  {
   "cell_type": "code",
   "execution_count": null,
   "id": "3ba353dc",
   "metadata": {},
   "outputs": [],
   "source": [
    "df.describe().T"
   ]
  },
  {
   "cell_type": "markdown",
   "id": "698fbead",
   "metadata": {},
   "source": [
    "# Clean"
   ]
  },
  {
   "cell_type": "code",
   "execution_count": null,
   "id": "3f0182fb",
   "metadata": {},
   "outputs": [],
   "source": [
    "df.head(1)"
   ]
  },
  {
   "cell_type": "code",
   "execution_count": null,
   "id": "43e02b39",
   "metadata": {},
   "outputs": [],
   "source": [
    "col_remove = ['Unnamed: 0', 'Owner', 'Farm.Name', 'Company', 'Lot.Number', 'Mill', 'Producer', 'Certification.Address', 'Certification.Contact', 'ICO.Number','Certification.Body','In.Country.Partner','unit_of_measurement', 'Owner.1', ]"
   ]
  },
  {
   "cell_type": "code",
   "execution_count": null,
   "id": "94a7ed0e",
   "metadata": {},
   "outputs": [],
   "source": [
    "df.head(1)"
   ]
  },
  {
   "cell_type": "code",
   "execution_count": null,
   "id": "a73006a2",
   "metadata": {},
   "outputs": [],
   "source": [
    "df[(~df['Region'].isnull()) & (df['Altitude'].isnull())]"
   ]
  },
  {
   "cell_type": "markdown",
   "id": "f0a83b20",
   "metadata": {},
   "source": [
    "Anything not labeled in lbs or kg must be dropped"
   ]
  },
  {
   "cell_type": "code",
   "execution_count": null,
   "id": "ea673d91",
   "metadata": {},
   "outputs": [],
   "source": [
    "df[df['Country.of.Origin'] == 'United States (Hawaii)'].Altitude.value_counts()"
   ]
  },
  {
   "cell_type": "code",
   "execution_count": null,
   "id": "663ec87e",
   "metadata": {},
   "outputs": [],
   "source": [
    "df.head(3)"
   ]
  },
  {
   "cell_type": "markdown",
   "id": "73d60bf9",
   "metadata": {},
   "source": [
    "## Trying to salvage empty Altitude rows by looking at farm name and region of other observations"
   ]
  },
  {
   "cell_type": "code",
   "execution_count": null,
   "id": "f606ae18",
   "metadata": {},
   "outputs": [],
   "source": [
    "df[(~df['Farm.Name'].isnull()) & (df['Altitude'].isnull())][['Farm.Name', 'Altitude']]"
   ]
  },
  {
   "cell_type": "code",
   "execution_count": null,
   "id": "3c9e7889",
   "metadata": {},
   "outputs": [],
   "source": [
    "# kona missing altitude\n",
    "kona_df = df[df['Region']=='kona']\n",
    "kona_df[['Farm.Name', 'Altitude', 'Region']]['Farm.Name'].value_counts()"
   ]
  },
  {
   "cell_type": "code",
   "execution_count": null,
   "id": "b64ed6ed",
   "metadata": {},
   "outputs": [],
   "source": [
    "df = df[~df['Altitude'].isnull()]"
   ]
  },
  {
   "cell_type": "code",
   "execution_count": null,
   "id": "df5c6df6",
   "metadata": {},
   "outputs": [],
   "source": [
    "kona_df[kona_df[['Farm.Name', 'Altitude']]['Farm.Name']== 'kona pacific farmers cooperative']"
   ]
  },
  {
   "cell_type": "markdown",
   "id": "6616ad88",
   "metadata": {},
   "source": [
    "### Salvage not possible, I will be Removing all altitude missing values"
   ]
  },
  {
   "cell_type": "markdown",
   "id": "058a1efb",
   "metadata": {},
   "source": [
    "# looking at missing color values"
   ]
  },
  {
   "cell_type": "code",
   "execution_count": null,
   "id": "f79af08b",
   "metadata": {},
   "outputs": [],
   "source": [
    "# 142 missing values\n",
    "# Need to rename Bluish-Green with just Blue-Green\n",
    "# fill in NA with Green"
   ]
  },
  {
   "cell_type": "code",
   "execution_count": null,
   "id": "b396510b",
   "metadata": {},
   "outputs": [],
   "source": [
    "len(df[df['Color'].isnull()])"
   ]
  },
  {
   "cell_type": "code",
   "execution_count": null,
   "id": "0da14306",
   "metadata": {},
   "outputs": [],
   "source": [
    "df['Color'].value_counts(dropna=False)"
   ]
  },
  {
   "cell_type": "code",
   "execution_count": null,
   "id": "ef409722",
   "metadata": {},
   "outputs": [],
   "source": [
    "df['Color'] = np.where(df['Color'] == 'Bluish-Green', 'Blue-Green', df.Color)"
   ]
  },
  {
   "cell_type": "code",
   "execution_count": null,
   "id": "650d7457",
   "metadata": {},
   "outputs": [],
   "source": [
    "df['Color'] = np.where(df['Color'] == 'None', 'Green', df.Color)\n",
    "df['Color'] = np.where(df['Color'].isnull(), 'Green', df.Color)"
   ]
  },
  {
   "cell_type": "code",
   "execution_count": null,
   "id": "65c1a336",
   "metadata": {},
   "outputs": [],
   "source": [
    "df[df['Color'].isnull()]"
   ]
  },
  {
   "cell_type": "markdown",
   "id": "e1e35cd1",
   "metadata": {},
   "source": [
    "# Processing.Method"
   ]
  },
  {
   "cell_type": "code",
   "execution_count": null,
   "id": "d6096a2c",
   "metadata": {},
   "outputs": [],
   "source": [
    "df['Processing.Method'].value_counts(dropna=False)"
   ]
  },
  {
   "cell_type": "code",
   "execution_count": null,
   "id": "93225fb0",
   "metadata": {},
   "outputs": [],
   "source": [
    "df['Processing.Method'] = np.where(df['Processing.Method'].isnull(), 'Washed / Wet', df['Processing.Method'])"
   ]
  },
  {
   "cell_type": "markdown",
   "id": "18d62f3a",
   "metadata": {},
   "source": [
    "# Variety"
   ]
  },
  {
   "cell_type": "code",
   "execution_count": null,
   "id": "3ce18e22",
   "metadata": {},
   "outputs": [],
   "source": [
    "# acquired not cleaned\n",
    "df = acquire()\n",
    "df.Variety.value_counts(dropna=False)\n",
    "\n",
    "df = df[~df['Variety'].isnull()]"
   ]
  },
  {
   "cell_type": "code",
   "execution_count": null,
   "id": "f3d2e626",
   "metadata": {},
   "outputs": [],
   "source": [
    "df.head()"
   ]
  },
  {
   "cell_type": "code",
   "execution_count": null,
   "id": "506efd5e",
   "metadata": {},
   "outputs": [],
   "source": [
    "df = acquire()\n",
    "df.head(1)"
   ]
  },
  {
   "cell_type": "code",
   "execution_count": null,
   "id": "e4449a35",
   "metadata": {},
   "outputs": [],
   "source": [
    "df.columns[df.isnull().sum() > 0]"
   ]
  },
  {
   "cell_type": "code",
   "execution_count": null,
   "id": "573bae38",
   "metadata": {},
   "outputs": [],
   "source": [
    "df = df[~df['Region'].isnull()]\n",
    "df = df[~df['Quakers'].isnull()]\n",
    "df = df[~df['Harvest.Year'].isnull()]"
   ]
  },
  {
   "cell_type": "code",
   "execution_count": null,
   "id": "93602650",
   "metadata": {
    "scrolled": true
   },
   "outputs": [],
   "source": [
    "df.isnull().sum()"
   ]
  },
  {
   "cell_type": "code",
   "execution_count": null,
   "id": "22b86cd7",
   "metadata": {},
   "outputs": [],
   "source": [
    "df.head()"
   ]
  },
  {
   "cell_type": "markdown",
   "id": "0dfa0473",
   "metadata": {},
   "source": [
    "# Working with Bag Weight"
   ]
  },
  {
   "cell_type": "code",
   "execution_count": null,
   "id": "8af2fde6",
   "metadata": {},
   "outputs": [],
   "source": [
    "df['Bag.Weight'].value_counts(dropna = False)"
   ]
  },
  {
   "cell_type": "code",
   "execution_count": null,
   "id": "fb9eb43b",
   "metadata": {},
   "outputs": [],
   "source": [
    "df[['bag_weight', 'bag_weight_unit']]= df['Bag.Weight'].str.split(expand=True)"
   ]
  },
  {
   "cell_type": "code",
   "execution_count": null,
   "id": "a3b11fb2",
   "metadata": {},
   "outputs": [],
   "source": [
    "df[['bag_weight', 'bag_weight_unit', 'Bag.Weight']]"
   ]
  },
  {
   "cell_type": "code",
   "execution_count": null,
   "id": "e5380b4e",
   "metadata": {},
   "outputs": [],
   "source": [
    "df.bag_weight_unit.value_counts()"
   ]
  },
  {
   "cell_type": "code",
   "execution_count": null,
   "id": "bca4c787",
   "metadata": {},
   "outputs": [],
   "source": [
    "df.bag_weight = df.bag_weight.astype(float)"
   ]
  },
  {
   "cell_type": "code",
   "execution_count": null,
   "id": "f563aeb6",
   "metadata": {},
   "outputs": [],
   "source": [
    "df.bag_weight.dtype"
   ]
  },
  {
   "cell_type": "code",
   "execution_count": null,
   "id": "88fa553a",
   "metadata": {},
   "outputs": [],
   "source": [
    "df.bag_weight = np.where(df.bag_weight_unit == 'lbs', round(df.bag_weight * 2.20462), df.bag_weight)"
   ]
  },
  {
   "cell_type": "code",
   "execution_count": null,
   "id": "92bfa96c",
   "metadata": {},
   "outputs": [],
   "source": [
    "df[['bag_weight', 'bag_weight_unit', 'Bag.Weight']][df.bag_weight_unit == 'lbs']"
   ]
  },
  {
   "cell_type": "code",
   "execution_count": null,
   "id": "9234e038",
   "metadata": {},
   "outputs": [],
   "source": [
    "df = acquire()\n",
    "df.head(1)"
   ]
  },
  {
   "cell_type": "code",
   "execution_count": null,
   "id": "04a53274",
   "metadata": {},
   "outputs": [],
   "source": [
    "# Splitting up the Grading Date\n",
    "df['Grading.Date'] = pd.to_datetime(df['Grading.Date'])"
   ]
  },
  {
   "cell_type": "code",
   "execution_count": null,
   "id": "bab9d150",
   "metadata": {},
   "outputs": [],
   "source": [
    "df['grading_month'] = df['Grading.Date'].dt.month"
   ]
  },
  {
   "cell_type": "code",
   "execution_count": null,
   "id": "5ce401c7",
   "metadata": {},
   "outputs": [],
   "source": [
    "df['grading_year'] = df['Grading.Date'].dt.year"
   ]
  },
  {
   "cell_type": "code",
   "execution_count": null,
   "id": "61e0b6d0",
   "metadata": {},
   "outputs": [],
   "source": [
    "df['grading_day'] = df['Grading.Date'].dt.day"
   ]
  },
  {
   "cell_type": "code",
   "execution_count": null,
   "id": "4c105d77",
   "metadata": {},
   "outputs": [],
   "source": [
    "df = df.drop(list(df[df['Harvest.Year']=='Mayo a Julio'].index))\n",
    "len(df)"
   ]
  },
  {
   "cell_type": "code",
   "execution_count": null,
   "id": "bcfc1361",
   "metadata": {},
   "outputs": [],
   "source": [
    "df['Harvest.Year'] = np.where(df['Harvest.Year'].str.contains('/'), df.grading_year, df['Harvest.Year'])\n",
    "df['Harvest.Year'] = np.where(df['Harvest.Year'].str.contains('-'), df.grading_year, df['Harvest.Year'])"
   ]
  },
  {
   "cell_type": "code",
   "execution_count": null,
   "id": "2792c8b7",
   "metadata": {},
   "outputs": [],
   "source": [
    "df = acquire()"
   ]
  },
  {
   "cell_type": "code",
   "execution_count": null,
   "id": "9e2c01b2",
   "metadata": {},
   "outputs": [],
   "source": [
    "df.info()"
   ]
  },
  {
   "cell_type": "code",
   "execution_count": null,
   "id": "6f6936e4",
   "metadata": {},
   "outputs": [],
   "source": [
    "df[((df['altitude_low_meters'] + df['altitude_high_meters']) / 2) != df['altitude_mean_meters']]"
   ]
  },
  {
   "cell_type": "code",
   "execution_count": null,
   "id": "d2022c72",
   "metadata": {},
   "outputs": [],
   "source": [
    "# Convert altitude feet to meters (3.28084)\n",
    "df.unit_of_measurement.value_counts()"
   ]
  },
  {
   "cell_type": "code",
   "execution_count": null,
   "id": "2f8cd243",
   "metadata": {},
   "outputs": [],
   "source": [
    "#df['altitude_mean'] = np.where(df.unit_of_measurement == 'ft', round(df.altitude_mean_meters * 3.28084), df.altitude_mean_meters)"
   ]
  },
  {
   "cell_type": "code",
   "execution_count": null,
   "id": "9406c577",
   "metadata": {},
   "outputs": [],
   "source": [
    "df[df['altitude_mean_meters'] > 4000]"
   ]
  },
  {
   "cell_type": "code",
   "execution_count": null,
   "id": "c06d7b19",
   "metadata": {},
   "outputs": [],
   "source": [
    "# Few typos and after some googling the typos add up\n",
    "df.at[543,'altitude_mean_meters']=1100\n",
    "df.at[896, 'altitude_mean_meters']=1901.64\n",
    "df.at[1040, 'altitude_mean_meters']=1100\n",
    "df.at[1144, 'altitude_mean_meters']=1901.64"
   ]
  },
  {
   "cell_type": "code",
   "execution_count": null,
   "id": "df6497ac",
   "metadata": {},
   "outputs": [],
   "source": [
    "df['altitude_mean_meters'].plot()"
   ]
  },
  {
   "cell_type": "code",
   "execution_count": null,
   "id": "439c8ce6",
   "metadata": {},
   "outputs": [],
   "source": [
    "df.head(1)"
   ]
  },
  {
   "cell_type": "code",
   "execution_count": null,
   "id": "ffaf594b",
   "metadata": {},
   "outputs": [],
   "source": [
    "df = acquire()\n",
    "df = clean(df)\n",
    "df.head(1)"
   ]
  },
  {
   "cell_type": "code",
   "execution_count": null,
   "id": "0514e92f",
   "metadata": {},
   "outputs": [],
   "source": [
    "df['total_bag_weight'] = df['number_of_bags'] * df['bag_weight']"
   ]
  },
  {
   "cell_type": "code",
   "execution_count": null,
   "id": "8c096d67",
   "metadata": {},
   "outputs": [],
   "source": [
    "df[['total_bag_weight', 'number_of_bags', 'bag_weight']]"
   ]
  },
  {
   "cell_type": "code",
   "execution_count": null,
   "id": "099b3c34",
   "metadata": {},
   "outputs": [],
   "source": [
    "df.rename(columns={'Country.of.Origin':'country', 'Region':'region', 'Number.of.Bags':'number_of_bags', 'Harvest.Year':'harvest_year', \n",
    "                   'Grading.Date':'grading_date', 'Variety':'variety', 'Processing.Method':'processing_method', 'Aroma':'aroma',\n",
    "                   'Flavor':'flavor', 'Aftertaste':'aftertaste', 'Acidity':'acidity', 'Body':'body', 'Balance':'balance',\n",
    "                   'Uniformity':'uniformity', 'Clean.Cup':'clean_cup', 'Sweetness':'sweetness', 'Cupper.Points':'cupper_points',\n",
    "                   'Total.Cup.Points':'total_cup_points', 'Moisture':'moisture', 'Category.One.Defects':'category_one_defects', \n",
    "                   'Quakers':'quakers', 'Color':'color', 'Category.Two.Defects': 'category_two_defects'})"
   ]
  },
  {
   "cell_type": "code",
   "execution_count": null,
   "id": "a0124513",
   "metadata": {},
   "outputs": [],
   "source": [
    "df.head()"
   ]
  },
  {
   "cell_type": "code",
   "execution_count": null,
   "id": "71e2cd22",
   "metadata": {},
   "outputs": [],
   "source": [
    "df = acquire()"
   ]
  },
  {
   "cell_type": "code",
   "execution_count": null,
   "id": "b3b8a9b2",
   "metadata": {},
   "outputs": [],
   "source": [
    "df = clean(df)"
   ]
  },
  {
   "cell_type": "code",
   "execution_count": null,
   "id": "ebbac2f9",
   "metadata": {},
   "outputs": [],
   "source": [
    "df.head()"
   ]
  },
  {
   "cell_type": "code",
   "execution_count": null,
   "id": "4e29249d",
   "metadata": {},
   "outputs": [],
   "source": [
    "df['excellent_rating'] = np.where(df.total_cup_points > 85, 1, 0)"
   ]
  },
  {
   "cell_type": "code",
   "execution_count": null,
   "id": "91ebce74",
   "metadata": {},
   "outputs": [],
   "source": [
    "df.head()"
   ]
  },
  {
   "cell_type": "code",
   "execution_count": null,
   "id": "6935ea24",
   "metadata": {},
   "outputs": [],
   "source": [
    " df.total_cup_points.median(),  df.total_cup_points.max()"
   ]
  },
  {
   "cell_type": "code",
   "execution_count": null,
   "id": "5102bc3e",
   "metadata": {},
   "outputs": [],
   "source": [
    "len(df[df.total_cup_points < 80])"
   ]
  },
  {
   "cell_type": "code",
   "execution_count": null,
   "id": "6537ff04",
   "metadata": {},
   "outputs": [],
   "source": [
    "len(df)"
   ]
  },
  {
   "cell_type": "code",
   "execution_count": null,
   "id": "1d4c8eeb",
   "metadata": {},
   "outputs": [],
   "source": [
    "df.at[41, 'altitude_mean_meters']=1150\n",
    "df.at[42, 'altitude_mean_meters']=1150\n",
    "df.head()"
   ]
  },
  {
   "cell_type": "markdown",
   "id": "f385d90b",
   "metadata": {},
   "source": [
    "# Notes"
   ]
  },
  {
   "cell_type": "markdown",
   "id": "c6c91424",
   "metadata": {},
   "source": [
    "- Some bag weights are in kg others in lbs, Anything not labeled in lbs or kg must be dropped\n",
    "- Some altitude low meters are in meters some in ft"
   ]
  },
  {
   "cell_type": "markdown",
   "id": "10d4bf0f",
   "metadata": {},
   "source": [
    "# Encoded / Create Dummies"
   ]
  },
  {
   "cell_type": "code",
   "execution_count": null,
   "id": "e03ebbdc",
   "metadata": {},
   "outputs": [],
   "source": [
    "df = acquire()\n",
    "df = clean(df)"
   ]
  },
  {
   "cell_type": "code",
   "execution_count": null,
   "id": "59f1e2a0",
   "metadata": {},
   "outputs": [],
   "source": [
    "df.head(1)\n",
    "cols =  ['country', 'region', 'grading_date', 'variety', 'processing_method', 'color', 'grading_month', 'grading_year', 'grading_day']"
   ]
  },
  {
   "cell_type": "code",
   "execution_count": null,
   "id": "39c20fec",
   "metadata": {},
   "outputs": [],
   "source": [
    "dummy_columns = ['variety', 'processing_method', 'color']"
   ]
  },
  {
   "cell_type": "code",
   "execution_count": null,
   "id": "59600d22",
   "metadata": {},
   "outputs": [],
   "source": [
    "df_dummy = pd.get_dummies(df[dummy_columns])"
   ]
  },
  {
   "cell_type": "code",
   "execution_count": null,
   "id": "2fdbb39b",
   "metadata": {},
   "outputs": [],
   "source": [
    "df_dummy = df_dummy.drop(columns=['color_Blue-Green'])"
   ]
  },
  {
   "cell_type": "code",
   "execution_count": null,
   "id": "db6f34a3",
   "metadata": {},
   "outputs": [],
   "source": [
    "df = pd.concat([df, df_dummy], axis = 1)"
   ]
  },
  {
   "cell_type": "code",
   "execution_count": null,
   "id": "42ccee16",
   "metadata": {},
   "outputs": [],
   "source": [
    "df = acquire()\n",
    "df = clean(df)\n",
    "df = encode(df)"
   ]
  },
  {
   "cell_type": "markdown",
   "id": "457e3618",
   "metadata": {},
   "source": [
    "# If i had more time i would have created a continent column and created dummies for that too"
   ]
  },
  {
   "cell_type": "code",
   "execution_count": 2,
   "id": "6270a607",
   "metadata": {},
   "outputs": [],
   "source": [
    "# variety, and cleaning method, maybe elavation (bottom end)"
   ]
  },
  {
   "cell_type": "code",
   "execution_count": 46,
   "id": "873feb49",
   "metadata": {},
   "outputs": [],
   "source": [
    "def remove_outliers(df):\n",
    "    df = df[(df.processing_method != 'Other') & (df.processing_method != 'Pulped natural / honey')]\n",
    "    \n",
    "    df = df[df.variety != 'Catimor']\n",
    "    df = df[df.variety != 'SL14']\n",
    "    df = df[df.variety != 'SL28']\n",
    "    df = df[df.variety != 'Pacas']\n",
    "    df = df[df.variety != 'Gesha']\n",
    "    df = df[df.variety != 'Pacamara']\n",
    "    df = df[df.variety != 'SL34']\n",
    "    df = df[df.variety != 'Java']\n",
    "    df = df[df.variety != 'Ethiopian Yirgacheffe']\n",
    "    df = df[df.variety != 'Blue Mountain']\n",
    "    df = df[df.variety != 'Ruiru 11']\n",
    "    df = df[df.variety != 'Ethiopian Heirlooms']\n",
    "    df = df[df.variety != 'Sumatra Lintong']\n",
    "    df = df[df.variety != 'Sumatra']\n",
    "    df = df[df.variety != 'Pache Comun']\n",
    "    df = df[df.variety != 'Mandheling']\n",
    "    df = df[df.variety != 'Marigojipe']\n",
    "    df = df[df.variety != 'Arusha']\n",
    "    df = df[df.variety != 'Moka Peaberry']\n",
    "    df = df[df.variety != 'Peaberry']\n",
    "    \n",
    "    return df"
   ]
  },
  {
   "cell_type": "code",
   "execution_count": 12,
   "id": "64f2640c",
   "metadata": {},
   "outputs": [],
   "source": [
    "df = acquire()\n",
    "df = clean(df)"
   ]
  },
  {
   "cell_type": "code",
   "execution_count": 15,
   "id": "0278811a",
   "metadata": {},
   "outputs": [
    {
     "data": {
      "text/html": [
       "<div>\n",
       "<style scoped>\n",
       "    .dataframe tbody tr th:only-of-type {\n",
       "        vertical-align: middle;\n",
       "    }\n",
       "\n",
       "    .dataframe tbody tr th {\n",
       "        vertical-align: top;\n",
       "    }\n",
       "\n",
       "    .dataframe thead th {\n",
       "        text-align: right;\n",
       "    }\n",
       "</style>\n",
       "<table border=\"1\" class=\"dataframe\">\n",
       "  <thead>\n",
       "    <tr style=\"text-align: right;\">\n",
       "      <th></th>\n",
       "      <th>country</th>\n",
       "      <th>region</th>\n",
       "      <th>number_of_bags</th>\n",
       "      <th>harvest_year</th>\n",
       "      <th>grading_date</th>\n",
       "      <th>variety</th>\n",
       "      <th>processing_method</th>\n",
       "      <th>aroma</th>\n",
       "      <th>flavor</th>\n",
       "      <th>aftertaste</th>\n",
       "      <th>acidity</th>\n",
       "      <th>body</th>\n",
       "      <th>balance</th>\n",
       "      <th>uniformity</th>\n",
       "      <th>clean_cup</th>\n",
       "      <th>sweetness</th>\n",
       "      <th>cupper_points</th>\n",
       "      <th>total_cup_points</th>\n",
       "      <th>moisture</th>\n",
       "      <th>category_one_defects</th>\n",
       "      <th>quakers</th>\n",
       "      <th>color</th>\n",
       "      <th>category_two_defects</th>\n",
       "      <th>altitude_mean_meters</th>\n",
       "      <th>bag_weight</th>\n",
       "      <th>grading_month</th>\n",
       "      <th>grading_year</th>\n",
       "      <th>grading_day</th>\n",
       "      <th>excellent_rating</th>\n",
       "    </tr>\n",
       "  </thead>\n",
       "  <tbody>\n",
       "    <tr>\n",
       "      <th>1</th>\n",
       "      <td>Ethiopia</td>\n",
       "      <td>guji-hambela</td>\n",
       "      <td>300</td>\n",
       "      <td>2014</td>\n",
       "      <td>2015-04-04</td>\n",
       "      <td>Other</td>\n",
       "      <td>Washed / Wet</td>\n",
       "      <td>8.75</td>\n",
       "      <td>8.67</td>\n",
       "      <td>8.5</td>\n",
       "      <td>8.58</td>\n",
       "      <td>8.42</td>\n",
       "      <td>8.42</td>\n",
       "      <td>10.0</td>\n",
       "      <td>10.0</td>\n",
       "      <td>10.0</td>\n",
       "      <td>8.58</td>\n",
       "      <td>89.92</td>\n",
       "      <td>0.12</td>\n",
       "      <td>0</td>\n",
       "      <td>0.0</td>\n",
       "      <td>Green</td>\n",
       "      <td>1</td>\n",
       "      <td>2075.0</td>\n",
       "      <td>60.0</td>\n",
       "      <td>4</td>\n",
       "      <td>2015</td>\n",
       "      <td>4</td>\n",
       "      <td>1</td>\n",
       "    </tr>\n",
       "  </tbody>\n",
       "</table>\n",
       "</div>"
      ],
      "text/plain": [
       "    country        region  number_of_bags  harvest_year grading_date variety  \\\n",
       "1  Ethiopia  guji-hambela             300          2014   2015-04-04   Other   \n",
       "\n",
       "  processing_method  aroma  flavor  aftertaste  acidity  body  balance  \\\n",
       "1      Washed / Wet   8.75    8.67         8.5     8.58  8.42     8.42   \n",
       "\n",
       "   uniformity  clean_cup  sweetness  cupper_points  total_cup_points  \\\n",
       "1        10.0       10.0       10.0           8.58             89.92   \n",
       "\n",
       "   moisture  category_one_defects  quakers  color  category_two_defects  \\\n",
       "1      0.12                     0      0.0  Green                     1   \n",
       "\n",
       "   altitude_mean_meters  bag_weight  grading_month  grading_year  grading_day  \\\n",
       "1                2075.0        60.0              4          2015            4   \n",
       "\n",
       "   excellent_rating  \n",
       "1                 1  "
      ]
     },
     "execution_count": 15,
     "metadata": {},
     "output_type": "execute_result"
    }
   ],
   "source": [
    "df.head(1)"
   ]
  },
  {
   "cell_type": "code",
   "execution_count": 17,
   "id": "ff3c21fd",
   "metadata": {},
   "outputs": [
    {
     "data": {
      "text/plain": [
       "Washed / Wet                 724\n",
       "Natural / Dry                171\n",
       "Semi-washed / Semi-pulped     53\n",
       "Other                         25\n",
       "Pulped natural / honey         9\n",
       "Name: processing_method, dtype: int64"
      ]
     },
     "execution_count": 17,
     "metadata": {},
     "output_type": "execute_result"
    }
   ],
   "source": [
    "df.processing_method.value_counts()"
   ]
  },
  {
   "cell_type": "code",
   "execution_count": 26,
   "id": "f57bfdbf",
   "metadata": {},
   "outputs": [
    {
     "data": {
      "text/plain": [
       "982"
      ]
     },
     "execution_count": 26,
     "metadata": {},
     "output_type": "execute_result"
    }
   ],
   "source": [
    "len(df)"
   ]
  },
  {
   "cell_type": "code",
   "execution_count": 27,
   "id": "b90a58a0",
   "metadata": {},
   "outputs": [],
   "source": [
    "df = df[(df.processing_method != 'Other') & (df.processing_method != 'Pulped natural / honey')]"
   ]
  },
  {
   "cell_type": "code",
   "execution_count": 29,
   "id": "c79390d0",
   "metadata": {},
   "outputs": [
    {
     "data": {
      "text/plain": [
       "948"
      ]
     },
     "execution_count": 29,
     "metadata": {},
     "output_type": "execute_result"
    }
   ],
   "source": [
    "len(df)"
   ]
  },
  {
   "cell_type": "code",
   "execution_count": 44,
   "id": "beee1983",
   "metadata": {},
   "outputs": [
    {
     "data": {
      "text/plain": [
       "Catimor                  18\n",
       "SL14                     16\n",
       "SL28                     13\n",
       "Pacas                    13\n",
       "Gesha                    12\n",
       "Pacamara                  8\n",
       "SL34                      7\n",
       "Java                      2\n",
       "Ethiopian Yirgacheffe     2\n",
       "Blue Mountain             2\n",
       "Ruiru 11                  2\n",
       "Ethiopian Heirlooms       1\n",
       "Sumatra Lintong           1\n",
       "Sumatra                   1\n",
       "Pache Comun               1\n",
       "Mandheling                1\n",
       "Marigojipe                1\n",
       "Arusha                    1\n",
       "Moka Peaberry             1\n",
       "Peaberry                  1\n",
       "Name: variety, dtype: int64"
      ]
     },
     "execution_count": 44,
     "metadata": {},
     "output_type": "execute_result"
    }
   ],
   "source": [
    "df.variety.value_counts()[df.variety.value_counts() < 25]"
   ]
  },
  {
   "cell_type": "code",
   "execution_count": null,
   "id": "17980c1c",
   "metadata": {},
   "outputs": [],
   "source": [
    "df = df[(df.variety != 'Catimor')\n",
    "df = df[(df.variety != 'SL14')\n",
    "df = df[(df.variety != 'SL28')\n",
    "df = df[(df.variety != 'Pacas')\n",
    "df = df[(df.variety != 'Gesha')\n",
    "df = df[(df.variety != 'Pacamara')\n",
    "df = df[(df.variety != 'SL34')\n",
    "df = df[(df.variety != 'Java')\n",
    "df = df[(df.variety != 'Ethiopian Yirgacheffe')\n",
    "df = df[(df.variety != 'Blue Mountain')\n",
    "df = df[(df.variety != 'Ruiru 11')\n",
    "df = df[(df.variety != 'Ethiopian Heirlooms')\n",
    "df = df[(df.variety != 'Sumatra Lintong')\n",
    "df = df[(df.variety != 'Sumatra')\n",
    "df = df[(df.variety != 'Pache Comun')\n",
    "df = df[(df.variety != 'Mandheling')\n",
    "df = df[(df.variety != 'Marigojipe')\n",
    "df = df[(df.variety != 'Arusha')\n",
    "df = df[(df.variety != 'Moka Peaberry')\n",
    "df = df[(df.variety != 'Peaberry')"
   ]
  },
  {
   "cell_type": "code",
   "execution_count": 48,
   "id": "43020dc2",
   "metadata": {},
   "outputs": [],
   "source": [
    "df = acquire()\n",
    "df = clean(df)\n",
    "df = remove_outliers(df)"
   ]
  },
  {
   "cell_type": "code",
   "execution_count": 49,
   "id": "829b59e9",
   "metadata": {},
   "outputs": [
    {
     "data": {
      "text/plain": [
       "Caturra           229\n",
       "Bourbon           203\n",
       "Typica            199\n",
       "Other              93\n",
       "Catuai             65\n",
       "Yellow Bourbon     28\n",
       "Mundo Novo         27\n",
       "Name: variety, dtype: int64"
      ]
     },
     "execution_count": 49,
     "metadata": {},
     "output_type": "execute_result"
    }
   ],
   "source": [
    "df.variety.value_counts()"
   ]
  },
  {
   "cell_type": "code",
   "execution_count": 50,
   "id": "ccae0fca",
   "metadata": {},
   "outputs": [
    {
     "data": {
      "text/plain": [
       "Washed / Wet                 645\n",
       "Natural / Dry                150\n",
       "Semi-washed / Semi-pulped     49\n",
       "Name: processing_method, dtype: int64"
      ]
     },
     "execution_count": 50,
     "metadata": {},
     "output_type": "execute_result"
    }
   ],
   "source": [
    "df.processing_method.value_counts()"
   ]
  },
  {
   "cell_type": "code",
   "execution_count": 51,
   "id": "c062ecf9",
   "metadata": {},
   "outputs": [
    {
     "data": {
      "text/plain": [
       "844"
      ]
     },
     "execution_count": 51,
     "metadata": {},
     "output_type": "execute_result"
    }
   ],
   "source": [
    "len(df)"
   ]
  },
  {
   "cell_type": "code",
   "execution_count": null,
   "id": "8df10f48",
   "metadata": {},
   "outputs": [],
   "source": []
  }
 ],
 "metadata": {
  "kernelspec": {
   "display_name": "Python 3",
   "language": "python",
   "name": "python3"
  },
  "language_info": {
   "codemirror_mode": {
    "name": "ipython",
    "version": 3
   },
   "file_extension": ".py",
   "mimetype": "text/x-python",
   "name": "python",
   "nbconvert_exporter": "python",
   "pygments_lexer": "ipython3",
   "version": "3.8.8"
  }
 },
 "nbformat": 4,
 "nbformat_minor": 5
}
