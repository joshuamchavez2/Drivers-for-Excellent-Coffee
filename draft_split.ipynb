{
 "cells": [
  {
   "cell_type": "code",
   "execution_count": 16,
   "id": "aa7ed1ff",
   "metadata": {},
   "outputs": [],
   "source": [
    "import pandas as pd\n",
    "import numpy as np\n",
    "from wrangle import wrangle, wrangle_explore\n",
    "from sklearn.model_selection import train_test_split\n",
    "\n",
    "pd.set_option(\"display.max_rows\", None, \"display.max_columns\", None) \n",
    "\n",
    "pd.reset_option(\"display.max_rows\", \"display.max_columns\")"
   ]
  },
  {
   "cell_type": "code",
   "execution_count": 17,
   "id": "1d429b1d",
   "metadata": {},
   "outputs": [],
   "source": [
    "train, validate, test = wrangle()"
   ]
  },
  {
   "cell_type": "code",
   "execution_count": 18,
   "id": "ced99955",
   "metadata": {},
   "outputs": [
    {
     "data": {
      "text/plain": [
       "(549, 54)"
      ]
     },
     "execution_count": 18,
     "metadata": {},
     "output_type": "execute_result"
    }
   ],
   "source": [
    "train.shape"
   ]
  },
  {
   "cell_type": "code",
   "execution_count": 19,
   "id": "345dfa81",
   "metadata": {},
   "outputs": [],
   "source": [
    "train_explore, validate_explore, test_explore = wrangle_explore()"
   ]
  },
  {
   "cell_type": "code",
   "execution_count": 20,
   "id": "a35349b3",
   "metadata": {},
   "outputs": [
    {
     "data": {
      "text/plain": [
       "(549, 29)"
      ]
     },
     "execution_count": 20,
     "metadata": {},
     "output_type": "execute_result"
    }
   ],
   "source": [
    "train_explore.shape"
   ]
  },
  {
   "cell_type": "code",
   "execution_count": 4,
   "id": "220f5836",
   "metadata": {},
   "outputs": [],
   "source": [
    "def split_data(df):\n",
    "    \n",
    "    train, test = train_test_split(df, test_size = 0.2, random_state = 5868, stratify = df.excellent_rating)\n",
    "    train, validate = train_test_split(train, test_size=.3, random_state = 5868, stratify=train.excellent_rating)\n",
    "    \n",
    "    return train, validate, test"
   ]
  }
 ],
 "metadata": {
  "kernelspec": {
   "display_name": "Python 3",
   "language": "python",
   "name": "python3"
  },
  "language_info": {
   "codemirror_mode": {
    "name": "ipython",
    "version": 3
   },
   "file_extension": ".py",
   "mimetype": "text/x-python",
   "name": "python",
   "nbconvert_exporter": "python",
   "pygments_lexer": "ipython3",
   "version": "3.8.8"
  }
 },
 "nbformat": 4,
 "nbformat_minor": 5
}
