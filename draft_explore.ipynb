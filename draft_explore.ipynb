{
 "cells": [
  {
   "cell_type": "code",
   "execution_count": 1,
   "id": "8b391155",
   "metadata": {},
   "outputs": [],
   "source": [
    "import pandas as pd\n",
    "import numpy as np\n",
    "import seaborn as sns\n",
    "import matplotlib.pyplot as plt\n",
    "from wrangle import wrangle, wrangle_explore\n",
    "from sklearn.model_selection import train_test_split\n",
    "\n",
    "# Stats\n",
    "from scipy.stats import mannwhitneyu\n",
    "from scipy.stats import levene\n",
    "\n",
    "# Viewing Options\n",
    "pd.set_option(\"display.max_rows\", None, \"display.max_columns\", None) \n",
    "\n",
    "pd.reset_option(\"display.max_rows\", \"display.max_columns\")\n",
    "import warnings\n",
    "warnings.filterwarnings(\"ignore\")"
   ]
  },
  {
   "cell_type": "code",
   "execution_count": 2,
   "id": "bd0937ae",
   "metadata": {},
   "outputs": [],
   "source": [
    "train, validate, test = wrangle_explore()"
   ]
  },
  {
   "cell_type": "markdown",
   "id": "afb2b147",
   "metadata": {},
   "source": [
    "# What are drivers for coffee recieving an excellent_rating?"
   ]
  },
  {
   "cell_type": "code",
   "execution_count": 3,
   "id": "3cc4c00d",
   "metadata": {},
   "outputs": [
    {
     "data": {
      "text/html": [
       "<div>\n",
       "<style scoped>\n",
       "    .dataframe tbody tr th:only-of-type {\n",
       "        vertical-align: middle;\n",
       "    }\n",
       "\n",
       "    .dataframe tbody tr th {\n",
       "        vertical-align: top;\n",
       "    }\n",
       "\n",
       "    .dataframe thead th {\n",
       "        text-align: right;\n",
       "    }\n",
       "</style>\n",
       "<table border=\"1\" class=\"dataframe\">\n",
       "  <thead>\n",
       "    <tr style=\"text-align: right;\">\n",
       "      <th></th>\n",
       "      <th>country</th>\n",
       "      <th>region</th>\n",
       "      <th>number_of_bags</th>\n",
       "      <th>harvest_year</th>\n",
       "      <th>grading_date</th>\n",
       "      <th>variety</th>\n",
       "      <th>processing_method</th>\n",
       "      <th>aroma</th>\n",
       "      <th>flavor</th>\n",
       "      <th>aftertaste</th>\n",
       "      <th>acidity</th>\n",
       "      <th>body</th>\n",
       "      <th>balance</th>\n",
       "      <th>uniformity</th>\n",
       "      <th>clean_cup</th>\n",
       "      <th>sweetness</th>\n",
       "      <th>cupper_points</th>\n",
       "      <th>total_cup_points</th>\n",
       "      <th>moisture</th>\n",
       "      <th>category_one_defects</th>\n",
       "      <th>quakers</th>\n",
       "      <th>color</th>\n",
       "      <th>category_two_defects</th>\n",
       "      <th>altitude_mean_meters</th>\n",
       "      <th>bag_weight</th>\n",
       "      <th>grading_month</th>\n",
       "      <th>grading_year</th>\n",
       "      <th>grading_day</th>\n",
       "      <th>excellent_rating</th>\n",
       "    </tr>\n",
       "  </thead>\n",
       "  <tbody>\n",
       "    <tr>\n",
       "      <th>409</th>\n",
       "      <td>Colombia</td>\n",
       "      <td>pitalito</td>\n",
       "      <td>250</td>\n",
       "      <td>2013</td>\n",
       "      <td>2013-04-26</td>\n",
       "      <td>Caturra</td>\n",
       "      <td>Natural / Dry</td>\n",
       "      <td>7.67</td>\n",
       "      <td>7.67</td>\n",
       "      <td>7.50</td>\n",
       "      <td>7.67</td>\n",
       "      <td>7.92</td>\n",
       "      <td>7.42</td>\n",
       "      <td>10.00</td>\n",
       "      <td>10.00</td>\n",
       "      <td>10.00</td>\n",
       "      <td>7.50</td>\n",
       "      <td>83.33</td>\n",
       "      <td>0.11</td>\n",
       "      <td>0</td>\n",
       "      <td>0.0</td>\n",
       "      <td>Green</td>\n",
       "      <td>1</td>\n",
       "      <td>1000.0</td>\n",
       "      <td>70.0</td>\n",
       "      <td>4</td>\n",
       "      <td>2013</td>\n",
       "      <td>26</td>\n",
       "      <td>0</td>\n",
       "    </tr>\n",
       "    <tr>\n",
       "      <th>1238</th>\n",
       "      <td>Guatemala</td>\n",
       "      <td>oriente</td>\n",
       "      <td>275</td>\n",
       "      <td>2014</td>\n",
       "      <td>2014-02-07</td>\n",
       "      <td>Other</td>\n",
       "      <td>Washed / Wet</td>\n",
       "      <td>7.42</td>\n",
       "      <td>7.25</td>\n",
       "      <td>6.83</td>\n",
       "      <td>7.33</td>\n",
       "      <td>7.00</td>\n",
       "      <td>6.92</td>\n",
       "      <td>9.33</td>\n",
       "      <td>9.33</td>\n",
       "      <td>9.33</td>\n",
       "      <td>7.25</td>\n",
       "      <td>78.00</td>\n",
       "      <td>0.10</td>\n",
       "      <td>1</td>\n",
       "      <td>0.0</td>\n",
       "      <td>Green</td>\n",
       "      <td>2</td>\n",
       "      <td>1219.2</td>\n",
       "      <td>69.0</td>\n",
       "      <td>2</td>\n",
       "      <td>2014</td>\n",
       "      <td>7</td>\n",
       "      <td>0</td>\n",
       "    </tr>\n",
       "    <tr>\n",
       "      <th>112</th>\n",
       "      <td>Brazil</td>\n",
       "      <td>south of minas</td>\n",
       "      <td>4</td>\n",
       "      <td>2011</td>\n",
       "      <td>2011-12-23</td>\n",
       "      <td>Bourbon</td>\n",
       "      <td>Natural / Dry</td>\n",
       "      <td>8.00</td>\n",
       "      <td>7.92</td>\n",
       "      <td>7.75</td>\n",
       "      <td>7.75</td>\n",
       "      <td>8.00</td>\n",
       "      <td>7.75</td>\n",
       "      <td>10.00</td>\n",
       "      <td>10.00</td>\n",
       "      <td>10.00</td>\n",
       "      <td>7.75</td>\n",
       "      <td>84.92</td>\n",
       "      <td>0.11</td>\n",
       "      <td>0</td>\n",
       "      <td>0.0</td>\n",
       "      <td>Green</td>\n",
       "      <td>2</td>\n",
       "      <td>1200.0</td>\n",
       "      <td>60.0</td>\n",
       "      <td>12</td>\n",
       "      <td>2011</td>\n",
       "      <td>23</td>\n",
       "      <td>1</td>\n",
       "    </tr>\n",
       "    <tr>\n",
       "      <th>700</th>\n",
       "      <td>Mexico</td>\n",
       "      <td>fln mirador</td>\n",
       "      <td>10</td>\n",
       "      <td>2012</td>\n",
       "      <td>2012-04-09</td>\n",
       "      <td>Typica</td>\n",
       "      <td>Washed / Wet</td>\n",
       "      <td>7.83</td>\n",
       "      <td>7.50</td>\n",
       "      <td>7.42</td>\n",
       "      <td>7.67</td>\n",
       "      <td>7.17</td>\n",
       "      <td>7.33</td>\n",
       "      <td>10.00</td>\n",
       "      <td>10.00</td>\n",
       "      <td>10.00</td>\n",
       "      <td>7.50</td>\n",
       "      <td>82.42</td>\n",
       "      <td>0.12</td>\n",
       "      <td>0</td>\n",
       "      <td>0.0</td>\n",
       "      <td>Blue-Green</td>\n",
       "      <td>0</td>\n",
       "      <td>1450.0</td>\n",
       "      <td>1.0</td>\n",
       "      <td>4</td>\n",
       "      <td>2012</td>\n",
       "      <td>9</td>\n",
       "      <td>0</td>\n",
       "    </tr>\n",
       "    <tr>\n",
       "      <th>45</th>\n",
       "      <td>Brazil</td>\n",
       "      <td>south of minas</td>\n",
       "      <td>7</td>\n",
       "      <td>2011</td>\n",
       "      <td>2011-12-03</td>\n",
       "      <td>Bourbon</td>\n",
       "      <td>Semi-washed / Semi-pulped</td>\n",
       "      <td>8.33</td>\n",
       "      <td>8.00</td>\n",
       "      <td>8.00</td>\n",
       "      <td>8.00</td>\n",
       "      <td>7.75</td>\n",
       "      <td>8.00</td>\n",
       "      <td>10.00</td>\n",
       "      <td>10.00</td>\n",
       "      <td>10.00</td>\n",
       "      <td>8.00</td>\n",
       "      <td>86.08</td>\n",
       "      <td>0.11</td>\n",
       "      <td>0</td>\n",
       "      <td>0.0</td>\n",
       "      <td>Blue-Green</td>\n",
       "      <td>2</td>\n",
       "      <td>1250.0</td>\n",
       "      <td>60.0</td>\n",
       "      <td>12</td>\n",
       "      <td>2011</td>\n",
       "      <td>3</td>\n",
       "      <td>1</td>\n",
       "    </tr>\n",
       "  </tbody>\n",
       "</table>\n",
       "</div>"
      ],
      "text/plain": [
       "        country          region  number_of_bags  harvest_year grading_date  \\\n",
       "409    Colombia        pitalito             250          2013   2013-04-26   \n",
       "1238  Guatemala         oriente             275          2014   2014-02-07   \n",
       "112      Brazil  south of minas               4          2011   2011-12-23   \n",
       "700      Mexico     fln mirador              10          2012   2012-04-09   \n",
       "45       Brazil  south of minas               7          2011   2011-12-03   \n",
       "\n",
       "      variety          processing_method  aroma  flavor  aftertaste  acidity  \\\n",
       "409   Caturra              Natural / Dry   7.67    7.67        7.50     7.67   \n",
       "1238    Other               Washed / Wet   7.42    7.25        6.83     7.33   \n",
       "112   Bourbon              Natural / Dry   8.00    7.92        7.75     7.75   \n",
       "700    Typica               Washed / Wet   7.83    7.50        7.42     7.67   \n",
       "45    Bourbon  Semi-washed / Semi-pulped   8.33    8.00        8.00     8.00   \n",
       "\n",
       "      body  balance  uniformity  clean_cup  sweetness  cupper_points  \\\n",
       "409   7.92     7.42       10.00      10.00      10.00           7.50   \n",
       "1238  7.00     6.92        9.33       9.33       9.33           7.25   \n",
       "112   8.00     7.75       10.00      10.00      10.00           7.75   \n",
       "700   7.17     7.33       10.00      10.00      10.00           7.50   \n",
       "45    7.75     8.00       10.00      10.00      10.00           8.00   \n",
       "\n",
       "      total_cup_points  moisture  category_one_defects  quakers       color  \\\n",
       "409              83.33      0.11                     0      0.0       Green   \n",
       "1238             78.00      0.10                     1      0.0       Green   \n",
       "112              84.92      0.11                     0      0.0       Green   \n",
       "700              82.42      0.12                     0      0.0  Blue-Green   \n",
       "45               86.08      0.11                     0      0.0  Blue-Green   \n",
       "\n",
       "      category_two_defects  altitude_mean_meters  bag_weight  grading_month  \\\n",
       "409                      1                1000.0        70.0              4   \n",
       "1238                     2                1219.2        69.0              2   \n",
       "112                      2                1200.0        60.0             12   \n",
       "700                      0                1450.0         1.0              4   \n",
       "45                       2                1250.0        60.0             12   \n",
       "\n",
       "      grading_year  grading_day  excellent_rating  \n",
       "409           2013           26                 0  \n",
       "1238          2014            7                 0  \n",
       "112           2011           23                 1  \n",
       "700           2012            9                 0  \n",
       "45            2011            3                 1  "
      ]
     },
     "execution_count": 3,
     "metadata": {},
     "output_type": "execute_result"
    }
   ],
   "source": [
    "train.head()"
   ]
  },
  {
   "cell_type": "markdown",
   "id": "4506b16a",
   "metadata": {},
   "source": [
    "# Orginally hypothesis"
   ]
  },
  {
   "cell_type": "markdown",
   "id": "4876376d",
   "metadata": {},
   "source": [
    "    -The altitude_mean_meters and the processing_method are the two most important drivers for coffee rating of 84 or higher"
   ]
  },
  {
   "cell_type": "markdown",
   "id": "439a1856",
   "metadata": {},
   "source": [
    "# Question # 1"
   ]
  },
  {
   "cell_type": "markdown",
   "id": "206ee235",
   "metadata": {},
   "source": [
    "    Is the average elevation for a coffee rated 84 or higher different than coffee whos rating is less than 84?"
   ]
  },
  {
   "cell_type": "markdown",
   "id": "9abf7d52",
   "metadata": {},
   "source": [
    "### Setting up seperate dataframes"
   ]
  },
  {
   "cell_type": "code",
   "execution_count": 23,
   "id": "8e268cf9",
   "metadata": {},
   "outputs": [],
   "source": [
    "# coffee with excellent rating into df_rating\n",
    "df_rating = train[train['excellent_rating'] == 1]\n",
    "\n",
    "\n",
    "# coffee with without excellent rating into df_without\n",
    "df_without = train[train['excellent_rating'] != 1]"
   ]
  },
  {
   "cell_type": "code",
   "execution_count": 24,
   "id": "9786d88b",
   "metadata": {},
   "outputs": [
    {
     "data": {
      "text/plain": [
       "(74, 398)"
      ]
     },
     "execution_count": 24,
     "metadata": {},
     "output_type": "execute_result"
    }
   ],
   "source": [
    "# checking number of values in each\n",
    "len(df_rating), len(df_without)"
   ]
  },
  {
   "cell_type": "markdown",
   "id": "0f6a0e01",
   "metadata": {},
   "source": [
    "### Checking Mean"
   ]
  },
  {
   "cell_type": "code",
   "execution_count": 25,
   "id": "1539241c",
   "metadata": {},
   "outputs": [
    {
     "data": {
      "text/plain": [
       "1498.8263135135137"
      ]
     },
     "execution_count": 25,
     "metadata": {},
     "output_type": "execute_result"
    }
   ],
   "source": [
    "# with excellent rating altitude mean\n",
    "df_rating.altitude_mean_meters.mean()"
   ]
  },
  {
   "cell_type": "code",
   "execution_count": 26,
   "id": "b7f269a5",
   "metadata": {},
   "outputs": [
    {
     "data": {
      "text/plain": [
       "1269.2023316582922"
      ]
     },
     "execution_count": 26,
     "metadata": {},
     "output_type": "execute_result"
    }
   ],
   "source": [
    "# witout excellent rating altitude mean\n",
    "df_without.altitude_mean_meters.mean()"
   ]
  },
  {
   "cell_type": "markdown",
   "id": "e7704eca",
   "metadata": {},
   "source": [
    "### Checking Median"
   ]
  },
  {
   "cell_type": "code",
   "execution_count": 27,
   "id": "c62a289b",
   "metadata": {},
   "outputs": [
    {
     "data": {
      "text/plain": [
       "1515.0"
      ]
     },
     "execution_count": 27,
     "metadata": {},
     "output_type": "execute_result"
    }
   ],
   "source": [
    "# with excellent rating altitude median\n",
    "df_rating.altitude_mean_meters.median()"
   ]
  },
  {
   "cell_type": "code",
   "execution_count": 28,
   "id": "6fdfb872",
   "metadata": {},
   "outputs": [
    {
     "data": {
      "text/plain": [
       "1300.0"
      ]
     },
     "execution_count": 28,
     "metadata": {},
     "output_type": "execute_result"
    }
   ],
   "source": [
    "# witout excellent rating altitude median\n",
    "df_without.altitude_mean_meters.median()"
   ]
  },
  {
   "cell_type": "markdown",
   "id": "2ee5b6e3",
   "metadata": {},
   "source": [
    "### Graph"
   ]
  },
  {
   "cell_type": "code",
   "execution_count": 30,
   "id": "eea057d5",
   "metadata": {},
   "outputs": [
    {
     "data": {
      "image/png": "[encoded data removed]",
      "text/plain": [
       "<Figure size 432x288 with 1 Axes>"
      ]
     },
     "metadata": {},
     "output_type": "display_data"
    }
   ],
   "source": [
    "rating = ['84 or Higher', 'Less than 84']\n",
    "rating_mean = [df_rating.altitude_mean_meters.mean(), df_without.altitude_mean_meters.mean()]\n",
    "ax = sns.barplot(rating, rating_mean, color='blue')\n",
    "\n",
    "ax.set_xlabel('Rating',fontsize = 15, )\n",
    "ax.set_ylabel('Altitude',fontsize = 15)\n",
    "ax.set_title('Average Altitude by Ratings', fontsize = 15)\n",
    "sns.set(font_scale = 2)\n",
    "ax.set(xlabel='Rating', ylabel='Altitude')\n",
    "plt.show()"
   ]
  },
  {
   "cell_type": "markdown",
   "id": "03a26e4a",
   "metadata": {},
   "source": [
    "### Question 1 At A Glance\n",
    "\n",
    "    - 84 or higher rated coffee did have a higher altitude_mean_meters mean & median than coffee whos rating was less than 84.  \n",
    "    - The mean and median were not too far off from one another for both rated and without"
   ]
  },
  {
   "cell_type": "markdown",
   "id": "657c31c1",
   "metadata": {},
   "source": [
    "### Hypothesis Test\n",
    "    Running a hypothesis test to make sure the results didn't happen by accident"
   ]
  },
  {
   "cell_type": "markdown",
   "id": "88141661",
   "metadata": {},
   "source": [
    "### Significance Level"
   ]
  },
  {
   "cell_type": "code",
   "execution_count": 31,
   "id": "eee31a16",
   "metadata": {},
   "outputs": [],
   "source": [
    "# A significance level of 0.05 indicates a 5% risk of concluding that a difference exists when there is no actual difference.\n",
    "alpha = .05"
   ]
  },
  {
   "cell_type": "markdown",
   "id": "27e15a18",
   "metadata": {},
   "source": [
    "### Checking Assumptions"
   ]
  },
  {
   "cell_type": "markdown",
   "id": "f250f086",
   "metadata": {},
   "source": [
    "    - Independent\n",
    "    - Normally Distributed\n",
    "    - Equal Variances"
   ]
  },
  {
   "cell_type": "markdown",
   "id": "0a7630a0",
   "metadata": {},
   "source": [
    "### Independent?\n",
    "    Yes, I seperated excellent rated from non excellent rated"
   ]
  },
  {
   "cell_type": "markdown",
   "id": "0b7de5bb",
   "metadata": {},
   "source": [
    "### Normally Distributed?\n",
    "    - 84 or higher rated coffee is kind of normally distributed\n",
    "    - Less than 84 rated coffee is normally distributed"
   ]
  },
  {
   "cell_type": "code",
   "execution_count": 34,
   "id": "ff35051b",
   "metadata": {},
   "outputs": [
    {
     "data": {
      "text/plain": [
       "<AxesSubplot:>"
      ]
     },
     "execution_count": 34,
     "metadata": {},
     "output_type": "execute_result"
    },
    {
     "data": {
      "image/png": "[encoded data removed]",
      "text/plain": [
       "<Figure size 432x288 with 1 Axes>"
      ]
     },
     "metadata": {},
     "output_type": "display_data"
    }
   ],
   "source": [
    "sns.set(font_scale = 1)\n",
    "df_rating.altitude_mean_meters.hist()"
   ]
  },
  {
   "cell_type": "code",
   "execution_count": 35,
   "id": "362039f0",
   "metadata": {},
   "outputs": [
    {
     "data": {
      "text/plain": [
       "<AxesSubplot:>"
      ]
     },
     "execution_count": 35,
     "metadata": {},
     "output_type": "execute_result"
    },
    {
     "data": {
      "image/png": "[encoded data removed]",
      "text/plain": [
       "<Figure size 432x288 with 1 Axes>"
      ]
     },
     "metadata": {},
     "output_type": "display_data"
    }
   ],
   "source": [
    "df_without.altitude_mean_meters.hist()"
   ]
  },
  {
   "cell_type": "markdown",
   "id": "84f489f1",
   "metadata": {},
   "source": [
    "### Equal Variances?\n",
    "    - The leven test concluded the populations did have equal variances."
   ]
  },
  {
   "cell_type": "code",
   "execution_count": 38,
   "id": "b7e4b799",
   "metadata": {},
   "outputs": [
    {
     "data": {
      "text/plain": [
       "(0.11918008274868731, 0.730079908882332)"
      ]
     },
     "execution_count": 38,
     "metadata": {},
     "output_type": "execute_result"
    }
   ],
   "source": [
    "# From the scypi stats library, im going to use the levene test to check variance.\n",
    "# It will test the null hypothesis that all input samples are from populations with equal variances.\n",
    "stats, p = levene(df_rating.altitude_mean_meters, df_without.altitude_mean_meters)\n",
    "stats, p"
   ]
  },
  {
   "cell_type": "code",
   "execution_count": 39,
   "id": "49df84b8",
   "metadata": {},
   "outputs": [
    {
     "name": "stdout",
     "output_type": "stream",
     "text": [
      "populations do have equal variances\n"
     ]
    }
   ],
   "source": [
    "# The small p-value suggests that the populations do not have equal variances.\n",
    "if p < alpha:\n",
    "    print(\"populations do not have equal variances\")\n",
    "else:\n",
    "    print(\"populations do have equal variances\")"
   ]
  },
  {
   "cell_type": "markdown",
   "id": "a0048436",
   "metadata": {},
   "source": [
    "### Mann-Whitney's Test\n",
    "    Assumptions were not met because I didn't feel comfortable with the distribution of coffee rated 84 or higher.  I will use a Non-Parametric Test."
   ]
  },
  {
   "cell_type": "markdown",
   "id": "a529acfc",
   "metadata": {},
   "source": [
    "### Hypothesis"
   ]
  },
  {
   "cell_type": "markdown",
   "id": "fd87d533",
   "metadata": {},
   "source": [
    "### $H_0$: There is no difference in altitude_mean_meters in 84 or higher rated coffee from less than 84 rated coffee.\n",
    "### $H_a$: There is a difference in altitude_mean_meters in 84 or higher rated coffee from less than 84 rated coffee."
   ]
  },
  {
   "cell_type": "code",
   "execution_count": 40,
   "id": "17366456",
   "metadata": {},
   "outputs": [
    {
     "data": {
      "text/plain": [
       "(9748.5, 1.9007266653308425e-06)"
      ]
     },
     "execution_count": 40,
     "metadata": {},
     "output_type": "execute_result"
    }
   ],
   "source": [
    "stat, p = mannwhitneyu(df_rating.altitude_mean_meters, df_without.altitude_mean_meters)\n",
    "stat, p"
   ]
  },
  {
   "cell_type": "code",
   "execution_count": 41,
   "id": "98da6cff",
   "metadata": {},
   "outputs": [
    {
     "name": "stdout",
     "output_type": "stream",
     "text": [
      "Reject Null Hypothesis\n"
     ]
    }
   ],
   "source": [
    "if p < alpha:\n",
    "    print(\"Reject Null Hypothesis\")\n",
    "else:\n",
    "    print(\"Fail to Reject the Null Hypothesis\")"
   ]
  },
  {
   "cell_type": "markdown",
   "id": "40852f0d",
   "metadata": {},
   "source": [
    "### Hypotheis Results\n",
    "    - There is a difference in altitude_mean_meters in 84 or higher rated coffee from less than 84 rated coffee"
   ]
  },
  {
   "cell_type": "markdown",
   "id": "3e9d3dcf",
   "metadata": {},
   "source": [
    "### Question 1 Takeway\n",
    "    - I have a 95% confidence level that there is a difference in altitude between 84 or higher rated and less than 84 rated coffee.  \n",
    "    - 84 or higher rated coffee has a higher mean/median altitude than less than 84 rated coffee\n",
    "    - altitude_mean_meters seems to be a good fit or useful for modeling.  I will include it in my models and see if this is true. "
   ]
  },
  {
   "cell_type": "markdown",
   "id": "fd556b5b",
   "metadata": {},
   "source": [
    "# Question 2 "
   ]
  },
  {
   "cell_type": "markdown",
   "id": "289a20be",
   "metadata": {},
   "source": [
    "    - Is there a difference in the average 84 or higher rated coffee by processing_method?"
   ]
  },
  {
   "cell_type": "code",
   "execution_count": 18,
   "id": "5d817ff5",
   "metadata": {},
   "outputs": [
    {
     "data": {
      "text/plain": [
       "<AxesSubplot:>"
      ]
     },
     "execution_count": 18,
     "metadata": {},
     "output_type": "execute_result"
    },
    {
     "data": {
      "image/png": "[encoded data removed]",
      "text/plain": [
       "<Figure size 432x288 with 1 Axes>"
      ]
     },
     "metadata": {},
     "output_type": "display_data"
    }
   ],
   "source": [
    "train.processing_method.hist()"
   ]
  },
  {
   "cell_type": "code",
   "execution_count": 19,
   "id": "ae1d4957",
   "metadata": {},
   "outputs": [
    {
     "data": {
      "text/plain": [
       "74"
      ]
     },
     "execution_count": 19,
     "metadata": {},
     "output_type": "execute_result"
    }
   ],
   "source": [
    "len(df_rating)"
   ]
  },
  {
   "cell_type": "code",
   "execution_count": 20,
   "id": "1fdb8b3a",
   "metadata": {},
   "outputs": [
    {
     "data": {
      "text/plain": [
       "398"
      ]
     },
     "execution_count": 20,
     "metadata": {},
     "output_type": "execute_result"
    }
   ],
   "source": [
    "len(df_without)"
   ]
  },
  {
   "cell_type": "code",
   "execution_count": 21,
   "id": "57c14024",
   "metadata": {},
   "outputs": [
    {
     "data": {
      "text/html": [
       "<div>\n",
       "<style scoped>\n",
       "    .dataframe tbody tr th:only-of-type {\n",
       "        vertical-align: middle;\n",
       "    }\n",
       "\n",
       "    .dataframe tbody tr th {\n",
       "        vertical-align: top;\n",
       "    }\n",
       "\n",
       "    .dataframe thead th {\n",
       "        text-align: right;\n",
       "    }\n",
       "</style>\n",
       "<table border=\"1\" class=\"dataframe\">\n",
       "  <thead>\n",
       "    <tr style=\"text-align: right;\">\n",
       "      <th></th>\n",
       "      <th>country</th>\n",
       "      <th>region</th>\n",
       "      <th>number_of_bags</th>\n",
       "      <th>harvest_year</th>\n",
       "      <th>grading_date</th>\n",
       "      <th>variety</th>\n",
       "      <th>processing_method</th>\n",
       "      <th>aroma</th>\n",
       "      <th>flavor</th>\n",
       "      <th>aftertaste</th>\n",
       "      <th>acidity</th>\n",
       "      <th>body</th>\n",
       "      <th>balance</th>\n",
       "      <th>uniformity</th>\n",
       "      <th>clean_cup</th>\n",
       "      <th>sweetness</th>\n",
       "      <th>cupper_points</th>\n",
       "      <th>total_cup_points</th>\n",
       "      <th>moisture</th>\n",
       "      <th>category_one_defects</th>\n",
       "      <th>quakers</th>\n",
       "      <th>color</th>\n",
       "      <th>category_two_defects</th>\n",
       "      <th>altitude_mean_meters</th>\n",
       "      <th>bag_weight</th>\n",
       "      <th>grading_month</th>\n",
       "      <th>grading_year</th>\n",
       "      <th>grading_day</th>\n",
       "      <th>excellent_rating</th>\n",
       "    </tr>\n",
       "  </thead>\n",
       "  <tbody>\n",
       "    <tr>\n",
       "      <th>409</th>\n",
       "      <td>Colombia</td>\n",
       "      <td>pitalito</td>\n",
       "      <td>250</td>\n",
       "      <td>2013</td>\n",
       "      <td>2013-04-26</td>\n",
       "      <td>Caturra</td>\n",
       "      <td>Natural / Dry</td>\n",
       "      <td>7.67</td>\n",
       "      <td>7.67</td>\n",
       "      <td>7.5</td>\n",
       "      <td>7.67</td>\n",
       "      <td>7.92</td>\n",
       "      <td>7.42</td>\n",
       "      <td>10.0</td>\n",
       "      <td>10.0</td>\n",
       "      <td>10.0</td>\n",
       "      <td>7.5</td>\n",
       "      <td>83.33</td>\n",
       "      <td>0.11</td>\n",
       "      <td>0</td>\n",
       "      <td>0.0</td>\n",
       "      <td>Green</td>\n",
       "      <td>1</td>\n",
       "      <td>1000.0</td>\n",
       "      <td>70.0</td>\n",
       "      <td>4</td>\n",
       "      <td>2013</td>\n",
       "      <td>26</td>\n",
       "      <td>0</td>\n",
       "    </tr>\n",
       "  </tbody>\n",
       "</table>\n",
       "</div>"
      ],
      "text/plain": [
       "      country    region  number_of_bags  harvest_year grading_date  variety  \\\n",
       "409  Colombia  pitalito             250          2013   2013-04-26  Caturra   \n",
       "\n",
       "    processing_method  aroma  flavor  aftertaste  acidity  body  balance  \\\n",
       "409     Natural / Dry   7.67    7.67         7.5     7.67  7.92     7.42   \n",
       "\n",
       "     uniformity  clean_cup  sweetness  cupper_points  total_cup_points  \\\n",
       "409        10.0       10.0       10.0            7.5             83.33   \n",
       "\n",
       "     moisture  category_one_defects  quakers  color  category_two_defects  \\\n",
       "409      0.11                     0      0.0  Green                     1   \n",
       "\n",
       "     altitude_mean_meters  bag_weight  grading_month  grading_year  \\\n",
       "409                1000.0        70.0              4          2013   \n",
       "\n",
       "     grading_day  excellent_rating  \n",
       "409           26                 0  "
      ]
     },
     "execution_count": 21,
     "metadata": {},
     "output_type": "execute_result"
    }
   ],
   "source": [
    "train.head(1)"
   ]
  },
  {
   "cell_type": "code",
   "execution_count": 22,
   "id": "d957353a",
   "metadata": {},
   "outputs": [
    {
     "data": {
      "text/plain": [
       "83.00    16\n",
       "83.17    15\n",
       "82.42    14\n",
       "82.92    11\n",
       "81.83    11\n",
       "         ..\n",
       "77.83     1\n",
       "87.92     1\n",
       "84.83     1\n",
       "74.00     1\n",
       "73.83     1\n",
       "Name: total_cup_points, Length: 120, dtype: int64"
      ]
     },
     "execution_count": 22,
     "metadata": {},
     "output_type": "execute_result"
    }
   ],
   "source": [
    "train.total_cup_points.value_counts()"
   ]
  },
  {
   "cell_type": "code",
   "execution_count": null,
   "id": "32a0cd42",
   "metadata": {},
   "outputs": [],
   "source": []
  }
 ],
 "metadata": {
  "kernelspec": {
   "display_name": "Python 3",
   "language": "python",
   "name": "python3"
  },
  "language_info": {
   "codemirror_mode": {
    "name": "ipython",
    "version": 3
   },
   "file_extension": ".py",
   "mimetype": "text/x-python",
   "name": "python",
   "nbconvert_exporter": "python",
   "pygments_lexer": "ipython3",
   "version": "3.8.8"
  }
 },
 "nbformat": 4,
 "nbformat_minor": 5
}
