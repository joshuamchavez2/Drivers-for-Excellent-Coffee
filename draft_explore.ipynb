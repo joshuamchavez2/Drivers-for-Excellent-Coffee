{
 "cells": [
  {
   "cell_type": "code",
   "execution_count": 1,
   "id": "8b391155",
   "metadata": {},
   "outputs": [],
   "source": [
    "import pandas as pd\n",
    "import numpy as np\n",
    "import seaborn as sns\n",
    "import matplotlib.pyplot as plt\n",
    "from wrangle import wrangle, wrangle_explore\n",
    "from sklearn.model_selection import train_test_split\n",
    "\n",
    "# Stats\n",
    "from scipy.stats import mannwhitneyu\n",
    "from scipy.stats import levene\n",
    "\n",
    "# Viewing Options\n",
    "pd.set_option(\"display.max_rows\", None, \"display.max_columns\", None) \n",
    "\n",
    "pd.reset_option(\"display.max_rows\", \"display.max_columns\")\n",
    "import warnings\n",
    "warnings.filterwarnings(\"ignore\")"
   ]
  },
  {
   "cell_type": "code",
   "execution_count": 2,
   "id": "bd0937ae",
   "metadata": {},
   "outputs": [],
   "source": [
    "train, validate, test = wrangle_explore()"
   ]
  },
  {
   "cell_type": "markdown",
   "id": "afb2b147",
   "metadata": {},
   "source": [
    "# What are drivers for coffee recieving an excellent_rating?"
   ]
  },
  {
   "cell_type": "code",
   "execution_count": 3,
   "id": "3cc4c00d",
   "metadata": {},
   "outputs": [
    {
     "data": {
      "text/html": [
       "<div>\n",
       "<style scoped>\n",
       "    .dataframe tbody tr th:only-of-type {\n",
       "        vertical-align: middle;\n",
       "    }\n",
       "\n",
       "    .dataframe tbody tr th {\n",
       "        vertical-align: top;\n",
       "    }\n",
       "\n",
       "    .dataframe thead th {\n",
       "        text-align: right;\n",
       "    }\n",
       "</style>\n",
       "<table border=\"1\" class=\"dataframe\">\n",
       "  <thead>\n",
       "    <tr style=\"text-align: right;\">\n",
       "      <th></th>\n",
       "      <th>country</th>\n",
       "      <th>region</th>\n",
       "      <th>number_of_bags</th>\n",
       "      <th>harvest_year</th>\n",
       "      <th>grading_date</th>\n",
       "      <th>variety</th>\n",
       "      <th>processing_method</th>\n",
       "      <th>aroma</th>\n",
       "      <th>flavor</th>\n",
       "      <th>aftertaste</th>\n",
       "      <th>acidity</th>\n",
       "      <th>body</th>\n",
       "      <th>balance</th>\n",
       "      <th>uniformity</th>\n",
       "      <th>clean_cup</th>\n",
       "      <th>sweetness</th>\n",
       "      <th>cupper_points</th>\n",
       "      <th>total_cup_points</th>\n",
       "      <th>moisture</th>\n",
       "      <th>category_one_defects</th>\n",
       "      <th>quakers</th>\n",
       "      <th>color</th>\n",
       "      <th>category_two_defects</th>\n",
       "      <th>altitude_mean_meters</th>\n",
       "      <th>bag_weight</th>\n",
       "      <th>grading_month</th>\n",
       "      <th>grading_year</th>\n",
       "      <th>grading_day</th>\n",
       "      <th>excellent_rating</th>\n",
       "    </tr>\n",
       "  </thead>\n",
       "  <tbody>\n",
       "    <tr>\n",
       "      <th>806</th>\n",
       "      <td>Taiwan</td>\n",
       "      <td>dongshan dist., tainan city 臺南市東山區</td>\n",
       "      <td>30</td>\n",
       "      <td>2012</td>\n",
       "      <td>2013-06-03</td>\n",
       "      <td>Typica</td>\n",
       "      <td>Washed / Wet</td>\n",
       "      <td>7.42</td>\n",
       "      <td>7.58</td>\n",
       "      <td>7.33</td>\n",
       "      <td>7.42</td>\n",
       "      <td>8.00</td>\n",
       "      <td>7.50</td>\n",
       "      <td>9.33</td>\n",
       "      <td>10.0</td>\n",
       "      <td>10.0</td>\n",
       "      <td>7.42</td>\n",
       "      <td>82.00</td>\n",
       "      <td>0.12</td>\n",
       "      <td>0</td>\n",
       "      <td>0.0</td>\n",
       "      <td>Blue-Green</td>\n",
       "      <td>0</td>\n",
       "      <td>650.00</td>\n",
       "      <td>10.0</td>\n",
       "      <td>6</td>\n",
       "      <td>2013</td>\n",
       "      <td>3</td>\n",
       "      <td>0</td>\n",
       "    </tr>\n",
       "    <tr>\n",
       "      <th>835</th>\n",
       "      <td>Brazil</td>\n",
       "      <td>monte carmelo</td>\n",
       "      <td>200</td>\n",
       "      <td>2016</td>\n",
       "      <td>2017-01-20</td>\n",
       "      <td>Mundo Novo</td>\n",
       "      <td>Natural / Dry</td>\n",
       "      <td>7.42</td>\n",
       "      <td>7.50</td>\n",
       "      <td>7.42</td>\n",
       "      <td>7.50</td>\n",
       "      <td>7.42</td>\n",
       "      <td>7.25</td>\n",
       "      <td>10.00</td>\n",
       "      <td>10.0</td>\n",
       "      <td>10.0</td>\n",
       "      <td>7.33</td>\n",
       "      <td>81.83</td>\n",
       "      <td>0.11</td>\n",
       "      <td>0</td>\n",
       "      <td>1.0</td>\n",
       "      <td>Green</td>\n",
       "      <td>3</td>\n",
       "      <td>973.00</td>\n",
       "      <td>59.0</td>\n",
       "      <td>1</td>\n",
       "      <td>2017</td>\n",
       "      <td>20</td>\n",
       "      <td>0</td>\n",
       "    </tr>\n",
       "    <tr>\n",
       "      <th>58</th>\n",
       "      <td>Guatemala</td>\n",
       "      <td>nuevo oriente</td>\n",
       "      <td>275</td>\n",
       "      <td>2012</td>\n",
       "      <td>2012-06-05</td>\n",
       "      <td>Catuai</td>\n",
       "      <td>Washed / Wet</td>\n",
       "      <td>8.00</td>\n",
       "      <td>8.00</td>\n",
       "      <td>7.83</td>\n",
       "      <td>8.33</td>\n",
       "      <td>7.83</td>\n",
       "      <td>7.83</td>\n",
       "      <td>10.00</td>\n",
       "      <td>10.0</td>\n",
       "      <td>10.0</td>\n",
       "      <td>8.00</td>\n",
       "      <td>85.83</td>\n",
       "      <td>0.10</td>\n",
       "      <td>0</td>\n",
       "      <td>0.0</td>\n",
       "      <td>Blue-Green</td>\n",
       "      <td>1</td>\n",
       "      <td>1417.32</td>\n",
       "      <td>1.0</td>\n",
       "      <td>6</td>\n",
       "      <td>2012</td>\n",
       "      <td>5</td>\n",
       "      <td>1</td>\n",
       "    </tr>\n",
       "    <tr>\n",
       "      <th>954</th>\n",
       "      <td>Honduras</td>\n",
       "      <td>marcala</td>\n",
       "      <td>275</td>\n",
       "      <td>2015</td>\n",
       "      <td>2015-05-22</td>\n",
       "      <td>Catuai</td>\n",
       "      <td>Washed / Wet</td>\n",
       "      <td>7.58</td>\n",
       "      <td>7.42</td>\n",
       "      <td>7.17</td>\n",
       "      <td>7.42</td>\n",
       "      <td>7.17</td>\n",
       "      <td>7.17</td>\n",
       "      <td>10.00</td>\n",
       "      <td>10.0</td>\n",
       "      <td>10.0</td>\n",
       "      <td>7.42</td>\n",
       "      <td>81.33</td>\n",
       "      <td>0.09</td>\n",
       "      <td>0</td>\n",
       "      <td>0.0</td>\n",
       "      <td>Green</td>\n",
       "      <td>4</td>\n",
       "      <td>1350.00</td>\n",
       "      <td>1.0</td>\n",
       "      <td>5</td>\n",
       "      <td>2015</td>\n",
       "      <td>22</td>\n",
       "      <td>0</td>\n",
       "    </tr>\n",
       "    <tr>\n",
       "      <th>328</th>\n",
       "      <td>Colombia</td>\n",
       "      <td>huila</td>\n",
       "      <td>250</td>\n",
       "      <td>2012</td>\n",
       "      <td>2012-11-22</td>\n",
       "      <td>Caturra</td>\n",
       "      <td>Washed / Wet</td>\n",
       "      <td>7.75</td>\n",
       "      <td>7.75</td>\n",
       "      <td>7.58</td>\n",
       "      <td>7.83</td>\n",
       "      <td>7.17</td>\n",
       "      <td>7.75</td>\n",
       "      <td>10.00</td>\n",
       "      <td>10.0</td>\n",
       "      <td>10.0</td>\n",
       "      <td>7.83</td>\n",
       "      <td>83.67</td>\n",
       "      <td>0.11</td>\n",
       "      <td>0</td>\n",
       "      <td>0.0</td>\n",
       "      <td>Green</td>\n",
       "      <td>1</td>\n",
       "      <td>1750.00</td>\n",
       "      <td>70.0</td>\n",
       "      <td>11</td>\n",
       "      <td>2012</td>\n",
       "      <td>22</td>\n",
       "      <td>0</td>\n",
       "    </tr>\n",
       "  </tbody>\n",
       "</table>\n",
       "</div>"
      ],
      "text/plain": [
       "       country                              region  number_of_bags  \\\n",
       "806     Taiwan  dongshan dist., tainan city 臺南市東山區              30   \n",
       "835     Brazil                       monte carmelo             200   \n",
       "58   Guatemala                       nuevo oriente             275   \n",
       "954   Honduras                             marcala             275   \n",
       "328   Colombia                               huila             250   \n",
       "\n",
       "     harvest_year grading_date     variety processing_method  aroma  flavor  \\\n",
       "806          2012   2013-06-03      Typica      Washed / Wet   7.42    7.58   \n",
       "835          2016   2017-01-20  Mundo Novo     Natural / Dry   7.42    7.50   \n",
       "58           2012   2012-06-05      Catuai      Washed / Wet   8.00    8.00   \n",
       "954          2015   2015-05-22      Catuai      Washed / Wet   7.58    7.42   \n",
       "328          2012   2012-11-22     Caturra      Washed / Wet   7.75    7.75   \n",
       "\n",
       "     aftertaste  acidity  body  balance  uniformity  clean_cup  sweetness  \\\n",
       "806        7.33     7.42  8.00     7.50        9.33       10.0       10.0   \n",
       "835        7.42     7.50  7.42     7.25       10.00       10.0       10.0   \n",
       "58         7.83     8.33  7.83     7.83       10.00       10.0       10.0   \n",
       "954        7.17     7.42  7.17     7.17       10.00       10.0       10.0   \n",
       "328        7.58     7.83  7.17     7.75       10.00       10.0       10.0   \n",
       "\n",
       "     cupper_points  total_cup_points  moisture  category_one_defects  quakers  \\\n",
       "806           7.42             82.00      0.12                     0      0.0   \n",
       "835           7.33             81.83      0.11                     0      1.0   \n",
       "58            8.00             85.83      0.10                     0      0.0   \n",
       "954           7.42             81.33      0.09                     0      0.0   \n",
       "328           7.83             83.67      0.11                     0      0.0   \n",
       "\n",
       "          color  category_two_defects  altitude_mean_meters  bag_weight  \\\n",
       "806  Blue-Green                     0                650.00        10.0   \n",
       "835       Green                     3                973.00        59.0   \n",
       "58   Blue-Green                     1               1417.32         1.0   \n",
       "954       Green                     4               1350.00         1.0   \n",
       "328       Green                     1               1750.00        70.0   \n",
       "\n",
       "     grading_month  grading_year  grading_day  excellent_rating  \n",
       "806              6          2013            3                 0  \n",
       "835              1          2017           20                 0  \n",
       "58               6          2012            5                 1  \n",
       "954              5          2015           22                 0  \n",
       "328             11          2012           22                 0  "
      ]
     },
     "execution_count": 3,
     "metadata": {},
     "output_type": "execute_result"
    }
   ],
   "source": [
    "train.head()"
   ]
  },
  {
   "cell_type": "markdown",
   "id": "4506b16a",
   "metadata": {},
   "source": [
    "# Orginally hypothesis"
   ]
  },
  {
   "cell_type": "markdown",
   "id": "4876376d",
   "metadata": {},
   "source": [
    "    -The altitude_mean_meters and the processing_method are the two most important drivers for coffee rating of 84 or higher"
   ]
  },
  {
   "cell_type": "markdown",
   "id": "439a1856",
   "metadata": {},
   "source": [
    "# Question # 1"
   ]
  },
  {
   "cell_type": "markdown",
   "id": "206ee235",
   "metadata": {},
   "source": [
    "    Is the average elevation for a coffee rated 84 or higher different than coffee whos rating is less than 84?"
   ]
  },
  {
   "cell_type": "markdown",
   "id": "9abf7d52",
   "metadata": {},
   "source": [
    "### Setting up seperate dataframes"
   ]
  },
  {
   "cell_type": "code",
   "execution_count": 4,
   "id": "8e268cf9",
   "metadata": {},
   "outputs": [],
   "source": [
    "# coffee with excellent rating into df_rating\n",
    "df_rating = train[train['excellent_rating'] == 1]\n",
    "\n",
    "\n",
    "# coffee with without excellent rating into df_without\n",
    "df_without = train[train['excellent_rating'] != 1]"
   ]
  },
  {
   "cell_type": "code",
   "execution_count": 5,
   "id": "9786d88b",
   "metadata": {},
   "outputs": [
    {
     "data": {
      "text/plain": [
       "(74, 395)"
      ]
     },
     "execution_count": 5,
     "metadata": {},
     "output_type": "execute_result"
    }
   ],
   "source": [
    "# checking number of values in each\n",
    "len(df_rating), len(df_without)"
   ]
  },
  {
   "cell_type": "markdown",
   "id": "0f6a0e01",
   "metadata": {},
   "source": [
    "### Checking Mean"
   ]
  },
  {
   "cell_type": "code",
   "execution_count": 6,
   "id": "1539241c",
   "metadata": {},
   "outputs": [
    {
     "data": {
      "text/plain": [
       "1523.3793729729728"
      ]
     },
     "execution_count": 6,
     "metadata": {},
     "output_type": "execute_result"
    }
   ],
   "source": [
    "# with excellent rating altitude mean\n",
    "df_rating.altitude_mean_meters.mean()"
   ]
  },
  {
   "cell_type": "code",
   "execution_count": 7,
   "id": "b7f269a5",
   "metadata": {},
   "outputs": [
    {
     "data": {
      "text/plain": [
       "1274.6375777215198"
      ]
     },
     "execution_count": 7,
     "metadata": {},
     "output_type": "execute_result"
    }
   ],
   "source": [
    "# witout excellent rating altitude mean\n",
    "df_without.altitude_mean_meters.mean()"
   ]
  },
  {
   "cell_type": "markdown",
   "id": "e7704eca",
   "metadata": {},
   "source": [
    "### Checking Median"
   ]
  },
  {
   "cell_type": "code",
   "execution_count": 8,
   "id": "c62a289b",
   "metadata": {},
   "outputs": [
    {
     "data": {
      "text/plain": [
       "1500.0"
      ]
     },
     "execution_count": 8,
     "metadata": {},
     "output_type": "execute_result"
    }
   ],
   "source": [
    "# with excellent rating altitude median\n",
    "df_rating.altitude_mean_meters.median()"
   ]
  },
  {
   "cell_type": "code",
   "execution_count": 9,
   "id": "6fdfb872",
   "metadata": {},
   "outputs": [
    {
     "data": {
      "text/plain": [
       "1310.64"
      ]
     },
     "execution_count": 9,
     "metadata": {},
     "output_type": "execute_result"
    }
   ],
   "source": [
    "# witout excellent rating altitude median\n",
    "df_without.altitude_mean_meters.median()"
   ]
  },
  {
   "cell_type": "markdown",
   "id": "2ee5b6e3",
   "metadata": {},
   "source": [
    "### Graph"
   ]
  },
  {
   "cell_type": "code",
   "execution_count": 10,
   "id": "eea057d5",
   "metadata": {},
   "outputs": [
    {
     "data": {
      "image/png": "[encoded data removed]",
      "text/plain": [
       "<Figure size 432x288 with 1 Axes>"
      ]
     },
     "metadata": {
      "needs_background": "light"
     },
     "output_type": "display_data"
    }
   ],
   "source": [
    "rating = ['84 or Higher', 'Less than 84']\n",
    "rating_mean = [df_rating.altitude_mean_meters.mean(), df_without.altitude_mean_meters.mean()]\n",
    "ax = sns.barplot(rating, rating_mean, color='blue')\n",
    "\n",
    "ax.set_xlabel('Rating',fontsize = 15, )\n",
    "ax.set_ylabel('Altitude',fontsize = 15)\n",
    "ax.set_title('Average Altitude by Ratings', fontsize = 15)\n",
    "sns.set(font_scale = 2)\n",
    "ax.set(xlabel='Rating', ylabel='Altitude')\n",
    "plt.show()"
   ]
  },
  {
   "cell_type": "markdown",
   "id": "03a26e4a",
   "metadata": {},
   "source": [
    "### Question 1 At A Glance\n",
    "\n",
    "    - 84 or higher rated coffee did have a higher altitude_mean_meters mean & median than coffee whos rating was less than 84.  \n",
    "    - The mean and median were not too far off from one another for both rated and without"
   ]
  },
  {
   "cell_type": "markdown",
   "id": "657c31c1",
   "metadata": {},
   "source": [
    "### Hypothesis Test\n",
    "    Running a hypothesis test to make sure the results didn't happen by accident"
   ]
  },
  {
   "cell_type": "markdown",
   "id": "88141661",
   "metadata": {},
   "source": [
    "### Significance Level"
   ]
  },
  {
   "cell_type": "code",
   "execution_count": 11,
   "id": "eee31a16",
   "metadata": {},
   "outputs": [],
   "source": [
    "# A significance level of 0.05 indicates a 5% risk of concluding that a difference exists when there is no actual difference.\n",
    "alpha = .05"
   ]
  },
  {
   "cell_type": "markdown",
   "id": "27e15a18",
   "metadata": {},
   "source": [
    "### Checking Assumptions"
   ]
  },
  {
   "cell_type": "markdown",
   "id": "f250f086",
   "metadata": {},
   "source": [
    "    - Independent\n",
    "    - Normally Distributed\n",
    "    - Equal Variances"
   ]
  },
  {
   "cell_type": "markdown",
   "id": "0a7630a0",
   "metadata": {},
   "source": [
    "### Independent?\n",
    "    Yes, I seperated excellent rated from non excellent rated"
   ]
  },
  {
   "cell_type": "markdown",
   "id": "0b7de5bb",
   "metadata": {},
   "source": [
    "### Normally Distributed?\n",
    "    - 84 or higher rated coffee is kind of normally distributed\n",
    "    - Less than 84 rated coffee is normally distributed"
   ]
  },
  {
   "cell_type": "code",
   "execution_count": 12,
   "id": "ff35051b",
   "metadata": {},
   "outputs": [
    {
     "data": {
      "text/plain": [
       "<AxesSubplot:>"
      ]
     },
     "execution_count": 12,
     "metadata": {},
     "output_type": "execute_result"
    },
    {
     "data": {
      "image/png": "[encoded data removed]",
      "text/plain": [
       "<Figure size 432x288 with 1 Axes>"
      ]
     },
     "metadata": {},
     "output_type": "display_data"
    }
   ],
   "source": [
    "sns.set(font_scale = 1)\n",
    "df_rating.altitude_mean_meters.hist()"
   ]
  },
  {
   "cell_type": "code",
   "execution_count": 13,
   "id": "362039f0",
   "metadata": {},
   "outputs": [
    {
     "data": {
      "text/plain": [
       "<AxesSubplot:>"
      ]
     },
     "execution_count": 13,
     "metadata": {},
     "output_type": "execute_result"
    },
    {
     "data": {
      "image/png": "[encoded data removed]",
      "text/plain": [
       "<Figure size 432x288 with 1 Axes>"
      ]
     },
     "metadata": {},
     "output_type": "display_data"
    }
   ],
   "source": [
    "df_without.altitude_mean_meters.hist()"
   ]
  },
  {
   "cell_type": "markdown",
   "id": "84f489f1",
   "metadata": {},
   "source": [
    "### Equal Variances?\n",
    "    - The leven test concluded the populations did not have equal variances."
   ]
  },
  {
   "cell_type": "code",
   "execution_count": 25,
   "id": "b7e4b799",
   "metadata": {},
   "outputs": [
    {
     "data": {
      "text/plain": [
       "(0.44033741774588486, 0.507287083624284)"
      ]
     },
     "execution_count": 25,
     "metadata": {},
     "output_type": "execute_result"
    }
   ],
   "source": [
    "# From the scypi stats library, im going to use the levene test to check variance.\n",
    "# It will test the null hypothesis that all input samples are from populations with equal variances.\n",
    "stats, p = levene(df_rating.altitude_mean_meters, df_without.altitude_mean_meters)\n",
    "stats, p"
   ]
  },
  {
   "cell_type": "code",
   "execution_count": 26,
   "id": "49df84b8",
   "metadata": {},
   "outputs": [
    {
     "name": "stdout",
     "output_type": "stream",
     "text": [
      "populations do have equal variances\n"
     ]
    }
   ],
   "source": [
    "# The small p-value suggests that the populations do not have equal variances.\n",
    "if p < alpha:\n",
    "    print(\"populations do not have equal variances\")\n",
    "else:\n",
    "    print(\"populations do have equal variances\")"
   ]
  },
  {
   "cell_type": "markdown",
   "id": "a0048436",
   "metadata": {},
   "source": [
    "### Mann-Whitney's Test\n",
    "    Assumptions were not met.  I will use a Non-Parametric Test."
   ]
  },
  {
   "cell_type": "markdown",
   "id": "a529acfc",
   "metadata": {},
   "source": [
    "### Hypothesis"
   ]
  },
  {
   "cell_type": "markdown",
   "id": "fd87d533",
   "metadata": {},
   "source": [
    "### $H_0$: There is no difference in altitude_mean_meters in 84 or higher rated coffee from less than 84 rated coffee.\n",
    "### $H_a$: There is a difference in altitude_mean_meters in 84 or higher rated coffee from less than 84 rated coffee."
   ]
  },
  {
   "cell_type": "code",
   "execution_count": 16,
   "id": "17366456",
   "metadata": {},
   "outputs": [
    {
     "data": {
      "text/plain": [
       "(10002.0, 8.054287930351236e-06)"
      ]
     },
     "execution_count": 16,
     "metadata": {},
     "output_type": "execute_result"
    }
   ],
   "source": [
    "stat, p = mannwhitneyu(df_rating.altitude_mean_meters, df_without.altitude_mean_meters)\n",
    "stat, p"
   ]
  },
  {
   "cell_type": "code",
   "execution_count": 17,
   "id": "98da6cff",
   "metadata": {},
   "outputs": [
    {
     "name": "stdout",
     "output_type": "stream",
     "text": [
      "Reject Null Hypothesis\n"
     ]
    }
   ],
   "source": [
    "if p < alpha:\n",
    "    print(\"Reject Null Hypothesis\")\n",
    "else:\n",
    "    print(\"Fail to Reject the Null Hypothesis\")"
   ]
  },
  {
   "cell_type": "markdown",
   "id": "40852f0d",
   "metadata": {},
   "source": [
    "### Hypotheis Results\n",
    "    - There is a difference in altitude_mean_meters in 84 or higher rated coffee from less than 84 rated coffee"
   ]
  },
  {
   "cell_type": "markdown",
   "id": "3e9d3dcf",
   "metadata": {},
   "source": [
    "### Question 1 Takeway\n",
    "    - I have a 95% confidence level that there is a difference in altitude between 84 or higher rated and less than 84 rated coffee.  \n",
    "    - 84 or higher rated coffee has a higher mean/median altitude than less than 84 rated coffee\n",
    "    - altitude_mean_meters seems to be a good fit or useful for modeling.  I will include it in my models and see if this is true. "
   ]
  },
  {
   "cell_type": "markdown",
   "id": "fd556b5b",
   "metadata": {},
   "source": [
    "# Question 2"
   ]
  },
  {
   "cell_type": "markdown",
   "id": "289a20be",
   "metadata": {},
   "source": [
    "    - Which processing_method has a higher percentage of 84 or higher rated coffee?"
   ]
  },
  {
   "cell_type": "code",
   "execution_count": 18,
   "id": "40faaa7d",
   "metadata": {
    "scrolled": true
   },
   "outputs": [
    {
     "data": {
      "text/plain": [
       "Washed / Wet                 368\n",
       "Natural / Dry                 81\n",
       "Semi-washed / Semi-pulped     20\n",
       "Name: processing_method, dtype: int64"
      ]
     },
     "execution_count": 18,
     "metadata": {},
     "output_type": "execute_result"
    }
   ],
   "source": [
    "train.processing_method.value_counts()"
   ]
  },
  {
   "cell_type": "code",
   "execution_count": 19,
   "id": "1fd59120",
   "metadata": {},
   "outputs": [],
   "source": [
    "df_plus = train[train.excellent_rating == 1]"
   ]
  },
  {
   "cell_type": "code",
   "execution_count": 20,
   "id": "465c2040",
   "metadata": {},
   "outputs": [
    {
     "data": {
      "image/png": "[encoded data removed]",
      "text/plain": [
       "<Figure size 432x288 with 1 Axes>"
      ]
     },
     "metadata": {},
     "output_type": "display_data"
    }
   ],
   "source": [
    "# Creating a series with percentages of processing method 84 or higher rated coffee by population\n",
    "s = ((df_rating.processing_method.value_counts()/train.processing_method.value_counts())*100).sort_values(ascending = False)\n",
    "\n",
    "# Graphing The Series\n",
    "index_ = list(s.index)\n",
    "index_[0] = 'Washed/Wet'\n",
    "index_[1] =  'Natural/Dry'\n",
    "index_[2] = 'Semi Washed/Pulped'\n",
    "s.index = index_\n",
    "ax = sns.barplot(s.index, s, color='blue')\n",
    "ax.set_title('Percent of Population 84 or Higher by Processing Method', fontsize = 13)\n",
    "sns.set(font_scale = 1.1)\n",
    "ax.set(xlabel='Processing Method', ylabel='Percent')\n",
    "plt.show()"
   ]
  },
  {
   "cell_type": "markdown",
   "id": "996115cd",
   "metadata": {},
   "source": [
    "### Question 2 Takeway\n",
    "    - Washed/Wet had more 84 or higher rated coffee but not by much\n",
    "    - I was hoping to see a bigger trend in 84 or higher rated coffee\n",
    "    - The three processing process are fairly close.\n",
    "    - I will added them to my model to see if they provide value and document the resutls"
   ]
  },
  {
   "cell_type": "markdown",
   "id": "90552699",
   "metadata": {},
   "source": [
    "# Question 3"
   ]
  },
  {
   "cell_type": "markdown",
   "id": "bc05ccbc",
   "metadata": {},
   "source": [
    "    - Which variety has a higher percentage of 84 or higher rated coffee?"
   ]
  },
  {
   "cell_type": "code",
   "execution_count": 21,
   "id": "32a0cd42",
   "metadata": {},
   "outputs": [
    {
     "data": {
      "image/png": "[encoded data removed]",
      "text/plain": [
       "<Figure size 432x288 with 1 Axes>"
      ]
     },
     "metadata": {},
     "output_type": "display_data"
    }
   ],
   "source": [
    "s = ((df_rating.variety.value_counts()/train.variety.value_counts())*100).sort_values(ascending = False)\n",
    "index_ = list(s.index)\n",
    "index_[3] = 'Mundo N.'\n",
    "index_[6] = 'Yellow B.'\n",
    "s.index = index_\n",
    "\n",
    "ax = sns.barplot(s.index, s, color='blue')\n",
    "ax.set_title('Percent of Population 84 or Higher by Variety', fontsize = 13)\n",
    "sns.set(font_scale = 1)\n",
    "ax.set(xlabel='Variety', ylabel='Percent')\n",
    "plt.show()"
   ]
  },
  {
   "cell_type": "markdown",
   "id": "563fd7e0",
   "metadata": {},
   "source": [
    "### Question 3 Takeway\n",
    "    - 'Other' had more 84 or higher rated coffee than any other variety\n",
    "    - There was a lot of variance in the variety percentage 84 or higher by total population\n",
    "    - 'variety' seems like a good feature to use in modeling.  I will use it and document the results"
   ]
  },
  {
   "cell_type": "markdown",
   "id": "798bf12c",
   "metadata": {},
   "source": [
    "# Question 4"
   ]
  },
  {
   "cell_type": "markdown",
   "id": "5035ef8e",
   "metadata": {},
   "source": [
    "    - Which harvest year had a higher percentage of 84 or higher rated coffee?"
   ]
  },
  {
   "cell_type": "code",
   "execution_count": 22,
   "id": "f5fa1841",
   "metadata": {},
   "outputs": [
    {
     "data": {
      "image/png": "[encoded data removed]",
      "text/plain": [
       "<Figure size 432x288 with 1 Axes>"
      ]
     },
     "metadata": {},
     "output_type": "display_data"
    }
   ],
   "source": [
    "# Creating a series with percentages of harvest year 84 or higher rated coffee by population\n",
    "s = ((df_rating.harvest_year.value_counts(ascending=True)/train.harvest_year.value_counts(ascending=True))*100).sort_values()\n",
    "\n",
    "# Graphing the series\n",
    "ax = sns.barplot(s.index, s, color='blue')\n",
    "ax.set_title('84 or Higher by Harvest Year', fontsize = 13)\n",
    "sns.set(font_scale = 1)\n",
    "ax.set(xlabel='Year', ylabel='Total')\n",
    "plt.show()"
   ]
  },
  {
   "cell_type": "markdown",
   "id": "7567c045",
   "metadata": {},
   "source": [
    "### Question 4 Takeway\n",
    "\n",
    "    - There were only a few values for the year 2010 & 2011. Although those years seem like they did well, they are really outliers.\n",
    "    - Also keep in mind I filled in missing values for harvest year as the median so this feature might not be the best for modeling.\n",
    "    - If time allows I will try and see how it does in my model, as it is, and document the results.\n",
    "    - If time allows I will also remove outliers to see if its boosts model performance and document the results."
   ]
  },
  {
   "cell_type": "markdown",
   "id": "797d3f01",
   "metadata": {},
   "source": [
    "# Question 5"
   ]
  },
  {
   "cell_type": "markdown",
   "id": "b81b708a",
   "metadata": {},
   "source": [
    "    - Which grading year had a higher percentage of 84 or higher rated coffee?"
   ]
  },
  {
   "cell_type": "code",
   "execution_count": 23,
   "id": "621f6324",
   "metadata": {},
   "outputs": [
    {
     "data": {
      "image/png": "[encoded data removed]",
      "text/plain": [
       "<Figure size 432x288 with 1 Axes>"
      ]
     },
     "metadata": {},
     "output_type": "display_data"
    }
   ],
   "source": [
    "# Creating a series with percentages of graded year 84 or higher rated coffee by population\n",
    "s = (df_rating.grading_year.value_counts()/train.grading_year.value_counts()*100).sort_values()\n",
    "\n",
    "# Graphing the series\n",
    "ax = sns.barplot(s.index, s, color='blue')\n",
    "ax.set_title('84 or Higher by Graded Year', fontsize = 13)\n",
    "sns.set(font_scale = 1)\n",
    "ax.set(xlabel='Year', ylabel='Total')\n",
    "plt.show()"
   ]
  },
  {
   "cell_type": "markdown",
   "id": "aafa5063",
   "metadata": {},
   "source": [
    "### Question 5 Takeway\n",
    "    - The grading year of 2011 was the greatest year for 84 or higher rated coffee.\n",
    "    - This feature was more dependable than harvest year because zero values were missing\n",
    "    - This features seems useful to try and use in my model\n",
    "    - I will add it and document the results"
   ]
  },
  {
   "cell_type": "markdown",
   "id": "b847db51",
   "metadata": {},
   "source": [
    "# Question 6"
   ]
  },
  {
   "cell_type": "markdown",
   "id": "def93f3f",
   "metadata": {},
   "source": [
    "    - Which grading month had a higher percentage of 84 or higher rated coffee?"
   ]
  },
  {
   "cell_type": "code",
   "execution_count": 24,
   "id": "1d5f146f",
   "metadata": {},
   "outputs": [
    {
     "data": {
      "image/png": "[encoded data removed]",
      "text/plain": [
       "<Figure size 432x288 with 1 Axes>"
      ]
     },
     "metadata": {},
     "output_type": "display_data"
    }
   ],
   "source": [
    "# Creating a series with percentages of graded year 84 or higher rated coffee by population\n",
    "s = (df_rating.grading_month.value_counts()/train.grading_month.value_counts()*100).sort_values()\n",
    "\n",
    "# Graphing the series\n",
    "ax = sns.barplot(s.index, s, color='blue')\n",
    "ax.set_title('84 or Higher by Graded Month', fontsize = 13)\n",
    "sns.set(font_scale = 1)\n",
    "ax.set(xlabel='Month', ylabel='Total')\n",
    "plt.show()"
   ]
  },
  {
   "cell_type": "markdown",
   "id": "7a5e0053",
   "metadata": {},
   "source": [
    "### Question 6 Takeway\n",
    "    - The \"grading_month\" of Decemeber was the greatest month for 84 or higher rated coffee.\n",
    "    - This features seems useful to try and use in my model\n",
    "    - I will add it and document the results"
   ]
  },
  {
   "cell_type": "code",
   "execution_count": null,
   "id": "ee65dfb2",
   "metadata": {},
   "outputs": [],
   "source": []
  }
 ],
 "metadata": {
  "kernelspec": {
   "display_name": "Python 3",
   "language": "python",
   "name": "python3"
  },
  "language_info": {
   "codemirror_mode": {
    "name": "ipython",
    "version": 3
   },
   "file_extension": ".py",
   "mimetype": "text/x-python",
   "name": "python",
   "nbconvert_exporter": "python",
   "pygments_lexer": "ipython3",
   "version": "3.8.8"
  }
 },
 "nbformat": 4,
 "nbformat_minor": 5
}
